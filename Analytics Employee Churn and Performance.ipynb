{
 "cells": [
  {
   "cell_type": "markdown",
   "id": "01fc8935",
   "metadata": {},
   "source": [
    "# **VERİ ANALİZİ**"
   ]
  },
  {
   "cell_type": "code",
   "execution_count": 3,
   "id": "d55d2cde",
   "metadata": {},
   "outputs": [],
   "source": [
    "import numpy as np\n",
    "import pandas as pd\n",
    "import seaborn as sns\n",
    "from matplotlib import pyplot as plt\n",
    "import plotly.graph_objs as go\n",
    "import plotly.express as px\n",
    "\n",
    "pd.set_option('display.max_columns', None)\n",
    "pd.set_option('display.max_rows', None)\n",
    "pd.set_option('display.width', 500)"
   ]
  },
  {
   "cell_type": "code",
   "execution_count": 4,
   "id": "5e6df439",
   "metadata": {},
   "outputs": [
    {
     "name": "stdout",
     "output_type": "stream",
     "text": [
      "   isten_ayrilma       is_seyahati             departman cinsiyet                 is_rolu medeni_durum fazla_mesai  yas  aylik_ucret  evden_uzaklik  son_terfiden_bu_yana_gecen_yil  mevcut_rolde_gecirilen_yil\n",
      "0              1   Seyahat_Nadiren                 Satis    Kadin        Satis Yoneticisi        Bekar        Evet   41        19479              1                               0                           4\n",
      "1              0  Seyahat_Siklikla  Arastirma_Gelistirme    Erkek  Arastirma Bilim Insani         Evli       Hayir   49        24907              8                               1                           7\n",
      "2              1   Seyahat_Nadiren  Arastirma_Gelistirme    Erkek  Laboratuvar Teknisyeni        Bekar        Evet   37         2396              2                               0                           0\n",
      "3              0  Seyahat_Siklikla  Arastirma_Gelistirme    Kadin  Arastirma Bilim Insani         Evli        Evet   33        23159              3                               3                           7\n",
      "4              0   Seyahat_Nadiren  Arastirma_Gelistirme    Erkek  Laboratuvar Teknisyeni         Evli       Hayir   27        16632              2                               2                           2\n"
     ]
    }
   ],
   "source": [
    "import pandas as pd\n",
    "\n",
    "# Dosyanın tam yolunu belirtin\n",
    "df = pd.read_csv(\"C:\\\\Users\\\\baryo\\\\OneDrive\\\\Masaüstü\\\\sirketiciyipranma.csv\") \n",
    "\n",
    "# İlk birkaç satırı görüntüleyin\n",
    "print(df.head())\n"
   ]
  },
  {
   "cell_type": "code",
   "execution_count": 5,
   "id": "89d1f298",
   "metadata": {},
   "outputs": [],
   "source": [
    "# Keşifçi Veri Analizi (EDA)\n",
    "def check_df(dataframe, head=5):\n",
    "    print(\"##################### Shape #####################\")\n",
    "    print(dataframe.shape)\n",
    "\n",
    "    print(\"##################### Types #####################\")\n",
    "    print(dataframe.dtypes)\n",
    "\n",
    "    print(\"##################### Head #####################\")\n",
    "    print(dataframe.head(head))\n",
    "\n",
    "    print(\"##################### Tail #####################\")\n",
    "    print(dataframe.tail(head))\n",
    "\n",
    "    print(\"##################### NA #####################\")\n",
    "    print(dataframe.isnull().sum())\n",
    "\n",
    "    print(\"##################### Describe #####################\")\n",
    "    print(dataframe.describe().T)\n",
    "\n",
    "# Kategorik ve Sayısal Değişkenlerin Belirlenmesi\n",
    "\n",
    "def grab_col_names(dataframe, cat_th=10, car_th=20):\n",
    "    cat_cols = [col for col in dataframe.columns if dataframe[col].dtypes == \"O\"]\n",
    "\n",
    "    num_but_cat = [col for col in dataframe.columns if dataframe[col].nunique() < cat_th and\n",
    "                   dataframe[col].dtypes != \"O\"]\n",
    "\n",
    "    cat_but_car = [col for col in dataframe.columns if dataframe[col].nunique() > car_th and\n",
    "                   dataframe[col].dtypes == \"O\"]\n",
    "\n",
    "    cat_cols = cat_cols + num_but_cat\n",
    "\n",
    "    cat_cols = [col for col in cat_cols if col not in cat_but_car]\n",
    "\n",
    "    num_cols = [col for col in dataframe.columns if dataframe[col].dtypes != \"O\"]\n",
    "\n",
    "    num_cols = [col for col in num_cols if col not in num_but_cat]\n",
    "\n",
    "    print(f\"Observations: {dataframe.shape[0]}\")\n",
    "    print(f\"Variables: {dataframe.shape[1]}\")\n",
    "    print(f'cat_cols: {len(cat_cols)}')\n",
    "    print(f'num_cols: {len(num_cols)}')\n",
    "    print(f'cat_but_car: {len(cat_but_car)}')\n",
    "    print(f'num_but_cat: {len(num_but_cat)}')\n",
    "\n",
    "    return cat_cols, num_cols, cat_but_car\n",
    "\n",
    "# Kategorik Değişken Analizi\n",
    "\n",
    "def cat_summary_plotly(dataframe, col_name):\n",
    "    summary_df = dataframe[col_name].value_counts().reset_index()\n",
    "    summary_df.columns = ['value', 'count']\n",
    "    summary_df['percentage'] = 100 * summary_df['count'] / len(dataframe)\n",
    "    summary_df['percentage'] = summary_df['percentage'].round(2)  # 2 decimal places\n",
    "\n",
    "    fig = px.bar(summary_df, x='value', y='count', text='percentage',\n",
    "                 title=f'{col_name} Count and Percentage',\n",
    "                 labels={'value': col_name, 'count': 'Count', 'percentage': 'Percentage'})\n",
    "    fig.show()\n",
    "\n",
    "# Sayısal Değişken Analizi\n",
    "\n",
    "def num_summary_plotly(dataframe, numerical_col):\n",
    "    fig = px.histogram(dataframe, x=numerical_col, nbins=30,\n",
    "                       title=f'{numerical_col} Distribution')\n",
    "    fig.show()\n",
    "\n",
    "    fig = px.box(dataframe, y=numerical_col, title=f'{numerical_col} Box Plot')\n",
    "    fig.show()\n",
    "\n",
    "# Hedef Değişken Analizi (Kategorik)\n",
    "\n",
    "def target_summary_with_cat_plotly(dataframe, target, categorical_col):\n",
    "    summary_df = dataframe.groupby(categorical_col)[target].mean().reset_index()\n",
    "\n",
    "    fig = px.bar(summary_df, x=categorical_col, y=target,\n",
    "                 title=f'{categorical_col} vs. {target}',\n",
    "                 labels={categorical_col: categorical_col, target: target})\n",
    "    fig.show()\n",
    "\n",
    "# Hedef Değişken Analizi (Sayısal)\n",
    "\n",
    "def target_summary_with_num_plotly(dataframe, target, numerical_col):\n",
    "    summary_df = dataframe.groupby(target)[numerical_col].mean().reset_index()\n",
    "\n",
    "    fig = px.bar(summary_df, x=target, y=numerical_col,\n",
    "                 title=f'{target} vs. Mean of {numerical_col}',\n",
    "                 labels={target: target, numerical_col: 'Mean of ' + numerical_col})\n",
    "    fig.show()\n",
    "\n",
    "def correlation_heatmap(dataframe):\n",
    "    corr_matrix = dataframe.corr()\n",
    "\n",
    "    fig = go.Figure(data=go.Heatmap(\n",
    "        z=corr_matrix.values,\n",
    "        x=corr_matrix.index.values,\n",
    "        y=corr_matrix.columns.values,\n",
    "        colorscale='Viridis',\n",
    "        colorbar=dict(title='Correlation'),\n",
    "    ))\n",
    "\n",
    "    fig.update_layout(\n",
    "        title='Correlation Heatmap',\n",
    "        xaxis=dict(title='Features'),\n",
    "        yaxis=dict(title='Features')\n",
    "    )\n",
    "\n",
    "    fig.show()\n",
    "\n",
    "# Eksik veya Açıklanmayan Verilerin İncelenmesi\n",
    "def check_missing_data_plotly(dataframe):\n",
    "    missing_data = dataframe.isnull().sum().sort_values(ascending=False)\n",
    "    missing_data = missing_data[missing_data > 0]\n",
    "    if missing_data.empty:\n",
    "        print(\"Veri setinde eksik veya açıklanmayan veri yok.\")\n",
    "    else:\n",
    "        print(\"Eksik veya açıklanmayan verilerin sayısı ve oranları:\\n\", missing_data)\n",
    "        # Eksik verilerin oranlarını da görselleştirebiliriz\n",
    "        fig = px.bar(x=missing_data.index, y=missing_data.values, labels={'x': 'Değişkenler', 'y': 'Eksik Veri Sayısı'},\n",
    "                     title='Eksik Veri Sayısı')\n",
    "        fig.show()\n",
    "        \n",
    "# Aykırı Değer Analizi ve IQR yöntemi ile tespit\n",
    "def outlier_analysis_iqr_plotly(dataframe, numerical_cols):\n",
    "    outlier_dict = {}\n",
    "\n",
    "    for col in numerical_cols:\n",
    "        Q1 = dataframe[col].quantile(0.25)\n",
    "        Q3 = dataframe[col].quantile(0.75)\n",
    "        IQR = Q3 - Q1\n",
    "\n",
    "        lower_bound = Q1 - 1.5 * IQR\n",
    "        upper_bound = Q3 + 1.5 * IQR\n",
    "\n",
    "        outliers = dataframe[(dataframe[col] < lower_bound) | (dataframe[col] > upper_bound)]\n",
    "        outlier_dict[col] = outliers\n",
    "\n",
    "        # Boxplot oluşturma\n",
    "        fig = px.box(dataframe, y=col, title=f'{col} Aykırı Değer Analizi (IQR Method)')\n",
    "        fig.add_shape(type=\"line\", x0=lower_bound, y0=lower_bound, x1=lower_bound, y1=upper_bound, line=dict(color=\"red\", width=2))\n",
    "        fig.add_shape(type=\"line\", x0=upper_bound, y0=lower_bound, x1=upper_bound, y1=upper_bound, line=dict(color=\"red\", width=2))\n",
    "        fig.show()\n",
    "\n",
    "    return outlier_dict"
   ]
  },
  {
   "cell_type": "code",
   "execution_count": 6,
   "id": "ae4a3a30",
   "metadata": {},
   "outputs": [
    {
     "name": "stdout",
     "output_type": "stream",
     "text": [
      "##################### Shape #####################\n",
      "(1470, 12)\n",
      "##################### Types #####################\n",
      "isten_ayrilma                      int64\n",
      "is_seyahati                       object\n",
      "departman                         object\n",
      "cinsiyet                          object\n",
      "is_rolu                           object\n",
      "medeni_durum                      object\n",
      "fazla_mesai                       object\n",
      "yas                                int64\n",
      "aylik_ucret                        int64\n",
      "evden_uzaklik                      int64\n",
      "son_terfiden_bu_yana_gecen_yil     int64\n",
      "mevcut_rolde_gecirilen_yil         int64\n",
      "dtype: object\n",
      "##################### Head #####################\n",
      "   isten_ayrilma       is_seyahati             departman cinsiyet                 is_rolu medeni_durum fazla_mesai  yas  aylik_ucret  evden_uzaklik  son_terfiden_bu_yana_gecen_yil  mevcut_rolde_gecirilen_yil\n",
      "0              1   Seyahat_Nadiren                 Satis    Kadin        Satis Yoneticisi        Bekar        Evet   41        19479              1                               0                           4\n",
      "1              0  Seyahat_Siklikla  Arastirma_Gelistirme    Erkek  Arastirma Bilim Insani         Evli       Hayir   49        24907              8                               1                           7\n",
      "2              1   Seyahat_Nadiren  Arastirma_Gelistirme    Erkek  Laboratuvar Teknisyeni        Bekar        Evet   37         2396              2                               0                           0\n",
      "3              0  Seyahat_Siklikla  Arastirma_Gelistirme    Kadin  Arastirma Bilim Insani         Evli        Evet   33        23159              3                               3                           7\n",
      "4              0   Seyahat_Nadiren  Arastirma_Gelistirme    Erkek  Laboratuvar Teknisyeni         Evli       Hayir   27        16632              2                               2                           2\n",
      "##################### Tail #####################\n",
      "      isten_ayrilma       is_seyahati             departman cinsiyet                 is_rolu medeni_durum fazla_mesai  yas  aylik_ucret  evden_uzaklik  son_terfiden_bu_yana_gecen_yil  mevcut_rolde_gecirilen_yil\n",
      "1465              0  Seyahat_Siklikla  Arastirma_Gelistirme    Erkek  Laboratuvar Teknisyeni         Evli       Hayir   36        12290             23                               0                           2\n",
      "1466              0   Seyahat_Nadiren  Arastirma_Gelistirme    Erkek       Saglik Temsilcisi         Evli       Hayir   39        21457              6                               1                           7\n",
      "1467              0   Seyahat_Nadiren  Arastirma_Gelistirme    Erkek           Uretim Muduru         Evli        Evet   27         5174              4                               0                           2\n",
      "1468              0  Seyahat_Siklikla                 Satis    Erkek        Satis Yoneticisi         Evli       Hayir   49        13243              2                               0                           6\n",
      "1469              0   Seyahat_Nadiren  Arastirma_Gelistirme    Erkek  Laboratuvar Teknisyeni         Evli       Hayir   34        10228              8                               1                           3\n",
      "##################### NA #####################\n",
      "isten_ayrilma                     0\n",
      "is_seyahati                       0\n",
      "departman                         0\n",
      "cinsiyet                          0\n",
      "is_rolu                           0\n",
      "medeni_durum                      0\n",
      "fazla_mesai                       0\n",
      "yas                               0\n",
      "aylik_ucret                       0\n",
      "evden_uzaklik                     0\n",
      "son_terfiden_bu_yana_gecen_yil    0\n",
      "mevcut_rolde_gecirilen_yil        0\n",
      "dtype: int64\n",
      "##################### Describe #####################\n",
      "                                 count          mean          std     min     25%      50%      75%      max\n",
      "isten_ayrilma                   1470.0      0.161224     0.367863     0.0     0.0      0.0      0.0      1.0\n",
      "yas                             1470.0     36.923810     9.135373    18.0    30.0     36.0     43.0     60.0\n",
      "aylik_ucret                     1470.0  14313.103401  7117.786044  2094.0  8047.0  14235.5  20461.5  26999.0\n",
      "evden_uzaklik                   1470.0      9.192517     8.106864     1.0     2.0      7.0     14.0     29.0\n",
      "son_terfiden_bu_yana_gecen_yil  1470.0      2.187755     3.222430     0.0     0.0      1.0      3.0     15.0\n",
      "mevcut_rolde_gecirilen_yil      1470.0      4.229252     3.623137     0.0     2.0      3.0      7.0     18.0\n"
     ]
    }
   ],
   "source": [
    "check_df(df)"
   ]
  },
  {
   "cell_type": "code",
   "execution_count": 17,
   "id": "607feb72",
   "metadata": {},
   "outputs": [
    {
     "name": "stdout",
     "output_type": "stream",
     "text": [
      "Kategorik Değişkenler: ['is_seyahati', 'departman', 'cinsiyet', 'is_rolu', 'medeni_durum', 'fazla_mesai']\n",
      "Sayısal Değişkenler: ['yas', 'aylik_ucret', 'evden_uzaklik', 'son_terfiden_bu_yana_gecen_yil', 'mevcut_rolde_gecirilen_yil']\n"
     ]
    }
   ],
   "source": [
    "print(f\"Kategorik Değişkenler: {cat_cols}\")\n",
    "print(f\"Sayısal Değişkenler: {num_cols}\")     \n",
    "# print(f\"Kategorik Ancak Kardinal Değişkenler: {cat_but_car}\")"
   ]
  },
  {
   "cell_type": "markdown",
   "id": "4d9aa118",
   "metadata": {},
   "source": [
    "# **Kategorik ve sayısal değişkenlerin belirlenmesi**"
   ]
  },
  {
   "cell_type": "code",
   "execution_count": 8,
   "id": "eaedadd9",
   "metadata": {},
   "outputs": [
    {
     "name": "stdout",
     "output_type": "stream",
     "text": [
      "Observations: 1470\n",
      "Variables: 12\n",
      "cat_cols: 7\n",
      "num_cols: 5\n",
      "cat_but_car: 0\n",
      "num_but_cat: 1\n"
     ]
    }
   ],
   "source": [
    "cat_cols, num_cols, cat_but_car = grab_col_names(df)\n",
    "\n",
    "cat_cols.remove(\"isten_ayrilma\") #burada neden incelemiyoruz ve kolonu siliyoruz target olduğu için mi ? s"
   ]
  },
  {
   "cell_type": "markdown",
   "id": "c44ea2ad",
   "metadata": {},
   "source": [
    "# **Kategorik Değişken Analizi**\n"
   ]
  },
  {
   "cell_type": "code",
   "execution_count": 9,
   "id": "4b84e7a4",
   "metadata": {},
   "outputs": [
    {
     "data": {
      "application/vnd.plotly.v1+json": {
       "config": {
        "plotlyServerURL": "https://plot.ly"
       },
       "data": [
        {
         "alignmentgroup": "True",
         "hovertemplate": "is_seyahati=%{x}<br>Count=%{y}<br>Percentage=%{text}<extra></extra>",
         "legendgroup": "",
         "marker": {
          "color": "#636efa",
          "pattern": {
           "shape": ""
          }
         },
         "name": "",
         "offsetgroup": "",
         "orientation": "v",
         "showlegend": false,
         "text": [
          70.95,
          18.84,
          10.2
         ],
         "textposition": "auto",
         "type": "bar",
         "x": [
          "Seyahat_Nadiren",
          "Seyahat_Siklikla",
          "Seyahat_Yok"
         ],
         "xaxis": "x",
         "y": [
          1043,
          277,
          150
         ],
         "yaxis": "y"
        }
       ],
       "layout": {
        "barmode": "relative",
        "legend": {
         "tracegroupgap": 0
        },
        "template": {
         "data": {
          "bar": [
           {
            "error_x": {
             "color": "#2a3f5f"
            },
            "error_y": {
             "color": "#2a3f5f"
            },
            "marker": {
             "line": {
              "color": "#E5ECF6",
              "width": 0.5
             },
             "pattern": {
              "fillmode": "overlay",
              "size": 10,
              "solidity": 0.2
             }
            },
            "type": "bar"
           }
          ],
          "barpolar": [
           {
            "marker": {
             "line": {
              "color": "#E5ECF6",
              "width": 0.5
             },
             "pattern": {
              "fillmode": "overlay",
              "size": 10,
              "solidity": 0.2
             }
            },
            "type": "barpolar"
           }
          ],
          "carpet": [
           {
            "aaxis": {
             "endlinecolor": "#2a3f5f",
             "gridcolor": "white",
             "linecolor": "white",
             "minorgridcolor": "white",
             "startlinecolor": "#2a3f5f"
            },
            "baxis": {
             "endlinecolor": "#2a3f5f",
             "gridcolor": "white",
             "linecolor": "white",
             "minorgridcolor": "white",
             "startlinecolor": "#2a3f5f"
            },
            "type": "carpet"
           }
          ],
          "choropleth": [
           {
            "colorbar": {
             "outlinewidth": 0,
             "ticks": ""
            },
            "type": "choropleth"
           }
          ],
          "contour": [
           {
            "colorbar": {
             "outlinewidth": 0,
             "ticks": ""
            },
            "colorscale": [
             [
              0,
              "#0d0887"
             ],
             [
              0.1111111111111111,
              "#46039f"
             ],
             [
              0.2222222222222222,
              "#7201a8"
             ],
             [
              0.3333333333333333,
              "#9c179e"
             ],
             [
              0.4444444444444444,
              "#bd3786"
             ],
             [
              0.5555555555555556,
              "#d8576b"
             ],
             [
              0.6666666666666666,
              "#ed7953"
             ],
             [
              0.7777777777777778,
              "#fb9f3a"
             ],
             [
              0.8888888888888888,
              "#fdca26"
             ],
             [
              1,
              "#f0f921"
             ]
            ],
            "type": "contour"
           }
          ],
          "contourcarpet": [
           {
            "colorbar": {
             "outlinewidth": 0,
             "ticks": ""
            },
            "type": "contourcarpet"
           }
          ],
          "heatmap": [
           {
            "colorbar": {
             "outlinewidth": 0,
             "ticks": ""
            },
            "colorscale": [
             [
              0,
              "#0d0887"
             ],
             [
              0.1111111111111111,
              "#46039f"
             ],
             [
              0.2222222222222222,
              "#7201a8"
             ],
             [
              0.3333333333333333,
              "#9c179e"
             ],
             [
              0.4444444444444444,
              "#bd3786"
             ],
             [
              0.5555555555555556,
              "#d8576b"
             ],
             [
              0.6666666666666666,
              "#ed7953"
             ],
             [
              0.7777777777777778,
              "#fb9f3a"
             ],
             [
              0.8888888888888888,
              "#fdca26"
             ],
             [
              1,
              "#f0f921"
             ]
            ],
            "type": "heatmap"
           }
          ],
          "heatmapgl": [
           {
            "colorbar": {
             "outlinewidth": 0,
             "ticks": ""
            },
            "colorscale": [
             [
              0,
              "#0d0887"
             ],
             [
              0.1111111111111111,
              "#46039f"
             ],
             [
              0.2222222222222222,
              "#7201a8"
             ],
             [
              0.3333333333333333,
              "#9c179e"
             ],
             [
              0.4444444444444444,
              "#bd3786"
             ],
             [
              0.5555555555555556,
              "#d8576b"
             ],
             [
              0.6666666666666666,
              "#ed7953"
             ],
             [
              0.7777777777777778,
              "#fb9f3a"
             ],
             [
              0.8888888888888888,
              "#fdca26"
             ],
             [
              1,
              "#f0f921"
             ]
            ],
            "type": "heatmapgl"
           }
          ],
          "histogram": [
           {
            "marker": {
             "pattern": {
              "fillmode": "overlay",
              "size": 10,
              "solidity": 0.2
             }
            },
            "type": "histogram"
           }
          ],
          "histogram2d": [
           {
            "colorbar": {
             "outlinewidth": 0,
             "ticks": ""
            },
            "colorscale": [
             [
              0,
              "#0d0887"
             ],
             [
              0.1111111111111111,
              "#46039f"
             ],
             [
              0.2222222222222222,
              "#7201a8"
             ],
             [
              0.3333333333333333,
              "#9c179e"
             ],
             [
              0.4444444444444444,
              "#bd3786"
             ],
             [
              0.5555555555555556,
              "#d8576b"
             ],
             [
              0.6666666666666666,
              "#ed7953"
             ],
             [
              0.7777777777777778,
              "#fb9f3a"
             ],
             [
              0.8888888888888888,
              "#fdca26"
             ],
             [
              1,
              "#f0f921"
             ]
            ],
            "type": "histogram2d"
           }
          ],
          "histogram2dcontour": [
           {
            "colorbar": {
             "outlinewidth": 0,
             "ticks": ""
            },
            "colorscale": [
             [
              0,
              "#0d0887"
             ],
             [
              0.1111111111111111,
              "#46039f"
             ],
             [
              0.2222222222222222,
              "#7201a8"
             ],
             [
              0.3333333333333333,
              "#9c179e"
             ],
             [
              0.4444444444444444,
              "#bd3786"
             ],
             [
              0.5555555555555556,
              "#d8576b"
             ],
             [
              0.6666666666666666,
              "#ed7953"
             ],
             [
              0.7777777777777778,
              "#fb9f3a"
             ],
             [
              0.8888888888888888,
              "#fdca26"
             ],
             [
              1,
              "#f0f921"
             ]
            ],
            "type": "histogram2dcontour"
           }
          ],
          "mesh3d": [
           {
            "colorbar": {
             "outlinewidth": 0,
             "ticks": ""
            },
            "type": "mesh3d"
           }
          ],
          "parcoords": [
           {
            "line": {
             "colorbar": {
              "outlinewidth": 0,
              "ticks": ""
             }
            },
            "type": "parcoords"
           }
          ],
          "pie": [
           {
            "automargin": true,
            "type": "pie"
           }
          ],
          "scatter": [
           {
            "fillpattern": {
             "fillmode": "overlay",
             "size": 10,
             "solidity": 0.2
            },
            "type": "scatter"
           }
          ],
          "scatter3d": [
           {
            "line": {
             "colorbar": {
              "outlinewidth": 0,
              "ticks": ""
             }
            },
            "marker": {
             "colorbar": {
              "outlinewidth": 0,
              "ticks": ""
             }
            },
            "type": "scatter3d"
           }
          ],
          "scattercarpet": [
           {
            "marker": {
             "colorbar": {
              "outlinewidth": 0,
              "ticks": ""
             }
            },
            "type": "scattercarpet"
           }
          ],
          "scattergeo": [
           {
            "marker": {
             "colorbar": {
              "outlinewidth": 0,
              "ticks": ""
             }
            },
            "type": "scattergeo"
           }
          ],
          "scattergl": [
           {
            "marker": {
             "colorbar": {
              "outlinewidth": 0,
              "ticks": ""
             }
            },
            "type": "scattergl"
           }
          ],
          "scattermapbox": [
           {
            "marker": {
             "colorbar": {
              "outlinewidth": 0,
              "ticks": ""
             }
            },
            "type": "scattermapbox"
           }
          ],
          "scatterpolar": [
           {
            "marker": {
             "colorbar": {
              "outlinewidth": 0,
              "ticks": ""
             }
            },
            "type": "scatterpolar"
           }
          ],
          "scatterpolargl": [
           {
            "marker": {
             "colorbar": {
              "outlinewidth": 0,
              "ticks": ""
             }
            },
            "type": "scatterpolargl"
           }
          ],
          "scatterternary": [
           {
            "marker": {
             "colorbar": {
              "outlinewidth": 0,
              "ticks": ""
             }
            },
            "type": "scatterternary"
           }
          ],
          "surface": [
           {
            "colorbar": {
             "outlinewidth": 0,
             "ticks": ""
            },
            "colorscale": [
             [
              0,
              "#0d0887"
             ],
             [
              0.1111111111111111,
              "#46039f"
             ],
             [
              0.2222222222222222,
              "#7201a8"
             ],
             [
              0.3333333333333333,
              "#9c179e"
             ],
             [
              0.4444444444444444,
              "#bd3786"
             ],
             [
              0.5555555555555556,
              "#d8576b"
             ],
             [
              0.6666666666666666,
              "#ed7953"
             ],
             [
              0.7777777777777778,
              "#fb9f3a"
             ],
             [
              0.8888888888888888,
              "#fdca26"
             ],
             [
              1,
              "#f0f921"
             ]
            ],
            "type": "surface"
           }
          ],
          "table": [
           {
            "cells": {
             "fill": {
              "color": "#EBF0F8"
             },
             "line": {
              "color": "white"
             }
            },
            "header": {
             "fill": {
              "color": "#C8D4E3"
             },
             "line": {
              "color": "white"
             }
            },
            "type": "table"
           }
          ]
         },
         "layout": {
          "annotationdefaults": {
           "arrowcolor": "#2a3f5f",
           "arrowhead": 0,
           "arrowwidth": 1
          },
          "autotypenumbers": "strict",
          "coloraxis": {
           "colorbar": {
            "outlinewidth": 0,
            "ticks": ""
           }
          },
          "colorscale": {
           "diverging": [
            [
             0,
             "#8e0152"
            ],
            [
             0.1,
             "#c51b7d"
            ],
            [
             0.2,
             "#de77ae"
            ],
            [
             0.3,
             "#f1b6da"
            ],
            [
             0.4,
             "#fde0ef"
            ],
            [
             0.5,
             "#f7f7f7"
            ],
            [
             0.6,
             "#e6f5d0"
            ],
            [
             0.7,
             "#b8e186"
            ],
            [
             0.8,
             "#7fbc41"
            ],
            [
             0.9,
             "#4d9221"
            ],
            [
             1,
             "#276419"
            ]
           ],
           "sequential": [
            [
             0,
             "#0d0887"
            ],
            [
             0.1111111111111111,
             "#46039f"
            ],
            [
             0.2222222222222222,
             "#7201a8"
            ],
            [
             0.3333333333333333,
             "#9c179e"
            ],
            [
             0.4444444444444444,
             "#bd3786"
            ],
            [
             0.5555555555555556,
             "#d8576b"
            ],
            [
             0.6666666666666666,
             "#ed7953"
            ],
            [
             0.7777777777777778,
             "#fb9f3a"
            ],
            [
             0.8888888888888888,
             "#fdca26"
            ],
            [
             1,
             "#f0f921"
            ]
           ],
           "sequentialminus": [
            [
             0,
             "#0d0887"
            ],
            [
             0.1111111111111111,
             "#46039f"
            ],
            [
             0.2222222222222222,
             "#7201a8"
            ],
            [
             0.3333333333333333,
             "#9c179e"
            ],
            [
             0.4444444444444444,
             "#bd3786"
            ],
            [
             0.5555555555555556,
             "#d8576b"
            ],
            [
             0.6666666666666666,
             "#ed7953"
            ],
            [
             0.7777777777777778,
             "#fb9f3a"
            ],
            [
             0.8888888888888888,
             "#fdca26"
            ],
            [
             1,
             "#f0f921"
            ]
           ]
          },
          "colorway": [
           "#636efa",
           "#EF553B",
           "#00cc96",
           "#ab63fa",
           "#FFA15A",
           "#19d3f3",
           "#FF6692",
           "#B6E880",
           "#FF97FF",
           "#FECB52"
          ],
          "font": {
           "color": "#2a3f5f"
          },
          "geo": {
           "bgcolor": "white",
           "lakecolor": "white",
           "landcolor": "#E5ECF6",
           "showlakes": true,
           "showland": true,
           "subunitcolor": "white"
          },
          "hoverlabel": {
           "align": "left"
          },
          "hovermode": "closest",
          "mapbox": {
           "style": "light"
          },
          "paper_bgcolor": "white",
          "plot_bgcolor": "#E5ECF6",
          "polar": {
           "angularaxis": {
            "gridcolor": "white",
            "linecolor": "white",
            "ticks": ""
           },
           "bgcolor": "#E5ECF6",
           "radialaxis": {
            "gridcolor": "white",
            "linecolor": "white",
            "ticks": ""
           }
          },
          "scene": {
           "xaxis": {
            "backgroundcolor": "#E5ECF6",
            "gridcolor": "white",
            "gridwidth": 2,
            "linecolor": "white",
            "showbackground": true,
            "ticks": "",
            "zerolinecolor": "white"
           },
           "yaxis": {
            "backgroundcolor": "#E5ECF6",
            "gridcolor": "white",
            "gridwidth": 2,
            "linecolor": "white",
            "showbackground": true,
            "ticks": "",
            "zerolinecolor": "white"
           },
           "zaxis": {
            "backgroundcolor": "#E5ECF6",
            "gridcolor": "white",
            "gridwidth": 2,
            "linecolor": "white",
            "showbackground": true,
            "ticks": "",
            "zerolinecolor": "white"
           }
          },
          "shapedefaults": {
           "line": {
            "color": "#2a3f5f"
           }
          },
          "ternary": {
           "aaxis": {
            "gridcolor": "white",
            "linecolor": "white",
            "ticks": ""
           },
           "baxis": {
            "gridcolor": "white",
            "linecolor": "white",
            "ticks": ""
           },
           "bgcolor": "#E5ECF6",
           "caxis": {
            "gridcolor": "white",
            "linecolor": "white",
            "ticks": ""
           }
          },
          "title": {
           "x": 0.05
          },
          "xaxis": {
           "automargin": true,
           "gridcolor": "white",
           "linecolor": "white",
           "ticks": "",
           "title": {
            "standoff": 15
           },
           "zerolinecolor": "white",
           "zerolinewidth": 2
          },
          "yaxis": {
           "automargin": true,
           "gridcolor": "white",
           "linecolor": "white",
           "ticks": "",
           "title": {
            "standoff": 15
           },
           "zerolinecolor": "white",
           "zerolinewidth": 2
          }
         }
        },
        "title": {
         "text": "is_seyahati Count and Percentage"
        },
        "xaxis": {
         "anchor": "y",
         "domain": [
          0,
          1
         ],
         "title": {
          "text": "is_seyahati"
         }
        },
        "yaxis": {
         "anchor": "x",
         "domain": [
          0,
          1
         ],
         "title": {
          "text": "Count"
         }
        }
       }
      }
     },
     "metadata": {},
     "output_type": "display_data"
    },
    {
     "data": {
      "application/vnd.plotly.v1+json": {
       "config": {
        "plotlyServerURL": "https://plot.ly"
       },
       "data": [
        {
         "alignmentgroup": "True",
         "hovertemplate": "departman=%{x}<br>Count=%{y}<br>Percentage=%{text}<extra></extra>",
         "legendgroup": "",
         "marker": {
          "color": "#636efa",
          "pattern": {
           "shape": ""
          }
         },
         "name": "",
         "offsetgroup": "",
         "orientation": "v",
         "showlegend": false,
         "text": [
          65.37,
          30.34,
          4.29
         ],
         "textposition": "auto",
         "type": "bar",
         "x": [
          "Arastirma_Gelistirme",
          "Satis",
          "Insan_Kaynaklari"
         ],
         "xaxis": "x",
         "y": [
          961,
          446,
          63
         ],
         "yaxis": "y"
        }
       ],
       "layout": {
        "barmode": "relative",
        "legend": {
         "tracegroupgap": 0
        },
        "template": {
         "data": {
          "bar": [
           {
            "error_x": {
             "color": "#2a3f5f"
            },
            "error_y": {
             "color": "#2a3f5f"
            },
            "marker": {
             "line": {
              "color": "#E5ECF6",
              "width": 0.5
             },
             "pattern": {
              "fillmode": "overlay",
              "size": 10,
              "solidity": 0.2
             }
            },
            "type": "bar"
           }
          ],
          "barpolar": [
           {
            "marker": {
             "line": {
              "color": "#E5ECF6",
              "width": 0.5
             },
             "pattern": {
              "fillmode": "overlay",
              "size": 10,
              "solidity": 0.2
             }
            },
            "type": "barpolar"
           }
          ],
          "carpet": [
           {
            "aaxis": {
             "endlinecolor": "#2a3f5f",
             "gridcolor": "white",
             "linecolor": "white",
             "minorgridcolor": "white",
             "startlinecolor": "#2a3f5f"
            },
            "baxis": {
             "endlinecolor": "#2a3f5f",
             "gridcolor": "white",
             "linecolor": "white",
             "minorgridcolor": "white",
             "startlinecolor": "#2a3f5f"
            },
            "type": "carpet"
           }
          ],
          "choropleth": [
           {
            "colorbar": {
             "outlinewidth": 0,
             "ticks": ""
            },
            "type": "choropleth"
           }
          ],
          "contour": [
           {
            "colorbar": {
             "outlinewidth": 0,
             "ticks": ""
            },
            "colorscale": [
             [
              0,
              "#0d0887"
             ],
             [
              0.1111111111111111,
              "#46039f"
             ],
             [
              0.2222222222222222,
              "#7201a8"
             ],
             [
              0.3333333333333333,
              "#9c179e"
             ],
             [
              0.4444444444444444,
              "#bd3786"
             ],
             [
              0.5555555555555556,
              "#d8576b"
             ],
             [
              0.6666666666666666,
              "#ed7953"
             ],
             [
              0.7777777777777778,
              "#fb9f3a"
             ],
             [
              0.8888888888888888,
              "#fdca26"
             ],
             [
              1,
              "#f0f921"
             ]
            ],
            "type": "contour"
           }
          ],
          "contourcarpet": [
           {
            "colorbar": {
             "outlinewidth": 0,
             "ticks": ""
            },
            "type": "contourcarpet"
           }
          ],
          "heatmap": [
           {
            "colorbar": {
             "outlinewidth": 0,
             "ticks": ""
            },
            "colorscale": [
             [
              0,
              "#0d0887"
             ],
             [
              0.1111111111111111,
              "#46039f"
             ],
             [
              0.2222222222222222,
              "#7201a8"
             ],
             [
              0.3333333333333333,
              "#9c179e"
             ],
             [
              0.4444444444444444,
              "#bd3786"
             ],
             [
              0.5555555555555556,
              "#d8576b"
             ],
             [
              0.6666666666666666,
              "#ed7953"
             ],
             [
              0.7777777777777778,
              "#fb9f3a"
             ],
             [
              0.8888888888888888,
              "#fdca26"
             ],
             [
              1,
              "#f0f921"
             ]
            ],
            "type": "heatmap"
           }
          ],
          "heatmapgl": [
           {
            "colorbar": {
             "outlinewidth": 0,
             "ticks": ""
            },
            "colorscale": [
             [
              0,
              "#0d0887"
             ],
             [
              0.1111111111111111,
              "#46039f"
             ],
             [
              0.2222222222222222,
              "#7201a8"
             ],
             [
              0.3333333333333333,
              "#9c179e"
             ],
             [
              0.4444444444444444,
              "#bd3786"
             ],
             [
              0.5555555555555556,
              "#d8576b"
             ],
             [
              0.6666666666666666,
              "#ed7953"
             ],
             [
              0.7777777777777778,
              "#fb9f3a"
             ],
             [
              0.8888888888888888,
              "#fdca26"
             ],
             [
              1,
              "#f0f921"
             ]
            ],
            "type": "heatmapgl"
           }
          ],
          "histogram": [
           {
            "marker": {
             "pattern": {
              "fillmode": "overlay",
              "size": 10,
              "solidity": 0.2
             }
            },
            "type": "histogram"
           }
          ],
          "histogram2d": [
           {
            "colorbar": {
             "outlinewidth": 0,
             "ticks": ""
            },
            "colorscale": [
             [
              0,
              "#0d0887"
             ],
             [
              0.1111111111111111,
              "#46039f"
             ],
             [
              0.2222222222222222,
              "#7201a8"
             ],
             [
              0.3333333333333333,
              "#9c179e"
             ],
             [
              0.4444444444444444,
              "#bd3786"
             ],
             [
              0.5555555555555556,
              "#d8576b"
             ],
             [
              0.6666666666666666,
              "#ed7953"
             ],
             [
              0.7777777777777778,
              "#fb9f3a"
             ],
             [
              0.8888888888888888,
              "#fdca26"
             ],
             [
              1,
              "#f0f921"
             ]
            ],
            "type": "histogram2d"
           }
          ],
          "histogram2dcontour": [
           {
            "colorbar": {
             "outlinewidth": 0,
             "ticks": ""
            },
            "colorscale": [
             [
              0,
              "#0d0887"
             ],
             [
              0.1111111111111111,
              "#46039f"
             ],
             [
              0.2222222222222222,
              "#7201a8"
             ],
             [
              0.3333333333333333,
              "#9c179e"
             ],
             [
              0.4444444444444444,
              "#bd3786"
             ],
             [
              0.5555555555555556,
              "#d8576b"
             ],
             [
              0.6666666666666666,
              "#ed7953"
             ],
             [
              0.7777777777777778,
              "#fb9f3a"
             ],
             [
              0.8888888888888888,
              "#fdca26"
             ],
             [
              1,
              "#f0f921"
             ]
            ],
            "type": "histogram2dcontour"
           }
          ],
          "mesh3d": [
           {
            "colorbar": {
             "outlinewidth": 0,
             "ticks": ""
            },
            "type": "mesh3d"
           }
          ],
          "parcoords": [
           {
            "line": {
             "colorbar": {
              "outlinewidth": 0,
              "ticks": ""
             }
            },
            "type": "parcoords"
           }
          ],
          "pie": [
           {
            "automargin": true,
            "type": "pie"
           }
          ],
          "scatter": [
           {
            "fillpattern": {
             "fillmode": "overlay",
             "size": 10,
             "solidity": 0.2
            },
            "type": "scatter"
           }
          ],
          "scatter3d": [
           {
            "line": {
             "colorbar": {
              "outlinewidth": 0,
              "ticks": ""
             }
            },
            "marker": {
             "colorbar": {
              "outlinewidth": 0,
              "ticks": ""
             }
            },
            "type": "scatter3d"
           }
          ],
          "scattercarpet": [
           {
            "marker": {
             "colorbar": {
              "outlinewidth": 0,
              "ticks": ""
             }
            },
            "type": "scattercarpet"
           }
          ],
          "scattergeo": [
           {
            "marker": {
             "colorbar": {
              "outlinewidth": 0,
              "ticks": ""
             }
            },
            "type": "scattergeo"
           }
          ],
          "scattergl": [
           {
            "marker": {
             "colorbar": {
              "outlinewidth": 0,
              "ticks": ""
             }
            },
            "type": "scattergl"
           }
          ],
          "scattermapbox": [
           {
            "marker": {
             "colorbar": {
              "outlinewidth": 0,
              "ticks": ""
             }
            },
            "type": "scattermapbox"
           }
          ],
          "scatterpolar": [
           {
            "marker": {
             "colorbar": {
              "outlinewidth": 0,
              "ticks": ""
             }
            },
            "type": "scatterpolar"
           }
          ],
          "scatterpolargl": [
           {
            "marker": {
             "colorbar": {
              "outlinewidth": 0,
              "ticks": ""
             }
            },
            "type": "scatterpolargl"
           }
          ],
          "scatterternary": [
           {
            "marker": {
             "colorbar": {
              "outlinewidth": 0,
              "ticks": ""
             }
            },
            "type": "scatterternary"
           }
          ],
          "surface": [
           {
            "colorbar": {
             "outlinewidth": 0,
             "ticks": ""
            },
            "colorscale": [
             [
              0,
              "#0d0887"
             ],
             [
              0.1111111111111111,
              "#46039f"
             ],
             [
              0.2222222222222222,
              "#7201a8"
             ],
             [
              0.3333333333333333,
              "#9c179e"
             ],
             [
              0.4444444444444444,
              "#bd3786"
             ],
             [
              0.5555555555555556,
              "#d8576b"
             ],
             [
              0.6666666666666666,
              "#ed7953"
             ],
             [
              0.7777777777777778,
              "#fb9f3a"
             ],
             [
              0.8888888888888888,
              "#fdca26"
             ],
             [
              1,
              "#f0f921"
             ]
            ],
            "type": "surface"
           }
          ],
          "table": [
           {
            "cells": {
             "fill": {
              "color": "#EBF0F8"
             },
             "line": {
              "color": "white"
             }
            },
            "header": {
             "fill": {
              "color": "#C8D4E3"
             },
             "line": {
              "color": "white"
             }
            },
            "type": "table"
           }
          ]
         },
         "layout": {
          "annotationdefaults": {
           "arrowcolor": "#2a3f5f",
           "arrowhead": 0,
           "arrowwidth": 1
          },
          "autotypenumbers": "strict",
          "coloraxis": {
           "colorbar": {
            "outlinewidth": 0,
            "ticks": ""
           }
          },
          "colorscale": {
           "diverging": [
            [
             0,
             "#8e0152"
            ],
            [
             0.1,
             "#c51b7d"
            ],
            [
             0.2,
             "#de77ae"
            ],
            [
             0.3,
             "#f1b6da"
            ],
            [
             0.4,
             "#fde0ef"
            ],
            [
             0.5,
             "#f7f7f7"
            ],
            [
             0.6,
             "#e6f5d0"
            ],
            [
             0.7,
             "#b8e186"
            ],
            [
             0.8,
             "#7fbc41"
            ],
            [
             0.9,
             "#4d9221"
            ],
            [
             1,
             "#276419"
            ]
           ],
           "sequential": [
            [
             0,
             "#0d0887"
            ],
            [
             0.1111111111111111,
             "#46039f"
            ],
            [
             0.2222222222222222,
             "#7201a8"
            ],
            [
             0.3333333333333333,
             "#9c179e"
            ],
            [
             0.4444444444444444,
             "#bd3786"
            ],
            [
             0.5555555555555556,
             "#d8576b"
            ],
            [
             0.6666666666666666,
             "#ed7953"
            ],
            [
             0.7777777777777778,
             "#fb9f3a"
            ],
            [
             0.8888888888888888,
             "#fdca26"
            ],
            [
             1,
             "#f0f921"
            ]
           ],
           "sequentialminus": [
            [
             0,
             "#0d0887"
            ],
            [
             0.1111111111111111,
             "#46039f"
            ],
            [
             0.2222222222222222,
             "#7201a8"
            ],
            [
             0.3333333333333333,
             "#9c179e"
            ],
            [
             0.4444444444444444,
             "#bd3786"
            ],
            [
             0.5555555555555556,
             "#d8576b"
            ],
            [
             0.6666666666666666,
             "#ed7953"
            ],
            [
             0.7777777777777778,
             "#fb9f3a"
            ],
            [
             0.8888888888888888,
             "#fdca26"
            ],
            [
             1,
             "#f0f921"
            ]
           ]
          },
          "colorway": [
           "#636efa",
           "#EF553B",
           "#00cc96",
           "#ab63fa",
           "#FFA15A",
           "#19d3f3",
           "#FF6692",
           "#B6E880",
           "#FF97FF",
           "#FECB52"
          ],
          "font": {
           "color": "#2a3f5f"
          },
          "geo": {
           "bgcolor": "white",
           "lakecolor": "white",
           "landcolor": "#E5ECF6",
           "showlakes": true,
           "showland": true,
           "subunitcolor": "white"
          },
          "hoverlabel": {
           "align": "left"
          },
          "hovermode": "closest",
          "mapbox": {
           "style": "light"
          },
          "paper_bgcolor": "white",
          "plot_bgcolor": "#E5ECF6",
          "polar": {
           "angularaxis": {
            "gridcolor": "white",
            "linecolor": "white",
            "ticks": ""
           },
           "bgcolor": "#E5ECF6",
           "radialaxis": {
            "gridcolor": "white",
            "linecolor": "white",
            "ticks": ""
           }
          },
          "scene": {
           "xaxis": {
            "backgroundcolor": "#E5ECF6",
            "gridcolor": "white",
            "gridwidth": 2,
            "linecolor": "white",
            "showbackground": true,
            "ticks": "",
            "zerolinecolor": "white"
           },
           "yaxis": {
            "backgroundcolor": "#E5ECF6",
            "gridcolor": "white",
            "gridwidth": 2,
            "linecolor": "white",
            "showbackground": true,
            "ticks": "",
            "zerolinecolor": "white"
           },
           "zaxis": {
            "backgroundcolor": "#E5ECF6",
            "gridcolor": "white",
            "gridwidth": 2,
            "linecolor": "white",
            "showbackground": true,
            "ticks": "",
            "zerolinecolor": "white"
           }
          },
          "shapedefaults": {
           "line": {
            "color": "#2a3f5f"
           }
          },
          "ternary": {
           "aaxis": {
            "gridcolor": "white",
            "linecolor": "white",
            "ticks": ""
           },
           "baxis": {
            "gridcolor": "white",
            "linecolor": "white",
            "ticks": ""
           },
           "bgcolor": "#E5ECF6",
           "caxis": {
            "gridcolor": "white",
            "linecolor": "white",
            "ticks": ""
           }
          },
          "title": {
           "x": 0.05
          },
          "xaxis": {
           "automargin": true,
           "gridcolor": "white",
           "linecolor": "white",
           "ticks": "",
           "title": {
            "standoff": 15
           },
           "zerolinecolor": "white",
           "zerolinewidth": 2
          },
          "yaxis": {
           "automargin": true,
           "gridcolor": "white",
           "linecolor": "white",
           "ticks": "",
           "title": {
            "standoff": 15
           },
           "zerolinecolor": "white",
           "zerolinewidth": 2
          }
         }
        },
        "title": {
         "text": "departman Count and Percentage"
        },
        "xaxis": {
         "anchor": "y",
         "domain": [
          0,
          1
         ],
         "title": {
          "text": "departman"
         }
        },
        "yaxis": {
         "anchor": "x",
         "domain": [
          0,
          1
         ],
         "title": {
          "text": "Count"
         }
        }
       }
      }
     },
     "metadata": {},
     "output_type": "display_data"
    },
    {
     "data": {
      "application/vnd.plotly.v1+json": {
       "config": {
        "plotlyServerURL": "https://plot.ly"
       },
       "data": [
        {
         "alignmentgroup": "True",
         "hovertemplate": "cinsiyet=%{x}<br>Count=%{y}<br>Percentage=%{text}<extra></extra>",
         "legendgroup": "",
         "marker": {
          "color": "#636efa",
          "pattern": {
           "shape": ""
          }
         },
         "name": "",
         "offsetgroup": "",
         "orientation": "v",
         "showlegend": false,
         "text": [
          60,
          40
         ],
         "textposition": "auto",
         "type": "bar",
         "x": [
          "Erkek",
          "Kadin"
         ],
         "xaxis": "x",
         "y": [
          882,
          588
         ],
         "yaxis": "y"
        }
       ],
       "layout": {
        "barmode": "relative",
        "legend": {
         "tracegroupgap": 0
        },
        "template": {
         "data": {
          "bar": [
           {
            "error_x": {
             "color": "#2a3f5f"
            },
            "error_y": {
             "color": "#2a3f5f"
            },
            "marker": {
             "line": {
              "color": "#E5ECF6",
              "width": 0.5
             },
             "pattern": {
              "fillmode": "overlay",
              "size": 10,
              "solidity": 0.2
             }
            },
            "type": "bar"
           }
          ],
          "barpolar": [
           {
            "marker": {
             "line": {
              "color": "#E5ECF6",
              "width": 0.5
             },
             "pattern": {
              "fillmode": "overlay",
              "size": 10,
              "solidity": 0.2
             }
            },
            "type": "barpolar"
           }
          ],
          "carpet": [
           {
            "aaxis": {
             "endlinecolor": "#2a3f5f",
             "gridcolor": "white",
             "linecolor": "white",
             "minorgridcolor": "white",
             "startlinecolor": "#2a3f5f"
            },
            "baxis": {
             "endlinecolor": "#2a3f5f",
             "gridcolor": "white",
             "linecolor": "white",
             "minorgridcolor": "white",
             "startlinecolor": "#2a3f5f"
            },
            "type": "carpet"
           }
          ],
          "choropleth": [
           {
            "colorbar": {
             "outlinewidth": 0,
             "ticks": ""
            },
            "type": "choropleth"
           }
          ],
          "contour": [
           {
            "colorbar": {
             "outlinewidth": 0,
             "ticks": ""
            },
            "colorscale": [
             [
              0,
              "#0d0887"
             ],
             [
              0.1111111111111111,
              "#46039f"
             ],
             [
              0.2222222222222222,
              "#7201a8"
             ],
             [
              0.3333333333333333,
              "#9c179e"
             ],
             [
              0.4444444444444444,
              "#bd3786"
             ],
             [
              0.5555555555555556,
              "#d8576b"
             ],
             [
              0.6666666666666666,
              "#ed7953"
             ],
             [
              0.7777777777777778,
              "#fb9f3a"
             ],
             [
              0.8888888888888888,
              "#fdca26"
             ],
             [
              1,
              "#f0f921"
             ]
            ],
            "type": "contour"
           }
          ],
          "contourcarpet": [
           {
            "colorbar": {
             "outlinewidth": 0,
             "ticks": ""
            },
            "type": "contourcarpet"
           }
          ],
          "heatmap": [
           {
            "colorbar": {
             "outlinewidth": 0,
             "ticks": ""
            },
            "colorscale": [
             [
              0,
              "#0d0887"
             ],
             [
              0.1111111111111111,
              "#46039f"
             ],
             [
              0.2222222222222222,
              "#7201a8"
             ],
             [
              0.3333333333333333,
              "#9c179e"
             ],
             [
              0.4444444444444444,
              "#bd3786"
             ],
             [
              0.5555555555555556,
              "#d8576b"
             ],
             [
              0.6666666666666666,
              "#ed7953"
             ],
             [
              0.7777777777777778,
              "#fb9f3a"
             ],
             [
              0.8888888888888888,
              "#fdca26"
             ],
             [
              1,
              "#f0f921"
             ]
            ],
            "type": "heatmap"
           }
          ],
          "heatmapgl": [
           {
            "colorbar": {
             "outlinewidth": 0,
             "ticks": ""
            },
            "colorscale": [
             [
              0,
              "#0d0887"
             ],
             [
              0.1111111111111111,
              "#46039f"
             ],
             [
              0.2222222222222222,
              "#7201a8"
             ],
             [
              0.3333333333333333,
              "#9c179e"
             ],
             [
              0.4444444444444444,
              "#bd3786"
             ],
             [
              0.5555555555555556,
              "#d8576b"
             ],
             [
              0.6666666666666666,
              "#ed7953"
             ],
             [
              0.7777777777777778,
              "#fb9f3a"
             ],
             [
              0.8888888888888888,
              "#fdca26"
             ],
             [
              1,
              "#f0f921"
             ]
            ],
            "type": "heatmapgl"
           }
          ],
          "histogram": [
           {
            "marker": {
             "pattern": {
              "fillmode": "overlay",
              "size": 10,
              "solidity": 0.2
             }
            },
            "type": "histogram"
           }
          ],
          "histogram2d": [
           {
            "colorbar": {
             "outlinewidth": 0,
             "ticks": ""
            },
            "colorscale": [
             [
              0,
              "#0d0887"
             ],
             [
              0.1111111111111111,
              "#46039f"
             ],
             [
              0.2222222222222222,
              "#7201a8"
             ],
             [
              0.3333333333333333,
              "#9c179e"
             ],
             [
              0.4444444444444444,
              "#bd3786"
             ],
             [
              0.5555555555555556,
              "#d8576b"
             ],
             [
              0.6666666666666666,
              "#ed7953"
             ],
             [
              0.7777777777777778,
              "#fb9f3a"
             ],
             [
              0.8888888888888888,
              "#fdca26"
             ],
             [
              1,
              "#f0f921"
             ]
            ],
            "type": "histogram2d"
           }
          ],
          "histogram2dcontour": [
           {
            "colorbar": {
             "outlinewidth": 0,
             "ticks": ""
            },
            "colorscale": [
             [
              0,
              "#0d0887"
             ],
             [
              0.1111111111111111,
              "#46039f"
             ],
             [
              0.2222222222222222,
              "#7201a8"
             ],
             [
              0.3333333333333333,
              "#9c179e"
             ],
             [
              0.4444444444444444,
              "#bd3786"
             ],
             [
              0.5555555555555556,
              "#d8576b"
             ],
             [
              0.6666666666666666,
              "#ed7953"
             ],
             [
              0.7777777777777778,
              "#fb9f3a"
             ],
             [
              0.8888888888888888,
              "#fdca26"
             ],
             [
              1,
              "#f0f921"
             ]
            ],
            "type": "histogram2dcontour"
           }
          ],
          "mesh3d": [
           {
            "colorbar": {
             "outlinewidth": 0,
             "ticks": ""
            },
            "type": "mesh3d"
           }
          ],
          "parcoords": [
           {
            "line": {
             "colorbar": {
              "outlinewidth": 0,
              "ticks": ""
             }
            },
            "type": "parcoords"
           }
          ],
          "pie": [
           {
            "automargin": true,
            "type": "pie"
           }
          ],
          "scatter": [
           {
            "fillpattern": {
             "fillmode": "overlay",
             "size": 10,
             "solidity": 0.2
            },
            "type": "scatter"
           }
          ],
          "scatter3d": [
           {
            "line": {
             "colorbar": {
              "outlinewidth": 0,
              "ticks": ""
             }
            },
            "marker": {
             "colorbar": {
              "outlinewidth": 0,
              "ticks": ""
             }
            },
            "type": "scatter3d"
           }
          ],
          "scattercarpet": [
           {
            "marker": {
             "colorbar": {
              "outlinewidth": 0,
              "ticks": ""
             }
            },
            "type": "scattercarpet"
           }
          ],
          "scattergeo": [
           {
            "marker": {
             "colorbar": {
              "outlinewidth": 0,
              "ticks": ""
             }
            },
            "type": "scattergeo"
           }
          ],
          "scattergl": [
           {
            "marker": {
             "colorbar": {
              "outlinewidth": 0,
              "ticks": ""
             }
            },
            "type": "scattergl"
           }
          ],
          "scattermapbox": [
           {
            "marker": {
             "colorbar": {
              "outlinewidth": 0,
              "ticks": ""
             }
            },
            "type": "scattermapbox"
           }
          ],
          "scatterpolar": [
           {
            "marker": {
             "colorbar": {
              "outlinewidth": 0,
              "ticks": ""
             }
            },
            "type": "scatterpolar"
           }
          ],
          "scatterpolargl": [
           {
            "marker": {
             "colorbar": {
              "outlinewidth": 0,
              "ticks": ""
             }
            },
            "type": "scatterpolargl"
           }
          ],
          "scatterternary": [
           {
            "marker": {
             "colorbar": {
              "outlinewidth": 0,
              "ticks": ""
             }
            },
            "type": "scatterternary"
           }
          ],
          "surface": [
           {
            "colorbar": {
             "outlinewidth": 0,
             "ticks": ""
            },
            "colorscale": [
             [
              0,
              "#0d0887"
             ],
             [
              0.1111111111111111,
              "#46039f"
             ],
             [
              0.2222222222222222,
              "#7201a8"
             ],
             [
              0.3333333333333333,
              "#9c179e"
             ],
             [
              0.4444444444444444,
              "#bd3786"
             ],
             [
              0.5555555555555556,
              "#d8576b"
             ],
             [
              0.6666666666666666,
              "#ed7953"
             ],
             [
              0.7777777777777778,
              "#fb9f3a"
             ],
             [
              0.8888888888888888,
              "#fdca26"
             ],
             [
              1,
              "#f0f921"
             ]
            ],
            "type": "surface"
           }
          ],
          "table": [
           {
            "cells": {
             "fill": {
              "color": "#EBF0F8"
             },
             "line": {
              "color": "white"
             }
            },
            "header": {
             "fill": {
              "color": "#C8D4E3"
             },
             "line": {
              "color": "white"
             }
            },
            "type": "table"
           }
          ]
         },
         "layout": {
          "annotationdefaults": {
           "arrowcolor": "#2a3f5f",
           "arrowhead": 0,
           "arrowwidth": 1
          },
          "autotypenumbers": "strict",
          "coloraxis": {
           "colorbar": {
            "outlinewidth": 0,
            "ticks": ""
           }
          },
          "colorscale": {
           "diverging": [
            [
             0,
             "#8e0152"
            ],
            [
             0.1,
             "#c51b7d"
            ],
            [
             0.2,
             "#de77ae"
            ],
            [
             0.3,
             "#f1b6da"
            ],
            [
             0.4,
             "#fde0ef"
            ],
            [
             0.5,
             "#f7f7f7"
            ],
            [
             0.6,
             "#e6f5d0"
            ],
            [
             0.7,
             "#b8e186"
            ],
            [
             0.8,
             "#7fbc41"
            ],
            [
             0.9,
             "#4d9221"
            ],
            [
             1,
             "#276419"
            ]
           ],
           "sequential": [
            [
             0,
             "#0d0887"
            ],
            [
             0.1111111111111111,
             "#46039f"
            ],
            [
             0.2222222222222222,
             "#7201a8"
            ],
            [
             0.3333333333333333,
             "#9c179e"
            ],
            [
             0.4444444444444444,
             "#bd3786"
            ],
            [
             0.5555555555555556,
             "#d8576b"
            ],
            [
             0.6666666666666666,
             "#ed7953"
            ],
            [
             0.7777777777777778,
             "#fb9f3a"
            ],
            [
             0.8888888888888888,
             "#fdca26"
            ],
            [
             1,
             "#f0f921"
            ]
           ],
           "sequentialminus": [
            [
             0,
             "#0d0887"
            ],
            [
             0.1111111111111111,
             "#46039f"
            ],
            [
             0.2222222222222222,
             "#7201a8"
            ],
            [
             0.3333333333333333,
             "#9c179e"
            ],
            [
             0.4444444444444444,
             "#bd3786"
            ],
            [
             0.5555555555555556,
             "#d8576b"
            ],
            [
             0.6666666666666666,
             "#ed7953"
            ],
            [
             0.7777777777777778,
             "#fb9f3a"
            ],
            [
             0.8888888888888888,
             "#fdca26"
            ],
            [
             1,
             "#f0f921"
            ]
           ]
          },
          "colorway": [
           "#636efa",
           "#EF553B",
           "#00cc96",
           "#ab63fa",
           "#FFA15A",
           "#19d3f3",
           "#FF6692",
           "#B6E880",
           "#FF97FF",
           "#FECB52"
          ],
          "font": {
           "color": "#2a3f5f"
          },
          "geo": {
           "bgcolor": "white",
           "lakecolor": "white",
           "landcolor": "#E5ECF6",
           "showlakes": true,
           "showland": true,
           "subunitcolor": "white"
          },
          "hoverlabel": {
           "align": "left"
          },
          "hovermode": "closest",
          "mapbox": {
           "style": "light"
          },
          "paper_bgcolor": "white",
          "plot_bgcolor": "#E5ECF6",
          "polar": {
           "angularaxis": {
            "gridcolor": "white",
            "linecolor": "white",
            "ticks": ""
           },
           "bgcolor": "#E5ECF6",
           "radialaxis": {
            "gridcolor": "white",
            "linecolor": "white",
            "ticks": ""
           }
          },
          "scene": {
           "xaxis": {
            "backgroundcolor": "#E5ECF6",
            "gridcolor": "white",
            "gridwidth": 2,
            "linecolor": "white",
            "showbackground": true,
            "ticks": "",
            "zerolinecolor": "white"
           },
           "yaxis": {
            "backgroundcolor": "#E5ECF6",
            "gridcolor": "white",
            "gridwidth": 2,
            "linecolor": "white",
            "showbackground": true,
            "ticks": "",
            "zerolinecolor": "white"
           },
           "zaxis": {
            "backgroundcolor": "#E5ECF6",
            "gridcolor": "white",
            "gridwidth": 2,
            "linecolor": "white",
            "showbackground": true,
            "ticks": "",
            "zerolinecolor": "white"
           }
          },
          "shapedefaults": {
           "line": {
            "color": "#2a3f5f"
           }
          },
          "ternary": {
           "aaxis": {
            "gridcolor": "white",
            "linecolor": "white",
            "ticks": ""
           },
           "baxis": {
            "gridcolor": "white",
            "linecolor": "white",
            "ticks": ""
           },
           "bgcolor": "#E5ECF6",
           "caxis": {
            "gridcolor": "white",
            "linecolor": "white",
            "ticks": ""
           }
          },
          "title": {
           "x": 0.05
          },
          "xaxis": {
           "automargin": true,
           "gridcolor": "white",
           "linecolor": "white",
           "ticks": "",
           "title": {
            "standoff": 15
           },
           "zerolinecolor": "white",
           "zerolinewidth": 2
          },
          "yaxis": {
           "automargin": true,
           "gridcolor": "white",
           "linecolor": "white",
           "ticks": "",
           "title": {
            "standoff": 15
           },
           "zerolinecolor": "white",
           "zerolinewidth": 2
          }
         }
        },
        "title": {
         "text": "cinsiyet Count and Percentage"
        },
        "xaxis": {
         "anchor": "y",
         "domain": [
          0,
          1
         ],
         "title": {
          "text": "cinsiyet"
         }
        },
        "yaxis": {
         "anchor": "x",
         "domain": [
          0,
          1
         ],
         "title": {
          "text": "Count"
         }
        }
       }
      }
     },
     "metadata": {},
     "output_type": "display_data"
    },
    {
     "data": {
      "application/vnd.plotly.v1+json": {
       "config": {
        "plotlyServerURL": "https://plot.ly"
       },
       "data": [
        {
         "alignmentgroup": "True",
         "hovertemplate": "is_rolu=%{x}<br>Count=%{y}<br>Percentage=%{text}<extra></extra>",
         "legendgroup": "",
         "marker": {
          "color": "#636efa",
          "pattern": {
           "shape": ""
          }
         },
         "name": "",
         "offsetgroup": "",
         "orientation": "v",
         "showlegend": false,
         "text": [
          22.18,
          19.86,
          17.62,
          9.86,
          8.91,
          6.94,
          5.65,
          5.44,
          3.54
         ],
         "textposition": "auto",
         "type": "bar",
         "x": [
          "Satis Yoneticisi",
          "Arastirma Bilim Insani",
          "Laboratuvar Teknisyeni",
          "Uretim Muduru",
          "Saglik Temsilcisi",
          "Yonetici",
          "Satis Temsilcisi",
          "Arastirma Muduru",
          "Insan_Kaynaklari"
         ],
         "xaxis": "x",
         "y": [
          326,
          292,
          259,
          145,
          131,
          102,
          83,
          80,
          52
         ],
         "yaxis": "y"
        }
       ],
       "layout": {
        "barmode": "relative",
        "legend": {
         "tracegroupgap": 0
        },
        "template": {
         "data": {
          "bar": [
           {
            "error_x": {
             "color": "#2a3f5f"
            },
            "error_y": {
             "color": "#2a3f5f"
            },
            "marker": {
             "line": {
              "color": "#E5ECF6",
              "width": 0.5
             },
             "pattern": {
              "fillmode": "overlay",
              "size": 10,
              "solidity": 0.2
             }
            },
            "type": "bar"
           }
          ],
          "barpolar": [
           {
            "marker": {
             "line": {
              "color": "#E5ECF6",
              "width": 0.5
             },
             "pattern": {
              "fillmode": "overlay",
              "size": 10,
              "solidity": 0.2
             }
            },
            "type": "barpolar"
           }
          ],
          "carpet": [
           {
            "aaxis": {
             "endlinecolor": "#2a3f5f",
             "gridcolor": "white",
             "linecolor": "white",
             "minorgridcolor": "white",
             "startlinecolor": "#2a3f5f"
            },
            "baxis": {
             "endlinecolor": "#2a3f5f",
             "gridcolor": "white",
             "linecolor": "white",
             "minorgridcolor": "white",
             "startlinecolor": "#2a3f5f"
            },
            "type": "carpet"
           }
          ],
          "choropleth": [
           {
            "colorbar": {
             "outlinewidth": 0,
             "ticks": ""
            },
            "type": "choropleth"
           }
          ],
          "contour": [
           {
            "colorbar": {
             "outlinewidth": 0,
             "ticks": ""
            },
            "colorscale": [
             [
              0,
              "#0d0887"
             ],
             [
              0.1111111111111111,
              "#46039f"
             ],
             [
              0.2222222222222222,
              "#7201a8"
             ],
             [
              0.3333333333333333,
              "#9c179e"
             ],
             [
              0.4444444444444444,
              "#bd3786"
             ],
             [
              0.5555555555555556,
              "#d8576b"
             ],
             [
              0.6666666666666666,
              "#ed7953"
             ],
             [
              0.7777777777777778,
              "#fb9f3a"
             ],
             [
              0.8888888888888888,
              "#fdca26"
             ],
             [
              1,
              "#f0f921"
             ]
            ],
            "type": "contour"
           }
          ],
          "contourcarpet": [
           {
            "colorbar": {
             "outlinewidth": 0,
             "ticks": ""
            },
            "type": "contourcarpet"
           }
          ],
          "heatmap": [
           {
            "colorbar": {
             "outlinewidth": 0,
             "ticks": ""
            },
            "colorscale": [
             [
              0,
              "#0d0887"
             ],
             [
              0.1111111111111111,
              "#46039f"
             ],
             [
              0.2222222222222222,
              "#7201a8"
             ],
             [
              0.3333333333333333,
              "#9c179e"
             ],
             [
              0.4444444444444444,
              "#bd3786"
             ],
             [
              0.5555555555555556,
              "#d8576b"
             ],
             [
              0.6666666666666666,
              "#ed7953"
             ],
             [
              0.7777777777777778,
              "#fb9f3a"
             ],
             [
              0.8888888888888888,
              "#fdca26"
             ],
             [
              1,
              "#f0f921"
             ]
            ],
            "type": "heatmap"
           }
          ],
          "heatmapgl": [
           {
            "colorbar": {
             "outlinewidth": 0,
             "ticks": ""
            },
            "colorscale": [
             [
              0,
              "#0d0887"
             ],
             [
              0.1111111111111111,
              "#46039f"
             ],
             [
              0.2222222222222222,
              "#7201a8"
             ],
             [
              0.3333333333333333,
              "#9c179e"
             ],
             [
              0.4444444444444444,
              "#bd3786"
             ],
             [
              0.5555555555555556,
              "#d8576b"
             ],
             [
              0.6666666666666666,
              "#ed7953"
             ],
             [
              0.7777777777777778,
              "#fb9f3a"
             ],
             [
              0.8888888888888888,
              "#fdca26"
             ],
             [
              1,
              "#f0f921"
             ]
            ],
            "type": "heatmapgl"
           }
          ],
          "histogram": [
           {
            "marker": {
             "pattern": {
              "fillmode": "overlay",
              "size": 10,
              "solidity": 0.2
             }
            },
            "type": "histogram"
           }
          ],
          "histogram2d": [
           {
            "colorbar": {
             "outlinewidth": 0,
             "ticks": ""
            },
            "colorscale": [
             [
              0,
              "#0d0887"
             ],
             [
              0.1111111111111111,
              "#46039f"
             ],
             [
              0.2222222222222222,
              "#7201a8"
             ],
             [
              0.3333333333333333,
              "#9c179e"
             ],
             [
              0.4444444444444444,
              "#bd3786"
             ],
             [
              0.5555555555555556,
              "#d8576b"
             ],
             [
              0.6666666666666666,
              "#ed7953"
             ],
             [
              0.7777777777777778,
              "#fb9f3a"
             ],
             [
              0.8888888888888888,
              "#fdca26"
             ],
             [
              1,
              "#f0f921"
             ]
            ],
            "type": "histogram2d"
           }
          ],
          "histogram2dcontour": [
           {
            "colorbar": {
             "outlinewidth": 0,
             "ticks": ""
            },
            "colorscale": [
             [
              0,
              "#0d0887"
             ],
             [
              0.1111111111111111,
              "#46039f"
             ],
             [
              0.2222222222222222,
              "#7201a8"
             ],
             [
              0.3333333333333333,
              "#9c179e"
             ],
             [
              0.4444444444444444,
              "#bd3786"
             ],
             [
              0.5555555555555556,
              "#d8576b"
             ],
             [
              0.6666666666666666,
              "#ed7953"
             ],
             [
              0.7777777777777778,
              "#fb9f3a"
             ],
             [
              0.8888888888888888,
              "#fdca26"
             ],
             [
              1,
              "#f0f921"
             ]
            ],
            "type": "histogram2dcontour"
           }
          ],
          "mesh3d": [
           {
            "colorbar": {
             "outlinewidth": 0,
             "ticks": ""
            },
            "type": "mesh3d"
           }
          ],
          "parcoords": [
           {
            "line": {
             "colorbar": {
              "outlinewidth": 0,
              "ticks": ""
             }
            },
            "type": "parcoords"
           }
          ],
          "pie": [
           {
            "automargin": true,
            "type": "pie"
           }
          ],
          "scatter": [
           {
            "fillpattern": {
             "fillmode": "overlay",
             "size": 10,
             "solidity": 0.2
            },
            "type": "scatter"
           }
          ],
          "scatter3d": [
           {
            "line": {
             "colorbar": {
              "outlinewidth": 0,
              "ticks": ""
             }
            },
            "marker": {
             "colorbar": {
              "outlinewidth": 0,
              "ticks": ""
             }
            },
            "type": "scatter3d"
           }
          ],
          "scattercarpet": [
           {
            "marker": {
             "colorbar": {
              "outlinewidth": 0,
              "ticks": ""
             }
            },
            "type": "scattercarpet"
           }
          ],
          "scattergeo": [
           {
            "marker": {
             "colorbar": {
              "outlinewidth": 0,
              "ticks": ""
             }
            },
            "type": "scattergeo"
           }
          ],
          "scattergl": [
           {
            "marker": {
             "colorbar": {
              "outlinewidth": 0,
              "ticks": ""
             }
            },
            "type": "scattergl"
           }
          ],
          "scattermapbox": [
           {
            "marker": {
             "colorbar": {
              "outlinewidth": 0,
              "ticks": ""
             }
            },
            "type": "scattermapbox"
           }
          ],
          "scatterpolar": [
           {
            "marker": {
             "colorbar": {
              "outlinewidth": 0,
              "ticks": ""
             }
            },
            "type": "scatterpolar"
           }
          ],
          "scatterpolargl": [
           {
            "marker": {
             "colorbar": {
              "outlinewidth": 0,
              "ticks": ""
             }
            },
            "type": "scatterpolargl"
           }
          ],
          "scatterternary": [
           {
            "marker": {
             "colorbar": {
              "outlinewidth": 0,
              "ticks": ""
             }
            },
            "type": "scatterternary"
           }
          ],
          "surface": [
           {
            "colorbar": {
             "outlinewidth": 0,
             "ticks": ""
            },
            "colorscale": [
             [
              0,
              "#0d0887"
             ],
             [
              0.1111111111111111,
              "#46039f"
             ],
             [
              0.2222222222222222,
              "#7201a8"
             ],
             [
              0.3333333333333333,
              "#9c179e"
             ],
             [
              0.4444444444444444,
              "#bd3786"
             ],
             [
              0.5555555555555556,
              "#d8576b"
             ],
             [
              0.6666666666666666,
              "#ed7953"
             ],
             [
              0.7777777777777778,
              "#fb9f3a"
             ],
             [
              0.8888888888888888,
              "#fdca26"
             ],
             [
              1,
              "#f0f921"
             ]
            ],
            "type": "surface"
           }
          ],
          "table": [
           {
            "cells": {
             "fill": {
              "color": "#EBF0F8"
             },
             "line": {
              "color": "white"
             }
            },
            "header": {
             "fill": {
              "color": "#C8D4E3"
             },
             "line": {
              "color": "white"
             }
            },
            "type": "table"
           }
          ]
         },
         "layout": {
          "annotationdefaults": {
           "arrowcolor": "#2a3f5f",
           "arrowhead": 0,
           "arrowwidth": 1
          },
          "autotypenumbers": "strict",
          "coloraxis": {
           "colorbar": {
            "outlinewidth": 0,
            "ticks": ""
           }
          },
          "colorscale": {
           "diverging": [
            [
             0,
             "#8e0152"
            ],
            [
             0.1,
             "#c51b7d"
            ],
            [
             0.2,
             "#de77ae"
            ],
            [
             0.3,
             "#f1b6da"
            ],
            [
             0.4,
             "#fde0ef"
            ],
            [
             0.5,
             "#f7f7f7"
            ],
            [
             0.6,
             "#e6f5d0"
            ],
            [
             0.7,
             "#b8e186"
            ],
            [
             0.8,
             "#7fbc41"
            ],
            [
             0.9,
             "#4d9221"
            ],
            [
             1,
             "#276419"
            ]
           ],
           "sequential": [
            [
             0,
             "#0d0887"
            ],
            [
             0.1111111111111111,
             "#46039f"
            ],
            [
             0.2222222222222222,
             "#7201a8"
            ],
            [
             0.3333333333333333,
             "#9c179e"
            ],
            [
             0.4444444444444444,
             "#bd3786"
            ],
            [
             0.5555555555555556,
             "#d8576b"
            ],
            [
             0.6666666666666666,
             "#ed7953"
            ],
            [
             0.7777777777777778,
             "#fb9f3a"
            ],
            [
             0.8888888888888888,
             "#fdca26"
            ],
            [
             1,
             "#f0f921"
            ]
           ],
           "sequentialminus": [
            [
             0,
             "#0d0887"
            ],
            [
             0.1111111111111111,
             "#46039f"
            ],
            [
             0.2222222222222222,
             "#7201a8"
            ],
            [
             0.3333333333333333,
             "#9c179e"
            ],
            [
             0.4444444444444444,
             "#bd3786"
            ],
            [
             0.5555555555555556,
             "#d8576b"
            ],
            [
             0.6666666666666666,
             "#ed7953"
            ],
            [
             0.7777777777777778,
             "#fb9f3a"
            ],
            [
             0.8888888888888888,
             "#fdca26"
            ],
            [
             1,
             "#f0f921"
            ]
           ]
          },
          "colorway": [
           "#636efa",
           "#EF553B",
           "#00cc96",
           "#ab63fa",
           "#FFA15A",
           "#19d3f3",
           "#FF6692",
           "#B6E880",
           "#FF97FF",
           "#FECB52"
          ],
          "font": {
           "color": "#2a3f5f"
          },
          "geo": {
           "bgcolor": "white",
           "lakecolor": "white",
           "landcolor": "#E5ECF6",
           "showlakes": true,
           "showland": true,
           "subunitcolor": "white"
          },
          "hoverlabel": {
           "align": "left"
          },
          "hovermode": "closest",
          "mapbox": {
           "style": "light"
          },
          "paper_bgcolor": "white",
          "plot_bgcolor": "#E5ECF6",
          "polar": {
           "angularaxis": {
            "gridcolor": "white",
            "linecolor": "white",
            "ticks": ""
           },
           "bgcolor": "#E5ECF6",
           "radialaxis": {
            "gridcolor": "white",
            "linecolor": "white",
            "ticks": ""
           }
          },
          "scene": {
           "xaxis": {
            "backgroundcolor": "#E5ECF6",
            "gridcolor": "white",
            "gridwidth": 2,
            "linecolor": "white",
            "showbackground": true,
            "ticks": "",
            "zerolinecolor": "white"
           },
           "yaxis": {
            "backgroundcolor": "#E5ECF6",
            "gridcolor": "white",
            "gridwidth": 2,
            "linecolor": "white",
            "showbackground": true,
            "ticks": "",
            "zerolinecolor": "white"
           },
           "zaxis": {
            "backgroundcolor": "#E5ECF6",
            "gridcolor": "white",
            "gridwidth": 2,
            "linecolor": "white",
            "showbackground": true,
            "ticks": "",
            "zerolinecolor": "white"
           }
          },
          "shapedefaults": {
           "line": {
            "color": "#2a3f5f"
           }
          },
          "ternary": {
           "aaxis": {
            "gridcolor": "white",
            "linecolor": "white",
            "ticks": ""
           },
           "baxis": {
            "gridcolor": "white",
            "linecolor": "white",
            "ticks": ""
           },
           "bgcolor": "#E5ECF6",
           "caxis": {
            "gridcolor": "white",
            "linecolor": "white",
            "ticks": ""
           }
          },
          "title": {
           "x": 0.05
          },
          "xaxis": {
           "automargin": true,
           "gridcolor": "white",
           "linecolor": "white",
           "ticks": "",
           "title": {
            "standoff": 15
           },
           "zerolinecolor": "white",
           "zerolinewidth": 2
          },
          "yaxis": {
           "automargin": true,
           "gridcolor": "white",
           "linecolor": "white",
           "ticks": "",
           "title": {
            "standoff": 15
           },
           "zerolinecolor": "white",
           "zerolinewidth": 2
          }
         }
        },
        "title": {
         "text": "is_rolu Count and Percentage"
        },
        "xaxis": {
         "anchor": "y",
         "domain": [
          0,
          1
         ],
         "title": {
          "text": "is_rolu"
         }
        },
        "yaxis": {
         "anchor": "x",
         "domain": [
          0,
          1
         ],
         "title": {
          "text": "Count"
         }
        }
       }
      }
     },
     "metadata": {},
     "output_type": "display_data"
    },
    {
     "data": {
      "application/vnd.plotly.v1+json": {
       "config": {
        "plotlyServerURL": "https://plot.ly"
       },
       "data": [
        {
         "alignmentgroup": "True",
         "hovertemplate": "medeni_durum=%{x}<br>Count=%{y}<br>Percentage=%{text}<extra></extra>",
         "legendgroup": "",
         "marker": {
          "color": "#636efa",
          "pattern": {
           "shape": ""
          }
         },
         "name": "",
         "offsetgroup": "",
         "orientation": "v",
         "showlegend": false,
         "text": [
          45.78,
          31.97,
          22.24
         ],
         "textposition": "auto",
         "type": "bar",
         "x": [
          "Evli",
          "Bekar",
          "Bosanmis"
         ],
         "xaxis": "x",
         "y": [
          673,
          470,
          327
         ],
         "yaxis": "y"
        }
       ],
       "layout": {
        "barmode": "relative",
        "legend": {
         "tracegroupgap": 0
        },
        "template": {
         "data": {
          "bar": [
           {
            "error_x": {
             "color": "#2a3f5f"
            },
            "error_y": {
             "color": "#2a3f5f"
            },
            "marker": {
             "line": {
              "color": "#E5ECF6",
              "width": 0.5
             },
             "pattern": {
              "fillmode": "overlay",
              "size": 10,
              "solidity": 0.2
             }
            },
            "type": "bar"
           }
          ],
          "barpolar": [
           {
            "marker": {
             "line": {
              "color": "#E5ECF6",
              "width": 0.5
             },
             "pattern": {
              "fillmode": "overlay",
              "size": 10,
              "solidity": 0.2
             }
            },
            "type": "barpolar"
           }
          ],
          "carpet": [
           {
            "aaxis": {
             "endlinecolor": "#2a3f5f",
             "gridcolor": "white",
             "linecolor": "white",
             "minorgridcolor": "white",
             "startlinecolor": "#2a3f5f"
            },
            "baxis": {
             "endlinecolor": "#2a3f5f",
             "gridcolor": "white",
             "linecolor": "white",
             "minorgridcolor": "white",
             "startlinecolor": "#2a3f5f"
            },
            "type": "carpet"
           }
          ],
          "choropleth": [
           {
            "colorbar": {
             "outlinewidth": 0,
             "ticks": ""
            },
            "type": "choropleth"
           }
          ],
          "contour": [
           {
            "colorbar": {
             "outlinewidth": 0,
             "ticks": ""
            },
            "colorscale": [
             [
              0,
              "#0d0887"
             ],
             [
              0.1111111111111111,
              "#46039f"
             ],
             [
              0.2222222222222222,
              "#7201a8"
             ],
             [
              0.3333333333333333,
              "#9c179e"
             ],
             [
              0.4444444444444444,
              "#bd3786"
             ],
             [
              0.5555555555555556,
              "#d8576b"
             ],
             [
              0.6666666666666666,
              "#ed7953"
             ],
             [
              0.7777777777777778,
              "#fb9f3a"
             ],
             [
              0.8888888888888888,
              "#fdca26"
             ],
             [
              1,
              "#f0f921"
             ]
            ],
            "type": "contour"
           }
          ],
          "contourcarpet": [
           {
            "colorbar": {
             "outlinewidth": 0,
             "ticks": ""
            },
            "type": "contourcarpet"
           }
          ],
          "heatmap": [
           {
            "colorbar": {
             "outlinewidth": 0,
             "ticks": ""
            },
            "colorscale": [
             [
              0,
              "#0d0887"
             ],
             [
              0.1111111111111111,
              "#46039f"
             ],
             [
              0.2222222222222222,
              "#7201a8"
             ],
             [
              0.3333333333333333,
              "#9c179e"
             ],
             [
              0.4444444444444444,
              "#bd3786"
             ],
             [
              0.5555555555555556,
              "#d8576b"
             ],
             [
              0.6666666666666666,
              "#ed7953"
             ],
             [
              0.7777777777777778,
              "#fb9f3a"
             ],
             [
              0.8888888888888888,
              "#fdca26"
             ],
             [
              1,
              "#f0f921"
             ]
            ],
            "type": "heatmap"
           }
          ],
          "heatmapgl": [
           {
            "colorbar": {
             "outlinewidth": 0,
             "ticks": ""
            },
            "colorscale": [
             [
              0,
              "#0d0887"
             ],
             [
              0.1111111111111111,
              "#46039f"
             ],
             [
              0.2222222222222222,
              "#7201a8"
             ],
             [
              0.3333333333333333,
              "#9c179e"
             ],
             [
              0.4444444444444444,
              "#bd3786"
             ],
             [
              0.5555555555555556,
              "#d8576b"
             ],
             [
              0.6666666666666666,
              "#ed7953"
             ],
             [
              0.7777777777777778,
              "#fb9f3a"
             ],
             [
              0.8888888888888888,
              "#fdca26"
             ],
             [
              1,
              "#f0f921"
             ]
            ],
            "type": "heatmapgl"
           }
          ],
          "histogram": [
           {
            "marker": {
             "pattern": {
              "fillmode": "overlay",
              "size": 10,
              "solidity": 0.2
             }
            },
            "type": "histogram"
           }
          ],
          "histogram2d": [
           {
            "colorbar": {
             "outlinewidth": 0,
             "ticks": ""
            },
            "colorscale": [
             [
              0,
              "#0d0887"
             ],
             [
              0.1111111111111111,
              "#46039f"
             ],
             [
              0.2222222222222222,
              "#7201a8"
             ],
             [
              0.3333333333333333,
              "#9c179e"
             ],
             [
              0.4444444444444444,
              "#bd3786"
             ],
             [
              0.5555555555555556,
              "#d8576b"
             ],
             [
              0.6666666666666666,
              "#ed7953"
             ],
             [
              0.7777777777777778,
              "#fb9f3a"
             ],
             [
              0.8888888888888888,
              "#fdca26"
             ],
             [
              1,
              "#f0f921"
             ]
            ],
            "type": "histogram2d"
           }
          ],
          "histogram2dcontour": [
           {
            "colorbar": {
             "outlinewidth": 0,
             "ticks": ""
            },
            "colorscale": [
             [
              0,
              "#0d0887"
             ],
             [
              0.1111111111111111,
              "#46039f"
             ],
             [
              0.2222222222222222,
              "#7201a8"
             ],
             [
              0.3333333333333333,
              "#9c179e"
             ],
             [
              0.4444444444444444,
              "#bd3786"
             ],
             [
              0.5555555555555556,
              "#d8576b"
             ],
             [
              0.6666666666666666,
              "#ed7953"
             ],
             [
              0.7777777777777778,
              "#fb9f3a"
             ],
             [
              0.8888888888888888,
              "#fdca26"
             ],
             [
              1,
              "#f0f921"
             ]
            ],
            "type": "histogram2dcontour"
           }
          ],
          "mesh3d": [
           {
            "colorbar": {
             "outlinewidth": 0,
             "ticks": ""
            },
            "type": "mesh3d"
           }
          ],
          "parcoords": [
           {
            "line": {
             "colorbar": {
              "outlinewidth": 0,
              "ticks": ""
             }
            },
            "type": "parcoords"
           }
          ],
          "pie": [
           {
            "automargin": true,
            "type": "pie"
           }
          ],
          "scatter": [
           {
            "fillpattern": {
             "fillmode": "overlay",
             "size": 10,
             "solidity": 0.2
            },
            "type": "scatter"
           }
          ],
          "scatter3d": [
           {
            "line": {
             "colorbar": {
              "outlinewidth": 0,
              "ticks": ""
             }
            },
            "marker": {
             "colorbar": {
              "outlinewidth": 0,
              "ticks": ""
             }
            },
            "type": "scatter3d"
           }
          ],
          "scattercarpet": [
           {
            "marker": {
             "colorbar": {
              "outlinewidth": 0,
              "ticks": ""
             }
            },
            "type": "scattercarpet"
           }
          ],
          "scattergeo": [
           {
            "marker": {
             "colorbar": {
              "outlinewidth": 0,
              "ticks": ""
             }
            },
            "type": "scattergeo"
           }
          ],
          "scattergl": [
           {
            "marker": {
             "colorbar": {
              "outlinewidth": 0,
              "ticks": ""
             }
            },
            "type": "scattergl"
           }
          ],
          "scattermapbox": [
           {
            "marker": {
             "colorbar": {
              "outlinewidth": 0,
              "ticks": ""
             }
            },
            "type": "scattermapbox"
           }
          ],
          "scatterpolar": [
           {
            "marker": {
             "colorbar": {
              "outlinewidth": 0,
              "ticks": ""
             }
            },
            "type": "scatterpolar"
           }
          ],
          "scatterpolargl": [
           {
            "marker": {
             "colorbar": {
              "outlinewidth": 0,
              "ticks": ""
             }
            },
            "type": "scatterpolargl"
           }
          ],
          "scatterternary": [
           {
            "marker": {
             "colorbar": {
              "outlinewidth": 0,
              "ticks": ""
             }
            },
            "type": "scatterternary"
           }
          ],
          "surface": [
           {
            "colorbar": {
             "outlinewidth": 0,
             "ticks": ""
            },
            "colorscale": [
             [
              0,
              "#0d0887"
             ],
             [
              0.1111111111111111,
              "#46039f"
             ],
             [
              0.2222222222222222,
              "#7201a8"
             ],
             [
              0.3333333333333333,
              "#9c179e"
             ],
             [
              0.4444444444444444,
              "#bd3786"
             ],
             [
              0.5555555555555556,
              "#d8576b"
             ],
             [
              0.6666666666666666,
              "#ed7953"
             ],
             [
              0.7777777777777778,
              "#fb9f3a"
             ],
             [
              0.8888888888888888,
              "#fdca26"
             ],
             [
              1,
              "#f0f921"
             ]
            ],
            "type": "surface"
           }
          ],
          "table": [
           {
            "cells": {
             "fill": {
              "color": "#EBF0F8"
             },
             "line": {
              "color": "white"
             }
            },
            "header": {
             "fill": {
              "color": "#C8D4E3"
             },
             "line": {
              "color": "white"
             }
            },
            "type": "table"
           }
          ]
         },
         "layout": {
          "annotationdefaults": {
           "arrowcolor": "#2a3f5f",
           "arrowhead": 0,
           "arrowwidth": 1
          },
          "autotypenumbers": "strict",
          "coloraxis": {
           "colorbar": {
            "outlinewidth": 0,
            "ticks": ""
           }
          },
          "colorscale": {
           "diverging": [
            [
             0,
             "#8e0152"
            ],
            [
             0.1,
             "#c51b7d"
            ],
            [
             0.2,
             "#de77ae"
            ],
            [
             0.3,
             "#f1b6da"
            ],
            [
             0.4,
             "#fde0ef"
            ],
            [
             0.5,
             "#f7f7f7"
            ],
            [
             0.6,
             "#e6f5d0"
            ],
            [
             0.7,
             "#b8e186"
            ],
            [
             0.8,
             "#7fbc41"
            ],
            [
             0.9,
             "#4d9221"
            ],
            [
             1,
             "#276419"
            ]
           ],
           "sequential": [
            [
             0,
             "#0d0887"
            ],
            [
             0.1111111111111111,
             "#46039f"
            ],
            [
             0.2222222222222222,
             "#7201a8"
            ],
            [
             0.3333333333333333,
             "#9c179e"
            ],
            [
             0.4444444444444444,
             "#bd3786"
            ],
            [
             0.5555555555555556,
             "#d8576b"
            ],
            [
             0.6666666666666666,
             "#ed7953"
            ],
            [
             0.7777777777777778,
             "#fb9f3a"
            ],
            [
             0.8888888888888888,
             "#fdca26"
            ],
            [
             1,
             "#f0f921"
            ]
           ],
           "sequentialminus": [
            [
             0,
             "#0d0887"
            ],
            [
             0.1111111111111111,
             "#46039f"
            ],
            [
             0.2222222222222222,
             "#7201a8"
            ],
            [
             0.3333333333333333,
             "#9c179e"
            ],
            [
             0.4444444444444444,
             "#bd3786"
            ],
            [
             0.5555555555555556,
             "#d8576b"
            ],
            [
             0.6666666666666666,
             "#ed7953"
            ],
            [
             0.7777777777777778,
             "#fb9f3a"
            ],
            [
             0.8888888888888888,
             "#fdca26"
            ],
            [
             1,
             "#f0f921"
            ]
           ]
          },
          "colorway": [
           "#636efa",
           "#EF553B",
           "#00cc96",
           "#ab63fa",
           "#FFA15A",
           "#19d3f3",
           "#FF6692",
           "#B6E880",
           "#FF97FF",
           "#FECB52"
          ],
          "font": {
           "color": "#2a3f5f"
          },
          "geo": {
           "bgcolor": "white",
           "lakecolor": "white",
           "landcolor": "#E5ECF6",
           "showlakes": true,
           "showland": true,
           "subunitcolor": "white"
          },
          "hoverlabel": {
           "align": "left"
          },
          "hovermode": "closest",
          "mapbox": {
           "style": "light"
          },
          "paper_bgcolor": "white",
          "plot_bgcolor": "#E5ECF6",
          "polar": {
           "angularaxis": {
            "gridcolor": "white",
            "linecolor": "white",
            "ticks": ""
           },
           "bgcolor": "#E5ECF6",
           "radialaxis": {
            "gridcolor": "white",
            "linecolor": "white",
            "ticks": ""
           }
          },
          "scene": {
           "xaxis": {
            "backgroundcolor": "#E5ECF6",
            "gridcolor": "white",
            "gridwidth": 2,
            "linecolor": "white",
            "showbackground": true,
            "ticks": "",
            "zerolinecolor": "white"
           },
           "yaxis": {
            "backgroundcolor": "#E5ECF6",
            "gridcolor": "white",
            "gridwidth": 2,
            "linecolor": "white",
            "showbackground": true,
            "ticks": "",
            "zerolinecolor": "white"
           },
           "zaxis": {
            "backgroundcolor": "#E5ECF6",
            "gridcolor": "white",
            "gridwidth": 2,
            "linecolor": "white",
            "showbackground": true,
            "ticks": "",
            "zerolinecolor": "white"
           }
          },
          "shapedefaults": {
           "line": {
            "color": "#2a3f5f"
           }
          },
          "ternary": {
           "aaxis": {
            "gridcolor": "white",
            "linecolor": "white",
            "ticks": ""
           },
           "baxis": {
            "gridcolor": "white",
            "linecolor": "white",
            "ticks": ""
           },
           "bgcolor": "#E5ECF6",
           "caxis": {
            "gridcolor": "white",
            "linecolor": "white",
            "ticks": ""
           }
          },
          "title": {
           "x": 0.05
          },
          "xaxis": {
           "automargin": true,
           "gridcolor": "white",
           "linecolor": "white",
           "ticks": "",
           "title": {
            "standoff": 15
           },
           "zerolinecolor": "white",
           "zerolinewidth": 2
          },
          "yaxis": {
           "automargin": true,
           "gridcolor": "white",
           "linecolor": "white",
           "ticks": "",
           "title": {
            "standoff": 15
           },
           "zerolinecolor": "white",
           "zerolinewidth": 2
          }
         }
        },
        "title": {
         "text": "medeni_durum Count and Percentage"
        },
        "xaxis": {
         "anchor": "y",
         "domain": [
          0,
          1
         ],
         "title": {
          "text": "medeni_durum"
         }
        },
        "yaxis": {
         "anchor": "x",
         "domain": [
          0,
          1
         ],
         "title": {
          "text": "Count"
         }
        }
       }
      }
     },
     "metadata": {},
     "output_type": "display_data"
    },
    {
     "data": {
      "application/vnd.plotly.v1+json": {
       "config": {
        "plotlyServerURL": "https://plot.ly"
       },
       "data": [
        {
         "alignmentgroup": "True",
         "hovertemplate": "fazla_mesai=%{x}<br>Count=%{y}<br>Percentage=%{text}<extra></extra>",
         "legendgroup": "",
         "marker": {
          "color": "#636efa",
          "pattern": {
           "shape": ""
          }
         },
         "name": "",
         "offsetgroup": "",
         "orientation": "v",
         "showlegend": false,
         "text": [
          71.7,
          28.3
         ],
         "textposition": "auto",
         "type": "bar",
         "x": [
          "Hayir",
          "Evet"
         ],
         "xaxis": "x",
         "y": [
          1054,
          416
         ],
         "yaxis": "y"
        }
       ],
       "layout": {
        "barmode": "relative",
        "legend": {
         "tracegroupgap": 0
        },
        "template": {
         "data": {
          "bar": [
           {
            "error_x": {
             "color": "#2a3f5f"
            },
            "error_y": {
             "color": "#2a3f5f"
            },
            "marker": {
             "line": {
              "color": "#E5ECF6",
              "width": 0.5
             },
             "pattern": {
              "fillmode": "overlay",
              "size": 10,
              "solidity": 0.2
             }
            },
            "type": "bar"
           }
          ],
          "barpolar": [
           {
            "marker": {
             "line": {
              "color": "#E5ECF6",
              "width": 0.5
             },
             "pattern": {
              "fillmode": "overlay",
              "size": 10,
              "solidity": 0.2
             }
            },
            "type": "barpolar"
           }
          ],
          "carpet": [
           {
            "aaxis": {
             "endlinecolor": "#2a3f5f",
             "gridcolor": "white",
             "linecolor": "white",
             "minorgridcolor": "white",
             "startlinecolor": "#2a3f5f"
            },
            "baxis": {
             "endlinecolor": "#2a3f5f",
             "gridcolor": "white",
             "linecolor": "white",
             "minorgridcolor": "white",
             "startlinecolor": "#2a3f5f"
            },
            "type": "carpet"
           }
          ],
          "choropleth": [
           {
            "colorbar": {
             "outlinewidth": 0,
             "ticks": ""
            },
            "type": "choropleth"
           }
          ],
          "contour": [
           {
            "colorbar": {
             "outlinewidth": 0,
             "ticks": ""
            },
            "colorscale": [
             [
              0,
              "#0d0887"
             ],
             [
              0.1111111111111111,
              "#46039f"
             ],
             [
              0.2222222222222222,
              "#7201a8"
             ],
             [
              0.3333333333333333,
              "#9c179e"
             ],
             [
              0.4444444444444444,
              "#bd3786"
             ],
             [
              0.5555555555555556,
              "#d8576b"
             ],
             [
              0.6666666666666666,
              "#ed7953"
             ],
             [
              0.7777777777777778,
              "#fb9f3a"
             ],
             [
              0.8888888888888888,
              "#fdca26"
             ],
             [
              1,
              "#f0f921"
             ]
            ],
            "type": "contour"
           }
          ],
          "contourcarpet": [
           {
            "colorbar": {
             "outlinewidth": 0,
             "ticks": ""
            },
            "type": "contourcarpet"
           }
          ],
          "heatmap": [
           {
            "colorbar": {
             "outlinewidth": 0,
             "ticks": ""
            },
            "colorscale": [
             [
              0,
              "#0d0887"
             ],
             [
              0.1111111111111111,
              "#46039f"
             ],
             [
              0.2222222222222222,
              "#7201a8"
             ],
             [
              0.3333333333333333,
              "#9c179e"
             ],
             [
              0.4444444444444444,
              "#bd3786"
             ],
             [
              0.5555555555555556,
              "#d8576b"
             ],
             [
              0.6666666666666666,
              "#ed7953"
             ],
             [
              0.7777777777777778,
              "#fb9f3a"
             ],
             [
              0.8888888888888888,
              "#fdca26"
             ],
             [
              1,
              "#f0f921"
             ]
            ],
            "type": "heatmap"
           }
          ],
          "heatmapgl": [
           {
            "colorbar": {
             "outlinewidth": 0,
             "ticks": ""
            },
            "colorscale": [
             [
              0,
              "#0d0887"
             ],
             [
              0.1111111111111111,
              "#46039f"
             ],
             [
              0.2222222222222222,
              "#7201a8"
             ],
             [
              0.3333333333333333,
              "#9c179e"
             ],
             [
              0.4444444444444444,
              "#bd3786"
             ],
             [
              0.5555555555555556,
              "#d8576b"
             ],
             [
              0.6666666666666666,
              "#ed7953"
             ],
             [
              0.7777777777777778,
              "#fb9f3a"
             ],
             [
              0.8888888888888888,
              "#fdca26"
             ],
             [
              1,
              "#f0f921"
             ]
            ],
            "type": "heatmapgl"
           }
          ],
          "histogram": [
           {
            "marker": {
             "pattern": {
              "fillmode": "overlay",
              "size": 10,
              "solidity": 0.2
             }
            },
            "type": "histogram"
           }
          ],
          "histogram2d": [
           {
            "colorbar": {
             "outlinewidth": 0,
             "ticks": ""
            },
            "colorscale": [
             [
              0,
              "#0d0887"
             ],
             [
              0.1111111111111111,
              "#46039f"
             ],
             [
              0.2222222222222222,
              "#7201a8"
             ],
             [
              0.3333333333333333,
              "#9c179e"
             ],
             [
              0.4444444444444444,
              "#bd3786"
             ],
             [
              0.5555555555555556,
              "#d8576b"
             ],
             [
              0.6666666666666666,
              "#ed7953"
             ],
             [
              0.7777777777777778,
              "#fb9f3a"
             ],
             [
              0.8888888888888888,
              "#fdca26"
             ],
             [
              1,
              "#f0f921"
             ]
            ],
            "type": "histogram2d"
           }
          ],
          "histogram2dcontour": [
           {
            "colorbar": {
             "outlinewidth": 0,
             "ticks": ""
            },
            "colorscale": [
             [
              0,
              "#0d0887"
             ],
             [
              0.1111111111111111,
              "#46039f"
             ],
             [
              0.2222222222222222,
              "#7201a8"
             ],
             [
              0.3333333333333333,
              "#9c179e"
             ],
             [
              0.4444444444444444,
              "#bd3786"
             ],
             [
              0.5555555555555556,
              "#d8576b"
             ],
             [
              0.6666666666666666,
              "#ed7953"
             ],
             [
              0.7777777777777778,
              "#fb9f3a"
             ],
             [
              0.8888888888888888,
              "#fdca26"
             ],
             [
              1,
              "#f0f921"
             ]
            ],
            "type": "histogram2dcontour"
           }
          ],
          "mesh3d": [
           {
            "colorbar": {
             "outlinewidth": 0,
             "ticks": ""
            },
            "type": "mesh3d"
           }
          ],
          "parcoords": [
           {
            "line": {
             "colorbar": {
              "outlinewidth": 0,
              "ticks": ""
             }
            },
            "type": "parcoords"
           }
          ],
          "pie": [
           {
            "automargin": true,
            "type": "pie"
           }
          ],
          "scatter": [
           {
            "fillpattern": {
             "fillmode": "overlay",
             "size": 10,
             "solidity": 0.2
            },
            "type": "scatter"
           }
          ],
          "scatter3d": [
           {
            "line": {
             "colorbar": {
              "outlinewidth": 0,
              "ticks": ""
             }
            },
            "marker": {
             "colorbar": {
              "outlinewidth": 0,
              "ticks": ""
             }
            },
            "type": "scatter3d"
           }
          ],
          "scattercarpet": [
           {
            "marker": {
             "colorbar": {
              "outlinewidth": 0,
              "ticks": ""
             }
            },
            "type": "scattercarpet"
           }
          ],
          "scattergeo": [
           {
            "marker": {
             "colorbar": {
              "outlinewidth": 0,
              "ticks": ""
             }
            },
            "type": "scattergeo"
           }
          ],
          "scattergl": [
           {
            "marker": {
             "colorbar": {
              "outlinewidth": 0,
              "ticks": ""
             }
            },
            "type": "scattergl"
           }
          ],
          "scattermapbox": [
           {
            "marker": {
             "colorbar": {
              "outlinewidth": 0,
              "ticks": ""
             }
            },
            "type": "scattermapbox"
           }
          ],
          "scatterpolar": [
           {
            "marker": {
             "colorbar": {
              "outlinewidth": 0,
              "ticks": ""
             }
            },
            "type": "scatterpolar"
           }
          ],
          "scatterpolargl": [
           {
            "marker": {
             "colorbar": {
              "outlinewidth": 0,
              "ticks": ""
             }
            },
            "type": "scatterpolargl"
           }
          ],
          "scatterternary": [
           {
            "marker": {
             "colorbar": {
              "outlinewidth": 0,
              "ticks": ""
             }
            },
            "type": "scatterternary"
           }
          ],
          "surface": [
           {
            "colorbar": {
             "outlinewidth": 0,
             "ticks": ""
            },
            "colorscale": [
             [
              0,
              "#0d0887"
             ],
             [
              0.1111111111111111,
              "#46039f"
             ],
             [
              0.2222222222222222,
              "#7201a8"
             ],
             [
              0.3333333333333333,
              "#9c179e"
             ],
             [
              0.4444444444444444,
              "#bd3786"
             ],
             [
              0.5555555555555556,
              "#d8576b"
             ],
             [
              0.6666666666666666,
              "#ed7953"
             ],
             [
              0.7777777777777778,
              "#fb9f3a"
             ],
             [
              0.8888888888888888,
              "#fdca26"
             ],
             [
              1,
              "#f0f921"
             ]
            ],
            "type": "surface"
           }
          ],
          "table": [
           {
            "cells": {
             "fill": {
              "color": "#EBF0F8"
             },
             "line": {
              "color": "white"
             }
            },
            "header": {
             "fill": {
              "color": "#C8D4E3"
             },
             "line": {
              "color": "white"
             }
            },
            "type": "table"
           }
          ]
         },
         "layout": {
          "annotationdefaults": {
           "arrowcolor": "#2a3f5f",
           "arrowhead": 0,
           "arrowwidth": 1
          },
          "autotypenumbers": "strict",
          "coloraxis": {
           "colorbar": {
            "outlinewidth": 0,
            "ticks": ""
           }
          },
          "colorscale": {
           "diverging": [
            [
             0,
             "#8e0152"
            ],
            [
             0.1,
             "#c51b7d"
            ],
            [
             0.2,
             "#de77ae"
            ],
            [
             0.3,
             "#f1b6da"
            ],
            [
             0.4,
             "#fde0ef"
            ],
            [
             0.5,
             "#f7f7f7"
            ],
            [
             0.6,
             "#e6f5d0"
            ],
            [
             0.7,
             "#b8e186"
            ],
            [
             0.8,
             "#7fbc41"
            ],
            [
             0.9,
             "#4d9221"
            ],
            [
             1,
             "#276419"
            ]
           ],
           "sequential": [
            [
             0,
             "#0d0887"
            ],
            [
             0.1111111111111111,
             "#46039f"
            ],
            [
             0.2222222222222222,
             "#7201a8"
            ],
            [
             0.3333333333333333,
             "#9c179e"
            ],
            [
             0.4444444444444444,
             "#bd3786"
            ],
            [
             0.5555555555555556,
             "#d8576b"
            ],
            [
             0.6666666666666666,
             "#ed7953"
            ],
            [
             0.7777777777777778,
             "#fb9f3a"
            ],
            [
             0.8888888888888888,
             "#fdca26"
            ],
            [
             1,
             "#f0f921"
            ]
           ],
           "sequentialminus": [
            [
             0,
             "#0d0887"
            ],
            [
             0.1111111111111111,
             "#46039f"
            ],
            [
             0.2222222222222222,
             "#7201a8"
            ],
            [
             0.3333333333333333,
             "#9c179e"
            ],
            [
             0.4444444444444444,
             "#bd3786"
            ],
            [
             0.5555555555555556,
             "#d8576b"
            ],
            [
             0.6666666666666666,
             "#ed7953"
            ],
            [
             0.7777777777777778,
             "#fb9f3a"
            ],
            [
             0.8888888888888888,
             "#fdca26"
            ],
            [
             1,
             "#f0f921"
            ]
           ]
          },
          "colorway": [
           "#636efa",
           "#EF553B",
           "#00cc96",
           "#ab63fa",
           "#FFA15A",
           "#19d3f3",
           "#FF6692",
           "#B6E880",
           "#FF97FF",
           "#FECB52"
          ],
          "font": {
           "color": "#2a3f5f"
          },
          "geo": {
           "bgcolor": "white",
           "lakecolor": "white",
           "landcolor": "#E5ECF6",
           "showlakes": true,
           "showland": true,
           "subunitcolor": "white"
          },
          "hoverlabel": {
           "align": "left"
          },
          "hovermode": "closest",
          "mapbox": {
           "style": "light"
          },
          "paper_bgcolor": "white",
          "plot_bgcolor": "#E5ECF6",
          "polar": {
           "angularaxis": {
            "gridcolor": "white",
            "linecolor": "white",
            "ticks": ""
           },
           "bgcolor": "#E5ECF6",
           "radialaxis": {
            "gridcolor": "white",
            "linecolor": "white",
            "ticks": ""
           }
          },
          "scene": {
           "xaxis": {
            "backgroundcolor": "#E5ECF6",
            "gridcolor": "white",
            "gridwidth": 2,
            "linecolor": "white",
            "showbackground": true,
            "ticks": "",
            "zerolinecolor": "white"
           },
           "yaxis": {
            "backgroundcolor": "#E5ECF6",
            "gridcolor": "white",
            "gridwidth": 2,
            "linecolor": "white",
            "showbackground": true,
            "ticks": "",
            "zerolinecolor": "white"
           },
           "zaxis": {
            "backgroundcolor": "#E5ECF6",
            "gridcolor": "white",
            "gridwidth": 2,
            "linecolor": "white",
            "showbackground": true,
            "ticks": "",
            "zerolinecolor": "white"
           }
          },
          "shapedefaults": {
           "line": {
            "color": "#2a3f5f"
           }
          },
          "ternary": {
           "aaxis": {
            "gridcolor": "white",
            "linecolor": "white",
            "ticks": ""
           },
           "baxis": {
            "gridcolor": "white",
            "linecolor": "white",
            "ticks": ""
           },
           "bgcolor": "#E5ECF6",
           "caxis": {
            "gridcolor": "white",
            "linecolor": "white",
            "ticks": ""
           }
          },
          "title": {
           "x": 0.05
          },
          "xaxis": {
           "automargin": true,
           "gridcolor": "white",
           "linecolor": "white",
           "ticks": "",
           "title": {
            "standoff": 15
           },
           "zerolinecolor": "white",
           "zerolinewidth": 2
          },
          "yaxis": {
           "automargin": true,
           "gridcolor": "white",
           "linecolor": "white",
           "ticks": "",
           "title": {
            "standoff": 15
           },
           "zerolinecolor": "white",
           "zerolinewidth": 2
          }
         }
        },
        "title": {
         "text": "fazla_mesai Count and Percentage"
        },
        "xaxis": {
         "anchor": "y",
         "domain": [
          0,
          1
         ],
         "title": {
          "text": "fazla_mesai"
         }
        },
        "yaxis": {
         "anchor": "x",
         "domain": [
          0,
          1
         ],
         "title": {
          "text": "Count"
         }
        }
       }
      }
     },
     "metadata": {},
     "output_type": "display_data"
    }
   ],
   "source": [
    "for col in cat_cols:\n",
    "    cat_summary_plotly(df, col)"
   ]
  },
  {
   "cell_type": "markdown",
   "id": "c5d8a705",
   "metadata": {},
   "source": [
    "# **Sayısal Değişken Analizi**\n"
   ]
  },
  {
   "cell_type": "code",
   "execution_count": 10,
   "id": "0f1eb24e",
   "metadata": {},
   "outputs": [
    {
     "data": {
      "application/vnd.plotly.v1+json": {
       "config": {
        "plotlyServerURL": "https://plot.ly"
       },
       "data": [
        {
         "alignmentgroup": "True",
         "bingroup": "x",
         "hovertemplate": "yas=%{x}<br>count=%{y}<extra></extra>",
         "legendgroup": "",
         "marker": {
          "color": "#636efa",
          "pattern": {
           "shape": ""
          }
         },
         "name": "",
         "nbinsx": 30,
         "offsetgroup": "",
         "orientation": "v",
         "showlegend": false,
         "type": "histogram",
         "x": [
          41,
          49,
          37,
          33,
          27,
          32,
          59,
          30,
          38,
          36,
          35,
          29,
          31,
          34,
          28,
          29,
          32,
          22,
          53,
          38,
          24,
          36,
          34,
          21,
          34,
          53,
          32,
          42,
          44,
          46,
          33,
          44,
          30,
          39,
          24,
          43,
          50,
          35,
          36,
          33,
          35,
          27,
          26,
          27,
          30,
          41,
          34,
          37,
          46,
          35,
          48,
          28,
          44,
          35,
          26,
          33,
          35,
          35,
          31,
          37,
          32,
          38,
          50,
          59,
          36,
          55,
          36,
          45,
          35,
          36,
          59,
          29,
          31,
          32,
          36,
          31,
          35,
          45,
          37,
          46,
          30,
          35,
          55,
          38,
          34,
          56,
          23,
          51,
          30,
          46,
          40,
          51,
          30,
          46,
          32,
          54,
          24,
          28,
          58,
          44,
          37,
          32,
          20,
          34,
          37,
          59,
          50,
          25,
          25,
          22,
          51,
          34,
          54,
          24,
          34,
          37,
          34,
          36,
          36,
          43,
          30,
          33,
          56,
          51,
          31,
          26,
          58,
          19,
          22,
          49,
          43,
          50,
          31,
          41,
          26,
          36,
          51,
          39,
          25,
          30,
          32,
          45,
          38,
          30,
          32,
          30,
          30,
          41,
          41,
          19,
          40,
          35,
          53,
          45,
          32,
          29,
          51,
          58,
          40,
          34,
          22,
          27,
          28,
          57,
          27,
          50,
          41,
          30,
          38,
          32,
          27,
          19,
          36,
          30,
          45,
          56,
          33,
          19,
          46,
          38,
          31,
          34,
          41,
          50,
          53,
          33,
          40,
          55,
          34,
          51,
          52,
          27,
          35,
          43,
          45,
          37,
          35,
          42,
          38,
          38,
          27,
          49,
          34,
          40,
          38,
          29,
          22,
          36,
          40,
          46,
          32,
          30,
          27,
          51,
          30,
          41,
          30,
          29,
          45,
          54,
          36,
          33,
          37,
          38,
          31,
          59,
          37,
          29,
          35,
          29,
          52,
          42,
          59,
          50,
          33,
          43,
          33,
          52,
          32,
          32,
          39,
          32,
          41,
          40,
          45,
          31,
          33,
          34,
          37,
          45,
          37,
          39,
          29,
          42,
          29,
          25,
          42,
          40,
          51,
          31,
          32,
          38,
          32,
          46,
          28,
          29,
          31,
          25,
          45,
          36,
          55,
          47,
          28,
          37,
          21,
          37,
          35,
          38,
          26,
          50,
          53,
          42,
          29,
          55,
          26,
          37,
          44,
          38,
          26,
          28,
          49,
          36,
          31,
          26,
          37,
          42,
          18,
          35,
          36,
          51,
          41,
          18,
          28,
          31,
          39,
          36,
          32,
          38,
          58,
          31,
          31,
          45,
          31,
          33,
          39,
          43,
          49,
          52,
          27,
          32,
          27,
          31,
          32,
          28,
          30,
          31,
          39,
          39,
          33,
          47,
          43,
          27,
          54,
          43,
          45,
          40,
          29,
          29,
          30,
          27,
          37,
          38,
          31,
          29,
          35,
          23,
          41,
          47,
          42,
          29,
          42,
          32,
          48,
          37,
          30,
          26,
          42,
          21,
          36,
          36,
          57,
          40,
          21,
          33,
          37,
          46,
          41,
          50,
          40,
          31,
          21,
          29,
          35,
          27,
          28,
          49,
          51,
          36,
          34,
          55,
          24,
          30,
          26,
          22,
          36,
          30,
          37,
          40,
          42,
          37,
          43,
          40,
          54,
          34,
          31,
          43,
          43,
          25,
          37,
          31,
          39,
          56,
          30,
          41,
          28,
          25,
          52,
          45,
          52,
          42,
          30,
          60,
          46,
          42,
          24,
          34,
          38,
          40,
          26,
          30,
          29,
          29,
          19,
          30,
          57,
          50,
          30,
          60,
          47,
          46,
          35,
          54,
          34,
          46,
          31,
          33,
          33,
          30,
          35,
          31,
          34,
          42,
          36,
          22,
          48,
          55,
          41,
          35,
          40,
          39,
          31,
          42,
          45,
          26,
          29,
          33,
          31,
          18,
          40,
          41,
          26,
          35,
          34,
          26,
          37,
          46,
          41,
          37,
          52,
          32,
          24,
          38,
          37,
          49,
          24,
          26,
          24,
          50,
          25,
          24,
          30,
          34,
          31,
          35,
          31,
          27,
          37,
          20,
          42,
          43,
          38,
          43,
          48,
          44,
          34,
          27,
          21,
          44,
          22,
          33,
          32,
          30,
          53,
          34,
          45,
          26,
          37,
          29,
          35,
          33,
          54,
          36,
          27,
          20,
          33,
          35,
          23,
          25,
          38,
          29,
          48,
          27,
          37,
          50,
          34,
          24,
          39,
          32,
          50,
          38,
          27,
          32,
          47,
          40,
          53,
          41,
          60,
          27,
          41,
          50,
          28,
          36,
          38,
          44,
          47,
          30,
          29,
          42,
          43,
          34,
          23,
          39,
          56,
          40,
          27,
          29,
          53,
          35,
          32,
          38,
          34,
          52,
          33,
          25,
          45,
          23,
          47,
          34,
          55,
          36,
          52,
          26,
          29,
          26,
          34,
          54,
          27,
          37,
          38,
          34,
          35,
          30,
          40,
          34,
          42,
          23,
          24,
          52,
          50,
          29,
          33,
          33,
          47,
          36,
          29,
          58,
          35,
          42,
          28,
          36,
          32,
          40,
          30,
          45,
          42,
          38,
          34,
          49,
          55,
          43,
          27,
          35,
          28,
          34,
          26,
          27,
          51,
          44,
          25,
          33,
          35,
          36,
          32,
          30,
          53,
          45,
          32,
          52,
          37,
          28,
          22,
          44,
          42,
          36,
          25,
          35,
          35,
          32,
          25,
          49,
          24,
          32,
          38,
          42,
          31,
          29,
          53,
          35,
          37,
          53,
          43,
          47,
          37,
          50,
          39,
          33,
          32,
          29,
          44,
          28,
          58,
          43,
          20,
          21,
          36,
          47,
          22,
          41,
          28,
          39,
          27,
          34,
          42,
          33,
          58,
          31,
          35,
          49,
          48,
          31,
          36,
          38,
          32,
          25,
          40,
          26,
          41,
          36,
          19,
          20,
          31,
          40,
          32,
          36,
          33,
          37,
          45,
          29,
          35,
          52,
          58,
          53,
          30,
          38,
          35,
          39,
          40,
          47,
          36,
          31,
          33,
          29,
          33,
          45,
          50,
          33,
          41,
          27,
          45,
          47,
          30,
          50,
          38,
          46,
          24,
          35,
          31,
          18,
          54,
          35,
          30,
          20,
          30,
          26,
          22,
          48,
          48,
          41,
          39,
          27,
          35,
          42,
          50,
          59,
          37,
          55,
          41,
          38,
          26,
          52,
          44,
          50,
          36,
          39,
          33,
          45,
          32,
          34,
          59,
          45,
          53,
          36,
          26,
          34,
          28,
          38,
          50,
          37,
          40,
          26,
          46,
          54,
          56,
          36,
          55,
          43,
          20,
          21,
          46,
          51,
          28,
          26,
          30,
          41,
          38,
          40,
          27,
          55,
          28,
          44,
          33,
          35,
          33,
          28,
          34,
          37,
          25,
          26,
          33,
          42,
          28,
          50,
          33,
          34,
          48,
          45,
          52,
          38,
          29,
          28,
          46,
          38,
          43,
          39,
          40,
          21,
          39,
          36,
          31,
          28,
          35,
          49,
          34,
          29,
          42,
          29,
          38,
          28,
          18,
          33,
          41,
          31,
          37,
          27,
          34,
          35,
          29,
          40,
          42,
          42,
          35,
          24,
          28,
          26,
          30,
          40,
          35,
          34,
          35,
          43,
          32,
          56,
          29,
          19,
          45,
          37,
          20,
          44,
          53,
          29,
          22,
          46,
          44,
          33,
          41,
          30,
          40,
          50,
          28,
          46,
          35,
          24,
          33,
          36,
          30,
          44,
          20,
          46,
          42,
          60,
          32,
          32,
          36,
          33,
          40,
          25,
          30,
          42,
          35,
          27,
          54,
          44,
          19,
          29,
          54,
          31,
          31,
          59,
          43,
          49,
          36,
          48,
          27,
          29,
          48,
          29,
          34,
          44,
          33,
          19,
          23,
          25,
          26,
          45,
          55,
          21,
          46,
          34,
          51,
          59,
          34,
          28,
          44,
          34,
          35,
          42,
          43,
          36,
          44,
          28,
          51,
          30,
          29,
          28,
          25,
          32,
          45,
          39,
          58,
          32,
          39,
          30,
          36,
          46,
          28,
          50,
          40,
          52,
          30,
          39,
          31,
          41,
          31,
          44,
          42,
          55,
          56,
          40,
          34,
          40,
          41,
          35,
          51,
          38,
          34,
          25,
          58,
          40,
          36,
          48,
          27,
          51,
          18,
          35,
          27,
          55,
          56,
          34,
          40,
          34,
          31,
          35,
          38,
          34,
          28,
          31,
          39,
          51,
          41,
          37,
          33,
          32,
          39,
          25,
          52,
          43,
          27,
          27,
          26,
          42,
          52,
          37,
          35,
          25,
          26,
          29,
          49,
          29,
          54,
          58,
          55,
          36,
          31,
          30,
          31,
          34,
          31,
          27,
          36,
          36,
          47,
          25,
          37,
          56,
          47,
          24,
          32,
          34,
          41,
          40,
          31,
          46,
          39,
          31,
          45,
          31,
          31,
          45,
          48,
          34,
          40,
          28,
          44,
          53,
          49,
          40,
          44,
          33,
          34,
          30,
          42,
          44,
          30,
          57,
          49,
          34,
          28,
          29,
          34,
          35,
          24,
          24,
          44,
          29,
          30,
          55,
          33,
          47,
          28,
          28,
          28,
          49,
          29,
          28,
          33,
          32,
          54,
          29,
          44,
          39,
          46,
          35,
          23,
          40,
          34,
          31,
          50,
          34,
          42,
          37,
          29,
          33,
          45,
          42,
          40,
          33,
          40,
          24,
          40,
          45,
          35,
          32,
          36,
          48,
          29,
          33,
          30,
          38,
          35,
          30,
          35,
          53,
          38,
          32,
          48,
          34,
          55,
          34,
          26,
          38,
          38,
          36,
          29,
          35,
          39,
          29,
          50,
          23,
          36,
          42,
          35,
          34,
          40,
          43,
          35,
          46,
          28,
          22,
          50,
          32,
          44,
          30,
          45,
          45,
          31,
          36,
          34,
          49,
          39,
          27,
          35,
          28,
          21,
          18,
          47,
          39,
          40,
          35,
          37,
          39,
          45,
          38,
          35,
          37,
          40,
          44,
          48,
          35,
          24,
          27,
          27,
          40,
          29,
          36,
          25,
          39,
          49,
          50,
          20,
          34,
          36,
          49,
          36,
          36,
          54,
          43,
          35,
          38,
          29,
          33,
          32,
          31,
          49,
          38,
          47,
          49,
          41,
          20,
          33,
          36,
          44,
          23,
          38,
          53,
          48,
          32,
          26,
          55,
          34,
          60,
          33,
          37,
          34,
          23,
          44,
          35,
          43,
          24,
          41,
          29,
          36,
          45,
          24,
          47,
          26,
          45,
          32,
          31,
          41,
          40,
          24,
          46,
          35,
          30,
          47,
          46,
          36,
          32,
          23,
          31,
          39,
          32,
          40,
          45,
          30,
          24,
          30,
          31,
          27,
          29,
          29,
          30,
          34,
          33,
          49,
          33,
          38,
          31,
          29,
          30,
          32,
          38,
          43,
          42,
          55,
          33,
          41,
          34,
          53,
          43,
          34,
          21,
          38,
          22,
          31,
          51,
          37,
          46,
          36,
          44,
          37,
          35,
          33,
          28,
          39,
          46,
          40,
          42,
          35,
          38,
          34,
          37,
          39,
          43,
          41,
          41,
          30,
          26,
          46,
          40,
          34,
          58,
          35,
          47,
          40,
          54,
          31,
          28,
          38,
          26,
          58,
          18,
          31,
          29,
          45,
          36,
          43,
          27,
          29,
          32,
          42,
          47,
          46,
          28,
          29,
          42,
          32,
          46,
          27,
          29,
          43,
          48,
          29,
          46,
          27,
          39,
          55,
          28,
          30,
          22,
          36,
          31,
          34,
          29,
          37,
          35,
          45,
          36,
          40,
          26,
          27,
          48,
          44,
          34,
          56,
          36,
          41,
          42,
          31,
          34,
          31,
          26,
          45,
          33,
          28,
          29,
          39,
          27,
          34,
          28,
          47,
          56,
          39,
          38,
          58,
          32,
          38,
          49,
          42,
          27,
          35,
          28,
          31,
          36,
          34,
          34,
          26,
          29,
          32,
          31,
          28,
          38,
          35,
          27,
          32,
          31,
          53,
          54,
          33,
          43,
          38,
          55,
          31,
          39,
          42,
          31,
          54,
          24,
          23,
          40,
          40,
          25,
          30,
          25,
          47,
          33,
          38,
          31,
          38,
          42,
          41,
          47,
          35,
          22,
          35,
          33,
          32,
          40,
          32,
          39,
          38,
          32,
          37,
          25,
          52,
          44,
          21,
          39,
          23,
          36,
          36,
          56,
          29,
          42,
          56,
          41,
          34,
          36,
          41,
          32,
          35,
          38,
          50,
          36,
          45,
          40,
          35,
          40,
          35,
          29,
          29,
          50,
          39,
          31,
          26,
          36,
          39,
          27,
          49,
          34
         ],
         "xaxis": "x",
         "yaxis": "y"
        }
       ],
       "layout": {
        "barmode": "relative",
        "legend": {
         "tracegroupgap": 0
        },
        "template": {
         "data": {
          "bar": [
           {
            "error_x": {
             "color": "#2a3f5f"
            },
            "error_y": {
             "color": "#2a3f5f"
            },
            "marker": {
             "line": {
              "color": "#E5ECF6",
              "width": 0.5
             },
             "pattern": {
              "fillmode": "overlay",
              "size": 10,
              "solidity": 0.2
             }
            },
            "type": "bar"
           }
          ],
          "barpolar": [
           {
            "marker": {
             "line": {
              "color": "#E5ECF6",
              "width": 0.5
             },
             "pattern": {
              "fillmode": "overlay",
              "size": 10,
              "solidity": 0.2
             }
            },
            "type": "barpolar"
           }
          ],
          "carpet": [
           {
            "aaxis": {
             "endlinecolor": "#2a3f5f",
             "gridcolor": "white",
             "linecolor": "white",
             "minorgridcolor": "white",
             "startlinecolor": "#2a3f5f"
            },
            "baxis": {
             "endlinecolor": "#2a3f5f",
             "gridcolor": "white",
             "linecolor": "white",
             "minorgridcolor": "white",
             "startlinecolor": "#2a3f5f"
            },
            "type": "carpet"
           }
          ],
          "choropleth": [
           {
            "colorbar": {
             "outlinewidth": 0,
             "ticks": ""
            },
            "type": "choropleth"
           }
          ],
          "contour": [
           {
            "colorbar": {
             "outlinewidth": 0,
             "ticks": ""
            },
            "colorscale": [
             [
              0,
              "#0d0887"
             ],
             [
              0.1111111111111111,
              "#46039f"
             ],
             [
              0.2222222222222222,
              "#7201a8"
             ],
             [
              0.3333333333333333,
              "#9c179e"
             ],
             [
              0.4444444444444444,
              "#bd3786"
             ],
             [
              0.5555555555555556,
              "#d8576b"
             ],
             [
              0.6666666666666666,
              "#ed7953"
             ],
             [
              0.7777777777777778,
              "#fb9f3a"
             ],
             [
              0.8888888888888888,
              "#fdca26"
             ],
             [
              1,
              "#f0f921"
             ]
            ],
            "type": "contour"
           }
          ],
          "contourcarpet": [
           {
            "colorbar": {
             "outlinewidth": 0,
             "ticks": ""
            },
            "type": "contourcarpet"
           }
          ],
          "heatmap": [
           {
            "colorbar": {
             "outlinewidth": 0,
             "ticks": ""
            },
            "colorscale": [
             [
              0,
              "#0d0887"
             ],
             [
              0.1111111111111111,
              "#46039f"
             ],
             [
              0.2222222222222222,
              "#7201a8"
             ],
             [
              0.3333333333333333,
              "#9c179e"
             ],
             [
              0.4444444444444444,
              "#bd3786"
             ],
             [
              0.5555555555555556,
              "#d8576b"
             ],
             [
              0.6666666666666666,
              "#ed7953"
             ],
             [
              0.7777777777777778,
              "#fb9f3a"
             ],
             [
              0.8888888888888888,
              "#fdca26"
             ],
             [
              1,
              "#f0f921"
             ]
            ],
            "type": "heatmap"
           }
          ],
          "heatmapgl": [
           {
            "colorbar": {
             "outlinewidth": 0,
             "ticks": ""
            },
            "colorscale": [
             [
              0,
              "#0d0887"
             ],
             [
              0.1111111111111111,
              "#46039f"
             ],
             [
              0.2222222222222222,
              "#7201a8"
             ],
             [
              0.3333333333333333,
              "#9c179e"
             ],
             [
              0.4444444444444444,
              "#bd3786"
             ],
             [
              0.5555555555555556,
              "#d8576b"
             ],
             [
              0.6666666666666666,
              "#ed7953"
             ],
             [
              0.7777777777777778,
              "#fb9f3a"
             ],
             [
              0.8888888888888888,
              "#fdca26"
             ],
             [
              1,
              "#f0f921"
             ]
            ],
            "type": "heatmapgl"
           }
          ],
          "histogram": [
           {
            "marker": {
             "pattern": {
              "fillmode": "overlay",
              "size": 10,
              "solidity": 0.2
             }
            },
            "type": "histogram"
           }
          ],
          "histogram2d": [
           {
            "colorbar": {
             "outlinewidth": 0,
             "ticks": ""
            },
            "colorscale": [
             [
              0,
              "#0d0887"
             ],
             [
              0.1111111111111111,
              "#46039f"
             ],
             [
              0.2222222222222222,
              "#7201a8"
             ],
             [
              0.3333333333333333,
              "#9c179e"
             ],
             [
              0.4444444444444444,
              "#bd3786"
             ],
             [
              0.5555555555555556,
              "#d8576b"
             ],
             [
              0.6666666666666666,
              "#ed7953"
             ],
             [
              0.7777777777777778,
              "#fb9f3a"
             ],
             [
              0.8888888888888888,
              "#fdca26"
             ],
             [
              1,
              "#f0f921"
             ]
            ],
            "type": "histogram2d"
           }
          ],
          "histogram2dcontour": [
           {
            "colorbar": {
             "outlinewidth": 0,
             "ticks": ""
            },
            "colorscale": [
             [
              0,
              "#0d0887"
             ],
             [
              0.1111111111111111,
              "#46039f"
             ],
             [
              0.2222222222222222,
              "#7201a8"
             ],
             [
              0.3333333333333333,
              "#9c179e"
             ],
             [
              0.4444444444444444,
              "#bd3786"
             ],
             [
              0.5555555555555556,
              "#d8576b"
             ],
             [
              0.6666666666666666,
              "#ed7953"
             ],
             [
              0.7777777777777778,
              "#fb9f3a"
             ],
             [
              0.8888888888888888,
              "#fdca26"
             ],
             [
              1,
              "#f0f921"
             ]
            ],
            "type": "histogram2dcontour"
           }
          ],
          "mesh3d": [
           {
            "colorbar": {
             "outlinewidth": 0,
             "ticks": ""
            },
            "type": "mesh3d"
           }
          ],
          "parcoords": [
           {
            "line": {
             "colorbar": {
              "outlinewidth": 0,
              "ticks": ""
             }
            },
            "type": "parcoords"
           }
          ],
          "pie": [
           {
            "automargin": true,
            "type": "pie"
           }
          ],
          "scatter": [
           {
            "fillpattern": {
             "fillmode": "overlay",
             "size": 10,
             "solidity": 0.2
            },
            "type": "scatter"
           }
          ],
          "scatter3d": [
           {
            "line": {
             "colorbar": {
              "outlinewidth": 0,
              "ticks": ""
             }
            },
            "marker": {
             "colorbar": {
              "outlinewidth": 0,
              "ticks": ""
             }
            },
            "type": "scatter3d"
           }
          ],
          "scattercarpet": [
           {
            "marker": {
             "colorbar": {
              "outlinewidth": 0,
              "ticks": ""
             }
            },
            "type": "scattercarpet"
           }
          ],
          "scattergeo": [
           {
            "marker": {
             "colorbar": {
              "outlinewidth": 0,
              "ticks": ""
             }
            },
            "type": "scattergeo"
           }
          ],
          "scattergl": [
           {
            "marker": {
             "colorbar": {
              "outlinewidth": 0,
              "ticks": ""
             }
            },
            "type": "scattergl"
           }
          ],
          "scattermapbox": [
           {
            "marker": {
             "colorbar": {
              "outlinewidth": 0,
              "ticks": ""
             }
            },
            "type": "scattermapbox"
           }
          ],
          "scatterpolar": [
           {
            "marker": {
             "colorbar": {
              "outlinewidth": 0,
              "ticks": ""
             }
            },
            "type": "scatterpolar"
           }
          ],
          "scatterpolargl": [
           {
            "marker": {
             "colorbar": {
              "outlinewidth": 0,
              "ticks": ""
             }
            },
            "type": "scatterpolargl"
           }
          ],
          "scatterternary": [
           {
            "marker": {
             "colorbar": {
              "outlinewidth": 0,
              "ticks": ""
             }
            },
            "type": "scatterternary"
           }
          ],
          "surface": [
           {
            "colorbar": {
             "outlinewidth": 0,
             "ticks": ""
            },
            "colorscale": [
             [
              0,
              "#0d0887"
             ],
             [
              0.1111111111111111,
              "#46039f"
             ],
             [
              0.2222222222222222,
              "#7201a8"
             ],
             [
              0.3333333333333333,
              "#9c179e"
             ],
             [
              0.4444444444444444,
              "#bd3786"
             ],
             [
              0.5555555555555556,
              "#d8576b"
             ],
             [
              0.6666666666666666,
              "#ed7953"
             ],
             [
              0.7777777777777778,
              "#fb9f3a"
             ],
             [
              0.8888888888888888,
              "#fdca26"
             ],
             [
              1,
              "#f0f921"
             ]
            ],
            "type": "surface"
           }
          ],
          "table": [
           {
            "cells": {
             "fill": {
              "color": "#EBF0F8"
             },
             "line": {
              "color": "white"
             }
            },
            "header": {
             "fill": {
              "color": "#C8D4E3"
             },
             "line": {
              "color": "white"
             }
            },
            "type": "table"
           }
          ]
         },
         "layout": {
          "annotationdefaults": {
           "arrowcolor": "#2a3f5f",
           "arrowhead": 0,
           "arrowwidth": 1
          },
          "autotypenumbers": "strict",
          "coloraxis": {
           "colorbar": {
            "outlinewidth": 0,
            "ticks": ""
           }
          },
          "colorscale": {
           "diverging": [
            [
             0,
             "#8e0152"
            ],
            [
             0.1,
             "#c51b7d"
            ],
            [
             0.2,
             "#de77ae"
            ],
            [
             0.3,
             "#f1b6da"
            ],
            [
             0.4,
             "#fde0ef"
            ],
            [
             0.5,
             "#f7f7f7"
            ],
            [
             0.6,
             "#e6f5d0"
            ],
            [
             0.7,
             "#b8e186"
            ],
            [
             0.8,
             "#7fbc41"
            ],
            [
             0.9,
             "#4d9221"
            ],
            [
             1,
             "#276419"
            ]
           ],
           "sequential": [
            [
             0,
             "#0d0887"
            ],
            [
             0.1111111111111111,
             "#46039f"
            ],
            [
             0.2222222222222222,
             "#7201a8"
            ],
            [
             0.3333333333333333,
             "#9c179e"
            ],
            [
             0.4444444444444444,
             "#bd3786"
            ],
            [
             0.5555555555555556,
             "#d8576b"
            ],
            [
             0.6666666666666666,
             "#ed7953"
            ],
            [
             0.7777777777777778,
             "#fb9f3a"
            ],
            [
             0.8888888888888888,
             "#fdca26"
            ],
            [
             1,
             "#f0f921"
            ]
           ],
           "sequentialminus": [
            [
             0,
             "#0d0887"
            ],
            [
             0.1111111111111111,
             "#46039f"
            ],
            [
             0.2222222222222222,
             "#7201a8"
            ],
            [
             0.3333333333333333,
             "#9c179e"
            ],
            [
             0.4444444444444444,
             "#bd3786"
            ],
            [
             0.5555555555555556,
             "#d8576b"
            ],
            [
             0.6666666666666666,
             "#ed7953"
            ],
            [
             0.7777777777777778,
             "#fb9f3a"
            ],
            [
             0.8888888888888888,
             "#fdca26"
            ],
            [
             1,
             "#f0f921"
            ]
           ]
          },
          "colorway": [
           "#636efa",
           "#EF553B",
           "#00cc96",
           "#ab63fa",
           "#FFA15A",
           "#19d3f3",
           "#FF6692",
           "#B6E880",
           "#FF97FF",
           "#FECB52"
          ],
          "font": {
           "color": "#2a3f5f"
          },
          "geo": {
           "bgcolor": "white",
           "lakecolor": "white",
           "landcolor": "#E5ECF6",
           "showlakes": true,
           "showland": true,
           "subunitcolor": "white"
          },
          "hoverlabel": {
           "align": "left"
          },
          "hovermode": "closest",
          "mapbox": {
           "style": "light"
          },
          "paper_bgcolor": "white",
          "plot_bgcolor": "#E5ECF6",
          "polar": {
           "angularaxis": {
            "gridcolor": "white",
            "linecolor": "white",
            "ticks": ""
           },
           "bgcolor": "#E5ECF6",
           "radialaxis": {
            "gridcolor": "white",
            "linecolor": "white",
            "ticks": ""
           }
          },
          "scene": {
           "xaxis": {
            "backgroundcolor": "#E5ECF6",
            "gridcolor": "white",
            "gridwidth": 2,
            "linecolor": "white",
            "showbackground": true,
            "ticks": "",
            "zerolinecolor": "white"
           },
           "yaxis": {
            "backgroundcolor": "#E5ECF6",
            "gridcolor": "white",
            "gridwidth": 2,
            "linecolor": "white",
            "showbackground": true,
            "ticks": "",
            "zerolinecolor": "white"
           },
           "zaxis": {
            "backgroundcolor": "#E5ECF6",
            "gridcolor": "white",
            "gridwidth": 2,
            "linecolor": "white",
            "showbackground": true,
            "ticks": "",
            "zerolinecolor": "white"
           }
          },
          "shapedefaults": {
           "line": {
            "color": "#2a3f5f"
           }
          },
          "ternary": {
           "aaxis": {
            "gridcolor": "white",
            "linecolor": "white",
            "ticks": ""
           },
           "baxis": {
            "gridcolor": "white",
            "linecolor": "white",
            "ticks": ""
           },
           "bgcolor": "#E5ECF6",
           "caxis": {
            "gridcolor": "white",
            "linecolor": "white",
            "ticks": ""
           }
          },
          "title": {
           "x": 0.05
          },
          "xaxis": {
           "automargin": true,
           "gridcolor": "white",
           "linecolor": "white",
           "ticks": "",
           "title": {
            "standoff": 15
           },
           "zerolinecolor": "white",
           "zerolinewidth": 2
          },
          "yaxis": {
           "automargin": true,
           "gridcolor": "white",
           "linecolor": "white",
           "ticks": "",
           "title": {
            "standoff": 15
           },
           "zerolinecolor": "white",
           "zerolinewidth": 2
          }
         }
        },
        "title": {
         "text": "yas Distribution"
        },
        "xaxis": {
         "anchor": "y",
         "domain": [
          0,
          1
         ],
         "title": {
          "text": "yas"
         }
        },
        "yaxis": {
         "anchor": "x",
         "domain": [
          0,
          1
         ],
         "title": {
          "text": "count"
         }
        }
       }
      }
     },
     "metadata": {},
     "output_type": "display_data"
    },
    {
     "data": {
      "application/vnd.plotly.v1+json": {
       "config": {
        "plotlyServerURL": "https://plot.ly"
       },
       "data": [
        {
         "alignmentgroup": "True",
         "hovertemplate": "yas=%{y}<extra></extra>",
         "legendgroup": "",
         "marker": {
          "color": "#636efa"
         },
         "name": "",
         "notched": false,
         "offsetgroup": "",
         "orientation": "v",
         "showlegend": false,
         "type": "box",
         "x0": " ",
         "xaxis": "x",
         "y": [
          41,
          49,
          37,
          33,
          27,
          32,
          59,
          30,
          38,
          36,
          35,
          29,
          31,
          34,
          28,
          29,
          32,
          22,
          53,
          38,
          24,
          36,
          34,
          21,
          34,
          53,
          32,
          42,
          44,
          46,
          33,
          44,
          30,
          39,
          24,
          43,
          50,
          35,
          36,
          33,
          35,
          27,
          26,
          27,
          30,
          41,
          34,
          37,
          46,
          35,
          48,
          28,
          44,
          35,
          26,
          33,
          35,
          35,
          31,
          37,
          32,
          38,
          50,
          59,
          36,
          55,
          36,
          45,
          35,
          36,
          59,
          29,
          31,
          32,
          36,
          31,
          35,
          45,
          37,
          46,
          30,
          35,
          55,
          38,
          34,
          56,
          23,
          51,
          30,
          46,
          40,
          51,
          30,
          46,
          32,
          54,
          24,
          28,
          58,
          44,
          37,
          32,
          20,
          34,
          37,
          59,
          50,
          25,
          25,
          22,
          51,
          34,
          54,
          24,
          34,
          37,
          34,
          36,
          36,
          43,
          30,
          33,
          56,
          51,
          31,
          26,
          58,
          19,
          22,
          49,
          43,
          50,
          31,
          41,
          26,
          36,
          51,
          39,
          25,
          30,
          32,
          45,
          38,
          30,
          32,
          30,
          30,
          41,
          41,
          19,
          40,
          35,
          53,
          45,
          32,
          29,
          51,
          58,
          40,
          34,
          22,
          27,
          28,
          57,
          27,
          50,
          41,
          30,
          38,
          32,
          27,
          19,
          36,
          30,
          45,
          56,
          33,
          19,
          46,
          38,
          31,
          34,
          41,
          50,
          53,
          33,
          40,
          55,
          34,
          51,
          52,
          27,
          35,
          43,
          45,
          37,
          35,
          42,
          38,
          38,
          27,
          49,
          34,
          40,
          38,
          29,
          22,
          36,
          40,
          46,
          32,
          30,
          27,
          51,
          30,
          41,
          30,
          29,
          45,
          54,
          36,
          33,
          37,
          38,
          31,
          59,
          37,
          29,
          35,
          29,
          52,
          42,
          59,
          50,
          33,
          43,
          33,
          52,
          32,
          32,
          39,
          32,
          41,
          40,
          45,
          31,
          33,
          34,
          37,
          45,
          37,
          39,
          29,
          42,
          29,
          25,
          42,
          40,
          51,
          31,
          32,
          38,
          32,
          46,
          28,
          29,
          31,
          25,
          45,
          36,
          55,
          47,
          28,
          37,
          21,
          37,
          35,
          38,
          26,
          50,
          53,
          42,
          29,
          55,
          26,
          37,
          44,
          38,
          26,
          28,
          49,
          36,
          31,
          26,
          37,
          42,
          18,
          35,
          36,
          51,
          41,
          18,
          28,
          31,
          39,
          36,
          32,
          38,
          58,
          31,
          31,
          45,
          31,
          33,
          39,
          43,
          49,
          52,
          27,
          32,
          27,
          31,
          32,
          28,
          30,
          31,
          39,
          39,
          33,
          47,
          43,
          27,
          54,
          43,
          45,
          40,
          29,
          29,
          30,
          27,
          37,
          38,
          31,
          29,
          35,
          23,
          41,
          47,
          42,
          29,
          42,
          32,
          48,
          37,
          30,
          26,
          42,
          21,
          36,
          36,
          57,
          40,
          21,
          33,
          37,
          46,
          41,
          50,
          40,
          31,
          21,
          29,
          35,
          27,
          28,
          49,
          51,
          36,
          34,
          55,
          24,
          30,
          26,
          22,
          36,
          30,
          37,
          40,
          42,
          37,
          43,
          40,
          54,
          34,
          31,
          43,
          43,
          25,
          37,
          31,
          39,
          56,
          30,
          41,
          28,
          25,
          52,
          45,
          52,
          42,
          30,
          60,
          46,
          42,
          24,
          34,
          38,
          40,
          26,
          30,
          29,
          29,
          19,
          30,
          57,
          50,
          30,
          60,
          47,
          46,
          35,
          54,
          34,
          46,
          31,
          33,
          33,
          30,
          35,
          31,
          34,
          42,
          36,
          22,
          48,
          55,
          41,
          35,
          40,
          39,
          31,
          42,
          45,
          26,
          29,
          33,
          31,
          18,
          40,
          41,
          26,
          35,
          34,
          26,
          37,
          46,
          41,
          37,
          52,
          32,
          24,
          38,
          37,
          49,
          24,
          26,
          24,
          50,
          25,
          24,
          30,
          34,
          31,
          35,
          31,
          27,
          37,
          20,
          42,
          43,
          38,
          43,
          48,
          44,
          34,
          27,
          21,
          44,
          22,
          33,
          32,
          30,
          53,
          34,
          45,
          26,
          37,
          29,
          35,
          33,
          54,
          36,
          27,
          20,
          33,
          35,
          23,
          25,
          38,
          29,
          48,
          27,
          37,
          50,
          34,
          24,
          39,
          32,
          50,
          38,
          27,
          32,
          47,
          40,
          53,
          41,
          60,
          27,
          41,
          50,
          28,
          36,
          38,
          44,
          47,
          30,
          29,
          42,
          43,
          34,
          23,
          39,
          56,
          40,
          27,
          29,
          53,
          35,
          32,
          38,
          34,
          52,
          33,
          25,
          45,
          23,
          47,
          34,
          55,
          36,
          52,
          26,
          29,
          26,
          34,
          54,
          27,
          37,
          38,
          34,
          35,
          30,
          40,
          34,
          42,
          23,
          24,
          52,
          50,
          29,
          33,
          33,
          47,
          36,
          29,
          58,
          35,
          42,
          28,
          36,
          32,
          40,
          30,
          45,
          42,
          38,
          34,
          49,
          55,
          43,
          27,
          35,
          28,
          34,
          26,
          27,
          51,
          44,
          25,
          33,
          35,
          36,
          32,
          30,
          53,
          45,
          32,
          52,
          37,
          28,
          22,
          44,
          42,
          36,
          25,
          35,
          35,
          32,
          25,
          49,
          24,
          32,
          38,
          42,
          31,
          29,
          53,
          35,
          37,
          53,
          43,
          47,
          37,
          50,
          39,
          33,
          32,
          29,
          44,
          28,
          58,
          43,
          20,
          21,
          36,
          47,
          22,
          41,
          28,
          39,
          27,
          34,
          42,
          33,
          58,
          31,
          35,
          49,
          48,
          31,
          36,
          38,
          32,
          25,
          40,
          26,
          41,
          36,
          19,
          20,
          31,
          40,
          32,
          36,
          33,
          37,
          45,
          29,
          35,
          52,
          58,
          53,
          30,
          38,
          35,
          39,
          40,
          47,
          36,
          31,
          33,
          29,
          33,
          45,
          50,
          33,
          41,
          27,
          45,
          47,
          30,
          50,
          38,
          46,
          24,
          35,
          31,
          18,
          54,
          35,
          30,
          20,
          30,
          26,
          22,
          48,
          48,
          41,
          39,
          27,
          35,
          42,
          50,
          59,
          37,
          55,
          41,
          38,
          26,
          52,
          44,
          50,
          36,
          39,
          33,
          45,
          32,
          34,
          59,
          45,
          53,
          36,
          26,
          34,
          28,
          38,
          50,
          37,
          40,
          26,
          46,
          54,
          56,
          36,
          55,
          43,
          20,
          21,
          46,
          51,
          28,
          26,
          30,
          41,
          38,
          40,
          27,
          55,
          28,
          44,
          33,
          35,
          33,
          28,
          34,
          37,
          25,
          26,
          33,
          42,
          28,
          50,
          33,
          34,
          48,
          45,
          52,
          38,
          29,
          28,
          46,
          38,
          43,
          39,
          40,
          21,
          39,
          36,
          31,
          28,
          35,
          49,
          34,
          29,
          42,
          29,
          38,
          28,
          18,
          33,
          41,
          31,
          37,
          27,
          34,
          35,
          29,
          40,
          42,
          42,
          35,
          24,
          28,
          26,
          30,
          40,
          35,
          34,
          35,
          43,
          32,
          56,
          29,
          19,
          45,
          37,
          20,
          44,
          53,
          29,
          22,
          46,
          44,
          33,
          41,
          30,
          40,
          50,
          28,
          46,
          35,
          24,
          33,
          36,
          30,
          44,
          20,
          46,
          42,
          60,
          32,
          32,
          36,
          33,
          40,
          25,
          30,
          42,
          35,
          27,
          54,
          44,
          19,
          29,
          54,
          31,
          31,
          59,
          43,
          49,
          36,
          48,
          27,
          29,
          48,
          29,
          34,
          44,
          33,
          19,
          23,
          25,
          26,
          45,
          55,
          21,
          46,
          34,
          51,
          59,
          34,
          28,
          44,
          34,
          35,
          42,
          43,
          36,
          44,
          28,
          51,
          30,
          29,
          28,
          25,
          32,
          45,
          39,
          58,
          32,
          39,
          30,
          36,
          46,
          28,
          50,
          40,
          52,
          30,
          39,
          31,
          41,
          31,
          44,
          42,
          55,
          56,
          40,
          34,
          40,
          41,
          35,
          51,
          38,
          34,
          25,
          58,
          40,
          36,
          48,
          27,
          51,
          18,
          35,
          27,
          55,
          56,
          34,
          40,
          34,
          31,
          35,
          38,
          34,
          28,
          31,
          39,
          51,
          41,
          37,
          33,
          32,
          39,
          25,
          52,
          43,
          27,
          27,
          26,
          42,
          52,
          37,
          35,
          25,
          26,
          29,
          49,
          29,
          54,
          58,
          55,
          36,
          31,
          30,
          31,
          34,
          31,
          27,
          36,
          36,
          47,
          25,
          37,
          56,
          47,
          24,
          32,
          34,
          41,
          40,
          31,
          46,
          39,
          31,
          45,
          31,
          31,
          45,
          48,
          34,
          40,
          28,
          44,
          53,
          49,
          40,
          44,
          33,
          34,
          30,
          42,
          44,
          30,
          57,
          49,
          34,
          28,
          29,
          34,
          35,
          24,
          24,
          44,
          29,
          30,
          55,
          33,
          47,
          28,
          28,
          28,
          49,
          29,
          28,
          33,
          32,
          54,
          29,
          44,
          39,
          46,
          35,
          23,
          40,
          34,
          31,
          50,
          34,
          42,
          37,
          29,
          33,
          45,
          42,
          40,
          33,
          40,
          24,
          40,
          45,
          35,
          32,
          36,
          48,
          29,
          33,
          30,
          38,
          35,
          30,
          35,
          53,
          38,
          32,
          48,
          34,
          55,
          34,
          26,
          38,
          38,
          36,
          29,
          35,
          39,
          29,
          50,
          23,
          36,
          42,
          35,
          34,
          40,
          43,
          35,
          46,
          28,
          22,
          50,
          32,
          44,
          30,
          45,
          45,
          31,
          36,
          34,
          49,
          39,
          27,
          35,
          28,
          21,
          18,
          47,
          39,
          40,
          35,
          37,
          39,
          45,
          38,
          35,
          37,
          40,
          44,
          48,
          35,
          24,
          27,
          27,
          40,
          29,
          36,
          25,
          39,
          49,
          50,
          20,
          34,
          36,
          49,
          36,
          36,
          54,
          43,
          35,
          38,
          29,
          33,
          32,
          31,
          49,
          38,
          47,
          49,
          41,
          20,
          33,
          36,
          44,
          23,
          38,
          53,
          48,
          32,
          26,
          55,
          34,
          60,
          33,
          37,
          34,
          23,
          44,
          35,
          43,
          24,
          41,
          29,
          36,
          45,
          24,
          47,
          26,
          45,
          32,
          31,
          41,
          40,
          24,
          46,
          35,
          30,
          47,
          46,
          36,
          32,
          23,
          31,
          39,
          32,
          40,
          45,
          30,
          24,
          30,
          31,
          27,
          29,
          29,
          30,
          34,
          33,
          49,
          33,
          38,
          31,
          29,
          30,
          32,
          38,
          43,
          42,
          55,
          33,
          41,
          34,
          53,
          43,
          34,
          21,
          38,
          22,
          31,
          51,
          37,
          46,
          36,
          44,
          37,
          35,
          33,
          28,
          39,
          46,
          40,
          42,
          35,
          38,
          34,
          37,
          39,
          43,
          41,
          41,
          30,
          26,
          46,
          40,
          34,
          58,
          35,
          47,
          40,
          54,
          31,
          28,
          38,
          26,
          58,
          18,
          31,
          29,
          45,
          36,
          43,
          27,
          29,
          32,
          42,
          47,
          46,
          28,
          29,
          42,
          32,
          46,
          27,
          29,
          43,
          48,
          29,
          46,
          27,
          39,
          55,
          28,
          30,
          22,
          36,
          31,
          34,
          29,
          37,
          35,
          45,
          36,
          40,
          26,
          27,
          48,
          44,
          34,
          56,
          36,
          41,
          42,
          31,
          34,
          31,
          26,
          45,
          33,
          28,
          29,
          39,
          27,
          34,
          28,
          47,
          56,
          39,
          38,
          58,
          32,
          38,
          49,
          42,
          27,
          35,
          28,
          31,
          36,
          34,
          34,
          26,
          29,
          32,
          31,
          28,
          38,
          35,
          27,
          32,
          31,
          53,
          54,
          33,
          43,
          38,
          55,
          31,
          39,
          42,
          31,
          54,
          24,
          23,
          40,
          40,
          25,
          30,
          25,
          47,
          33,
          38,
          31,
          38,
          42,
          41,
          47,
          35,
          22,
          35,
          33,
          32,
          40,
          32,
          39,
          38,
          32,
          37,
          25,
          52,
          44,
          21,
          39,
          23,
          36,
          36,
          56,
          29,
          42,
          56,
          41,
          34,
          36,
          41,
          32,
          35,
          38,
          50,
          36,
          45,
          40,
          35,
          40,
          35,
          29,
          29,
          50,
          39,
          31,
          26,
          36,
          39,
          27,
          49,
          34
         ],
         "y0": " ",
         "yaxis": "y"
        }
       ],
       "layout": {
        "boxmode": "group",
        "legend": {
         "tracegroupgap": 0
        },
        "template": {
         "data": {
          "bar": [
           {
            "error_x": {
             "color": "#2a3f5f"
            },
            "error_y": {
             "color": "#2a3f5f"
            },
            "marker": {
             "line": {
              "color": "#E5ECF6",
              "width": 0.5
             },
             "pattern": {
              "fillmode": "overlay",
              "size": 10,
              "solidity": 0.2
             }
            },
            "type": "bar"
           }
          ],
          "barpolar": [
           {
            "marker": {
             "line": {
              "color": "#E5ECF6",
              "width": 0.5
             },
             "pattern": {
              "fillmode": "overlay",
              "size": 10,
              "solidity": 0.2
             }
            },
            "type": "barpolar"
           }
          ],
          "carpet": [
           {
            "aaxis": {
             "endlinecolor": "#2a3f5f",
             "gridcolor": "white",
             "linecolor": "white",
             "minorgridcolor": "white",
             "startlinecolor": "#2a3f5f"
            },
            "baxis": {
             "endlinecolor": "#2a3f5f",
             "gridcolor": "white",
             "linecolor": "white",
             "minorgridcolor": "white",
             "startlinecolor": "#2a3f5f"
            },
            "type": "carpet"
           }
          ],
          "choropleth": [
           {
            "colorbar": {
             "outlinewidth": 0,
             "ticks": ""
            },
            "type": "choropleth"
           }
          ],
          "contour": [
           {
            "colorbar": {
             "outlinewidth": 0,
             "ticks": ""
            },
            "colorscale": [
             [
              0,
              "#0d0887"
             ],
             [
              0.1111111111111111,
              "#46039f"
             ],
             [
              0.2222222222222222,
              "#7201a8"
             ],
             [
              0.3333333333333333,
              "#9c179e"
             ],
             [
              0.4444444444444444,
              "#bd3786"
             ],
             [
              0.5555555555555556,
              "#d8576b"
             ],
             [
              0.6666666666666666,
              "#ed7953"
             ],
             [
              0.7777777777777778,
              "#fb9f3a"
             ],
             [
              0.8888888888888888,
              "#fdca26"
             ],
             [
              1,
              "#f0f921"
             ]
            ],
            "type": "contour"
           }
          ],
          "contourcarpet": [
           {
            "colorbar": {
             "outlinewidth": 0,
             "ticks": ""
            },
            "type": "contourcarpet"
           }
          ],
          "heatmap": [
           {
            "colorbar": {
             "outlinewidth": 0,
             "ticks": ""
            },
            "colorscale": [
             [
              0,
              "#0d0887"
             ],
             [
              0.1111111111111111,
              "#46039f"
             ],
             [
              0.2222222222222222,
              "#7201a8"
             ],
             [
              0.3333333333333333,
              "#9c179e"
             ],
             [
              0.4444444444444444,
              "#bd3786"
             ],
             [
              0.5555555555555556,
              "#d8576b"
             ],
             [
              0.6666666666666666,
              "#ed7953"
             ],
             [
              0.7777777777777778,
              "#fb9f3a"
             ],
             [
              0.8888888888888888,
              "#fdca26"
             ],
             [
              1,
              "#f0f921"
             ]
            ],
            "type": "heatmap"
           }
          ],
          "heatmapgl": [
           {
            "colorbar": {
             "outlinewidth": 0,
             "ticks": ""
            },
            "colorscale": [
             [
              0,
              "#0d0887"
             ],
             [
              0.1111111111111111,
              "#46039f"
             ],
             [
              0.2222222222222222,
              "#7201a8"
             ],
             [
              0.3333333333333333,
              "#9c179e"
             ],
             [
              0.4444444444444444,
              "#bd3786"
             ],
             [
              0.5555555555555556,
              "#d8576b"
             ],
             [
              0.6666666666666666,
              "#ed7953"
             ],
             [
              0.7777777777777778,
              "#fb9f3a"
             ],
             [
              0.8888888888888888,
              "#fdca26"
             ],
             [
              1,
              "#f0f921"
             ]
            ],
            "type": "heatmapgl"
           }
          ],
          "histogram": [
           {
            "marker": {
             "pattern": {
              "fillmode": "overlay",
              "size": 10,
              "solidity": 0.2
             }
            },
            "type": "histogram"
           }
          ],
          "histogram2d": [
           {
            "colorbar": {
             "outlinewidth": 0,
             "ticks": ""
            },
            "colorscale": [
             [
              0,
              "#0d0887"
             ],
             [
              0.1111111111111111,
              "#46039f"
             ],
             [
              0.2222222222222222,
              "#7201a8"
             ],
             [
              0.3333333333333333,
              "#9c179e"
             ],
             [
              0.4444444444444444,
              "#bd3786"
             ],
             [
              0.5555555555555556,
              "#d8576b"
             ],
             [
              0.6666666666666666,
              "#ed7953"
             ],
             [
              0.7777777777777778,
              "#fb9f3a"
             ],
             [
              0.8888888888888888,
              "#fdca26"
             ],
             [
              1,
              "#f0f921"
             ]
            ],
            "type": "histogram2d"
           }
          ],
          "histogram2dcontour": [
           {
            "colorbar": {
             "outlinewidth": 0,
             "ticks": ""
            },
            "colorscale": [
             [
              0,
              "#0d0887"
             ],
             [
              0.1111111111111111,
              "#46039f"
             ],
             [
              0.2222222222222222,
              "#7201a8"
             ],
             [
              0.3333333333333333,
              "#9c179e"
             ],
             [
              0.4444444444444444,
              "#bd3786"
             ],
             [
              0.5555555555555556,
              "#d8576b"
             ],
             [
              0.6666666666666666,
              "#ed7953"
             ],
             [
              0.7777777777777778,
              "#fb9f3a"
             ],
             [
              0.8888888888888888,
              "#fdca26"
             ],
             [
              1,
              "#f0f921"
             ]
            ],
            "type": "histogram2dcontour"
           }
          ],
          "mesh3d": [
           {
            "colorbar": {
             "outlinewidth": 0,
             "ticks": ""
            },
            "type": "mesh3d"
           }
          ],
          "parcoords": [
           {
            "line": {
             "colorbar": {
              "outlinewidth": 0,
              "ticks": ""
             }
            },
            "type": "parcoords"
           }
          ],
          "pie": [
           {
            "automargin": true,
            "type": "pie"
           }
          ],
          "scatter": [
           {
            "fillpattern": {
             "fillmode": "overlay",
             "size": 10,
             "solidity": 0.2
            },
            "type": "scatter"
           }
          ],
          "scatter3d": [
           {
            "line": {
             "colorbar": {
              "outlinewidth": 0,
              "ticks": ""
             }
            },
            "marker": {
             "colorbar": {
              "outlinewidth": 0,
              "ticks": ""
             }
            },
            "type": "scatter3d"
           }
          ],
          "scattercarpet": [
           {
            "marker": {
             "colorbar": {
              "outlinewidth": 0,
              "ticks": ""
             }
            },
            "type": "scattercarpet"
           }
          ],
          "scattergeo": [
           {
            "marker": {
             "colorbar": {
              "outlinewidth": 0,
              "ticks": ""
             }
            },
            "type": "scattergeo"
           }
          ],
          "scattergl": [
           {
            "marker": {
             "colorbar": {
              "outlinewidth": 0,
              "ticks": ""
             }
            },
            "type": "scattergl"
           }
          ],
          "scattermapbox": [
           {
            "marker": {
             "colorbar": {
              "outlinewidth": 0,
              "ticks": ""
             }
            },
            "type": "scattermapbox"
           }
          ],
          "scatterpolar": [
           {
            "marker": {
             "colorbar": {
              "outlinewidth": 0,
              "ticks": ""
             }
            },
            "type": "scatterpolar"
           }
          ],
          "scatterpolargl": [
           {
            "marker": {
             "colorbar": {
              "outlinewidth": 0,
              "ticks": ""
             }
            },
            "type": "scatterpolargl"
           }
          ],
          "scatterternary": [
           {
            "marker": {
             "colorbar": {
              "outlinewidth": 0,
              "ticks": ""
             }
            },
            "type": "scatterternary"
           }
          ],
          "surface": [
           {
            "colorbar": {
             "outlinewidth": 0,
             "ticks": ""
            },
            "colorscale": [
             [
              0,
              "#0d0887"
             ],
             [
              0.1111111111111111,
              "#46039f"
             ],
             [
              0.2222222222222222,
              "#7201a8"
             ],
             [
              0.3333333333333333,
              "#9c179e"
             ],
             [
              0.4444444444444444,
              "#bd3786"
             ],
             [
              0.5555555555555556,
              "#d8576b"
             ],
             [
              0.6666666666666666,
              "#ed7953"
             ],
             [
              0.7777777777777778,
              "#fb9f3a"
             ],
             [
              0.8888888888888888,
              "#fdca26"
             ],
             [
              1,
              "#f0f921"
             ]
            ],
            "type": "surface"
           }
          ],
          "table": [
           {
            "cells": {
             "fill": {
              "color": "#EBF0F8"
             },
             "line": {
              "color": "white"
             }
            },
            "header": {
             "fill": {
              "color": "#C8D4E3"
             },
             "line": {
              "color": "white"
             }
            },
            "type": "table"
           }
          ]
         },
         "layout": {
          "annotationdefaults": {
           "arrowcolor": "#2a3f5f",
           "arrowhead": 0,
           "arrowwidth": 1
          },
          "autotypenumbers": "strict",
          "coloraxis": {
           "colorbar": {
            "outlinewidth": 0,
            "ticks": ""
           }
          },
          "colorscale": {
           "diverging": [
            [
             0,
             "#8e0152"
            ],
            [
             0.1,
             "#c51b7d"
            ],
            [
             0.2,
             "#de77ae"
            ],
            [
             0.3,
             "#f1b6da"
            ],
            [
             0.4,
             "#fde0ef"
            ],
            [
             0.5,
             "#f7f7f7"
            ],
            [
             0.6,
             "#e6f5d0"
            ],
            [
             0.7,
             "#b8e186"
            ],
            [
             0.8,
             "#7fbc41"
            ],
            [
             0.9,
             "#4d9221"
            ],
            [
             1,
             "#276419"
            ]
           ],
           "sequential": [
            [
             0,
             "#0d0887"
            ],
            [
             0.1111111111111111,
             "#46039f"
            ],
            [
             0.2222222222222222,
             "#7201a8"
            ],
            [
             0.3333333333333333,
             "#9c179e"
            ],
            [
             0.4444444444444444,
             "#bd3786"
            ],
            [
             0.5555555555555556,
             "#d8576b"
            ],
            [
             0.6666666666666666,
             "#ed7953"
            ],
            [
             0.7777777777777778,
             "#fb9f3a"
            ],
            [
             0.8888888888888888,
             "#fdca26"
            ],
            [
             1,
             "#f0f921"
            ]
           ],
           "sequentialminus": [
            [
             0,
             "#0d0887"
            ],
            [
             0.1111111111111111,
             "#46039f"
            ],
            [
             0.2222222222222222,
             "#7201a8"
            ],
            [
             0.3333333333333333,
             "#9c179e"
            ],
            [
             0.4444444444444444,
             "#bd3786"
            ],
            [
             0.5555555555555556,
             "#d8576b"
            ],
            [
             0.6666666666666666,
             "#ed7953"
            ],
            [
             0.7777777777777778,
             "#fb9f3a"
            ],
            [
             0.8888888888888888,
             "#fdca26"
            ],
            [
             1,
             "#f0f921"
            ]
           ]
          },
          "colorway": [
           "#636efa",
           "#EF553B",
           "#00cc96",
           "#ab63fa",
           "#FFA15A",
           "#19d3f3",
           "#FF6692",
           "#B6E880",
           "#FF97FF",
           "#FECB52"
          ],
          "font": {
           "color": "#2a3f5f"
          },
          "geo": {
           "bgcolor": "white",
           "lakecolor": "white",
           "landcolor": "#E5ECF6",
           "showlakes": true,
           "showland": true,
           "subunitcolor": "white"
          },
          "hoverlabel": {
           "align": "left"
          },
          "hovermode": "closest",
          "mapbox": {
           "style": "light"
          },
          "paper_bgcolor": "white",
          "plot_bgcolor": "#E5ECF6",
          "polar": {
           "angularaxis": {
            "gridcolor": "white",
            "linecolor": "white",
            "ticks": ""
           },
           "bgcolor": "#E5ECF6",
           "radialaxis": {
            "gridcolor": "white",
            "linecolor": "white",
            "ticks": ""
           }
          },
          "scene": {
           "xaxis": {
            "backgroundcolor": "#E5ECF6",
            "gridcolor": "white",
            "gridwidth": 2,
            "linecolor": "white",
            "showbackground": true,
            "ticks": "",
            "zerolinecolor": "white"
           },
           "yaxis": {
            "backgroundcolor": "#E5ECF6",
            "gridcolor": "white",
            "gridwidth": 2,
            "linecolor": "white",
            "showbackground": true,
            "ticks": "",
            "zerolinecolor": "white"
           },
           "zaxis": {
            "backgroundcolor": "#E5ECF6",
            "gridcolor": "white",
            "gridwidth": 2,
            "linecolor": "white",
            "showbackground": true,
            "ticks": "",
            "zerolinecolor": "white"
           }
          },
          "shapedefaults": {
           "line": {
            "color": "#2a3f5f"
           }
          },
          "ternary": {
           "aaxis": {
            "gridcolor": "white",
            "linecolor": "white",
            "ticks": ""
           },
           "baxis": {
            "gridcolor": "white",
            "linecolor": "white",
            "ticks": ""
           },
           "bgcolor": "#E5ECF6",
           "caxis": {
            "gridcolor": "white",
            "linecolor": "white",
            "ticks": ""
           }
          },
          "title": {
           "x": 0.05
          },
          "xaxis": {
           "automargin": true,
           "gridcolor": "white",
           "linecolor": "white",
           "ticks": "",
           "title": {
            "standoff": 15
           },
           "zerolinecolor": "white",
           "zerolinewidth": 2
          },
          "yaxis": {
           "automargin": true,
           "gridcolor": "white",
           "linecolor": "white",
           "ticks": "",
           "title": {
            "standoff": 15
           },
           "zerolinecolor": "white",
           "zerolinewidth": 2
          }
         }
        },
        "title": {
         "text": "yas Box Plot"
        },
        "xaxis": {
         "anchor": "y",
         "domain": [
          0,
          1
         ]
        },
        "yaxis": {
         "anchor": "x",
         "domain": [
          0,
          1
         ],
         "title": {
          "text": "yas"
         }
        }
       }
      }
     },
     "metadata": {},
     "output_type": "display_data"
    },
    {
     "data": {
      "application/vnd.plotly.v1+json": {
       "config": {
        "plotlyServerURL": "https://plot.ly"
       },
       "data": [
        {
         "alignmentgroup": "True",
         "bingroup": "x",
         "hovertemplate": "aylik_ucret=%{x}<br>count=%{y}<extra></extra>",
         "legendgroup": "",
         "marker": {
          "color": "#636efa",
          "pattern": {
           "shape": ""
          }
         },
         "name": "",
         "nbinsx": 30,
         "offsetgroup": "",
         "orientation": "v",
         "showlegend": false,
         "type": "histogram",
         "x": [
          19479,
          24907,
          2396,
          23159,
          16632,
          11864,
          9964,
          13335,
          8787,
          16577,
          16479,
          12682,
          15170,
          8758,
          12947,
          10195,
          15053,
          7324,
          22021,
          4306,
          8232,
          6986,
          21293,
          19281,
          17102,
          10735,
          4681,
          21173,
          2094,
          22822,
          6670,
          19121,
          16117,
          3335,
          3020,
          21923,
          3810,
          9687,
          13072,
          3193,
          10910,
          19715,
          10558,
          2975,
          10781,
          16280,
          10034,
          10227,
          20445,
          4892,
          19294,
          11179,
          4009,
          8302,
          21436,
          15146,
          11031,
          16002,
          9528,
          2689,
          10877,
          5456,
          16701,
          2354,
          8202,
          19730,
          22656,
          18787,
          5868,
          21777,
          24668,
          4956,
          18775,
          7346,
          22002,
          20682,
          23016,
          15067,
          25258,
          10425,
          15998,
          26278,
          18092,
          15717,
          17736,
          21698,
          9518,
          18725,
          15830,
          13596,
          14115,
          8423,
          19760,
          3142,
          24301,
          24001,
          17519,
          8863,
          24409,
          25043,
          23648,
          15178,
          19783,
          12482,
          15850,
          21922,
          9755,
          26959,
          26897,
          23785,
          25796,
          22887,
          13871,
          13257,
          15000,
          14506,
          5615,
          22952,
          2561,
          19494,
          22310,
          15480,
          4510,
          6462,
          20739,
          23300,
          3465,
          26820,
          19299,
          5549,
          16090,
          6645,
          24788,
          21196,
          8916,
          2819,
          25150,
          14590,
          24835,
          13982,
          10224,
          9752,
          2302,
          23910,
          22812,
          10415,
          11162,
          12888,
          6961,
          16102,
          8504,
          11439,
          16047,
          10901,
          15589,
          26283,
          13983,
          11873,
          8552,
          11314,
          11992,
          5970,
          6672,
          23402,
          25326,
          17053,
          4609,
          8053,
          12930,
          12430,
          13364,
          20989,
          15062,
          11012,
          6319,
          13939,
          10515,
          9241,
          2137,
          6319,
          6984,
          5711,
          21728,
          3425,
          26250,
          4673,
          6499,
          13339,
          14074,
          7192,
          5678,
          11781,
          15497,
          5228,
          20462,
          22977,
          15986,
          16439,
          7259,
          4185,
          9679,
          23793,
          5972,
          16523,
          11354,
          24525,
          12392,
          7703,
          14242,
          12368,
          25812,
          20925,
          12916,
          15736,
          8556,
          14674,
          22967,
          19757,
          16840,
          17011,
          9945,
          13248,
          10056,
          9647,
          4381,
          8456,
          2539,
          6599,
          9096,
          14961,
          3300,
          4933,
          25657,
          24118,
          22149,
          7744,
          21509,
          21030,
          20990,
          9571,
          15417,
          12069,
          19877,
          24447,
          15970,
          13523,
          14776,
          23687,
          18697,
          5118,
          22573,
          6420,
          22673,
          23016,
          10732,
          7505,
          8007,
          5949,
          23231,
          11652,
          26062,
          19682,
          19737,
          14977,
          14935,
          3687,
          14408,
          18384,
          7501,
          20251,
          18938,
          10268,
          2613,
          22825,
          10531,
          11677,
          19100,
          19191,
          26767,
          15815,
          21016,
          24532,
          20260,
          15972,
          22722,
          15881,
          19920,
          18899,
          14180,
          4488,
          25594,
          26285,
          3909,
          8450,
          11411,
          14864,
          25233,
          5100,
          7122,
          16321,
          15896,
          9724,
          4824,
          12241,
          10942,
          6927,
          16985,
          26707,
          17056,
          10077,
          17822,
          20308,
          7747,
          23364,
          5355,
          10675,
          17810,
          17747,
          20938,
          24624,
          5242,
          7143,
          10557,
          24737,
          11934,
          14034,
          21141,
          17778,
          4317,
          16375,
          6227,
          22107,
          16885,
          9262,
          9278,
          13273,
          4759,
          7621,
          5431,
          3415,
          23177,
          15682,
          25713,
          11866,
          18264,
          16092,
          10110,
          25751,
          15901,
          16928,
          24017,
          3956,
          23978,
          17001,
          6069,
          20156,
          17078,
          9150,
          15276,
          7246,
          2967,
          22495,
          2851,
          9150,
          17663,
          16044,
          9558,
          2755,
          6110,
          7551,
          25422,
          18168,
          19394,
          17881,
          20750,
          12066,
          14862,
          11868,
          4652,
          23258,
          5915,
          17434,
          6582,
          24440,
          3809,
          3427,
          26914,
          22553,
          20490,
          21123,
          4345,
          13436,
          8509,
          12740,
          4156,
          15238,
          2227,
          12090,
          23866,
          16193,
          8213,
          18256,
          19558,
          19566,
          13535,
          9396,
          19609,
          9655,
          10310,
          12932,
          24793,
          3854,
          26314,
          4386,
          21972,
          12253,
          12106,
          13022,
          3032,
          16734,
          21526,
          18300,
          18437,
          2890,
          22102,
          9314,
          7181,
          2845,
          7389,
          2288,
          19225,
          23428,
          8416,
          11563,
          14394,
          24619,
          6705,
          18398,
          14295,
          22908,
          11533,
          9260,
          15318,
          9129,
          19658,
          9873,
          13430,
          18659,
          20364,
          17872,
          8346,
          6950,
          16177,
          22808,
          22645,
          22578,
          25291,
          8059,
          11373,
          2112,
          4267,
          6698,
          19921,
          23213,
          23848,
          8984,
          5626,
          24666,
          22087,
          23914,
          5530,
          22174,
          15701,
          2125,
          21630,
          7428,
          9100,
          7999,
          26376,
          14168,
          14470,
          22794,
          11512,
          14004,
          6219,
          5013,
          3010,
          11757,
          5718,
          2671,
          14561,
          19627,
          17997,
          26894,
          2912,
          16346,
          24444,
          9358,
          12145,
          20431,
          18089,
          22653,
          7507,
          7660,
          5630,
          17759,
          9606,
          3487,
          19368,
          5335,
          6729,
          13934,
          15174,
          26999,
          3164,
          16900,
          8544,
          15678,
          7791,
          18959,
          18597,
          16673,
          15232,
          3297,
          17654,
          24785,
          20978,
          21703,
          23452,
          19383,
          6009,
          19373,
          11825,
          23772,
          13514,
          8861,
          11924,
          4809,
          19562,
          9983,
          3872,
          20335,
          15397,
          2104,
          10225,
          25275,
          2755,
          20366,
          23683,
          7360,
          4344,
          18767,
          20420,
          22929,
          23398,
          17967,
          10919,
          4761,
          21146,
          20471,
          4187,
          10084,
          5207,
          22807,
          12388,
          19630,
          10339,
          18686,
          21199,
          14229,
          26589,
          5288,
          25549,
          3064,
          13551,
          22670,
          24008,
          19905,
          26085,
          7530,
          20317,
          24375,
          9931,
          13305,
          16225,
          3445,
          26551,
          21821,
          6881,
          6689,
          25995,
          26507,
          12982,
          23361,
          23779,
          25761,
          13301,
          4051,
          16374,
          25527,
          19124,
          11983,
          20234,
          6153,
          11806,
          4284,
          8306,
          5860,
          21519,
          5200,
          8842,
          18869,
          3698,
          2243,
          20898,
          16571,
          5594,
          5197,
          21632,
          21816,
          17852,
          2823,
          9250,
          2373,
          20715,
          19239,
          22162,
          19028,
          24558,
          23965,
          19146,
          5044,
          9068,
          8635,
          14363,
          23457,
          16612,
          9148,
          18154,
          10554,
          10778,
          8891,
          12102,
          23726,
          14871,
          23522,
          22789,
          9129,
          21222,
          20206,
          21782,
          17783,
          4814,
          4544,
          7790,
          22650,
          18016,
          6054,
          7508,
          24252,
          13384,
          23814,
          22052,
          8870,
          4821,
          13137,
          10022,
          17725,
          9834,
          4303,
          17808,
          6896,
          7824,
          3339,
          9255,
          11737,
          19170,
          22477,
          5543,
          24406,
          23293,
          16292,
          3974,
          18798,
          20652,
          11148,
          3119,
          12287,
          9947,
          13008,
          17369,
          25063,
          13554,
          5518,
          12291,
          14922,
          23163,
          18203,
          6179,
          13829,
          26227,
          13938,
          9977,
          19899,
          6812,
          2560,
          17071,
          6759,
          25952,
          10322,
          20489,
          11479,
          17241,
          11005,
          6615,
          20161,
          3735,
          12086,
          14039,
          8571,
          11539,
          4161,
          12127,
          24208,
          24117,
          10074,
          11275,
          13493,
          13943,
          6975,
          17802,
          18275,
          25725,
          3334,
          6881,
          13119,
          22245,
          23371,
          7060,
          4658,
          9541,
          7770,
          20165,
          21829,
          14382,
          12992,
          20284,
          4981,
          21813,
          25846,
          11737,
          24920,
          8269,
          5083,
          21437,
          5404,
          11135,
          12278,
          11038,
          8318,
          23537,
          7858,
          15346,
          18410,
          23384,
          2997,
          12853,
          13848,
          22217,
          25265,
          21445,
          8392,
          12154,
          15669,
          17323,
          5268,
          17205,
          17258,
          21029,
          10332,
          12355,
          11141,
          9096,
          18863,
          24608,
          26542,
          5869,
          15813,
          7909,
          2326,
          21214,
          10333,
          3129,
          22482,
          22266,
          24223,
          4605,
          19373,
          2993,
          14399,
          7160,
          17251,
          13401,
          22478,
          16154,
          17970,
          15322,
          5569,
          26968,
          8039,
          15596,
          20619,
          11535,
          13547,
          17544,
          25326,
          8770,
          23238,
          21981,
          19911,
          18500,
          11879,
          15834,
          17940,
          9558,
          17689,
          6004,
          22088,
          13556,
          18385,
          9051,
          6233,
          17171,
          7950,
          5829,
          7108,
          11162,
          13782,
          2447,
          2253,
          16340,
          6409,
          22955,
          13421,
          2706,
          21203,
          19588,
          25755,
          26537,
          9489,
          14947,
          18575,
          26342,
          7172,
          20100,
          9961,
          12828,
          10826,
          18640,
          26933,
          4223,
          24097,
          4279,
          8429,
          20293,
          13192,
          25440,
          9490,
          12449,
          10849,
          21026,
          3372,
          4905,
          6865,
          11309,
          7744,
          5050,
          17433,
          12858,
          10893,
          7331,
          2338,
          4235,
          6311,
          11591,
          20623,
          9369,
          23281,
          13755,
          14377,
          9659,
          19982,
          6148,
          5598,
          23474,
          17089,
          17198,
          16490,
          18625,
          12124,
          9256,
          16620,
          3208,
          4204,
          8733,
          3423,
          21643,
          8751,
          21708,
          21221,
          16901,
          8040,
          9973,
          2493,
          25592,
          25308,
          9946,
          6039,
          19196,
          20002,
          22534,
          6842,
          17477,
          21833,
          6020,
          5628,
          20364,
          2323,
          14075,
          14222,
          4257,
          12858,
          17285,
          4732,
          18830,
          11693,
          13035,
          17334,
          26076,
          22845,
          22154,
          23631,
          5747,
          22957,
          16392,
          22422,
          17235,
          21534,
          25927,
          13352,
          8935,
          22074,
          8319,
          14669,
          26582,
          6992,
          4022,
          8532,
          5494,
          22455,
          4297,
          2690,
          17588,
          19461,
          23553,
          9075,
          12023,
          6762,
          2261,
          18706,
          6527,
          24439,
          19305,
          10846,
          20392,
          9277,
          18235,
          15891,
          13888,
          17491,
          11882,
          23288,
          15748,
          6163,
          24232,
          21057,
          3567,
          15395,
          13953,
          5182,
          19293,
          20497,
          3449,
          12477,
          9731,
          20003,
          7100,
          25681,
          4050,
          16616,
          17363,
          19106,
          19944,
          4910,
          23577,
          9769,
          22710,
          22930,
          5652,
          22456,
          12414,
          20763,
          16154,
          12761,
          8847,
          20284,
          22262,
          7679,
          22604,
          13494,
          10205,
          15182,
          25470,
          10494,
          26703,
          15211,
          23343,
          3708,
          5561,
          23099,
          8386,
          15986,
          17181,
          8931,
          19863,
          24609,
          21081,
          14720,
          24795,
          3072,
          25178,
          23490,
          7973,
          19764,
          21534,
          8045,
          21158,
          17456,
          15891,
          2939,
          16458,
          9282,
          7152,
          2721,
          20948,
          11929,
          15747,
          17485,
          7815,
          16192,
          16998,
          7103,
          19719,
          23757,
          15428,
          16143,
          8192,
          24200,
          5355,
          12530,
          11827,
          23070,
          4668,
          3173,
          22049,
          21072,
          24456,
          7568,
          22074,
          9150,
          11380,
          21195,
          24812,
          21831,
          12288,
          4156,
          24450,
          4944,
          24052,
          3031,
          7288,
          24152,
          4585,
          18611,
          19345,
          22949,
          17381,
          10036,
          8841,
          20933,
          26204,
          15624,
          17001,
          13693,
          22376,
          10589,
          5323,
          14814,
          21731,
          17799,
          26619,
          14618,
          7653,
          25174,
          16530,
          22061,
          23037,
          13008,
          11133,
          12355,
          16379,
          21447,
          16213,
          4223,
          4658,
          24483,
          19519,
          12826,
          19711,
          26362,
          25348,
          15332,
          11262,
          5855,
          7713,
          3156,
          7324,
          10293,
          20689,
          18783,
          3549,
          5348,
          23447,
          24162,
          21602,
          12421,
          17000,
          22102,
          3835,
          16290,
          26312,
          20460,
          26009,
          18420,
          5220,
          10302,
          25800,
          12250,
          26493,
          3140,
          5388,
          14199,
          21530,
          9953,
          19948,
          10503,
          5602,
          22098,
          17218,
          22490,
          6297,
          3339,
          23413,
          22792,
          4973,
          7693,
          3498,
          21981,
          13251,
          19332,
          10950,
          11652,
          15411,
          26308,
          18685,
          3525,
          10414,
          9867,
          3356,
          3921,
          25518,
          22589,
          24941,
          23826,
          21086,
          22384,
          11591,
          21082,
          16130,
          7419,
          4167,
          20586,
          26176,
          3458,
          11740,
          24852,
          11925,
          23737,
          11912,
          20467,
          13637,
          7677,
          20338,
          25103,
          14810,
          13970,
          6069,
          17616,
          15869,
          25412,
          7439,
          3395,
          11585,
          24164,
          6217,
          17119,
          17360,
          18103,
          20794,
          5041,
          3622,
          9697,
          5151,
          3811,
          3536,
          5596,
          8658,
          12147,
          12862,
          6670,
          8989,
          3840,
          4349,
          6595,
          26427,
          2097,
          9732,
          20943,
          6152,
          14630,
          23060,
          3088,
          5586,
          10697,
          8191,
          10092,
          15963,
          19002,
          10007,
          9128,
          17674,
          24539,
          15587,
          8952,
          19805,
          6194,
          20520,
          12313,
          22308,
          5033,
          25353,
          4567,
          16376,
          15999,
          13402,
          22984,
          8800,
          14218,
          25949,
          11092,
          12832,
          13492,
          6076,
          5531,
          7914,
          25166,
          25605,
          5696,
          24442,
          7129,
          6208,
          4992,
          19188,
          24978,
          15530,
          26458,
          2739,
          6889,
          10842,
          9060,
          22128,
          22577,
          9696,
          19271,
          10748,
          15696,
          8277,
          12719,
          4244,
          9125,
          21624,
          8018,
          21495,
          3157,
          19665,
          19573,
          19246,
          19826,
          7003,
          26075,
          6161,
          5411,
          19989,
          10494,
          21143,
          13624,
          26186,
          7739,
          7018,
          15434,
          22539,
          13583,
          14753,
          14011,
          23844,
          5141,
          7975,
          3692,
          16019,
          26092,
          6060,
          18624,
          24444,
          19384,
          13588,
          25388,
          23888,
          4223,
          18991,
          14908,
          26997,
          2437,
          9364,
          14460,
          10261,
          16822,
          26841,
          14842,
          20115,
          16495,
          16031,
          7102,
          14511,
          10410,
          19255,
          10642,
          3987,
          6073,
          26496,
          23352,
          2125,
          20328,
          12315,
          18115,
          11761,
          15318,
          14293,
          13738,
          2900,
          19555,
          15975,
          2122,
          3995,
          9238,
          6770,
          22914,
          20006,
          6225,
          16542,
          5771,
          18779,
          11473,
          13586,
          5099,
          10138,
          21075,
          5843,
          22474,
          18079,
          16873,
          5224,
          25811,
          17536,
          25098,
          14811,
          26862,
          25198,
          14120,
          13672,
          26849,
          4258,
          19655,
          4077,
          7298,
          13084,
          20439,
          7636,
          6393,
          14284,
          11189,
          21412,
          17231,
          20232,
          17624,
          18698,
          21653,
          15919,
          4060,
          18024,
          5340,
          3376,
          24032,
          15471,
          13684,
          19788,
          13422,
          25479,
          15302,
          26956,
          12695,
          9192,
          26236,
          26124,
          17312,
          3666,
          5640,
          8978,
          10436,
          12227,
          11288,
          16642,
          5982,
          14255,
          14369,
          23333,
          2725,
          24594,
          12549,
          8952,
          23679,
          8489,
          16586,
          8828,
          3787,
          21378,
          12290,
          21457,
          5174,
          13243,
          10228
         ],
         "xaxis": "x",
         "yaxis": "y"
        }
       ],
       "layout": {
        "barmode": "relative",
        "legend": {
         "tracegroupgap": 0
        },
        "template": {
         "data": {
          "bar": [
           {
            "error_x": {
             "color": "#2a3f5f"
            },
            "error_y": {
             "color": "#2a3f5f"
            },
            "marker": {
             "line": {
              "color": "#E5ECF6",
              "width": 0.5
             },
             "pattern": {
              "fillmode": "overlay",
              "size": 10,
              "solidity": 0.2
             }
            },
            "type": "bar"
           }
          ],
          "barpolar": [
           {
            "marker": {
             "line": {
              "color": "#E5ECF6",
              "width": 0.5
             },
             "pattern": {
              "fillmode": "overlay",
              "size": 10,
              "solidity": 0.2
             }
            },
            "type": "barpolar"
           }
          ],
          "carpet": [
           {
            "aaxis": {
             "endlinecolor": "#2a3f5f",
             "gridcolor": "white",
             "linecolor": "white",
             "minorgridcolor": "white",
             "startlinecolor": "#2a3f5f"
            },
            "baxis": {
             "endlinecolor": "#2a3f5f",
             "gridcolor": "white",
             "linecolor": "white",
             "minorgridcolor": "white",
             "startlinecolor": "#2a3f5f"
            },
            "type": "carpet"
           }
          ],
          "choropleth": [
           {
            "colorbar": {
             "outlinewidth": 0,
             "ticks": ""
            },
            "type": "choropleth"
           }
          ],
          "contour": [
           {
            "colorbar": {
             "outlinewidth": 0,
             "ticks": ""
            },
            "colorscale": [
             [
              0,
              "#0d0887"
             ],
             [
              0.1111111111111111,
              "#46039f"
             ],
             [
              0.2222222222222222,
              "#7201a8"
             ],
             [
              0.3333333333333333,
              "#9c179e"
             ],
             [
              0.4444444444444444,
              "#bd3786"
             ],
             [
              0.5555555555555556,
              "#d8576b"
             ],
             [
              0.6666666666666666,
              "#ed7953"
             ],
             [
              0.7777777777777778,
              "#fb9f3a"
             ],
             [
              0.8888888888888888,
              "#fdca26"
             ],
             [
              1,
              "#f0f921"
             ]
            ],
            "type": "contour"
           }
          ],
          "contourcarpet": [
           {
            "colorbar": {
             "outlinewidth": 0,
             "ticks": ""
            },
            "type": "contourcarpet"
           }
          ],
          "heatmap": [
           {
            "colorbar": {
             "outlinewidth": 0,
             "ticks": ""
            },
            "colorscale": [
             [
              0,
              "#0d0887"
             ],
             [
              0.1111111111111111,
              "#46039f"
             ],
             [
              0.2222222222222222,
              "#7201a8"
             ],
             [
              0.3333333333333333,
              "#9c179e"
             ],
             [
              0.4444444444444444,
              "#bd3786"
             ],
             [
              0.5555555555555556,
              "#d8576b"
             ],
             [
              0.6666666666666666,
              "#ed7953"
             ],
             [
              0.7777777777777778,
              "#fb9f3a"
             ],
             [
              0.8888888888888888,
              "#fdca26"
             ],
             [
              1,
              "#f0f921"
             ]
            ],
            "type": "heatmap"
           }
          ],
          "heatmapgl": [
           {
            "colorbar": {
             "outlinewidth": 0,
             "ticks": ""
            },
            "colorscale": [
             [
              0,
              "#0d0887"
             ],
             [
              0.1111111111111111,
              "#46039f"
             ],
             [
              0.2222222222222222,
              "#7201a8"
             ],
             [
              0.3333333333333333,
              "#9c179e"
             ],
             [
              0.4444444444444444,
              "#bd3786"
             ],
             [
              0.5555555555555556,
              "#d8576b"
             ],
             [
              0.6666666666666666,
              "#ed7953"
             ],
             [
              0.7777777777777778,
              "#fb9f3a"
             ],
             [
              0.8888888888888888,
              "#fdca26"
             ],
             [
              1,
              "#f0f921"
             ]
            ],
            "type": "heatmapgl"
           }
          ],
          "histogram": [
           {
            "marker": {
             "pattern": {
              "fillmode": "overlay",
              "size": 10,
              "solidity": 0.2
             }
            },
            "type": "histogram"
           }
          ],
          "histogram2d": [
           {
            "colorbar": {
             "outlinewidth": 0,
             "ticks": ""
            },
            "colorscale": [
             [
              0,
              "#0d0887"
             ],
             [
              0.1111111111111111,
              "#46039f"
             ],
             [
              0.2222222222222222,
              "#7201a8"
             ],
             [
              0.3333333333333333,
              "#9c179e"
             ],
             [
              0.4444444444444444,
              "#bd3786"
             ],
             [
              0.5555555555555556,
              "#d8576b"
             ],
             [
              0.6666666666666666,
              "#ed7953"
             ],
             [
              0.7777777777777778,
              "#fb9f3a"
             ],
             [
              0.8888888888888888,
              "#fdca26"
             ],
             [
              1,
              "#f0f921"
             ]
            ],
            "type": "histogram2d"
           }
          ],
          "histogram2dcontour": [
           {
            "colorbar": {
             "outlinewidth": 0,
             "ticks": ""
            },
            "colorscale": [
             [
              0,
              "#0d0887"
             ],
             [
              0.1111111111111111,
              "#46039f"
             ],
             [
              0.2222222222222222,
              "#7201a8"
             ],
             [
              0.3333333333333333,
              "#9c179e"
             ],
             [
              0.4444444444444444,
              "#bd3786"
             ],
             [
              0.5555555555555556,
              "#d8576b"
             ],
             [
              0.6666666666666666,
              "#ed7953"
             ],
             [
              0.7777777777777778,
              "#fb9f3a"
             ],
             [
              0.8888888888888888,
              "#fdca26"
             ],
             [
              1,
              "#f0f921"
             ]
            ],
            "type": "histogram2dcontour"
           }
          ],
          "mesh3d": [
           {
            "colorbar": {
             "outlinewidth": 0,
             "ticks": ""
            },
            "type": "mesh3d"
           }
          ],
          "parcoords": [
           {
            "line": {
             "colorbar": {
              "outlinewidth": 0,
              "ticks": ""
             }
            },
            "type": "parcoords"
           }
          ],
          "pie": [
           {
            "automargin": true,
            "type": "pie"
           }
          ],
          "scatter": [
           {
            "fillpattern": {
             "fillmode": "overlay",
             "size": 10,
             "solidity": 0.2
            },
            "type": "scatter"
           }
          ],
          "scatter3d": [
           {
            "line": {
             "colorbar": {
              "outlinewidth": 0,
              "ticks": ""
             }
            },
            "marker": {
             "colorbar": {
              "outlinewidth": 0,
              "ticks": ""
             }
            },
            "type": "scatter3d"
           }
          ],
          "scattercarpet": [
           {
            "marker": {
             "colorbar": {
              "outlinewidth": 0,
              "ticks": ""
             }
            },
            "type": "scattercarpet"
           }
          ],
          "scattergeo": [
           {
            "marker": {
             "colorbar": {
              "outlinewidth": 0,
              "ticks": ""
             }
            },
            "type": "scattergeo"
           }
          ],
          "scattergl": [
           {
            "marker": {
             "colorbar": {
              "outlinewidth": 0,
              "ticks": ""
             }
            },
            "type": "scattergl"
           }
          ],
          "scattermapbox": [
           {
            "marker": {
             "colorbar": {
              "outlinewidth": 0,
              "ticks": ""
             }
            },
            "type": "scattermapbox"
           }
          ],
          "scatterpolar": [
           {
            "marker": {
             "colorbar": {
              "outlinewidth": 0,
              "ticks": ""
             }
            },
            "type": "scatterpolar"
           }
          ],
          "scatterpolargl": [
           {
            "marker": {
             "colorbar": {
              "outlinewidth": 0,
              "ticks": ""
             }
            },
            "type": "scatterpolargl"
           }
          ],
          "scatterternary": [
           {
            "marker": {
             "colorbar": {
              "outlinewidth": 0,
              "ticks": ""
             }
            },
            "type": "scatterternary"
           }
          ],
          "surface": [
           {
            "colorbar": {
             "outlinewidth": 0,
             "ticks": ""
            },
            "colorscale": [
             [
              0,
              "#0d0887"
             ],
             [
              0.1111111111111111,
              "#46039f"
             ],
             [
              0.2222222222222222,
              "#7201a8"
             ],
             [
              0.3333333333333333,
              "#9c179e"
             ],
             [
              0.4444444444444444,
              "#bd3786"
             ],
             [
              0.5555555555555556,
              "#d8576b"
             ],
             [
              0.6666666666666666,
              "#ed7953"
             ],
             [
              0.7777777777777778,
              "#fb9f3a"
             ],
             [
              0.8888888888888888,
              "#fdca26"
             ],
             [
              1,
              "#f0f921"
             ]
            ],
            "type": "surface"
           }
          ],
          "table": [
           {
            "cells": {
             "fill": {
              "color": "#EBF0F8"
             },
             "line": {
              "color": "white"
             }
            },
            "header": {
             "fill": {
              "color": "#C8D4E3"
             },
             "line": {
              "color": "white"
             }
            },
            "type": "table"
           }
          ]
         },
         "layout": {
          "annotationdefaults": {
           "arrowcolor": "#2a3f5f",
           "arrowhead": 0,
           "arrowwidth": 1
          },
          "autotypenumbers": "strict",
          "coloraxis": {
           "colorbar": {
            "outlinewidth": 0,
            "ticks": ""
           }
          },
          "colorscale": {
           "diverging": [
            [
             0,
             "#8e0152"
            ],
            [
             0.1,
             "#c51b7d"
            ],
            [
             0.2,
             "#de77ae"
            ],
            [
             0.3,
             "#f1b6da"
            ],
            [
             0.4,
             "#fde0ef"
            ],
            [
             0.5,
             "#f7f7f7"
            ],
            [
             0.6,
             "#e6f5d0"
            ],
            [
             0.7,
             "#b8e186"
            ],
            [
             0.8,
             "#7fbc41"
            ],
            [
             0.9,
             "#4d9221"
            ],
            [
             1,
             "#276419"
            ]
           ],
           "sequential": [
            [
             0,
             "#0d0887"
            ],
            [
             0.1111111111111111,
             "#46039f"
            ],
            [
             0.2222222222222222,
             "#7201a8"
            ],
            [
             0.3333333333333333,
             "#9c179e"
            ],
            [
             0.4444444444444444,
             "#bd3786"
            ],
            [
             0.5555555555555556,
             "#d8576b"
            ],
            [
             0.6666666666666666,
             "#ed7953"
            ],
            [
             0.7777777777777778,
             "#fb9f3a"
            ],
            [
             0.8888888888888888,
             "#fdca26"
            ],
            [
             1,
             "#f0f921"
            ]
           ],
           "sequentialminus": [
            [
             0,
             "#0d0887"
            ],
            [
             0.1111111111111111,
             "#46039f"
            ],
            [
             0.2222222222222222,
             "#7201a8"
            ],
            [
             0.3333333333333333,
             "#9c179e"
            ],
            [
             0.4444444444444444,
             "#bd3786"
            ],
            [
             0.5555555555555556,
             "#d8576b"
            ],
            [
             0.6666666666666666,
             "#ed7953"
            ],
            [
             0.7777777777777778,
             "#fb9f3a"
            ],
            [
             0.8888888888888888,
             "#fdca26"
            ],
            [
             1,
             "#f0f921"
            ]
           ]
          },
          "colorway": [
           "#636efa",
           "#EF553B",
           "#00cc96",
           "#ab63fa",
           "#FFA15A",
           "#19d3f3",
           "#FF6692",
           "#B6E880",
           "#FF97FF",
           "#FECB52"
          ],
          "font": {
           "color": "#2a3f5f"
          },
          "geo": {
           "bgcolor": "white",
           "lakecolor": "white",
           "landcolor": "#E5ECF6",
           "showlakes": true,
           "showland": true,
           "subunitcolor": "white"
          },
          "hoverlabel": {
           "align": "left"
          },
          "hovermode": "closest",
          "mapbox": {
           "style": "light"
          },
          "paper_bgcolor": "white",
          "plot_bgcolor": "#E5ECF6",
          "polar": {
           "angularaxis": {
            "gridcolor": "white",
            "linecolor": "white",
            "ticks": ""
           },
           "bgcolor": "#E5ECF6",
           "radialaxis": {
            "gridcolor": "white",
            "linecolor": "white",
            "ticks": ""
           }
          },
          "scene": {
           "xaxis": {
            "backgroundcolor": "#E5ECF6",
            "gridcolor": "white",
            "gridwidth": 2,
            "linecolor": "white",
            "showbackground": true,
            "ticks": "",
            "zerolinecolor": "white"
           },
           "yaxis": {
            "backgroundcolor": "#E5ECF6",
            "gridcolor": "white",
            "gridwidth": 2,
            "linecolor": "white",
            "showbackground": true,
            "ticks": "",
            "zerolinecolor": "white"
           },
           "zaxis": {
            "backgroundcolor": "#E5ECF6",
            "gridcolor": "white",
            "gridwidth": 2,
            "linecolor": "white",
            "showbackground": true,
            "ticks": "",
            "zerolinecolor": "white"
           }
          },
          "shapedefaults": {
           "line": {
            "color": "#2a3f5f"
           }
          },
          "ternary": {
           "aaxis": {
            "gridcolor": "white",
            "linecolor": "white",
            "ticks": ""
           },
           "baxis": {
            "gridcolor": "white",
            "linecolor": "white",
            "ticks": ""
           },
           "bgcolor": "#E5ECF6",
           "caxis": {
            "gridcolor": "white",
            "linecolor": "white",
            "ticks": ""
           }
          },
          "title": {
           "x": 0.05
          },
          "xaxis": {
           "automargin": true,
           "gridcolor": "white",
           "linecolor": "white",
           "ticks": "",
           "title": {
            "standoff": 15
           },
           "zerolinecolor": "white",
           "zerolinewidth": 2
          },
          "yaxis": {
           "automargin": true,
           "gridcolor": "white",
           "linecolor": "white",
           "ticks": "",
           "title": {
            "standoff": 15
           },
           "zerolinecolor": "white",
           "zerolinewidth": 2
          }
         }
        },
        "title": {
         "text": "aylik_ucret Distribution"
        },
        "xaxis": {
         "anchor": "y",
         "domain": [
          0,
          1
         ],
         "title": {
          "text": "aylik_ucret"
         }
        },
        "yaxis": {
         "anchor": "x",
         "domain": [
          0,
          1
         ],
         "title": {
          "text": "count"
         }
        }
       }
      }
     },
     "metadata": {},
     "output_type": "display_data"
    },
    {
     "data": {
      "application/vnd.plotly.v1+json": {
       "config": {
        "plotlyServerURL": "https://plot.ly"
       },
       "data": [
        {
         "alignmentgroup": "True",
         "hovertemplate": "aylik_ucret=%{y}<extra></extra>",
         "legendgroup": "",
         "marker": {
          "color": "#636efa"
         },
         "name": "",
         "notched": false,
         "offsetgroup": "",
         "orientation": "v",
         "showlegend": false,
         "type": "box",
         "x0": " ",
         "xaxis": "x",
         "y": [
          19479,
          24907,
          2396,
          23159,
          16632,
          11864,
          9964,
          13335,
          8787,
          16577,
          16479,
          12682,
          15170,
          8758,
          12947,
          10195,
          15053,
          7324,
          22021,
          4306,
          8232,
          6986,
          21293,
          19281,
          17102,
          10735,
          4681,
          21173,
          2094,
          22822,
          6670,
          19121,
          16117,
          3335,
          3020,
          21923,
          3810,
          9687,
          13072,
          3193,
          10910,
          19715,
          10558,
          2975,
          10781,
          16280,
          10034,
          10227,
          20445,
          4892,
          19294,
          11179,
          4009,
          8302,
          21436,
          15146,
          11031,
          16002,
          9528,
          2689,
          10877,
          5456,
          16701,
          2354,
          8202,
          19730,
          22656,
          18787,
          5868,
          21777,
          24668,
          4956,
          18775,
          7346,
          22002,
          20682,
          23016,
          15067,
          25258,
          10425,
          15998,
          26278,
          18092,
          15717,
          17736,
          21698,
          9518,
          18725,
          15830,
          13596,
          14115,
          8423,
          19760,
          3142,
          24301,
          24001,
          17519,
          8863,
          24409,
          25043,
          23648,
          15178,
          19783,
          12482,
          15850,
          21922,
          9755,
          26959,
          26897,
          23785,
          25796,
          22887,
          13871,
          13257,
          15000,
          14506,
          5615,
          22952,
          2561,
          19494,
          22310,
          15480,
          4510,
          6462,
          20739,
          23300,
          3465,
          26820,
          19299,
          5549,
          16090,
          6645,
          24788,
          21196,
          8916,
          2819,
          25150,
          14590,
          24835,
          13982,
          10224,
          9752,
          2302,
          23910,
          22812,
          10415,
          11162,
          12888,
          6961,
          16102,
          8504,
          11439,
          16047,
          10901,
          15589,
          26283,
          13983,
          11873,
          8552,
          11314,
          11992,
          5970,
          6672,
          23402,
          25326,
          17053,
          4609,
          8053,
          12930,
          12430,
          13364,
          20989,
          15062,
          11012,
          6319,
          13939,
          10515,
          9241,
          2137,
          6319,
          6984,
          5711,
          21728,
          3425,
          26250,
          4673,
          6499,
          13339,
          14074,
          7192,
          5678,
          11781,
          15497,
          5228,
          20462,
          22977,
          15986,
          16439,
          7259,
          4185,
          9679,
          23793,
          5972,
          16523,
          11354,
          24525,
          12392,
          7703,
          14242,
          12368,
          25812,
          20925,
          12916,
          15736,
          8556,
          14674,
          22967,
          19757,
          16840,
          17011,
          9945,
          13248,
          10056,
          9647,
          4381,
          8456,
          2539,
          6599,
          9096,
          14961,
          3300,
          4933,
          25657,
          24118,
          22149,
          7744,
          21509,
          21030,
          20990,
          9571,
          15417,
          12069,
          19877,
          24447,
          15970,
          13523,
          14776,
          23687,
          18697,
          5118,
          22573,
          6420,
          22673,
          23016,
          10732,
          7505,
          8007,
          5949,
          23231,
          11652,
          26062,
          19682,
          19737,
          14977,
          14935,
          3687,
          14408,
          18384,
          7501,
          20251,
          18938,
          10268,
          2613,
          22825,
          10531,
          11677,
          19100,
          19191,
          26767,
          15815,
          21016,
          24532,
          20260,
          15972,
          22722,
          15881,
          19920,
          18899,
          14180,
          4488,
          25594,
          26285,
          3909,
          8450,
          11411,
          14864,
          25233,
          5100,
          7122,
          16321,
          15896,
          9724,
          4824,
          12241,
          10942,
          6927,
          16985,
          26707,
          17056,
          10077,
          17822,
          20308,
          7747,
          23364,
          5355,
          10675,
          17810,
          17747,
          20938,
          24624,
          5242,
          7143,
          10557,
          24737,
          11934,
          14034,
          21141,
          17778,
          4317,
          16375,
          6227,
          22107,
          16885,
          9262,
          9278,
          13273,
          4759,
          7621,
          5431,
          3415,
          23177,
          15682,
          25713,
          11866,
          18264,
          16092,
          10110,
          25751,
          15901,
          16928,
          24017,
          3956,
          23978,
          17001,
          6069,
          20156,
          17078,
          9150,
          15276,
          7246,
          2967,
          22495,
          2851,
          9150,
          17663,
          16044,
          9558,
          2755,
          6110,
          7551,
          25422,
          18168,
          19394,
          17881,
          20750,
          12066,
          14862,
          11868,
          4652,
          23258,
          5915,
          17434,
          6582,
          24440,
          3809,
          3427,
          26914,
          22553,
          20490,
          21123,
          4345,
          13436,
          8509,
          12740,
          4156,
          15238,
          2227,
          12090,
          23866,
          16193,
          8213,
          18256,
          19558,
          19566,
          13535,
          9396,
          19609,
          9655,
          10310,
          12932,
          24793,
          3854,
          26314,
          4386,
          21972,
          12253,
          12106,
          13022,
          3032,
          16734,
          21526,
          18300,
          18437,
          2890,
          22102,
          9314,
          7181,
          2845,
          7389,
          2288,
          19225,
          23428,
          8416,
          11563,
          14394,
          24619,
          6705,
          18398,
          14295,
          22908,
          11533,
          9260,
          15318,
          9129,
          19658,
          9873,
          13430,
          18659,
          20364,
          17872,
          8346,
          6950,
          16177,
          22808,
          22645,
          22578,
          25291,
          8059,
          11373,
          2112,
          4267,
          6698,
          19921,
          23213,
          23848,
          8984,
          5626,
          24666,
          22087,
          23914,
          5530,
          22174,
          15701,
          2125,
          21630,
          7428,
          9100,
          7999,
          26376,
          14168,
          14470,
          22794,
          11512,
          14004,
          6219,
          5013,
          3010,
          11757,
          5718,
          2671,
          14561,
          19627,
          17997,
          26894,
          2912,
          16346,
          24444,
          9358,
          12145,
          20431,
          18089,
          22653,
          7507,
          7660,
          5630,
          17759,
          9606,
          3487,
          19368,
          5335,
          6729,
          13934,
          15174,
          26999,
          3164,
          16900,
          8544,
          15678,
          7791,
          18959,
          18597,
          16673,
          15232,
          3297,
          17654,
          24785,
          20978,
          21703,
          23452,
          19383,
          6009,
          19373,
          11825,
          23772,
          13514,
          8861,
          11924,
          4809,
          19562,
          9983,
          3872,
          20335,
          15397,
          2104,
          10225,
          25275,
          2755,
          20366,
          23683,
          7360,
          4344,
          18767,
          20420,
          22929,
          23398,
          17967,
          10919,
          4761,
          21146,
          20471,
          4187,
          10084,
          5207,
          22807,
          12388,
          19630,
          10339,
          18686,
          21199,
          14229,
          26589,
          5288,
          25549,
          3064,
          13551,
          22670,
          24008,
          19905,
          26085,
          7530,
          20317,
          24375,
          9931,
          13305,
          16225,
          3445,
          26551,
          21821,
          6881,
          6689,
          25995,
          26507,
          12982,
          23361,
          23779,
          25761,
          13301,
          4051,
          16374,
          25527,
          19124,
          11983,
          20234,
          6153,
          11806,
          4284,
          8306,
          5860,
          21519,
          5200,
          8842,
          18869,
          3698,
          2243,
          20898,
          16571,
          5594,
          5197,
          21632,
          21816,
          17852,
          2823,
          9250,
          2373,
          20715,
          19239,
          22162,
          19028,
          24558,
          23965,
          19146,
          5044,
          9068,
          8635,
          14363,
          23457,
          16612,
          9148,
          18154,
          10554,
          10778,
          8891,
          12102,
          23726,
          14871,
          23522,
          22789,
          9129,
          21222,
          20206,
          21782,
          17783,
          4814,
          4544,
          7790,
          22650,
          18016,
          6054,
          7508,
          24252,
          13384,
          23814,
          22052,
          8870,
          4821,
          13137,
          10022,
          17725,
          9834,
          4303,
          17808,
          6896,
          7824,
          3339,
          9255,
          11737,
          19170,
          22477,
          5543,
          24406,
          23293,
          16292,
          3974,
          18798,
          20652,
          11148,
          3119,
          12287,
          9947,
          13008,
          17369,
          25063,
          13554,
          5518,
          12291,
          14922,
          23163,
          18203,
          6179,
          13829,
          26227,
          13938,
          9977,
          19899,
          6812,
          2560,
          17071,
          6759,
          25952,
          10322,
          20489,
          11479,
          17241,
          11005,
          6615,
          20161,
          3735,
          12086,
          14039,
          8571,
          11539,
          4161,
          12127,
          24208,
          24117,
          10074,
          11275,
          13493,
          13943,
          6975,
          17802,
          18275,
          25725,
          3334,
          6881,
          13119,
          22245,
          23371,
          7060,
          4658,
          9541,
          7770,
          20165,
          21829,
          14382,
          12992,
          20284,
          4981,
          21813,
          25846,
          11737,
          24920,
          8269,
          5083,
          21437,
          5404,
          11135,
          12278,
          11038,
          8318,
          23537,
          7858,
          15346,
          18410,
          23384,
          2997,
          12853,
          13848,
          22217,
          25265,
          21445,
          8392,
          12154,
          15669,
          17323,
          5268,
          17205,
          17258,
          21029,
          10332,
          12355,
          11141,
          9096,
          18863,
          24608,
          26542,
          5869,
          15813,
          7909,
          2326,
          21214,
          10333,
          3129,
          22482,
          22266,
          24223,
          4605,
          19373,
          2993,
          14399,
          7160,
          17251,
          13401,
          22478,
          16154,
          17970,
          15322,
          5569,
          26968,
          8039,
          15596,
          20619,
          11535,
          13547,
          17544,
          25326,
          8770,
          23238,
          21981,
          19911,
          18500,
          11879,
          15834,
          17940,
          9558,
          17689,
          6004,
          22088,
          13556,
          18385,
          9051,
          6233,
          17171,
          7950,
          5829,
          7108,
          11162,
          13782,
          2447,
          2253,
          16340,
          6409,
          22955,
          13421,
          2706,
          21203,
          19588,
          25755,
          26537,
          9489,
          14947,
          18575,
          26342,
          7172,
          20100,
          9961,
          12828,
          10826,
          18640,
          26933,
          4223,
          24097,
          4279,
          8429,
          20293,
          13192,
          25440,
          9490,
          12449,
          10849,
          21026,
          3372,
          4905,
          6865,
          11309,
          7744,
          5050,
          17433,
          12858,
          10893,
          7331,
          2338,
          4235,
          6311,
          11591,
          20623,
          9369,
          23281,
          13755,
          14377,
          9659,
          19982,
          6148,
          5598,
          23474,
          17089,
          17198,
          16490,
          18625,
          12124,
          9256,
          16620,
          3208,
          4204,
          8733,
          3423,
          21643,
          8751,
          21708,
          21221,
          16901,
          8040,
          9973,
          2493,
          25592,
          25308,
          9946,
          6039,
          19196,
          20002,
          22534,
          6842,
          17477,
          21833,
          6020,
          5628,
          20364,
          2323,
          14075,
          14222,
          4257,
          12858,
          17285,
          4732,
          18830,
          11693,
          13035,
          17334,
          26076,
          22845,
          22154,
          23631,
          5747,
          22957,
          16392,
          22422,
          17235,
          21534,
          25927,
          13352,
          8935,
          22074,
          8319,
          14669,
          26582,
          6992,
          4022,
          8532,
          5494,
          22455,
          4297,
          2690,
          17588,
          19461,
          23553,
          9075,
          12023,
          6762,
          2261,
          18706,
          6527,
          24439,
          19305,
          10846,
          20392,
          9277,
          18235,
          15891,
          13888,
          17491,
          11882,
          23288,
          15748,
          6163,
          24232,
          21057,
          3567,
          15395,
          13953,
          5182,
          19293,
          20497,
          3449,
          12477,
          9731,
          20003,
          7100,
          25681,
          4050,
          16616,
          17363,
          19106,
          19944,
          4910,
          23577,
          9769,
          22710,
          22930,
          5652,
          22456,
          12414,
          20763,
          16154,
          12761,
          8847,
          20284,
          22262,
          7679,
          22604,
          13494,
          10205,
          15182,
          25470,
          10494,
          26703,
          15211,
          23343,
          3708,
          5561,
          23099,
          8386,
          15986,
          17181,
          8931,
          19863,
          24609,
          21081,
          14720,
          24795,
          3072,
          25178,
          23490,
          7973,
          19764,
          21534,
          8045,
          21158,
          17456,
          15891,
          2939,
          16458,
          9282,
          7152,
          2721,
          20948,
          11929,
          15747,
          17485,
          7815,
          16192,
          16998,
          7103,
          19719,
          23757,
          15428,
          16143,
          8192,
          24200,
          5355,
          12530,
          11827,
          23070,
          4668,
          3173,
          22049,
          21072,
          24456,
          7568,
          22074,
          9150,
          11380,
          21195,
          24812,
          21831,
          12288,
          4156,
          24450,
          4944,
          24052,
          3031,
          7288,
          24152,
          4585,
          18611,
          19345,
          22949,
          17381,
          10036,
          8841,
          20933,
          26204,
          15624,
          17001,
          13693,
          22376,
          10589,
          5323,
          14814,
          21731,
          17799,
          26619,
          14618,
          7653,
          25174,
          16530,
          22061,
          23037,
          13008,
          11133,
          12355,
          16379,
          21447,
          16213,
          4223,
          4658,
          24483,
          19519,
          12826,
          19711,
          26362,
          25348,
          15332,
          11262,
          5855,
          7713,
          3156,
          7324,
          10293,
          20689,
          18783,
          3549,
          5348,
          23447,
          24162,
          21602,
          12421,
          17000,
          22102,
          3835,
          16290,
          26312,
          20460,
          26009,
          18420,
          5220,
          10302,
          25800,
          12250,
          26493,
          3140,
          5388,
          14199,
          21530,
          9953,
          19948,
          10503,
          5602,
          22098,
          17218,
          22490,
          6297,
          3339,
          23413,
          22792,
          4973,
          7693,
          3498,
          21981,
          13251,
          19332,
          10950,
          11652,
          15411,
          26308,
          18685,
          3525,
          10414,
          9867,
          3356,
          3921,
          25518,
          22589,
          24941,
          23826,
          21086,
          22384,
          11591,
          21082,
          16130,
          7419,
          4167,
          20586,
          26176,
          3458,
          11740,
          24852,
          11925,
          23737,
          11912,
          20467,
          13637,
          7677,
          20338,
          25103,
          14810,
          13970,
          6069,
          17616,
          15869,
          25412,
          7439,
          3395,
          11585,
          24164,
          6217,
          17119,
          17360,
          18103,
          20794,
          5041,
          3622,
          9697,
          5151,
          3811,
          3536,
          5596,
          8658,
          12147,
          12862,
          6670,
          8989,
          3840,
          4349,
          6595,
          26427,
          2097,
          9732,
          20943,
          6152,
          14630,
          23060,
          3088,
          5586,
          10697,
          8191,
          10092,
          15963,
          19002,
          10007,
          9128,
          17674,
          24539,
          15587,
          8952,
          19805,
          6194,
          20520,
          12313,
          22308,
          5033,
          25353,
          4567,
          16376,
          15999,
          13402,
          22984,
          8800,
          14218,
          25949,
          11092,
          12832,
          13492,
          6076,
          5531,
          7914,
          25166,
          25605,
          5696,
          24442,
          7129,
          6208,
          4992,
          19188,
          24978,
          15530,
          26458,
          2739,
          6889,
          10842,
          9060,
          22128,
          22577,
          9696,
          19271,
          10748,
          15696,
          8277,
          12719,
          4244,
          9125,
          21624,
          8018,
          21495,
          3157,
          19665,
          19573,
          19246,
          19826,
          7003,
          26075,
          6161,
          5411,
          19989,
          10494,
          21143,
          13624,
          26186,
          7739,
          7018,
          15434,
          22539,
          13583,
          14753,
          14011,
          23844,
          5141,
          7975,
          3692,
          16019,
          26092,
          6060,
          18624,
          24444,
          19384,
          13588,
          25388,
          23888,
          4223,
          18991,
          14908,
          26997,
          2437,
          9364,
          14460,
          10261,
          16822,
          26841,
          14842,
          20115,
          16495,
          16031,
          7102,
          14511,
          10410,
          19255,
          10642,
          3987,
          6073,
          26496,
          23352,
          2125,
          20328,
          12315,
          18115,
          11761,
          15318,
          14293,
          13738,
          2900,
          19555,
          15975,
          2122,
          3995,
          9238,
          6770,
          22914,
          20006,
          6225,
          16542,
          5771,
          18779,
          11473,
          13586,
          5099,
          10138,
          21075,
          5843,
          22474,
          18079,
          16873,
          5224,
          25811,
          17536,
          25098,
          14811,
          26862,
          25198,
          14120,
          13672,
          26849,
          4258,
          19655,
          4077,
          7298,
          13084,
          20439,
          7636,
          6393,
          14284,
          11189,
          21412,
          17231,
          20232,
          17624,
          18698,
          21653,
          15919,
          4060,
          18024,
          5340,
          3376,
          24032,
          15471,
          13684,
          19788,
          13422,
          25479,
          15302,
          26956,
          12695,
          9192,
          26236,
          26124,
          17312,
          3666,
          5640,
          8978,
          10436,
          12227,
          11288,
          16642,
          5982,
          14255,
          14369,
          23333,
          2725,
          24594,
          12549,
          8952,
          23679,
          8489,
          16586,
          8828,
          3787,
          21378,
          12290,
          21457,
          5174,
          13243,
          10228
         ],
         "y0": " ",
         "yaxis": "y"
        }
       ],
       "layout": {
        "boxmode": "group",
        "legend": {
         "tracegroupgap": 0
        },
        "template": {
         "data": {
          "bar": [
           {
            "error_x": {
             "color": "#2a3f5f"
            },
            "error_y": {
             "color": "#2a3f5f"
            },
            "marker": {
             "line": {
              "color": "#E5ECF6",
              "width": 0.5
             },
             "pattern": {
              "fillmode": "overlay",
              "size": 10,
              "solidity": 0.2
             }
            },
            "type": "bar"
           }
          ],
          "barpolar": [
           {
            "marker": {
             "line": {
              "color": "#E5ECF6",
              "width": 0.5
             },
             "pattern": {
              "fillmode": "overlay",
              "size": 10,
              "solidity": 0.2
             }
            },
            "type": "barpolar"
           }
          ],
          "carpet": [
           {
            "aaxis": {
             "endlinecolor": "#2a3f5f",
             "gridcolor": "white",
             "linecolor": "white",
             "minorgridcolor": "white",
             "startlinecolor": "#2a3f5f"
            },
            "baxis": {
             "endlinecolor": "#2a3f5f",
             "gridcolor": "white",
             "linecolor": "white",
             "minorgridcolor": "white",
             "startlinecolor": "#2a3f5f"
            },
            "type": "carpet"
           }
          ],
          "choropleth": [
           {
            "colorbar": {
             "outlinewidth": 0,
             "ticks": ""
            },
            "type": "choropleth"
           }
          ],
          "contour": [
           {
            "colorbar": {
             "outlinewidth": 0,
             "ticks": ""
            },
            "colorscale": [
             [
              0,
              "#0d0887"
             ],
             [
              0.1111111111111111,
              "#46039f"
             ],
             [
              0.2222222222222222,
              "#7201a8"
             ],
             [
              0.3333333333333333,
              "#9c179e"
             ],
             [
              0.4444444444444444,
              "#bd3786"
             ],
             [
              0.5555555555555556,
              "#d8576b"
             ],
             [
              0.6666666666666666,
              "#ed7953"
             ],
             [
              0.7777777777777778,
              "#fb9f3a"
             ],
             [
              0.8888888888888888,
              "#fdca26"
             ],
             [
              1,
              "#f0f921"
             ]
            ],
            "type": "contour"
           }
          ],
          "contourcarpet": [
           {
            "colorbar": {
             "outlinewidth": 0,
             "ticks": ""
            },
            "type": "contourcarpet"
           }
          ],
          "heatmap": [
           {
            "colorbar": {
             "outlinewidth": 0,
             "ticks": ""
            },
            "colorscale": [
             [
              0,
              "#0d0887"
             ],
             [
              0.1111111111111111,
              "#46039f"
             ],
             [
              0.2222222222222222,
              "#7201a8"
             ],
             [
              0.3333333333333333,
              "#9c179e"
             ],
             [
              0.4444444444444444,
              "#bd3786"
             ],
             [
              0.5555555555555556,
              "#d8576b"
             ],
             [
              0.6666666666666666,
              "#ed7953"
             ],
             [
              0.7777777777777778,
              "#fb9f3a"
             ],
             [
              0.8888888888888888,
              "#fdca26"
             ],
             [
              1,
              "#f0f921"
             ]
            ],
            "type": "heatmap"
           }
          ],
          "heatmapgl": [
           {
            "colorbar": {
             "outlinewidth": 0,
             "ticks": ""
            },
            "colorscale": [
             [
              0,
              "#0d0887"
             ],
             [
              0.1111111111111111,
              "#46039f"
             ],
             [
              0.2222222222222222,
              "#7201a8"
             ],
             [
              0.3333333333333333,
              "#9c179e"
             ],
             [
              0.4444444444444444,
              "#bd3786"
             ],
             [
              0.5555555555555556,
              "#d8576b"
             ],
             [
              0.6666666666666666,
              "#ed7953"
             ],
             [
              0.7777777777777778,
              "#fb9f3a"
             ],
             [
              0.8888888888888888,
              "#fdca26"
             ],
             [
              1,
              "#f0f921"
             ]
            ],
            "type": "heatmapgl"
           }
          ],
          "histogram": [
           {
            "marker": {
             "pattern": {
              "fillmode": "overlay",
              "size": 10,
              "solidity": 0.2
             }
            },
            "type": "histogram"
           }
          ],
          "histogram2d": [
           {
            "colorbar": {
             "outlinewidth": 0,
             "ticks": ""
            },
            "colorscale": [
             [
              0,
              "#0d0887"
             ],
             [
              0.1111111111111111,
              "#46039f"
             ],
             [
              0.2222222222222222,
              "#7201a8"
             ],
             [
              0.3333333333333333,
              "#9c179e"
             ],
             [
              0.4444444444444444,
              "#bd3786"
             ],
             [
              0.5555555555555556,
              "#d8576b"
             ],
             [
              0.6666666666666666,
              "#ed7953"
             ],
             [
              0.7777777777777778,
              "#fb9f3a"
             ],
             [
              0.8888888888888888,
              "#fdca26"
             ],
             [
              1,
              "#f0f921"
             ]
            ],
            "type": "histogram2d"
           }
          ],
          "histogram2dcontour": [
           {
            "colorbar": {
             "outlinewidth": 0,
             "ticks": ""
            },
            "colorscale": [
             [
              0,
              "#0d0887"
             ],
             [
              0.1111111111111111,
              "#46039f"
             ],
             [
              0.2222222222222222,
              "#7201a8"
             ],
             [
              0.3333333333333333,
              "#9c179e"
             ],
             [
              0.4444444444444444,
              "#bd3786"
             ],
             [
              0.5555555555555556,
              "#d8576b"
             ],
             [
              0.6666666666666666,
              "#ed7953"
             ],
             [
              0.7777777777777778,
              "#fb9f3a"
             ],
             [
              0.8888888888888888,
              "#fdca26"
             ],
             [
              1,
              "#f0f921"
             ]
            ],
            "type": "histogram2dcontour"
           }
          ],
          "mesh3d": [
           {
            "colorbar": {
             "outlinewidth": 0,
             "ticks": ""
            },
            "type": "mesh3d"
           }
          ],
          "parcoords": [
           {
            "line": {
             "colorbar": {
              "outlinewidth": 0,
              "ticks": ""
             }
            },
            "type": "parcoords"
           }
          ],
          "pie": [
           {
            "automargin": true,
            "type": "pie"
           }
          ],
          "scatter": [
           {
            "fillpattern": {
             "fillmode": "overlay",
             "size": 10,
             "solidity": 0.2
            },
            "type": "scatter"
           }
          ],
          "scatter3d": [
           {
            "line": {
             "colorbar": {
              "outlinewidth": 0,
              "ticks": ""
             }
            },
            "marker": {
             "colorbar": {
              "outlinewidth": 0,
              "ticks": ""
             }
            },
            "type": "scatter3d"
           }
          ],
          "scattercarpet": [
           {
            "marker": {
             "colorbar": {
              "outlinewidth": 0,
              "ticks": ""
             }
            },
            "type": "scattercarpet"
           }
          ],
          "scattergeo": [
           {
            "marker": {
             "colorbar": {
              "outlinewidth": 0,
              "ticks": ""
             }
            },
            "type": "scattergeo"
           }
          ],
          "scattergl": [
           {
            "marker": {
             "colorbar": {
              "outlinewidth": 0,
              "ticks": ""
             }
            },
            "type": "scattergl"
           }
          ],
          "scattermapbox": [
           {
            "marker": {
             "colorbar": {
              "outlinewidth": 0,
              "ticks": ""
             }
            },
            "type": "scattermapbox"
           }
          ],
          "scatterpolar": [
           {
            "marker": {
             "colorbar": {
              "outlinewidth": 0,
              "ticks": ""
             }
            },
            "type": "scatterpolar"
           }
          ],
          "scatterpolargl": [
           {
            "marker": {
             "colorbar": {
              "outlinewidth": 0,
              "ticks": ""
             }
            },
            "type": "scatterpolargl"
           }
          ],
          "scatterternary": [
           {
            "marker": {
             "colorbar": {
              "outlinewidth": 0,
              "ticks": ""
             }
            },
            "type": "scatterternary"
           }
          ],
          "surface": [
           {
            "colorbar": {
             "outlinewidth": 0,
             "ticks": ""
            },
            "colorscale": [
             [
              0,
              "#0d0887"
             ],
             [
              0.1111111111111111,
              "#46039f"
             ],
             [
              0.2222222222222222,
              "#7201a8"
             ],
             [
              0.3333333333333333,
              "#9c179e"
             ],
             [
              0.4444444444444444,
              "#bd3786"
             ],
             [
              0.5555555555555556,
              "#d8576b"
             ],
             [
              0.6666666666666666,
              "#ed7953"
             ],
             [
              0.7777777777777778,
              "#fb9f3a"
             ],
             [
              0.8888888888888888,
              "#fdca26"
             ],
             [
              1,
              "#f0f921"
             ]
            ],
            "type": "surface"
           }
          ],
          "table": [
           {
            "cells": {
             "fill": {
              "color": "#EBF0F8"
             },
             "line": {
              "color": "white"
             }
            },
            "header": {
             "fill": {
              "color": "#C8D4E3"
             },
             "line": {
              "color": "white"
             }
            },
            "type": "table"
           }
          ]
         },
         "layout": {
          "annotationdefaults": {
           "arrowcolor": "#2a3f5f",
           "arrowhead": 0,
           "arrowwidth": 1
          },
          "autotypenumbers": "strict",
          "coloraxis": {
           "colorbar": {
            "outlinewidth": 0,
            "ticks": ""
           }
          },
          "colorscale": {
           "diverging": [
            [
             0,
             "#8e0152"
            ],
            [
             0.1,
             "#c51b7d"
            ],
            [
             0.2,
             "#de77ae"
            ],
            [
             0.3,
             "#f1b6da"
            ],
            [
             0.4,
             "#fde0ef"
            ],
            [
             0.5,
             "#f7f7f7"
            ],
            [
             0.6,
             "#e6f5d0"
            ],
            [
             0.7,
             "#b8e186"
            ],
            [
             0.8,
             "#7fbc41"
            ],
            [
             0.9,
             "#4d9221"
            ],
            [
             1,
             "#276419"
            ]
           ],
           "sequential": [
            [
             0,
             "#0d0887"
            ],
            [
             0.1111111111111111,
             "#46039f"
            ],
            [
             0.2222222222222222,
             "#7201a8"
            ],
            [
             0.3333333333333333,
             "#9c179e"
            ],
            [
             0.4444444444444444,
             "#bd3786"
            ],
            [
             0.5555555555555556,
             "#d8576b"
            ],
            [
             0.6666666666666666,
             "#ed7953"
            ],
            [
             0.7777777777777778,
             "#fb9f3a"
            ],
            [
             0.8888888888888888,
             "#fdca26"
            ],
            [
             1,
             "#f0f921"
            ]
           ],
           "sequentialminus": [
            [
             0,
             "#0d0887"
            ],
            [
             0.1111111111111111,
             "#46039f"
            ],
            [
             0.2222222222222222,
             "#7201a8"
            ],
            [
             0.3333333333333333,
             "#9c179e"
            ],
            [
             0.4444444444444444,
             "#bd3786"
            ],
            [
             0.5555555555555556,
             "#d8576b"
            ],
            [
             0.6666666666666666,
             "#ed7953"
            ],
            [
             0.7777777777777778,
             "#fb9f3a"
            ],
            [
             0.8888888888888888,
             "#fdca26"
            ],
            [
             1,
             "#f0f921"
            ]
           ]
          },
          "colorway": [
           "#636efa",
           "#EF553B",
           "#00cc96",
           "#ab63fa",
           "#FFA15A",
           "#19d3f3",
           "#FF6692",
           "#B6E880",
           "#FF97FF",
           "#FECB52"
          ],
          "font": {
           "color": "#2a3f5f"
          },
          "geo": {
           "bgcolor": "white",
           "lakecolor": "white",
           "landcolor": "#E5ECF6",
           "showlakes": true,
           "showland": true,
           "subunitcolor": "white"
          },
          "hoverlabel": {
           "align": "left"
          },
          "hovermode": "closest",
          "mapbox": {
           "style": "light"
          },
          "paper_bgcolor": "white",
          "plot_bgcolor": "#E5ECF6",
          "polar": {
           "angularaxis": {
            "gridcolor": "white",
            "linecolor": "white",
            "ticks": ""
           },
           "bgcolor": "#E5ECF6",
           "radialaxis": {
            "gridcolor": "white",
            "linecolor": "white",
            "ticks": ""
           }
          },
          "scene": {
           "xaxis": {
            "backgroundcolor": "#E5ECF6",
            "gridcolor": "white",
            "gridwidth": 2,
            "linecolor": "white",
            "showbackground": true,
            "ticks": "",
            "zerolinecolor": "white"
           },
           "yaxis": {
            "backgroundcolor": "#E5ECF6",
            "gridcolor": "white",
            "gridwidth": 2,
            "linecolor": "white",
            "showbackground": true,
            "ticks": "",
            "zerolinecolor": "white"
           },
           "zaxis": {
            "backgroundcolor": "#E5ECF6",
            "gridcolor": "white",
            "gridwidth": 2,
            "linecolor": "white",
            "showbackground": true,
            "ticks": "",
            "zerolinecolor": "white"
           }
          },
          "shapedefaults": {
           "line": {
            "color": "#2a3f5f"
           }
          },
          "ternary": {
           "aaxis": {
            "gridcolor": "white",
            "linecolor": "white",
            "ticks": ""
           },
           "baxis": {
            "gridcolor": "white",
            "linecolor": "white",
            "ticks": ""
           },
           "bgcolor": "#E5ECF6",
           "caxis": {
            "gridcolor": "white",
            "linecolor": "white",
            "ticks": ""
           }
          },
          "title": {
           "x": 0.05
          },
          "xaxis": {
           "automargin": true,
           "gridcolor": "white",
           "linecolor": "white",
           "ticks": "",
           "title": {
            "standoff": 15
           },
           "zerolinecolor": "white",
           "zerolinewidth": 2
          },
          "yaxis": {
           "automargin": true,
           "gridcolor": "white",
           "linecolor": "white",
           "ticks": "",
           "title": {
            "standoff": 15
           },
           "zerolinecolor": "white",
           "zerolinewidth": 2
          }
         }
        },
        "title": {
         "text": "aylik_ucret Box Plot"
        },
        "xaxis": {
         "anchor": "y",
         "domain": [
          0,
          1
         ]
        },
        "yaxis": {
         "anchor": "x",
         "domain": [
          0,
          1
         ],
         "title": {
          "text": "aylik_ucret"
         }
        }
       }
      }
     },
     "metadata": {},
     "output_type": "display_data"
    },
    {
     "data": {
      "application/vnd.plotly.v1+json": {
       "config": {
        "plotlyServerURL": "https://plot.ly"
       },
       "data": [
        {
         "alignmentgroup": "True",
         "bingroup": "x",
         "hovertemplate": "evden_uzaklik=%{x}<br>count=%{y}<extra></extra>",
         "legendgroup": "",
         "marker": {
          "color": "#636efa",
          "pattern": {
           "shape": ""
          }
         },
         "name": "",
         "nbinsx": 30,
         "offsetgroup": "",
         "orientation": "v",
         "showlegend": false,
         "type": "histogram",
         "x": [
          1,
          8,
          2,
          3,
          2,
          2,
          3,
          24,
          23,
          27,
          16,
          15,
          26,
          19,
          24,
          21,
          5,
          16,
          2,
          2,
          11,
          9,
          7,
          15,
          6,
          5,
          16,
          8,
          7,
          2,
          2,
          10,
          9,
          5,
          1,
          2,
          3,
          2,
          5,
          1,
          4,
          2,
          25,
          8,
          1,
          12,
          23,
          19,
          5,
          8,
          1,
          5,
          1,
          11,
          23,
          1,
          18,
          23,
          7,
          1,
          1,
          29,
          7,
          25,
          8,
          8,
          11,
          7,
          1,
          9,
          1,
          2,
          1,
          1,
          6,
          8,
          1,
          6,
          7,
          5,
          1,
          1,
          1,
          6,
          1,
          7,
          2,
          9,
          2,
          9,
          1,
          21,
          4,
          1,
          6,
          2,
          3,
          4,
          10,
          23,
          6,
          1,
          6,
          6,
          2,
          2,
          1,
          5,
          7,
          15,
          1,
          7,
          26,
          18,
          6,
          3,
          5,
          11,
          3,
          26,
          23,
          22,
          14,
          6,
          6,
          6,
          23,
          22,
          2,
          20,
          28,
          12,
          20,
          9,
          25,
          6,
          8,
          4,
          28,
          9,
          9,
          29,
          3,
          18,
          9,
          5,
          2,
          10,
          9,
          3,
          26,
          1,
          6,
          9,
          8,
          1,
          7,
          9,
          4,
          2,
          19,
          9,
          21,
          24,
          3,
          11,
          14,
          5,
          1,
          6,
          17,
          1,
          3,
          9,
          4,
          8,
          2,
          2,
          1,
          9,
          12,
          27,
          20,
          1,
          13,
          14,
          4,
          14,
          2,
          3,
          1,
          9,
          23,
          7,
          2,
          21,
          2,
          21,
          2,
          29,
          1,
          18,
          10,
          19,
          29,
          27,
          5,
          18,
          9,
          1,
          4,
          1,
          20,
          8,
          3,
          6,
          26,
          1,
          6,
          3,
          5,
          4,
          11,
          3,
          1,
          3,
          4,
          1,
          1,
          18,
          2,
          4,
          6,
          1,
          14,
          16,
          2,
          2,
          4,
          1,
          1,
          26,
          19,
          24,
          1,
          3,
          5,
          2,
          1,
          7,
          10,
          2,
          15,
          17,
          20,
          1,
          2,
          2,
          1,
          29,
          7,
          2,
          2,
          2,
          2,
          2,
          23,
          5,
          20,
          6,
          1,
          29,
          9,
          6,
          3,
          1,
          22,
          7,
          1,
          4,
          3,
          1,
          2,
          20,
          11,
          1,
          24,
          23,
          16,
          8,
          10,
          3,
          5,
          4,
          9,
          26,
          3,
          16,
          18,
          2,
          2,
          10,
          16,
          7,
          1,
          24,
          7,
          25,
          1,
          5,
          2,
          7,
          2,
          5,
          10,
          10,
          1,
          8,
          5,
          8,
          2,
          7,
          2,
          2,
          28,
          7,
          7,
          3,
          10,
          5,
          10,
          1,
          20,
          7,
          8,
          1,
          8,
          9,
          5,
          8,
          5,
          15,
          7,
          10,
          5,
          26,
          6,
          4,
          23,
          2,
          2,
          2,
          29,
          6,
          25,
          1,
          2,
          1,
          1,
          3,
          1,
          10,
          9,
          5,
          10,
          7,
          4,
          10,
          22,
          9,
          12,
          23,
          9,
          1,
          9,
          7,
          14,
          2,
          19,
          2,
          10,
          2,
          3,
          11,
          2,
          4,
          14,
          2,
          1,
          10,
          12,
          2,
          5,
          4,
          7,
          21,
          8,
          4,
          25,
          1,
          1,
          6,
          12,
          1,
          17,
          3,
          3,
          10,
          4,
          29,
          2,
          7,
          18,
          28,
          1,
          6,
          2,
          2,
          23,
          3,
          3,
          25,
          2,
          22,
          29,
          29,
          2,
          28,
          2,
          2,
          22,
          8,
          2,
          10,
          9,
          15,
          10,
          7,
          16,
          20,
          23,
          5,
          10,
          4,
          2,
          18,
          10,
          1,
          6,
          8,
          2,
          24,
          2,
          17,
          19,
          1,
          7,
          5,
          28,
          2,
          29,
          1,
          21,
          24,
          1,
          18,
          2,
          9,
          6,
          11,
          24,
          10,
          1,
          18,
          23,
          28,
          17,
          3,
          13,
          7,
          12,
          1,
          13,
          25,
          6,
          6,
          2,
          1,
          2,
          6,
          1,
          9,
          1,
          1,
          14,
          2,
          22,
          3,
          6,
          8,
          9,
          3,
          1,
          1,
          26,
          6,
          3,
          3,
          6,
          6,
          19,
          9,
          3,
          10,
          3,
          3,
          4,
          8,
          7,
          1,
          2,
          3,
          10,
          28,
          9,
          3,
          2,
          10,
          8,
          1,
          1,
          3,
          14,
          5,
          7,
          10,
          16,
          10,
          1,
          8,
          1,
          8,
          1,
          24,
          3,
          27,
          10,
          19,
          15,
          8,
          9,
          3,
          9,
          2,
          7,
          10,
          6,
          2,
          24,
          2,
          8,
          3,
          1,
          26,
          2,
          10,
          27,
          2,
          2,
          8,
          19,
          1,
          27,
          8,
          1,
          19,
          8,
          10,
          2,
          2,
          8,
          1,
          2,
          8,
          8,
          6,
          9,
          11,
          2,
          1,
          7,
          16,
          2,
          1,
          23,
          2,
          1,
          1,
          2,
          13,
          4,
          16,
          2,
          2,
          29,
          12,
          16,
          11,
          2,
          14,
          5,
          7,
          2,
          3,
          5,
          3,
          26,
          4,
          2,
          1,
          27,
          1,
          13,
          5,
          7,
          9,
          8,
          25,
          16,
          8,
          1,
          8,
          2,
          8,
          3,
          9,
          25,
          1,
          4,
          1,
          4,
          5,
          9,
          3,
          11,
          1,
          8,
          25,
          21,
          23,
          1,
          2,
          19,
          2,
          2,
          3,
          25,
          7,
          9,
          5,
          2,
          8,
          2,
          18,
          14,
          2,
          3,
          2,
          9,
          6,
          4,
          10,
          14,
          1,
          5,
          7,
          21,
          8,
          20,
          20,
          7,
          1,
          1,
          19,
          10,
          1,
          6,
          2,
          21,
          4,
          12,
          9,
          3,
          3,
          1,
          1,
          4,
          20,
          18,
          1,
          2,
          2,
          8,
          10,
          3,
          2,
          24,
          16,
          8,
          9,
          17,
          10,
          13,
          1,
          1,
          1,
          9,
          16,
          23,
          4,
          22,
          24,
          10,
          7,
          17,
          14,
          1,
          5,
          17,
          25,
          8,
          11,
          5,
          2,
          8,
          6,
          4,
          7,
          1,
          2,
          10,
          5,
          9,
          2,
          11,
          18,
          7,
          3,
          29,
          2,
          28,
          1,
          16,
          22,
          8,
          11,
          29,
          1,
          1,
          24,
          2,
          15,
          2,
          10,
          10,
          3,
          2,
          3,
          26,
          1,
          1,
          2,
          9,
          12,
          2,
          25,
          9,
          10,
          8,
          4,
          24,
          1,
          20,
          7,
          17,
          20,
          8,
          2,
          10,
          1,
          5,
          4,
          29,
          15,
          3,
          10,
          4,
          21,
          25,
          2,
          1,
          1,
          7,
          3,
          1,
          9,
          7,
          10,
          28,
          3,
          3,
          2,
          27,
          2,
          14,
          1,
          9,
          18,
          20,
          2,
          11,
          8,
          2,
          10,
          29,
          8,
          1,
          6,
          8,
          9,
          12,
          15,
          25,
          6,
          9,
          8,
          23,
          9,
          12,
          4,
          1,
          24,
          12,
          3,
          10,
          26,
          2,
          1,
          4,
          9,
          2,
          4,
          6,
          9,
          7,
          1,
          3,
          10,
          7,
          15,
          3,
          2,
          17,
          2,
          5,
          29,
          2,
          2,
          19,
          15,
          17,
          17,
          25,
          6,
          7,
          29,
          21,
          2,
          2,
          7,
          13,
          2,
          1,
          9,
          10,
          10,
          1,
          26,
          8,
          14,
          1,
          2,
          10,
          1,
          3,
          11,
          24,
          3,
          3,
          4,
          3,
          2,
          4,
          7,
          1,
          1,
          20,
          5,
          10,
          25,
          1,
          24,
          4,
          2,
          8,
          10,
          4,
          2,
          9,
          18,
          19,
          1,
          4,
          11,
          6,
          7,
          4,
          2,
          15,
          2,
          6,
          9,
          7,
          1,
          1,
          8,
          25,
          13,
          23,
          7,
          23,
          6,
          10,
          1,
          1,
          28,
          25,
          5,
          17,
          18,
          2,
          10,
          1,
          3,
          2,
          2,
          8,
          16,
          9,
          2,
          1,
          4,
          5,
          2,
          15,
          19,
          7,
          1,
          7,
          4,
          11,
          11,
          1,
          1,
          2,
          13,
          23,
          26,
          2,
          29,
          2,
          18,
          7,
          2,
          26,
          22,
          21,
          2,
          22,
          4,
          5,
          2,
          25,
          18,
          28,
          6,
          10,
          17,
          2,
          10,
          8,
          11,
          18,
          1,
          7,
          17,
          28,
          14,
          1,
          1,
          1,
          3,
          1,
          7,
          8,
          1,
          8,
          11,
          4,
          16,
          1,
          9,
          5,
          1,
          2,
          4,
          7,
          1,
          5,
          9,
          8,
          9,
          2,
          1,
          20,
          8,
          2,
          29,
          7,
          9,
          8,
          5,
          5,
          2,
          5,
          2,
          20,
          7,
          3,
          16,
          9,
          1,
          7,
          1,
          7,
          15,
          1,
          13,
          24,
          7,
          9,
          13,
          2,
          19,
          1,
          4,
          4,
          14,
          2,
          1,
          7,
          3,
          2,
          29,
          8,
          10,
          11,
          1,
          28,
          6,
          3,
          16,
          20,
          9,
          1,
          3,
          22,
          7,
          2,
          13,
          8,
          25,
          28,
          2,
          9,
          28,
          6,
          21,
          8,
          1,
          28,
          5,
          2,
          16,
          9,
          8,
          1,
          10,
          1,
          29,
          2,
          2,
          2,
          1,
          15,
          7,
          26,
          1,
          3,
          14,
          16,
          1,
          3,
          10,
          6,
          2,
          9,
          10,
          6,
          9,
          28,
          10,
          14,
          27,
          7,
          1,
          24,
          26,
          20,
          5,
          7,
          7,
          5,
          26,
          2,
          12,
          10,
          25,
          10,
          19,
          18,
          27,
          5,
          3,
          26,
          3,
          15,
          8,
          19,
          4,
          2,
          2,
          10,
          10,
          16,
          1,
          4,
          15,
          2,
          8,
          2,
          7,
          10,
          5,
          2,
          12,
          22,
          17,
          2,
          3,
          7,
          6,
          1,
          3,
          22,
          15,
          12,
          1,
          5,
          2,
          2,
          5,
          16,
          2,
          2,
          1,
          23,
          9,
          16,
          26,
          1,
          8,
          4,
          24,
          7,
          2,
          7,
          22,
          5,
          1,
          21,
          1,
          19,
          7,
          2,
          2,
          2,
          9,
          6,
          9,
          2,
          1,
          22,
          9,
          17,
          28,
          10,
          2,
          4,
          8,
          29,
          13,
          27,
          16,
          2,
          2,
          13,
          1,
          4,
          24,
          1,
          19,
          7,
          4,
          2,
          10,
          8,
          5,
          8,
          9,
          1,
          15,
          2,
          2,
          11,
          16,
          2,
          16,
          4,
          16,
          5,
          18,
          17,
          12,
          2,
          4,
          9,
          10,
          1,
          2,
          3,
          7,
          6,
          8,
          29,
          3,
          9,
          2,
          10,
          1,
          8,
          27,
          8,
          1,
          10,
          26,
          2,
          13,
          2,
          2,
          9,
          10,
          20,
          9,
          5,
          4,
          10,
          20,
          21,
          1,
          8,
          2,
          23,
          4,
          12,
          7,
          7,
          1,
          2,
          10,
          15,
          14,
          18,
          13,
          2,
          2,
          2,
          5,
          20,
          10,
          10,
          9,
          2,
          1,
          29,
          8,
          2,
          3,
          23,
          6,
          6,
          10,
          24,
          10,
          15,
          19,
          2,
          3,
          9,
          7,
          10,
          20,
          4,
          7,
          7,
          16,
          25,
          2,
          1,
          1,
          2,
          22,
          1,
          16,
          24,
          17,
          8,
          6,
          10,
          3,
          4,
          6,
          1,
          10,
          1,
          24,
          21,
          2,
          22,
          13,
          14,
          11,
          9,
          8,
          21,
          5,
          9,
          2,
          12,
          22,
          18,
          16,
          3,
          9,
          1,
          13,
          1,
          1,
          15,
          1,
          17,
          1,
          7,
          9,
          5,
          26,
          24,
          9,
          7,
          11,
          1,
          26,
          2,
          15,
          23,
          10,
          10,
          1,
          12,
          11,
          2,
          2,
          1,
          2,
          25,
          1,
          1,
          2,
          6,
          18,
          1,
          1,
          11,
          1,
          9,
          15,
          29,
          1,
          1,
          24,
          10,
          1,
          10,
          8,
          29,
          1,
          5,
          9,
          9,
          3,
          4,
          1,
          1,
          2,
          7,
          28,
          28,
          15,
          3,
          2,
          26,
          10,
          1,
          11,
          20,
          2,
          18,
          2,
          1,
          13,
          28,
          28,
          24,
          5,
          5,
          23,
          6,
          4,
          2,
          8
         ],
         "xaxis": "x",
         "yaxis": "y"
        }
       ],
       "layout": {
        "barmode": "relative",
        "legend": {
         "tracegroupgap": 0
        },
        "template": {
         "data": {
          "bar": [
           {
            "error_x": {
             "color": "#2a3f5f"
            },
            "error_y": {
             "color": "#2a3f5f"
            },
            "marker": {
             "line": {
              "color": "#E5ECF6",
              "width": 0.5
             },
             "pattern": {
              "fillmode": "overlay",
              "size": 10,
              "solidity": 0.2
             }
            },
            "type": "bar"
           }
          ],
          "barpolar": [
           {
            "marker": {
             "line": {
              "color": "#E5ECF6",
              "width": 0.5
             },
             "pattern": {
              "fillmode": "overlay",
              "size": 10,
              "solidity": 0.2
             }
            },
            "type": "barpolar"
           }
          ],
          "carpet": [
           {
            "aaxis": {
             "endlinecolor": "#2a3f5f",
             "gridcolor": "white",
             "linecolor": "white",
             "minorgridcolor": "white",
             "startlinecolor": "#2a3f5f"
            },
            "baxis": {
             "endlinecolor": "#2a3f5f",
             "gridcolor": "white",
             "linecolor": "white",
             "minorgridcolor": "white",
             "startlinecolor": "#2a3f5f"
            },
            "type": "carpet"
           }
          ],
          "choropleth": [
           {
            "colorbar": {
             "outlinewidth": 0,
             "ticks": ""
            },
            "type": "choropleth"
           }
          ],
          "contour": [
           {
            "colorbar": {
             "outlinewidth": 0,
             "ticks": ""
            },
            "colorscale": [
             [
              0,
              "#0d0887"
             ],
             [
              0.1111111111111111,
              "#46039f"
             ],
             [
              0.2222222222222222,
              "#7201a8"
             ],
             [
              0.3333333333333333,
              "#9c179e"
             ],
             [
              0.4444444444444444,
              "#bd3786"
             ],
             [
              0.5555555555555556,
              "#d8576b"
             ],
             [
              0.6666666666666666,
              "#ed7953"
             ],
             [
              0.7777777777777778,
              "#fb9f3a"
             ],
             [
              0.8888888888888888,
              "#fdca26"
             ],
             [
              1,
              "#f0f921"
             ]
            ],
            "type": "contour"
           }
          ],
          "contourcarpet": [
           {
            "colorbar": {
             "outlinewidth": 0,
             "ticks": ""
            },
            "type": "contourcarpet"
           }
          ],
          "heatmap": [
           {
            "colorbar": {
             "outlinewidth": 0,
             "ticks": ""
            },
            "colorscale": [
             [
              0,
              "#0d0887"
             ],
             [
              0.1111111111111111,
              "#46039f"
             ],
             [
              0.2222222222222222,
              "#7201a8"
             ],
             [
              0.3333333333333333,
              "#9c179e"
             ],
             [
              0.4444444444444444,
              "#bd3786"
             ],
             [
              0.5555555555555556,
              "#d8576b"
             ],
             [
              0.6666666666666666,
              "#ed7953"
             ],
             [
              0.7777777777777778,
              "#fb9f3a"
             ],
             [
              0.8888888888888888,
              "#fdca26"
             ],
             [
              1,
              "#f0f921"
             ]
            ],
            "type": "heatmap"
           }
          ],
          "heatmapgl": [
           {
            "colorbar": {
             "outlinewidth": 0,
             "ticks": ""
            },
            "colorscale": [
             [
              0,
              "#0d0887"
             ],
             [
              0.1111111111111111,
              "#46039f"
             ],
             [
              0.2222222222222222,
              "#7201a8"
             ],
             [
              0.3333333333333333,
              "#9c179e"
             ],
             [
              0.4444444444444444,
              "#bd3786"
             ],
             [
              0.5555555555555556,
              "#d8576b"
             ],
             [
              0.6666666666666666,
              "#ed7953"
             ],
             [
              0.7777777777777778,
              "#fb9f3a"
             ],
             [
              0.8888888888888888,
              "#fdca26"
             ],
             [
              1,
              "#f0f921"
             ]
            ],
            "type": "heatmapgl"
           }
          ],
          "histogram": [
           {
            "marker": {
             "pattern": {
              "fillmode": "overlay",
              "size": 10,
              "solidity": 0.2
             }
            },
            "type": "histogram"
           }
          ],
          "histogram2d": [
           {
            "colorbar": {
             "outlinewidth": 0,
             "ticks": ""
            },
            "colorscale": [
             [
              0,
              "#0d0887"
             ],
             [
              0.1111111111111111,
              "#46039f"
             ],
             [
              0.2222222222222222,
              "#7201a8"
             ],
             [
              0.3333333333333333,
              "#9c179e"
             ],
             [
              0.4444444444444444,
              "#bd3786"
             ],
             [
              0.5555555555555556,
              "#d8576b"
             ],
             [
              0.6666666666666666,
              "#ed7953"
             ],
             [
              0.7777777777777778,
              "#fb9f3a"
             ],
             [
              0.8888888888888888,
              "#fdca26"
             ],
             [
              1,
              "#f0f921"
             ]
            ],
            "type": "histogram2d"
           }
          ],
          "histogram2dcontour": [
           {
            "colorbar": {
             "outlinewidth": 0,
             "ticks": ""
            },
            "colorscale": [
             [
              0,
              "#0d0887"
             ],
             [
              0.1111111111111111,
              "#46039f"
             ],
             [
              0.2222222222222222,
              "#7201a8"
             ],
             [
              0.3333333333333333,
              "#9c179e"
             ],
             [
              0.4444444444444444,
              "#bd3786"
             ],
             [
              0.5555555555555556,
              "#d8576b"
             ],
             [
              0.6666666666666666,
              "#ed7953"
             ],
             [
              0.7777777777777778,
              "#fb9f3a"
             ],
             [
              0.8888888888888888,
              "#fdca26"
             ],
             [
              1,
              "#f0f921"
             ]
            ],
            "type": "histogram2dcontour"
           }
          ],
          "mesh3d": [
           {
            "colorbar": {
             "outlinewidth": 0,
             "ticks": ""
            },
            "type": "mesh3d"
           }
          ],
          "parcoords": [
           {
            "line": {
             "colorbar": {
              "outlinewidth": 0,
              "ticks": ""
             }
            },
            "type": "parcoords"
           }
          ],
          "pie": [
           {
            "automargin": true,
            "type": "pie"
           }
          ],
          "scatter": [
           {
            "fillpattern": {
             "fillmode": "overlay",
             "size": 10,
             "solidity": 0.2
            },
            "type": "scatter"
           }
          ],
          "scatter3d": [
           {
            "line": {
             "colorbar": {
              "outlinewidth": 0,
              "ticks": ""
             }
            },
            "marker": {
             "colorbar": {
              "outlinewidth": 0,
              "ticks": ""
             }
            },
            "type": "scatter3d"
           }
          ],
          "scattercarpet": [
           {
            "marker": {
             "colorbar": {
              "outlinewidth": 0,
              "ticks": ""
             }
            },
            "type": "scattercarpet"
           }
          ],
          "scattergeo": [
           {
            "marker": {
             "colorbar": {
              "outlinewidth": 0,
              "ticks": ""
             }
            },
            "type": "scattergeo"
           }
          ],
          "scattergl": [
           {
            "marker": {
             "colorbar": {
              "outlinewidth": 0,
              "ticks": ""
             }
            },
            "type": "scattergl"
           }
          ],
          "scattermapbox": [
           {
            "marker": {
             "colorbar": {
              "outlinewidth": 0,
              "ticks": ""
             }
            },
            "type": "scattermapbox"
           }
          ],
          "scatterpolar": [
           {
            "marker": {
             "colorbar": {
              "outlinewidth": 0,
              "ticks": ""
             }
            },
            "type": "scatterpolar"
           }
          ],
          "scatterpolargl": [
           {
            "marker": {
             "colorbar": {
              "outlinewidth": 0,
              "ticks": ""
             }
            },
            "type": "scatterpolargl"
           }
          ],
          "scatterternary": [
           {
            "marker": {
             "colorbar": {
              "outlinewidth": 0,
              "ticks": ""
             }
            },
            "type": "scatterternary"
           }
          ],
          "surface": [
           {
            "colorbar": {
             "outlinewidth": 0,
             "ticks": ""
            },
            "colorscale": [
             [
              0,
              "#0d0887"
             ],
             [
              0.1111111111111111,
              "#46039f"
             ],
             [
              0.2222222222222222,
              "#7201a8"
             ],
             [
              0.3333333333333333,
              "#9c179e"
             ],
             [
              0.4444444444444444,
              "#bd3786"
             ],
             [
              0.5555555555555556,
              "#d8576b"
             ],
             [
              0.6666666666666666,
              "#ed7953"
             ],
             [
              0.7777777777777778,
              "#fb9f3a"
             ],
             [
              0.8888888888888888,
              "#fdca26"
             ],
             [
              1,
              "#f0f921"
             ]
            ],
            "type": "surface"
           }
          ],
          "table": [
           {
            "cells": {
             "fill": {
              "color": "#EBF0F8"
             },
             "line": {
              "color": "white"
             }
            },
            "header": {
             "fill": {
              "color": "#C8D4E3"
             },
             "line": {
              "color": "white"
             }
            },
            "type": "table"
           }
          ]
         },
         "layout": {
          "annotationdefaults": {
           "arrowcolor": "#2a3f5f",
           "arrowhead": 0,
           "arrowwidth": 1
          },
          "autotypenumbers": "strict",
          "coloraxis": {
           "colorbar": {
            "outlinewidth": 0,
            "ticks": ""
           }
          },
          "colorscale": {
           "diverging": [
            [
             0,
             "#8e0152"
            ],
            [
             0.1,
             "#c51b7d"
            ],
            [
             0.2,
             "#de77ae"
            ],
            [
             0.3,
             "#f1b6da"
            ],
            [
             0.4,
             "#fde0ef"
            ],
            [
             0.5,
             "#f7f7f7"
            ],
            [
             0.6,
             "#e6f5d0"
            ],
            [
             0.7,
             "#b8e186"
            ],
            [
             0.8,
             "#7fbc41"
            ],
            [
             0.9,
             "#4d9221"
            ],
            [
             1,
             "#276419"
            ]
           ],
           "sequential": [
            [
             0,
             "#0d0887"
            ],
            [
             0.1111111111111111,
             "#46039f"
            ],
            [
             0.2222222222222222,
             "#7201a8"
            ],
            [
             0.3333333333333333,
             "#9c179e"
            ],
            [
             0.4444444444444444,
             "#bd3786"
            ],
            [
             0.5555555555555556,
             "#d8576b"
            ],
            [
             0.6666666666666666,
             "#ed7953"
            ],
            [
             0.7777777777777778,
             "#fb9f3a"
            ],
            [
             0.8888888888888888,
             "#fdca26"
            ],
            [
             1,
             "#f0f921"
            ]
           ],
           "sequentialminus": [
            [
             0,
             "#0d0887"
            ],
            [
             0.1111111111111111,
             "#46039f"
            ],
            [
             0.2222222222222222,
             "#7201a8"
            ],
            [
             0.3333333333333333,
             "#9c179e"
            ],
            [
             0.4444444444444444,
             "#bd3786"
            ],
            [
             0.5555555555555556,
             "#d8576b"
            ],
            [
             0.6666666666666666,
             "#ed7953"
            ],
            [
             0.7777777777777778,
             "#fb9f3a"
            ],
            [
             0.8888888888888888,
             "#fdca26"
            ],
            [
             1,
             "#f0f921"
            ]
           ]
          },
          "colorway": [
           "#636efa",
           "#EF553B",
           "#00cc96",
           "#ab63fa",
           "#FFA15A",
           "#19d3f3",
           "#FF6692",
           "#B6E880",
           "#FF97FF",
           "#FECB52"
          ],
          "font": {
           "color": "#2a3f5f"
          },
          "geo": {
           "bgcolor": "white",
           "lakecolor": "white",
           "landcolor": "#E5ECF6",
           "showlakes": true,
           "showland": true,
           "subunitcolor": "white"
          },
          "hoverlabel": {
           "align": "left"
          },
          "hovermode": "closest",
          "mapbox": {
           "style": "light"
          },
          "paper_bgcolor": "white",
          "plot_bgcolor": "#E5ECF6",
          "polar": {
           "angularaxis": {
            "gridcolor": "white",
            "linecolor": "white",
            "ticks": ""
           },
           "bgcolor": "#E5ECF6",
           "radialaxis": {
            "gridcolor": "white",
            "linecolor": "white",
            "ticks": ""
           }
          },
          "scene": {
           "xaxis": {
            "backgroundcolor": "#E5ECF6",
            "gridcolor": "white",
            "gridwidth": 2,
            "linecolor": "white",
            "showbackground": true,
            "ticks": "",
            "zerolinecolor": "white"
           },
           "yaxis": {
            "backgroundcolor": "#E5ECF6",
            "gridcolor": "white",
            "gridwidth": 2,
            "linecolor": "white",
            "showbackground": true,
            "ticks": "",
            "zerolinecolor": "white"
           },
           "zaxis": {
            "backgroundcolor": "#E5ECF6",
            "gridcolor": "white",
            "gridwidth": 2,
            "linecolor": "white",
            "showbackground": true,
            "ticks": "",
            "zerolinecolor": "white"
           }
          },
          "shapedefaults": {
           "line": {
            "color": "#2a3f5f"
           }
          },
          "ternary": {
           "aaxis": {
            "gridcolor": "white",
            "linecolor": "white",
            "ticks": ""
           },
           "baxis": {
            "gridcolor": "white",
            "linecolor": "white",
            "ticks": ""
           },
           "bgcolor": "#E5ECF6",
           "caxis": {
            "gridcolor": "white",
            "linecolor": "white",
            "ticks": ""
           }
          },
          "title": {
           "x": 0.05
          },
          "xaxis": {
           "automargin": true,
           "gridcolor": "white",
           "linecolor": "white",
           "ticks": "",
           "title": {
            "standoff": 15
           },
           "zerolinecolor": "white",
           "zerolinewidth": 2
          },
          "yaxis": {
           "automargin": true,
           "gridcolor": "white",
           "linecolor": "white",
           "ticks": "",
           "title": {
            "standoff": 15
           },
           "zerolinecolor": "white",
           "zerolinewidth": 2
          }
         }
        },
        "title": {
         "text": "evden_uzaklik Distribution"
        },
        "xaxis": {
         "anchor": "y",
         "domain": [
          0,
          1
         ],
         "title": {
          "text": "evden_uzaklik"
         }
        },
        "yaxis": {
         "anchor": "x",
         "domain": [
          0,
          1
         ],
         "title": {
          "text": "count"
         }
        }
       }
      }
     },
     "metadata": {},
     "output_type": "display_data"
    },
    {
     "data": {
      "application/vnd.plotly.v1+json": {
       "config": {
        "plotlyServerURL": "https://plot.ly"
       },
       "data": [
        {
         "alignmentgroup": "True",
         "hovertemplate": "evden_uzaklik=%{y}<extra></extra>",
         "legendgroup": "",
         "marker": {
          "color": "#636efa"
         },
         "name": "",
         "notched": false,
         "offsetgroup": "",
         "orientation": "v",
         "showlegend": false,
         "type": "box",
         "x0": " ",
         "xaxis": "x",
         "y": [
          1,
          8,
          2,
          3,
          2,
          2,
          3,
          24,
          23,
          27,
          16,
          15,
          26,
          19,
          24,
          21,
          5,
          16,
          2,
          2,
          11,
          9,
          7,
          15,
          6,
          5,
          16,
          8,
          7,
          2,
          2,
          10,
          9,
          5,
          1,
          2,
          3,
          2,
          5,
          1,
          4,
          2,
          25,
          8,
          1,
          12,
          23,
          19,
          5,
          8,
          1,
          5,
          1,
          11,
          23,
          1,
          18,
          23,
          7,
          1,
          1,
          29,
          7,
          25,
          8,
          8,
          11,
          7,
          1,
          9,
          1,
          2,
          1,
          1,
          6,
          8,
          1,
          6,
          7,
          5,
          1,
          1,
          1,
          6,
          1,
          7,
          2,
          9,
          2,
          9,
          1,
          21,
          4,
          1,
          6,
          2,
          3,
          4,
          10,
          23,
          6,
          1,
          6,
          6,
          2,
          2,
          1,
          5,
          7,
          15,
          1,
          7,
          26,
          18,
          6,
          3,
          5,
          11,
          3,
          26,
          23,
          22,
          14,
          6,
          6,
          6,
          23,
          22,
          2,
          20,
          28,
          12,
          20,
          9,
          25,
          6,
          8,
          4,
          28,
          9,
          9,
          29,
          3,
          18,
          9,
          5,
          2,
          10,
          9,
          3,
          26,
          1,
          6,
          9,
          8,
          1,
          7,
          9,
          4,
          2,
          19,
          9,
          21,
          24,
          3,
          11,
          14,
          5,
          1,
          6,
          17,
          1,
          3,
          9,
          4,
          8,
          2,
          2,
          1,
          9,
          12,
          27,
          20,
          1,
          13,
          14,
          4,
          14,
          2,
          3,
          1,
          9,
          23,
          7,
          2,
          21,
          2,
          21,
          2,
          29,
          1,
          18,
          10,
          19,
          29,
          27,
          5,
          18,
          9,
          1,
          4,
          1,
          20,
          8,
          3,
          6,
          26,
          1,
          6,
          3,
          5,
          4,
          11,
          3,
          1,
          3,
          4,
          1,
          1,
          18,
          2,
          4,
          6,
          1,
          14,
          16,
          2,
          2,
          4,
          1,
          1,
          26,
          19,
          24,
          1,
          3,
          5,
          2,
          1,
          7,
          10,
          2,
          15,
          17,
          20,
          1,
          2,
          2,
          1,
          29,
          7,
          2,
          2,
          2,
          2,
          2,
          23,
          5,
          20,
          6,
          1,
          29,
          9,
          6,
          3,
          1,
          22,
          7,
          1,
          4,
          3,
          1,
          2,
          20,
          11,
          1,
          24,
          23,
          16,
          8,
          10,
          3,
          5,
          4,
          9,
          26,
          3,
          16,
          18,
          2,
          2,
          10,
          16,
          7,
          1,
          24,
          7,
          25,
          1,
          5,
          2,
          7,
          2,
          5,
          10,
          10,
          1,
          8,
          5,
          8,
          2,
          7,
          2,
          2,
          28,
          7,
          7,
          3,
          10,
          5,
          10,
          1,
          20,
          7,
          8,
          1,
          8,
          9,
          5,
          8,
          5,
          15,
          7,
          10,
          5,
          26,
          6,
          4,
          23,
          2,
          2,
          2,
          29,
          6,
          25,
          1,
          2,
          1,
          1,
          3,
          1,
          10,
          9,
          5,
          10,
          7,
          4,
          10,
          22,
          9,
          12,
          23,
          9,
          1,
          9,
          7,
          14,
          2,
          19,
          2,
          10,
          2,
          3,
          11,
          2,
          4,
          14,
          2,
          1,
          10,
          12,
          2,
          5,
          4,
          7,
          21,
          8,
          4,
          25,
          1,
          1,
          6,
          12,
          1,
          17,
          3,
          3,
          10,
          4,
          29,
          2,
          7,
          18,
          28,
          1,
          6,
          2,
          2,
          23,
          3,
          3,
          25,
          2,
          22,
          29,
          29,
          2,
          28,
          2,
          2,
          22,
          8,
          2,
          10,
          9,
          15,
          10,
          7,
          16,
          20,
          23,
          5,
          10,
          4,
          2,
          18,
          10,
          1,
          6,
          8,
          2,
          24,
          2,
          17,
          19,
          1,
          7,
          5,
          28,
          2,
          29,
          1,
          21,
          24,
          1,
          18,
          2,
          9,
          6,
          11,
          24,
          10,
          1,
          18,
          23,
          28,
          17,
          3,
          13,
          7,
          12,
          1,
          13,
          25,
          6,
          6,
          2,
          1,
          2,
          6,
          1,
          9,
          1,
          1,
          14,
          2,
          22,
          3,
          6,
          8,
          9,
          3,
          1,
          1,
          26,
          6,
          3,
          3,
          6,
          6,
          19,
          9,
          3,
          10,
          3,
          3,
          4,
          8,
          7,
          1,
          2,
          3,
          10,
          28,
          9,
          3,
          2,
          10,
          8,
          1,
          1,
          3,
          14,
          5,
          7,
          10,
          16,
          10,
          1,
          8,
          1,
          8,
          1,
          24,
          3,
          27,
          10,
          19,
          15,
          8,
          9,
          3,
          9,
          2,
          7,
          10,
          6,
          2,
          24,
          2,
          8,
          3,
          1,
          26,
          2,
          10,
          27,
          2,
          2,
          8,
          19,
          1,
          27,
          8,
          1,
          19,
          8,
          10,
          2,
          2,
          8,
          1,
          2,
          8,
          8,
          6,
          9,
          11,
          2,
          1,
          7,
          16,
          2,
          1,
          23,
          2,
          1,
          1,
          2,
          13,
          4,
          16,
          2,
          2,
          29,
          12,
          16,
          11,
          2,
          14,
          5,
          7,
          2,
          3,
          5,
          3,
          26,
          4,
          2,
          1,
          27,
          1,
          13,
          5,
          7,
          9,
          8,
          25,
          16,
          8,
          1,
          8,
          2,
          8,
          3,
          9,
          25,
          1,
          4,
          1,
          4,
          5,
          9,
          3,
          11,
          1,
          8,
          25,
          21,
          23,
          1,
          2,
          19,
          2,
          2,
          3,
          25,
          7,
          9,
          5,
          2,
          8,
          2,
          18,
          14,
          2,
          3,
          2,
          9,
          6,
          4,
          10,
          14,
          1,
          5,
          7,
          21,
          8,
          20,
          20,
          7,
          1,
          1,
          19,
          10,
          1,
          6,
          2,
          21,
          4,
          12,
          9,
          3,
          3,
          1,
          1,
          4,
          20,
          18,
          1,
          2,
          2,
          8,
          10,
          3,
          2,
          24,
          16,
          8,
          9,
          17,
          10,
          13,
          1,
          1,
          1,
          9,
          16,
          23,
          4,
          22,
          24,
          10,
          7,
          17,
          14,
          1,
          5,
          17,
          25,
          8,
          11,
          5,
          2,
          8,
          6,
          4,
          7,
          1,
          2,
          10,
          5,
          9,
          2,
          11,
          18,
          7,
          3,
          29,
          2,
          28,
          1,
          16,
          22,
          8,
          11,
          29,
          1,
          1,
          24,
          2,
          15,
          2,
          10,
          10,
          3,
          2,
          3,
          26,
          1,
          1,
          2,
          9,
          12,
          2,
          25,
          9,
          10,
          8,
          4,
          24,
          1,
          20,
          7,
          17,
          20,
          8,
          2,
          10,
          1,
          5,
          4,
          29,
          15,
          3,
          10,
          4,
          21,
          25,
          2,
          1,
          1,
          7,
          3,
          1,
          9,
          7,
          10,
          28,
          3,
          3,
          2,
          27,
          2,
          14,
          1,
          9,
          18,
          20,
          2,
          11,
          8,
          2,
          10,
          29,
          8,
          1,
          6,
          8,
          9,
          12,
          15,
          25,
          6,
          9,
          8,
          23,
          9,
          12,
          4,
          1,
          24,
          12,
          3,
          10,
          26,
          2,
          1,
          4,
          9,
          2,
          4,
          6,
          9,
          7,
          1,
          3,
          10,
          7,
          15,
          3,
          2,
          17,
          2,
          5,
          29,
          2,
          2,
          19,
          15,
          17,
          17,
          25,
          6,
          7,
          29,
          21,
          2,
          2,
          7,
          13,
          2,
          1,
          9,
          10,
          10,
          1,
          26,
          8,
          14,
          1,
          2,
          10,
          1,
          3,
          11,
          24,
          3,
          3,
          4,
          3,
          2,
          4,
          7,
          1,
          1,
          20,
          5,
          10,
          25,
          1,
          24,
          4,
          2,
          8,
          10,
          4,
          2,
          9,
          18,
          19,
          1,
          4,
          11,
          6,
          7,
          4,
          2,
          15,
          2,
          6,
          9,
          7,
          1,
          1,
          8,
          25,
          13,
          23,
          7,
          23,
          6,
          10,
          1,
          1,
          28,
          25,
          5,
          17,
          18,
          2,
          10,
          1,
          3,
          2,
          2,
          8,
          16,
          9,
          2,
          1,
          4,
          5,
          2,
          15,
          19,
          7,
          1,
          7,
          4,
          11,
          11,
          1,
          1,
          2,
          13,
          23,
          26,
          2,
          29,
          2,
          18,
          7,
          2,
          26,
          22,
          21,
          2,
          22,
          4,
          5,
          2,
          25,
          18,
          28,
          6,
          10,
          17,
          2,
          10,
          8,
          11,
          18,
          1,
          7,
          17,
          28,
          14,
          1,
          1,
          1,
          3,
          1,
          7,
          8,
          1,
          8,
          11,
          4,
          16,
          1,
          9,
          5,
          1,
          2,
          4,
          7,
          1,
          5,
          9,
          8,
          9,
          2,
          1,
          20,
          8,
          2,
          29,
          7,
          9,
          8,
          5,
          5,
          2,
          5,
          2,
          20,
          7,
          3,
          16,
          9,
          1,
          7,
          1,
          7,
          15,
          1,
          13,
          24,
          7,
          9,
          13,
          2,
          19,
          1,
          4,
          4,
          14,
          2,
          1,
          7,
          3,
          2,
          29,
          8,
          10,
          11,
          1,
          28,
          6,
          3,
          16,
          20,
          9,
          1,
          3,
          22,
          7,
          2,
          13,
          8,
          25,
          28,
          2,
          9,
          28,
          6,
          21,
          8,
          1,
          28,
          5,
          2,
          16,
          9,
          8,
          1,
          10,
          1,
          29,
          2,
          2,
          2,
          1,
          15,
          7,
          26,
          1,
          3,
          14,
          16,
          1,
          3,
          10,
          6,
          2,
          9,
          10,
          6,
          9,
          28,
          10,
          14,
          27,
          7,
          1,
          24,
          26,
          20,
          5,
          7,
          7,
          5,
          26,
          2,
          12,
          10,
          25,
          10,
          19,
          18,
          27,
          5,
          3,
          26,
          3,
          15,
          8,
          19,
          4,
          2,
          2,
          10,
          10,
          16,
          1,
          4,
          15,
          2,
          8,
          2,
          7,
          10,
          5,
          2,
          12,
          22,
          17,
          2,
          3,
          7,
          6,
          1,
          3,
          22,
          15,
          12,
          1,
          5,
          2,
          2,
          5,
          16,
          2,
          2,
          1,
          23,
          9,
          16,
          26,
          1,
          8,
          4,
          24,
          7,
          2,
          7,
          22,
          5,
          1,
          21,
          1,
          19,
          7,
          2,
          2,
          2,
          9,
          6,
          9,
          2,
          1,
          22,
          9,
          17,
          28,
          10,
          2,
          4,
          8,
          29,
          13,
          27,
          16,
          2,
          2,
          13,
          1,
          4,
          24,
          1,
          19,
          7,
          4,
          2,
          10,
          8,
          5,
          8,
          9,
          1,
          15,
          2,
          2,
          11,
          16,
          2,
          16,
          4,
          16,
          5,
          18,
          17,
          12,
          2,
          4,
          9,
          10,
          1,
          2,
          3,
          7,
          6,
          8,
          29,
          3,
          9,
          2,
          10,
          1,
          8,
          27,
          8,
          1,
          10,
          26,
          2,
          13,
          2,
          2,
          9,
          10,
          20,
          9,
          5,
          4,
          10,
          20,
          21,
          1,
          8,
          2,
          23,
          4,
          12,
          7,
          7,
          1,
          2,
          10,
          15,
          14,
          18,
          13,
          2,
          2,
          2,
          5,
          20,
          10,
          10,
          9,
          2,
          1,
          29,
          8,
          2,
          3,
          23,
          6,
          6,
          10,
          24,
          10,
          15,
          19,
          2,
          3,
          9,
          7,
          10,
          20,
          4,
          7,
          7,
          16,
          25,
          2,
          1,
          1,
          2,
          22,
          1,
          16,
          24,
          17,
          8,
          6,
          10,
          3,
          4,
          6,
          1,
          10,
          1,
          24,
          21,
          2,
          22,
          13,
          14,
          11,
          9,
          8,
          21,
          5,
          9,
          2,
          12,
          22,
          18,
          16,
          3,
          9,
          1,
          13,
          1,
          1,
          15,
          1,
          17,
          1,
          7,
          9,
          5,
          26,
          24,
          9,
          7,
          11,
          1,
          26,
          2,
          15,
          23,
          10,
          10,
          1,
          12,
          11,
          2,
          2,
          1,
          2,
          25,
          1,
          1,
          2,
          6,
          18,
          1,
          1,
          11,
          1,
          9,
          15,
          29,
          1,
          1,
          24,
          10,
          1,
          10,
          8,
          29,
          1,
          5,
          9,
          9,
          3,
          4,
          1,
          1,
          2,
          7,
          28,
          28,
          15,
          3,
          2,
          26,
          10,
          1,
          11,
          20,
          2,
          18,
          2,
          1,
          13,
          28,
          28,
          24,
          5,
          5,
          23,
          6,
          4,
          2,
          8
         ],
         "y0": " ",
         "yaxis": "y"
        }
       ],
       "layout": {
        "boxmode": "group",
        "legend": {
         "tracegroupgap": 0
        },
        "template": {
         "data": {
          "bar": [
           {
            "error_x": {
             "color": "#2a3f5f"
            },
            "error_y": {
             "color": "#2a3f5f"
            },
            "marker": {
             "line": {
              "color": "#E5ECF6",
              "width": 0.5
             },
             "pattern": {
              "fillmode": "overlay",
              "size": 10,
              "solidity": 0.2
             }
            },
            "type": "bar"
           }
          ],
          "barpolar": [
           {
            "marker": {
             "line": {
              "color": "#E5ECF6",
              "width": 0.5
             },
             "pattern": {
              "fillmode": "overlay",
              "size": 10,
              "solidity": 0.2
             }
            },
            "type": "barpolar"
           }
          ],
          "carpet": [
           {
            "aaxis": {
             "endlinecolor": "#2a3f5f",
             "gridcolor": "white",
             "linecolor": "white",
             "minorgridcolor": "white",
             "startlinecolor": "#2a3f5f"
            },
            "baxis": {
             "endlinecolor": "#2a3f5f",
             "gridcolor": "white",
             "linecolor": "white",
             "minorgridcolor": "white",
             "startlinecolor": "#2a3f5f"
            },
            "type": "carpet"
           }
          ],
          "choropleth": [
           {
            "colorbar": {
             "outlinewidth": 0,
             "ticks": ""
            },
            "type": "choropleth"
           }
          ],
          "contour": [
           {
            "colorbar": {
             "outlinewidth": 0,
             "ticks": ""
            },
            "colorscale": [
             [
              0,
              "#0d0887"
             ],
             [
              0.1111111111111111,
              "#46039f"
             ],
             [
              0.2222222222222222,
              "#7201a8"
             ],
             [
              0.3333333333333333,
              "#9c179e"
             ],
             [
              0.4444444444444444,
              "#bd3786"
             ],
             [
              0.5555555555555556,
              "#d8576b"
             ],
             [
              0.6666666666666666,
              "#ed7953"
             ],
             [
              0.7777777777777778,
              "#fb9f3a"
             ],
             [
              0.8888888888888888,
              "#fdca26"
             ],
             [
              1,
              "#f0f921"
             ]
            ],
            "type": "contour"
           }
          ],
          "contourcarpet": [
           {
            "colorbar": {
             "outlinewidth": 0,
             "ticks": ""
            },
            "type": "contourcarpet"
           }
          ],
          "heatmap": [
           {
            "colorbar": {
             "outlinewidth": 0,
             "ticks": ""
            },
            "colorscale": [
             [
              0,
              "#0d0887"
             ],
             [
              0.1111111111111111,
              "#46039f"
             ],
             [
              0.2222222222222222,
              "#7201a8"
             ],
             [
              0.3333333333333333,
              "#9c179e"
             ],
             [
              0.4444444444444444,
              "#bd3786"
             ],
             [
              0.5555555555555556,
              "#d8576b"
             ],
             [
              0.6666666666666666,
              "#ed7953"
             ],
             [
              0.7777777777777778,
              "#fb9f3a"
             ],
             [
              0.8888888888888888,
              "#fdca26"
             ],
             [
              1,
              "#f0f921"
             ]
            ],
            "type": "heatmap"
           }
          ],
          "heatmapgl": [
           {
            "colorbar": {
             "outlinewidth": 0,
             "ticks": ""
            },
            "colorscale": [
             [
              0,
              "#0d0887"
             ],
             [
              0.1111111111111111,
              "#46039f"
             ],
             [
              0.2222222222222222,
              "#7201a8"
             ],
             [
              0.3333333333333333,
              "#9c179e"
             ],
             [
              0.4444444444444444,
              "#bd3786"
             ],
             [
              0.5555555555555556,
              "#d8576b"
             ],
             [
              0.6666666666666666,
              "#ed7953"
             ],
             [
              0.7777777777777778,
              "#fb9f3a"
             ],
             [
              0.8888888888888888,
              "#fdca26"
             ],
             [
              1,
              "#f0f921"
             ]
            ],
            "type": "heatmapgl"
           }
          ],
          "histogram": [
           {
            "marker": {
             "pattern": {
              "fillmode": "overlay",
              "size": 10,
              "solidity": 0.2
             }
            },
            "type": "histogram"
           }
          ],
          "histogram2d": [
           {
            "colorbar": {
             "outlinewidth": 0,
             "ticks": ""
            },
            "colorscale": [
             [
              0,
              "#0d0887"
             ],
             [
              0.1111111111111111,
              "#46039f"
             ],
             [
              0.2222222222222222,
              "#7201a8"
             ],
             [
              0.3333333333333333,
              "#9c179e"
             ],
             [
              0.4444444444444444,
              "#bd3786"
             ],
             [
              0.5555555555555556,
              "#d8576b"
             ],
             [
              0.6666666666666666,
              "#ed7953"
             ],
             [
              0.7777777777777778,
              "#fb9f3a"
             ],
             [
              0.8888888888888888,
              "#fdca26"
             ],
             [
              1,
              "#f0f921"
             ]
            ],
            "type": "histogram2d"
           }
          ],
          "histogram2dcontour": [
           {
            "colorbar": {
             "outlinewidth": 0,
             "ticks": ""
            },
            "colorscale": [
             [
              0,
              "#0d0887"
             ],
             [
              0.1111111111111111,
              "#46039f"
             ],
             [
              0.2222222222222222,
              "#7201a8"
             ],
             [
              0.3333333333333333,
              "#9c179e"
             ],
             [
              0.4444444444444444,
              "#bd3786"
             ],
             [
              0.5555555555555556,
              "#d8576b"
             ],
             [
              0.6666666666666666,
              "#ed7953"
             ],
             [
              0.7777777777777778,
              "#fb9f3a"
             ],
             [
              0.8888888888888888,
              "#fdca26"
             ],
             [
              1,
              "#f0f921"
             ]
            ],
            "type": "histogram2dcontour"
           }
          ],
          "mesh3d": [
           {
            "colorbar": {
             "outlinewidth": 0,
             "ticks": ""
            },
            "type": "mesh3d"
           }
          ],
          "parcoords": [
           {
            "line": {
             "colorbar": {
              "outlinewidth": 0,
              "ticks": ""
             }
            },
            "type": "parcoords"
           }
          ],
          "pie": [
           {
            "automargin": true,
            "type": "pie"
           }
          ],
          "scatter": [
           {
            "fillpattern": {
             "fillmode": "overlay",
             "size": 10,
             "solidity": 0.2
            },
            "type": "scatter"
           }
          ],
          "scatter3d": [
           {
            "line": {
             "colorbar": {
              "outlinewidth": 0,
              "ticks": ""
             }
            },
            "marker": {
             "colorbar": {
              "outlinewidth": 0,
              "ticks": ""
             }
            },
            "type": "scatter3d"
           }
          ],
          "scattercarpet": [
           {
            "marker": {
             "colorbar": {
              "outlinewidth": 0,
              "ticks": ""
             }
            },
            "type": "scattercarpet"
           }
          ],
          "scattergeo": [
           {
            "marker": {
             "colorbar": {
              "outlinewidth": 0,
              "ticks": ""
             }
            },
            "type": "scattergeo"
           }
          ],
          "scattergl": [
           {
            "marker": {
             "colorbar": {
              "outlinewidth": 0,
              "ticks": ""
             }
            },
            "type": "scattergl"
           }
          ],
          "scattermapbox": [
           {
            "marker": {
             "colorbar": {
              "outlinewidth": 0,
              "ticks": ""
             }
            },
            "type": "scattermapbox"
           }
          ],
          "scatterpolar": [
           {
            "marker": {
             "colorbar": {
              "outlinewidth": 0,
              "ticks": ""
             }
            },
            "type": "scatterpolar"
           }
          ],
          "scatterpolargl": [
           {
            "marker": {
             "colorbar": {
              "outlinewidth": 0,
              "ticks": ""
             }
            },
            "type": "scatterpolargl"
           }
          ],
          "scatterternary": [
           {
            "marker": {
             "colorbar": {
              "outlinewidth": 0,
              "ticks": ""
             }
            },
            "type": "scatterternary"
           }
          ],
          "surface": [
           {
            "colorbar": {
             "outlinewidth": 0,
             "ticks": ""
            },
            "colorscale": [
             [
              0,
              "#0d0887"
             ],
             [
              0.1111111111111111,
              "#46039f"
             ],
             [
              0.2222222222222222,
              "#7201a8"
             ],
             [
              0.3333333333333333,
              "#9c179e"
             ],
             [
              0.4444444444444444,
              "#bd3786"
             ],
             [
              0.5555555555555556,
              "#d8576b"
             ],
             [
              0.6666666666666666,
              "#ed7953"
             ],
             [
              0.7777777777777778,
              "#fb9f3a"
             ],
             [
              0.8888888888888888,
              "#fdca26"
             ],
             [
              1,
              "#f0f921"
             ]
            ],
            "type": "surface"
           }
          ],
          "table": [
           {
            "cells": {
             "fill": {
              "color": "#EBF0F8"
             },
             "line": {
              "color": "white"
             }
            },
            "header": {
             "fill": {
              "color": "#C8D4E3"
             },
             "line": {
              "color": "white"
             }
            },
            "type": "table"
           }
          ]
         },
         "layout": {
          "annotationdefaults": {
           "arrowcolor": "#2a3f5f",
           "arrowhead": 0,
           "arrowwidth": 1
          },
          "autotypenumbers": "strict",
          "coloraxis": {
           "colorbar": {
            "outlinewidth": 0,
            "ticks": ""
           }
          },
          "colorscale": {
           "diverging": [
            [
             0,
             "#8e0152"
            ],
            [
             0.1,
             "#c51b7d"
            ],
            [
             0.2,
             "#de77ae"
            ],
            [
             0.3,
             "#f1b6da"
            ],
            [
             0.4,
             "#fde0ef"
            ],
            [
             0.5,
             "#f7f7f7"
            ],
            [
             0.6,
             "#e6f5d0"
            ],
            [
             0.7,
             "#b8e186"
            ],
            [
             0.8,
             "#7fbc41"
            ],
            [
             0.9,
             "#4d9221"
            ],
            [
             1,
             "#276419"
            ]
           ],
           "sequential": [
            [
             0,
             "#0d0887"
            ],
            [
             0.1111111111111111,
             "#46039f"
            ],
            [
             0.2222222222222222,
             "#7201a8"
            ],
            [
             0.3333333333333333,
             "#9c179e"
            ],
            [
             0.4444444444444444,
             "#bd3786"
            ],
            [
             0.5555555555555556,
             "#d8576b"
            ],
            [
             0.6666666666666666,
             "#ed7953"
            ],
            [
             0.7777777777777778,
             "#fb9f3a"
            ],
            [
             0.8888888888888888,
             "#fdca26"
            ],
            [
             1,
             "#f0f921"
            ]
           ],
           "sequentialminus": [
            [
             0,
             "#0d0887"
            ],
            [
             0.1111111111111111,
             "#46039f"
            ],
            [
             0.2222222222222222,
             "#7201a8"
            ],
            [
             0.3333333333333333,
             "#9c179e"
            ],
            [
             0.4444444444444444,
             "#bd3786"
            ],
            [
             0.5555555555555556,
             "#d8576b"
            ],
            [
             0.6666666666666666,
             "#ed7953"
            ],
            [
             0.7777777777777778,
             "#fb9f3a"
            ],
            [
             0.8888888888888888,
             "#fdca26"
            ],
            [
             1,
             "#f0f921"
            ]
           ]
          },
          "colorway": [
           "#636efa",
           "#EF553B",
           "#00cc96",
           "#ab63fa",
           "#FFA15A",
           "#19d3f3",
           "#FF6692",
           "#B6E880",
           "#FF97FF",
           "#FECB52"
          ],
          "font": {
           "color": "#2a3f5f"
          },
          "geo": {
           "bgcolor": "white",
           "lakecolor": "white",
           "landcolor": "#E5ECF6",
           "showlakes": true,
           "showland": true,
           "subunitcolor": "white"
          },
          "hoverlabel": {
           "align": "left"
          },
          "hovermode": "closest",
          "mapbox": {
           "style": "light"
          },
          "paper_bgcolor": "white",
          "plot_bgcolor": "#E5ECF6",
          "polar": {
           "angularaxis": {
            "gridcolor": "white",
            "linecolor": "white",
            "ticks": ""
           },
           "bgcolor": "#E5ECF6",
           "radialaxis": {
            "gridcolor": "white",
            "linecolor": "white",
            "ticks": ""
           }
          },
          "scene": {
           "xaxis": {
            "backgroundcolor": "#E5ECF6",
            "gridcolor": "white",
            "gridwidth": 2,
            "linecolor": "white",
            "showbackground": true,
            "ticks": "",
            "zerolinecolor": "white"
           },
           "yaxis": {
            "backgroundcolor": "#E5ECF6",
            "gridcolor": "white",
            "gridwidth": 2,
            "linecolor": "white",
            "showbackground": true,
            "ticks": "",
            "zerolinecolor": "white"
           },
           "zaxis": {
            "backgroundcolor": "#E5ECF6",
            "gridcolor": "white",
            "gridwidth": 2,
            "linecolor": "white",
            "showbackground": true,
            "ticks": "",
            "zerolinecolor": "white"
           }
          },
          "shapedefaults": {
           "line": {
            "color": "#2a3f5f"
           }
          },
          "ternary": {
           "aaxis": {
            "gridcolor": "white",
            "linecolor": "white",
            "ticks": ""
           },
           "baxis": {
            "gridcolor": "white",
            "linecolor": "white",
            "ticks": ""
           },
           "bgcolor": "#E5ECF6",
           "caxis": {
            "gridcolor": "white",
            "linecolor": "white",
            "ticks": ""
           }
          },
          "title": {
           "x": 0.05
          },
          "xaxis": {
           "automargin": true,
           "gridcolor": "white",
           "linecolor": "white",
           "ticks": "",
           "title": {
            "standoff": 15
           },
           "zerolinecolor": "white",
           "zerolinewidth": 2
          },
          "yaxis": {
           "automargin": true,
           "gridcolor": "white",
           "linecolor": "white",
           "ticks": "",
           "title": {
            "standoff": 15
           },
           "zerolinecolor": "white",
           "zerolinewidth": 2
          }
         }
        },
        "title": {
         "text": "evden_uzaklik Box Plot"
        },
        "xaxis": {
         "anchor": "y",
         "domain": [
          0,
          1
         ]
        },
        "yaxis": {
         "anchor": "x",
         "domain": [
          0,
          1
         ],
         "title": {
          "text": "evden_uzaklik"
         }
        }
       }
      }
     },
     "metadata": {},
     "output_type": "display_data"
    },
    {
     "data": {
      "application/vnd.plotly.v1+json": {
       "config": {
        "plotlyServerURL": "https://plot.ly"
       },
       "data": [
        {
         "alignmentgroup": "True",
         "bingroup": "x",
         "hovertemplate": "son_terfiden_bu_yana_gecen_yil=%{x}<br>count=%{y}<extra></extra>",
         "legendgroup": "",
         "marker": {
          "color": "#636efa",
          "pattern": {
           "shape": ""
          }
         },
         "name": "",
         "nbinsx": 30,
         "offsetgroup": "",
         "orientation": "v",
         "showlegend": false,
         "type": "histogram",
         "x": [
          0,
          1,
          0,
          3,
          2,
          3,
          0,
          0,
          1,
          7,
          0,
          0,
          4,
          1,
          0,
          8,
          0,
          0,
          3,
          1,
          1,
          0,
          2,
          0,
          1,
          4,
          6,
          4,
          5,
          2,
          0,
          1,
          1,
          0,
          2,
          1,
          0,
          2,
          0,
          1,
          0,
          0,
          0,
          1,
          3,
          15,
          8,
          0,
          0,
          0,
          0,
          2,
          1,
          2,
          0,
          8,
          1,
          2,
          1,
          0,
          7,
          9,
          13,
          7,
          12,
          0,
          0,
          0,
          1,
          0,
          1,
          0,
          1,
          0,
          0,
          1,
          2,
          0,
          0,
          0,
          3,
          0,
          1,
          1,
          1,
          0,
          0,
          0,
          10,
          4,
          11,
          1,
          2,
          9,
          5,
          0,
          0,
          0,
          1,
          1,
          0,
          0,
          1,
          2,
          0,
          2,
          0,
          0,
          2,
          0,
          12,
          0,
          4,
          1,
          0,
          1,
          5,
          2,
          0,
          4,
          0,
          0,
          4,
          15,
          7,
          4,
          15,
          0,
          2,
          5,
          1,
          2,
          2,
          0,
          5,
          0,
          0,
          5,
          2,
          4,
          0,
          0,
          2,
          0,
          0,
          2,
          1,
          7,
          1,
          0,
          2,
          0,
          4,
          0,
          3,
          0,
          0,
          0,
          2,
          1,
          2,
          2,
          0,
          1,
          0,
          4,
          1,
          7,
          0,
          1,
          1,
          0,
          7,
          6,
          0,
          2,
          0,
          1,
          15,
          2,
          0,
          1,
          0,
          0,
          1,
          1,
          9,
          2,
          1,
          1,
          11,
          0,
          0,
          2,
          11,
          1,
          1,
          0,
          0,
          1,
          2,
          1,
          2,
          3,
          0,
          1,
          2,
          1,
          0,
          0,
          9,
          5,
          0,
          4,
          0,
          0,
          0,
          1,
          12,
          0,
          3,
          1,
          0,
          5,
          1,
          0,
          5,
          4,
          0,
          0,
          2,
          11,
          2,
          0,
          0,
          1,
          1,
          15,
          1,
          1,
          1,
          2,
          0,
          4,
          1,
          2,
          0,
          5,
          0,
          0,
          0,
          11,
          1,
          0,
          0,
          1,
          7,
          3,
          0,
          1,
          0,
          7,
          0,
          7,
          0,
          0,
          7,
          1,
          4,
          10,
          4,
          9,
          0,
          0,
          1,
          0,
          6,
          7,
          1,
          1,
          1,
          11,
          0,
          0,
          3,
          5,
          0,
          1,
          0,
          0,
          1,
          7,
          2,
          7,
          1,
          4,
          0,
          6,
          0,
          1,
          0,
          0,
          0,
          7,
          3,
          0,
          4,
          0,
          1,
          0,
          1,
          9,
          2,
          8,
          11,
          1,
          0,
          7,
          1,
          11,
          0,
          1,
          0,
          2,
          1,
          8,
          13,
          0,
          0,
          1,
          0,
          1,
          0,
          0,
          9,
          0,
          0,
          2,
          1,
          0,
          0,
          2,
          4,
          1,
          0,
          0,
          1,
          0,
          0,
          0,
          1,
          0,
          0,
          6,
          2,
          7,
          0,
          1,
          0,
          1,
          1,
          1,
          2,
          0,
          0,
          0,
          7,
          1,
          1,
          2,
          0,
          1,
          0,
          0,
          0,
          0,
          0,
          2,
          0,
          1,
          0,
          0,
          0,
          1,
          9,
          0,
          12,
          1,
          1,
          0,
          3,
          0,
          1,
          1,
          3,
          1,
          0,
          1,
          10,
          3,
          1,
          7,
          4,
          0,
          1,
          0,
          0,
          0,
          1,
          0,
          0,
          11,
          0,
          0,
          1,
          1,
          0,
          1,
          0,
          1,
          0,
          1,
          0,
          7,
          0,
          15,
          6,
          13,
          0,
          0,
          4,
          0,
          5,
          1,
          0,
          7,
          1,
          1,
          0,
          0,
          0,
          2,
          9,
          1,
          6,
          7,
          1,
          6,
          5,
          0,
          0,
          5,
          3,
          1,
          1,
          0,
          0,
          0,
          0,
          0,
          0,
          0,
          5,
          0,
          1,
          1,
          11,
          7,
          6,
          1,
          2,
          0,
          4,
          0,
          1,
          1,
          0,
          10,
          0,
          1,
          0,
          1,
          1,
          0,
          5,
          0,
          1,
          0,
          2,
          0,
          0,
          4,
          0,
          0,
          0,
          0,
          1,
          0,
          2,
          1,
          0,
          0,
          8,
          8,
          0,
          0,
          7,
          1,
          11,
          4,
          7,
          0,
          1,
          1,
          9,
          0,
          0,
          1,
          0,
          2,
          2,
          0,
          0,
          3,
          7,
          2,
          11,
          0,
          1,
          1,
          0,
          7,
          1,
          1,
          1,
          12,
          2,
          1,
          2,
          2,
          3,
          0,
          0,
          1,
          11,
          7,
          0,
          2,
          2,
          4,
          0,
          3,
          1,
          2,
          0,
          2,
          2,
          0,
          4,
          0,
          0,
          1,
          7,
          1,
          3,
          0,
          1,
          1,
          1,
          0,
          1,
          2,
          1,
          1,
          1,
          1,
          1,
          4,
          4,
          1,
          0,
          0,
          3,
          1,
          14,
          0,
          0,
          1,
          0,
          0,
          3,
          0,
          3,
          0,
          0,
          13,
          2,
          0,
          2,
          0,
          6,
          0,
          0,
          0,
          7,
          1,
          1,
          7,
          7,
          1,
          0,
          1,
          7,
          0,
          1,
          0,
          4,
          2,
          0,
          0,
          1,
          4,
          0,
          0,
          0,
          0,
          1,
          0,
          0,
          0,
          2,
          0,
          2,
          0,
          0,
          5,
          7,
          0,
          0,
          0,
          3,
          5,
          1,
          1,
          0,
          0,
          2,
          4,
          0,
          3,
          2,
          7,
          0,
          14,
          0,
          0,
          0,
          0,
          7,
          0,
          0,
          0,
          0,
          0,
          4,
          1,
          0,
          1,
          2,
          2,
          0,
          1,
          0,
          0,
          0,
          5,
          0,
          1,
          0,
          0,
          0,
          5,
          0,
          0,
          0,
          0,
          2,
          3,
          0,
          0,
          8,
          0,
          6,
          3,
          1,
          11,
          0,
          0,
          1,
          7,
          0,
          15,
          7,
          1,
          0,
          0,
          0,
          2,
          0,
          1,
          6,
          0,
          0,
          0,
          1,
          1,
          0,
          2,
          0,
          0,
          0,
          1,
          0,
          0,
          3,
          0,
          0,
          0,
          0,
          10,
          1,
          0,
          1,
          1,
          1,
          2,
          4,
          2,
          11,
          2,
          1,
          0,
          0,
          4,
          0,
          6,
          5,
          0,
          2,
          6,
          11,
          0,
          15,
          2,
          2,
          1,
          7,
          0,
          0,
          0,
          6,
          0,
          1,
          0,
          0,
          2,
          7,
          0,
          7,
          1,
          2,
          7,
          0,
          7,
          6,
          0,
          0,
          1,
          1,
          2,
          1,
          1,
          0,
          0,
          1,
          11,
          1,
          1,
          1,
          3,
          1,
          4,
          3,
          2,
          0,
          0,
          5,
          0,
          2,
          13,
          0,
          0,
          0,
          0,
          2,
          4,
          4,
          2,
          1,
          1,
          4,
          0,
          0,
          11,
          4,
          2,
          0,
          0,
          2,
          0,
          0,
          2,
          0,
          1,
          0,
          1,
          5,
          0,
          0,
          0,
          0,
          2,
          1,
          2,
          1,
          1,
          3,
          2,
          13,
          1,
          1,
          1,
          0,
          0,
          1,
          0,
          6,
          4,
          2,
          1,
          0,
          4,
          0,
          0,
          0,
          3,
          1,
          0,
          4,
          1,
          0,
          15,
          0,
          1,
          0,
          0,
          0,
          2,
          3,
          0,
          1,
          0,
          0,
          1,
          8,
          13,
          2,
          1,
          0,
          1,
          2,
          0,
          7,
          4,
          1,
          1,
          5,
          0,
          4,
          6,
          1,
          7,
          0,
          1,
          0,
          0,
          1,
          0,
          0,
          0,
          0,
          0,
          0,
          1,
          0,
          1,
          0,
          3,
          0,
          0,
          0,
          1,
          2,
          1,
          15,
          2,
          0,
          0,
          11,
          5,
          5,
          0,
          14,
          1,
          2,
          0,
          15,
          5,
          0,
          2,
          7,
          1,
          7,
          1,
          2,
          0,
          0,
          15,
          2,
          1,
          0,
          6,
          1,
          5,
          7,
          1,
          1,
          7,
          0,
          1,
          9,
          11,
          2,
          1,
          2,
          9,
          7,
          0,
          1,
          8,
          1,
          1,
          0,
          1,
          9,
          1,
          5,
          0,
          6,
          0,
          0,
          0,
          0,
          0,
          0,
          3,
          15,
          0,
          11,
          7,
          0,
          3,
          0,
          4,
          0,
          6,
          1,
          3,
          3,
          1,
          1,
          1,
          0,
          1,
          0,
          1,
          4,
          7,
          1,
          0,
          0,
          0,
          2,
          0,
          0,
          0,
          1,
          7,
          12,
          1,
          0,
          0,
          0,
          0,
          1,
          1,
          0,
          1,
          1,
          0,
          1,
          2,
          1,
          1,
          5,
          0,
          0,
          0,
          0,
          0,
          9,
          4,
          0,
          4,
          0,
          0,
          2,
          1,
          2,
          2,
          4,
          1,
          0,
          8,
          1,
          1,
          1,
          0,
          3,
          2,
          5,
          0,
          0,
          2,
          0,
          6,
          1,
          0,
          10,
          0,
          0,
          0,
          2,
          0,
          1,
          1,
          0,
          1,
          0,
          0,
          1,
          1,
          0,
          1,
          0,
          0,
          1,
          0,
          14,
          2,
          5,
          3,
          1,
          1,
          8,
          7,
          13,
          5,
          0,
          3,
          0,
          0,
          0,
          13,
          7,
          5,
          7,
          0,
          2,
          7,
          4,
          2,
          1,
          7,
          0,
          2,
          6,
          1,
          1,
          1,
          0,
          1,
          1,
          1,
          7,
          0,
          2,
          2,
          0,
          7,
          1,
          0,
          1,
          0,
          7,
          1,
          0,
          2,
          0,
          0,
          6,
          7,
          1,
          0,
          0,
          0,
          0,
          1,
          12,
          0,
          1,
          1,
          1,
          4,
          0,
          1,
          7,
          1,
          7,
          0,
          1,
          0,
          2,
          0,
          1,
          0,
          14,
          2,
          0,
          3,
          3,
          0,
          6,
          7,
          3,
          0,
          2,
          2,
          1,
          0,
          1,
          0,
          1,
          0,
          0,
          1,
          1,
          1,
          2,
          7,
          1,
          2,
          1,
          0,
          4,
          6,
          6,
          2,
          0,
          0,
          1,
          0,
          2,
          3,
          1,
          0,
          0,
          0,
          1,
          0,
          2,
          1,
          0,
          1,
          7,
          0,
          5,
          1,
          4,
          0,
          2,
          1,
          8,
          0,
          6,
          1,
          8,
          0,
          8,
          1,
          6,
          14,
          0,
          14,
          0,
          8,
          1,
          0,
          1,
          0,
          1,
          0,
          0,
          0,
          0,
          0,
          2,
          0,
          1,
          1,
          5,
          0,
          12,
          0,
          0,
          2,
          1,
          0,
          1,
          2,
          0,
          1,
          1,
          1,
          0,
          0,
          0,
          0,
          0,
          1,
          0,
          1,
          0,
          0,
          0,
          1,
          0,
          0,
          0,
          1,
          2,
          1,
          0,
          0,
          5,
          2,
          0,
          2,
          5,
          2,
          4,
          7,
          7,
          0,
          2,
          2,
          0,
          0,
          1,
          3,
          0,
          0,
          2,
          1,
          1,
          13,
          0,
          1,
          3,
          0,
          4,
          14,
          0,
          14,
          7,
          1,
          2,
          1,
          0,
          1,
          2,
          0,
          0,
          2,
          5,
          0,
          7,
          0,
          3,
          0,
          3,
          2,
          4,
          2,
          1,
          0,
          2,
          2,
          5,
          0,
          6,
          12,
          1,
          0,
          7,
          2,
          0,
          0,
          0,
          0,
          1,
          0,
          1,
          1,
          0,
          0,
          3,
          0,
          11,
          1,
          0,
          4,
          2,
          3,
          1,
          1,
          1,
          5,
          1,
          0,
          2,
          7,
          0,
          0,
          0,
          0,
          1,
          1,
          6,
          2,
          1,
          0,
          7,
          0,
          0,
          0,
          0,
          4,
          0,
          0,
          0,
          1,
          2,
          0,
          2,
          1,
          7,
          0,
          1,
          8,
          0,
          0,
          0,
          0,
          0,
          0,
          2,
          2,
          2,
          0,
          1,
          1,
          0,
          11,
          3,
          4,
          1,
          1,
          1,
          9,
          5,
          1,
          1,
          0,
          12,
          0,
          5,
          1,
          7,
          1,
          1,
          5,
          2,
          1,
          0,
          8,
          4,
          0,
          2,
          1,
          1,
          5,
          6,
          0,
          0,
          1,
          1,
          1,
          1,
          3,
          0,
          1,
          2,
          4,
          9,
          0,
          1,
          11,
          0,
          1,
          1,
          1,
          0,
          0,
          0,
          2,
          0,
          0,
          1,
          0,
          0,
          2,
          9,
          1,
          0,
          0,
          1,
          0,
          0,
          1
         ],
         "xaxis": "x",
         "yaxis": "y"
        }
       ],
       "layout": {
        "barmode": "relative",
        "legend": {
         "tracegroupgap": 0
        },
        "template": {
         "data": {
          "bar": [
           {
            "error_x": {
             "color": "#2a3f5f"
            },
            "error_y": {
             "color": "#2a3f5f"
            },
            "marker": {
             "line": {
              "color": "#E5ECF6",
              "width": 0.5
             },
             "pattern": {
              "fillmode": "overlay",
              "size": 10,
              "solidity": 0.2
             }
            },
            "type": "bar"
           }
          ],
          "barpolar": [
           {
            "marker": {
             "line": {
              "color": "#E5ECF6",
              "width": 0.5
             },
             "pattern": {
              "fillmode": "overlay",
              "size": 10,
              "solidity": 0.2
             }
            },
            "type": "barpolar"
           }
          ],
          "carpet": [
           {
            "aaxis": {
             "endlinecolor": "#2a3f5f",
             "gridcolor": "white",
             "linecolor": "white",
             "minorgridcolor": "white",
             "startlinecolor": "#2a3f5f"
            },
            "baxis": {
             "endlinecolor": "#2a3f5f",
             "gridcolor": "white",
             "linecolor": "white",
             "minorgridcolor": "white",
             "startlinecolor": "#2a3f5f"
            },
            "type": "carpet"
           }
          ],
          "choropleth": [
           {
            "colorbar": {
             "outlinewidth": 0,
             "ticks": ""
            },
            "type": "choropleth"
           }
          ],
          "contour": [
           {
            "colorbar": {
             "outlinewidth": 0,
             "ticks": ""
            },
            "colorscale": [
             [
              0,
              "#0d0887"
             ],
             [
              0.1111111111111111,
              "#46039f"
             ],
             [
              0.2222222222222222,
              "#7201a8"
             ],
             [
              0.3333333333333333,
              "#9c179e"
             ],
             [
              0.4444444444444444,
              "#bd3786"
             ],
             [
              0.5555555555555556,
              "#d8576b"
             ],
             [
              0.6666666666666666,
              "#ed7953"
             ],
             [
              0.7777777777777778,
              "#fb9f3a"
             ],
             [
              0.8888888888888888,
              "#fdca26"
             ],
             [
              1,
              "#f0f921"
             ]
            ],
            "type": "contour"
           }
          ],
          "contourcarpet": [
           {
            "colorbar": {
             "outlinewidth": 0,
             "ticks": ""
            },
            "type": "contourcarpet"
           }
          ],
          "heatmap": [
           {
            "colorbar": {
             "outlinewidth": 0,
             "ticks": ""
            },
            "colorscale": [
             [
              0,
              "#0d0887"
             ],
             [
              0.1111111111111111,
              "#46039f"
             ],
             [
              0.2222222222222222,
              "#7201a8"
             ],
             [
              0.3333333333333333,
              "#9c179e"
             ],
             [
              0.4444444444444444,
              "#bd3786"
             ],
             [
              0.5555555555555556,
              "#d8576b"
             ],
             [
              0.6666666666666666,
              "#ed7953"
             ],
             [
              0.7777777777777778,
              "#fb9f3a"
             ],
             [
              0.8888888888888888,
              "#fdca26"
             ],
             [
              1,
              "#f0f921"
             ]
            ],
            "type": "heatmap"
           }
          ],
          "heatmapgl": [
           {
            "colorbar": {
             "outlinewidth": 0,
             "ticks": ""
            },
            "colorscale": [
             [
              0,
              "#0d0887"
             ],
             [
              0.1111111111111111,
              "#46039f"
             ],
             [
              0.2222222222222222,
              "#7201a8"
             ],
             [
              0.3333333333333333,
              "#9c179e"
             ],
             [
              0.4444444444444444,
              "#bd3786"
             ],
             [
              0.5555555555555556,
              "#d8576b"
             ],
             [
              0.6666666666666666,
              "#ed7953"
             ],
             [
              0.7777777777777778,
              "#fb9f3a"
             ],
             [
              0.8888888888888888,
              "#fdca26"
             ],
             [
              1,
              "#f0f921"
             ]
            ],
            "type": "heatmapgl"
           }
          ],
          "histogram": [
           {
            "marker": {
             "pattern": {
              "fillmode": "overlay",
              "size": 10,
              "solidity": 0.2
             }
            },
            "type": "histogram"
           }
          ],
          "histogram2d": [
           {
            "colorbar": {
             "outlinewidth": 0,
             "ticks": ""
            },
            "colorscale": [
             [
              0,
              "#0d0887"
             ],
             [
              0.1111111111111111,
              "#46039f"
             ],
             [
              0.2222222222222222,
              "#7201a8"
             ],
             [
              0.3333333333333333,
              "#9c179e"
             ],
             [
              0.4444444444444444,
              "#bd3786"
             ],
             [
              0.5555555555555556,
              "#d8576b"
             ],
             [
              0.6666666666666666,
              "#ed7953"
             ],
             [
              0.7777777777777778,
              "#fb9f3a"
             ],
             [
              0.8888888888888888,
              "#fdca26"
             ],
             [
              1,
              "#f0f921"
             ]
            ],
            "type": "histogram2d"
           }
          ],
          "histogram2dcontour": [
           {
            "colorbar": {
             "outlinewidth": 0,
             "ticks": ""
            },
            "colorscale": [
             [
              0,
              "#0d0887"
             ],
             [
              0.1111111111111111,
              "#46039f"
             ],
             [
              0.2222222222222222,
              "#7201a8"
             ],
             [
              0.3333333333333333,
              "#9c179e"
             ],
             [
              0.4444444444444444,
              "#bd3786"
             ],
             [
              0.5555555555555556,
              "#d8576b"
             ],
             [
              0.6666666666666666,
              "#ed7953"
             ],
             [
              0.7777777777777778,
              "#fb9f3a"
             ],
             [
              0.8888888888888888,
              "#fdca26"
             ],
             [
              1,
              "#f0f921"
             ]
            ],
            "type": "histogram2dcontour"
           }
          ],
          "mesh3d": [
           {
            "colorbar": {
             "outlinewidth": 0,
             "ticks": ""
            },
            "type": "mesh3d"
           }
          ],
          "parcoords": [
           {
            "line": {
             "colorbar": {
              "outlinewidth": 0,
              "ticks": ""
             }
            },
            "type": "parcoords"
           }
          ],
          "pie": [
           {
            "automargin": true,
            "type": "pie"
           }
          ],
          "scatter": [
           {
            "fillpattern": {
             "fillmode": "overlay",
             "size": 10,
             "solidity": 0.2
            },
            "type": "scatter"
           }
          ],
          "scatter3d": [
           {
            "line": {
             "colorbar": {
              "outlinewidth": 0,
              "ticks": ""
             }
            },
            "marker": {
             "colorbar": {
              "outlinewidth": 0,
              "ticks": ""
             }
            },
            "type": "scatter3d"
           }
          ],
          "scattercarpet": [
           {
            "marker": {
             "colorbar": {
              "outlinewidth": 0,
              "ticks": ""
             }
            },
            "type": "scattercarpet"
           }
          ],
          "scattergeo": [
           {
            "marker": {
             "colorbar": {
              "outlinewidth": 0,
              "ticks": ""
             }
            },
            "type": "scattergeo"
           }
          ],
          "scattergl": [
           {
            "marker": {
             "colorbar": {
              "outlinewidth": 0,
              "ticks": ""
             }
            },
            "type": "scattergl"
           }
          ],
          "scattermapbox": [
           {
            "marker": {
             "colorbar": {
              "outlinewidth": 0,
              "ticks": ""
             }
            },
            "type": "scattermapbox"
           }
          ],
          "scatterpolar": [
           {
            "marker": {
             "colorbar": {
              "outlinewidth": 0,
              "ticks": ""
             }
            },
            "type": "scatterpolar"
           }
          ],
          "scatterpolargl": [
           {
            "marker": {
             "colorbar": {
              "outlinewidth": 0,
              "ticks": ""
             }
            },
            "type": "scatterpolargl"
           }
          ],
          "scatterternary": [
           {
            "marker": {
             "colorbar": {
              "outlinewidth": 0,
              "ticks": ""
             }
            },
            "type": "scatterternary"
           }
          ],
          "surface": [
           {
            "colorbar": {
             "outlinewidth": 0,
             "ticks": ""
            },
            "colorscale": [
             [
              0,
              "#0d0887"
             ],
             [
              0.1111111111111111,
              "#46039f"
             ],
             [
              0.2222222222222222,
              "#7201a8"
             ],
             [
              0.3333333333333333,
              "#9c179e"
             ],
             [
              0.4444444444444444,
              "#bd3786"
             ],
             [
              0.5555555555555556,
              "#d8576b"
             ],
             [
              0.6666666666666666,
              "#ed7953"
             ],
             [
              0.7777777777777778,
              "#fb9f3a"
             ],
             [
              0.8888888888888888,
              "#fdca26"
             ],
             [
              1,
              "#f0f921"
             ]
            ],
            "type": "surface"
           }
          ],
          "table": [
           {
            "cells": {
             "fill": {
              "color": "#EBF0F8"
             },
             "line": {
              "color": "white"
             }
            },
            "header": {
             "fill": {
              "color": "#C8D4E3"
             },
             "line": {
              "color": "white"
             }
            },
            "type": "table"
           }
          ]
         },
         "layout": {
          "annotationdefaults": {
           "arrowcolor": "#2a3f5f",
           "arrowhead": 0,
           "arrowwidth": 1
          },
          "autotypenumbers": "strict",
          "coloraxis": {
           "colorbar": {
            "outlinewidth": 0,
            "ticks": ""
           }
          },
          "colorscale": {
           "diverging": [
            [
             0,
             "#8e0152"
            ],
            [
             0.1,
             "#c51b7d"
            ],
            [
             0.2,
             "#de77ae"
            ],
            [
             0.3,
             "#f1b6da"
            ],
            [
             0.4,
             "#fde0ef"
            ],
            [
             0.5,
             "#f7f7f7"
            ],
            [
             0.6,
             "#e6f5d0"
            ],
            [
             0.7,
             "#b8e186"
            ],
            [
             0.8,
             "#7fbc41"
            ],
            [
             0.9,
             "#4d9221"
            ],
            [
             1,
             "#276419"
            ]
           ],
           "sequential": [
            [
             0,
             "#0d0887"
            ],
            [
             0.1111111111111111,
             "#46039f"
            ],
            [
             0.2222222222222222,
             "#7201a8"
            ],
            [
             0.3333333333333333,
             "#9c179e"
            ],
            [
             0.4444444444444444,
             "#bd3786"
            ],
            [
             0.5555555555555556,
             "#d8576b"
            ],
            [
             0.6666666666666666,
             "#ed7953"
            ],
            [
             0.7777777777777778,
             "#fb9f3a"
            ],
            [
             0.8888888888888888,
             "#fdca26"
            ],
            [
             1,
             "#f0f921"
            ]
           ],
           "sequentialminus": [
            [
             0,
             "#0d0887"
            ],
            [
             0.1111111111111111,
             "#46039f"
            ],
            [
             0.2222222222222222,
             "#7201a8"
            ],
            [
             0.3333333333333333,
             "#9c179e"
            ],
            [
             0.4444444444444444,
             "#bd3786"
            ],
            [
             0.5555555555555556,
             "#d8576b"
            ],
            [
             0.6666666666666666,
             "#ed7953"
            ],
            [
             0.7777777777777778,
             "#fb9f3a"
            ],
            [
             0.8888888888888888,
             "#fdca26"
            ],
            [
             1,
             "#f0f921"
            ]
           ]
          },
          "colorway": [
           "#636efa",
           "#EF553B",
           "#00cc96",
           "#ab63fa",
           "#FFA15A",
           "#19d3f3",
           "#FF6692",
           "#B6E880",
           "#FF97FF",
           "#FECB52"
          ],
          "font": {
           "color": "#2a3f5f"
          },
          "geo": {
           "bgcolor": "white",
           "lakecolor": "white",
           "landcolor": "#E5ECF6",
           "showlakes": true,
           "showland": true,
           "subunitcolor": "white"
          },
          "hoverlabel": {
           "align": "left"
          },
          "hovermode": "closest",
          "mapbox": {
           "style": "light"
          },
          "paper_bgcolor": "white",
          "plot_bgcolor": "#E5ECF6",
          "polar": {
           "angularaxis": {
            "gridcolor": "white",
            "linecolor": "white",
            "ticks": ""
           },
           "bgcolor": "#E5ECF6",
           "radialaxis": {
            "gridcolor": "white",
            "linecolor": "white",
            "ticks": ""
           }
          },
          "scene": {
           "xaxis": {
            "backgroundcolor": "#E5ECF6",
            "gridcolor": "white",
            "gridwidth": 2,
            "linecolor": "white",
            "showbackground": true,
            "ticks": "",
            "zerolinecolor": "white"
           },
           "yaxis": {
            "backgroundcolor": "#E5ECF6",
            "gridcolor": "white",
            "gridwidth": 2,
            "linecolor": "white",
            "showbackground": true,
            "ticks": "",
            "zerolinecolor": "white"
           },
           "zaxis": {
            "backgroundcolor": "#E5ECF6",
            "gridcolor": "white",
            "gridwidth": 2,
            "linecolor": "white",
            "showbackground": true,
            "ticks": "",
            "zerolinecolor": "white"
           }
          },
          "shapedefaults": {
           "line": {
            "color": "#2a3f5f"
           }
          },
          "ternary": {
           "aaxis": {
            "gridcolor": "white",
            "linecolor": "white",
            "ticks": ""
           },
           "baxis": {
            "gridcolor": "white",
            "linecolor": "white",
            "ticks": ""
           },
           "bgcolor": "#E5ECF6",
           "caxis": {
            "gridcolor": "white",
            "linecolor": "white",
            "ticks": ""
           }
          },
          "title": {
           "x": 0.05
          },
          "xaxis": {
           "automargin": true,
           "gridcolor": "white",
           "linecolor": "white",
           "ticks": "",
           "title": {
            "standoff": 15
           },
           "zerolinecolor": "white",
           "zerolinewidth": 2
          },
          "yaxis": {
           "automargin": true,
           "gridcolor": "white",
           "linecolor": "white",
           "ticks": "",
           "title": {
            "standoff": 15
           },
           "zerolinecolor": "white",
           "zerolinewidth": 2
          }
         }
        },
        "title": {
         "text": "son_terfiden_bu_yana_gecen_yil Distribution"
        },
        "xaxis": {
         "anchor": "y",
         "domain": [
          0,
          1
         ],
         "title": {
          "text": "son_terfiden_bu_yana_gecen_yil"
         }
        },
        "yaxis": {
         "anchor": "x",
         "domain": [
          0,
          1
         ],
         "title": {
          "text": "count"
         }
        }
       }
      }
     },
     "metadata": {},
     "output_type": "display_data"
    },
    {
     "data": {
      "application/vnd.plotly.v1+json": {
       "config": {
        "plotlyServerURL": "https://plot.ly"
       },
       "data": [
        {
         "alignmentgroup": "True",
         "hovertemplate": "son_terfiden_bu_yana_gecen_yil=%{y}<extra></extra>",
         "legendgroup": "",
         "marker": {
          "color": "#636efa"
         },
         "name": "",
         "notched": false,
         "offsetgroup": "",
         "orientation": "v",
         "showlegend": false,
         "type": "box",
         "x0": " ",
         "xaxis": "x",
         "y": [
          0,
          1,
          0,
          3,
          2,
          3,
          0,
          0,
          1,
          7,
          0,
          0,
          4,
          1,
          0,
          8,
          0,
          0,
          3,
          1,
          1,
          0,
          2,
          0,
          1,
          4,
          6,
          4,
          5,
          2,
          0,
          1,
          1,
          0,
          2,
          1,
          0,
          2,
          0,
          1,
          0,
          0,
          0,
          1,
          3,
          15,
          8,
          0,
          0,
          0,
          0,
          2,
          1,
          2,
          0,
          8,
          1,
          2,
          1,
          0,
          7,
          9,
          13,
          7,
          12,
          0,
          0,
          0,
          1,
          0,
          1,
          0,
          1,
          0,
          0,
          1,
          2,
          0,
          0,
          0,
          3,
          0,
          1,
          1,
          1,
          0,
          0,
          0,
          10,
          4,
          11,
          1,
          2,
          9,
          5,
          0,
          0,
          0,
          1,
          1,
          0,
          0,
          1,
          2,
          0,
          2,
          0,
          0,
          2,
          0,
          12,
          0,
          4,
          1,
          0,
          1,
          5,
          2,
          0,
          4,
          0,
          0,
          4,
          15,
          7,
          4,
          15,
          0,
          2,
          5,
          1,
          2,
          2,
          0,
          5,
          0,
          0,
          5,
          2,
          4,
          0,
          0,
          2,
          0,
          0,
          2,
          1,
          7,
          1,
          0,
          2,
          0,
          4,
          0,
          3,
          0,
          0,
          0,
          2,
          1,
          2,
          2,
          0,
          1,
          0,
          4,
          1,
          7,
          0,
          1,
          1,
          0,
          7,
          6,
          0,
          2,
          0,
          1,
          15,
          2,
          0,
          1,
          0,
          0,
          1,
          1,
          9,
          2,
          1,
          1,
          11,
          0,
          0,
          2,
          11,
          1,
          1,
          0,
          0,
          1,
          2,
          1,
          2,
          3,
          0,
          1,
          2,
          1,
          0,
          0,
          9,
          5,
          0,
          4,
          0,
          0,
          0,
          1,
          12,
          0,
          3,
          1,
          0,
          5,
          1,
          0,
          5,
          4,
          0,
          0,
          2,
          11,
          2,
          0,
          0,
          1,
          1,
          15,
          1,
          1,
          1,
          2,
          0,
          4,
          1,
          2,
          0,
          5,
          0,
          0,
          0,
          11,
          1,
          0,
          0,
          1,
          7,
          3,
          0,
          1,
          0,
          7,
          0,
          7,
          0,
          0,
          7,
          1,
          4,
          10,
          4,
          9,
          0,
          0,
          1,
          0,
          6,
          7,
          1,
          1,
          1,
          11,
          0,
          0,
          3,
          5,
          0,
          1,
          0,
          0,
          1,
          7,
          2,
          7,
          1,
          4,
          0,
          6,
          0,
          1,
          0,
          0,
          0,
          7,
          3,
          0,
          4,
          0,
          1,
          0,
          1,
          9,
          2,
          8,
          11,
          1,
          0,
          7,
          1,
          11,
          0,
          1,
          0,
          2,
          1,
          8,
          13,
          0,
          0,
          1,
          0,
          1,
          0,
          0,
          9,
          0,
          0,
          2,
          1,
          0,
          0,
          2,
          4,
          1,
          0,
          0,
          1,
          0,
          0,
          0,
          1,
          0,
          0,
          6,
          2,
          7,
          0,
          1,
          0,
          1,
          1,
          1,
          2,
          0,
          0,
          0,
          7,
          1,
          1,
          2,
          0,
          1,
          0,
          0,
          0,
          0,
          0,
          2,
          0,
          1,
          0,
          0,
          0,
          1,
          9,
          0,
          12,
          1,
          1,
          0,
          3,
          0,
          1,
          1,
          3,
          1,
          0,
          1,
          10,
          3,
          1,
          7,
          4,
          0,
          1,
          0,
          0,
          0,
          1,
          0,
          0,
          11,
          0,
          0,
          1,
          1,
          0,
          1,
          0,
          1,
          0,
          1,
          0,
          7,
          0,
          15,
          6,
          13,
          0,
          0,
          4,
          0,
          5,
          1,
          0,
          7,
          1,
          1,
          0,
          0,
          0,
          2,
          9,
          1,
          6,
          7,
          1,
          6,
          5,
          0,
          0,
          5,
          3,
          1,
          1,
          0,
          0,
          0,
          0,
          0,
          0,
          0,
          5,
          0,
          1,
          1,
          11,
          7,
          6,
          1,
          2,
          0,
          4,
          0,
          1,
          1,
          0,
          10,
          0,
          1,
          0,
          1,
          1,
          0,
          5,
          0,
          1,
          0,
          2,
          0,
          0,
          4,
          0,
          0,
          0,
          0,
          1,
          0,
          2,
          1,
          0,
          0,
          8,
          8,
          0,
          0,
          7,
          1,
          11,
          4,
          7,
          0,
          1,
          1,
          9,
          0,
          0,
          1,
          0,
          2,
          2,
          0,
          0,
          3,
          7,
          2,
          11,
          0,
          1,
          1,
          0,
          7,
          1,
          1,
          1,
          12,
          2,
          1,
          2,
          2,
          3,
          0,
          0,
          1,
          11,
          7,
          0,
          2,
          2,
          4,
          0,
          3,
          1,
          2,
          0,
          2,
          2,
          0,
          4,
          0,
          0,
          1,
          7,
          1,
          3,
          0,
          1,
          1,
          1,
          0,
          1,
          2,
          1,
          1,
          1,
          1,
          1,
          4,
          4,
          1,
          0,
          0,
          3,
          1,
          14,
          0,
          0,
          1,
          0,
          0,
          3,
          0,
          3,
          0,
          0,
          13,
          2,
          0,
          2,
          0,
          6,
          0,
          0,
          0,
          7,
          1,
          1,
          7,
          7,
          1,
          0,
          1,
          7,
          0,
          1,
          0,
          4,
          2,
          0,
          0,
          1,
          4,
          0,
          0,
          0,
          0,
          1,
          0,
          0,
          0,
          2,
          0,
          2,
          0,
          0,
          5,
          7,
          0,
          0,
          0,
          3,
          5,
          1,
          1,
          0,
          0,
          2,
          4,
          0,
          3,
          2,
          7,
          0,
          14,
          0,
          0,
          0,
          0,
          7,
          0,
          0,
          0,
          0,
          0,
          4,
          1,
          0,
          1,
          2,
          2,
          0,
          1,
          0,
          0,
          0,
          5,
          0,
          1,
          0,
          0,
          0,
          5,
          0,
          0,
          0,
          0,
          2,
          3,
          0,
          0,
          8,
          0,
          6,
          3,
          1,
          11,
          0,
          0,
          1,
          7,
          0,
          15,
          7,
          1,
          0,
          0,
          0,
          2,
          0,
          1,
          6,
          0,
          0,
          0,
          1,
          1,
          0,
          2,
          0,
          0,
          0,
          1,
          0,
          0,
          3,
          0,
          0,
          0,
          0,
          10,
          1,
          0,
          1,
          1,
          1,
          2,
          4,
          2,
          11,
          2,
          1,
          0,
          0,
          4,
          0,
          6,
          5,
          0,
          2,
          6,
          11,
          0,
          15,
          2,
          2,
          1,
          7,
          0,
          0,
          0,
          6,
          0,
          1,
          0,
          0,
          2,
          7,
          0,
          7,
          1,
          2,
          7,
          0,
          7,
          6,
          0,
          0,
          1,
          1,
          2,
          1,
          1,
          0,
          0,
          1,
          11,
          1,
          1,
          1,
          3,
          1,
          4,
          3,
          2,
          0,
          0,
          5,
          0,
          2,
          13,
          0,
          0,
          0,
          0,
          2,
          4,
          4,
          2,
          1,
          1,
          4,
          0,
          0,
          11,
          4,
          2,
          0,
          0,
          2,
          0,
          0,
          2,
          0,
          1,
          0,
          1,
          5,
          0,
          0,
          0,
          0,
          2,
          1,
          2,
          1,
          1,
          3,
          2,
          13,
          1,
          1,
          1,
          0,
          0,
          1,
          0,
          6,
          4,
          2,
          1,
          0,
          4,
          0,
          0,
          0,
          3,
          1,
          0,
          4,
          1,
          0,
          15,
          0,
          1,
          0,
          0,
          0,
          2,
          3,
          0,
          1,
          0,
          0,
          1,
          8,
          13,
          2,
          1,
          0,
          1,
          2,
          0,
          7,
          4,
          1,
          1,
          5,
          0,
          4,
          6,
          1,
          7,
          0,
          1,
          0,
          0,
          1,
          0,
          0,
          0,
          0,
          0,
          0,
          1,
          0,
          1,
          0,
          3,
          0,
          0,
          0,
          1,
          2,
          1,
          15,
          2,
          0,
          0,
          11,
          5,
          5,
          0,
          14,
          1,
          2,
          0,
          15,
          5,
          0,
          2,
          7,
          1,
          7,
          1,
          2,
          0,
          0,
          15,
          2,
          1,
          0,
          6,
          1,
          5,
          7,
          1,
          1,
          7,
          0,
          1,
          9,
          11,
          2,
          1,
          2,
          9,
          7,
          0,
          1,
          8,
          1,
          1,
          0,
          1,
          9,
          1,
          5,
          0,
          6,
          0,
          0,
          0,
          0,
          0,
          0,
          3,
          15,
          0,
          11,
          7,
          0,
          3,
          0,
          4,
          0,
          6,
          1,
          3,
          3,
          1,
          1,
          1,
          0,
          1,
          0,
          1,
          4,
          7,
          1,
          0,
          0,
          0,
          2,
          0,
          0,
          0,
          1,
          7,
          12,
          1,
          0,
          0,
          0,
          0,
          1,
          1,
          0,
          1,
          1,
          0,
          1,
          2,
          1,
          1,
          5,
          0,
          0,
          0,
          0,
          0,
          9,
          4,
          0,
          4,
          0,
          0,
          2,
          1,
          2,
          2,
          4,
          1,
          0,
          8,
          1,
          1,
          1,
          0,
          3,
          2,
          5,
          0,
          0,
          2,
          0,
          6,
          1,
          0,
          10,
          0,
          0,
          0,
          2,
          0,
          1,
          1,
          0,
          1,
          0,
          0,
          1,
          1,
          0,
          1,
          0,
          0,
          1,
          0,
          14,
          2,
          5,
          3,
          1,
          1,
          8,
          7,
          13,
          5,
          0,
          3,
          0,
          0,
          0,
          13,
          7,
          5,
          7,
          0,
          2,
          7,
          4,
          2,
          1,
          7,
          0,
          2,
          6,
          1,
          1,
          1,
          0,
          1,
          1,
          1,
          7,
          0,
          2,
          2,
          0,
          7,
          1,
          0,
          1,
          0,
          7,
          1,
          0,
          2,
          0,
          0,
          6,
          7,
          1,
          0,
          0,
          0,
          0,
          1,
          12,
          0,
          1,
          1,
          1,
          4,
          0,
          1,
          7,
          1,
          7,
          0,
          1,
          0,
          2,
          0,
          1,
          0,
          14,
          2,
          0,
          3,
          3,
          0,
          6,
          7,
          3,
          0,
          2,
          2,
          1,
          0,
          1,
          0,
          1,
          0,
          0,
          1,
          1,
          1,
          2,
          7,
          1,
          2,
          1,
          0,
          4,
          6,
          6,
          2,
          0,
          0,
          1,
          0,
          2,
          3,
          1,
          0,
          0,
          0,
          1,
          0,
          2,
          1,
          0,
          1,
          7,
          0,
          5,
          1,
          4,
          0,
          2,
          1,
          8,
          0,
          6,
          1,
          8,
          0,
          8,
          1,
          6,
          14,
          0,
          14,
          0,
          8,
          1,
          0,
          1,
          0,
          1,
          0,
          0,
          0,
          0,
          0,
          2,
          0,
          1,
          1,
          5,
          0,
          12,
          0,
          0,
          2,
          1,
          0,
          1,
          2,
          0,
          1,
          1,
          1,
          0,
          0,
          0,
          0,
          0,
          1,
          0,
          1,
          0,
          0,
          0,
          1,
          0,
          0,
          0,
          1,
          2,
          1,
          0,
          0,
          5,
          2,
          0,
          2,
          5,
          2,
          4,
          7,
          7,
          0,
          2,
          2,
          0,
          0,
          1,
          3,
          0,
          0,
          2,
          1,
          1,
          13,
          0,
          1,
          3,
          0,
          4,
          14,
          0,
          14,
          7,
          1,
          2,
          1,
          0,
          1,
          2,
          0,
          0,
          2,
          5,
          0,
          7,
          0,
          3,
          0,
          3,
          2,
          4,
          2,
          1,
          0,
          2,
          2,
          5,
          0,
          6,
          12,
          1,
          0,
          7,
          2,
          0,
          0,
          0,
          0,
          1,
          0,
          1,
          1,
          0,
          0,
          3,
          0,
          11,
          1,
          0,
          4,
          2,
          3,
          1,
          1,
          1,
          5,
          1,
          0,
          2,
          7,
          0,
          0,
          0,
          0,
          1,
          1,
          6,
          2,
          1,
          0,
          7,
          0,
          0,
          0,
          0,
          4,
          0,
          0,
          0,
          1,
          2,
          0,
          2,
          1,
          7,
          0,
          1,
          8,
          0,
          0,
          0,
          0,
          0,
          0,
          2,
          2,
          2,
          0,
          1,
          1,
          0,
          11,
          3,
          4,
          1,
          1,
          1,
          9,
          5,
          1,
          1,
          0,
          12,
          0,
          5,
          1,
          7,
          1,
          1,
          5,
          2,
          1,
          0,
          8,
          4,
          0,
          2,
          1,
          1,
          5,
          6,
          0,
          0,
          1,
          1,
          1,
          1,
          3,
          0,
          1,
          2,
          4,
          9,
          0,
          1,
          11,
          0,
          1,
          1,
          1,
          0,
          0,
          0,
          2,
          0,
          0,
          1,
          0,
          0,
          2,
          9,
          1,
          0,
          0,
          1,
          0,
          0,
          1
         ],
         "y0": " ",
         "yaxis": "y"
        }
       ],
       "layout": {
        "boxmode": "group",
        "legend": {
         "tracegroupgap": 0
        },
        "template": {
         "data": {
          "bar": [
           {
            "error_x": {
             "color": "#2a3f5f"
            },
            "error_y": {
             "color": "#2a3f5f"
            },
            "marker": {
             "line": {
              "color": "#E5ECF6",
              "width": 0.5
             },
             "pattern": {
              "fillmode": "overlay",
              "size": 10,
              "solidity": 0.2
             }
            },
            "type": "bar"
           }
          ],
          "barpolar": [
           {
            "marker": {
             "line": {
              "color": "#E5ECF6",
              "width": 0.5
             },
             "pattern": {
              "fillmode": "overlay",
              "size": 10,
              "solidity": 0.2
             }
            },
            "type": "barpolar"
           }
          ],
          "carpet": [
           {
            "aaxis": {
             "endlinecolor": "#2a3f5f",
             "gridcolor": "white",
             "linecolor": "white",
             "minorgridcolor": "white",
             "startlinecolor": "#2a3f5f"
            },
            "baxis": {
             "endlinecolor": "#2a3f5f",
             "gridcolor": "white",
             "linecolor": "white",
             "minorgridcolor": "white",
             "startlinecolor": "#2a3f5f"
            },
            "type": "carpet"
           }
          ],
          "choropleth": [
           {
            "colorbar": {
             "outlinewidth": 0,
             "ticks": ""
            },
            "type": "choropleth"
           }
          ],
          "contour": [
           {
            "colorbar": {
             "outlinewidth": 0,
             "ticks": ""
            },
            "colorscale": [
             [
              0,
              "#0d0887"
             ],
             [
              0.1111111111111111,
              "#46039f"
             ],
             [
              0.2222222222222222,
              "#7201a8"
             ],
             [
              0.3333333333333333,
              "#9c179e"
             ],
             [
              0.4444444444444444,
              "#bd3786"
             ],
             [
              0.5555555555555556,
              "#d8576b"
             ],
             [
              0.6666666666666666,
              "#ed7953"
             ],
             [
              0.7777777777777778,
              "#fb9f3a"
             ],
             [
              0.8888888888888888,
              "#fdca26"
             ],
             [
              1,
              "#f0f921"
             ]
            ],
            "type": "contour"
           }
          ],
          "contourcarpet": [
           {
            "colorbar": {
             "outlinewidth": 0,
             "ticks": ""
            },
            "type": "contourcarpet"
           }
          ],
          "heatmap": [
           {
            "colorbar": {
             "outlinewidth": 0,
             "ticks": ""
            },
            "colorscale": [
             [
              0,
              "#0d0887"
             ],
             [
              0.1111111111111111,
              "#46039f"
             ],
             [
              0.2222222222222222,
              "#7201a8"
             ],
             [
              0.3333333333333333,
              "#9c179e"
             ],
             [
              0.4444444444444444,
              "#bd3786"
             ],
             [
              0.5555555555555556,
              "#d8576b"
             ],
             [
              0.6666666666666666,
              "#ed7953"
             ],
             [
              0.7777777777777778,
              "#fb9f3a"
             ],
             [
              0.8888888888888888,
              "#fdca26"
             ],
             [
              1,
              "#f0f921"
             ]
            ],
            "type": "heatmap"
           }
          ],
          "heatmapgl": [
           {
            "colorbar": {
             "outlinewidth": 0,
             "ticks": ""
            },
            "colorscale": [
             [
              0,
              "#0d0887"
             ],
             [
              0.1111111111111111,
              "#46039f"
             ],
             [
              0.2222222222222222,
              "#7201a8"
             ],
             [
              0.3333333333333333,
              "#9c179e"
             ],
             [
              0.4444444444444444,
              "#bd3786"
             ],
             [
              0.5555555555555556,
              "#d8576b"
             ],
             [
              0.6666666666666666,
              "#ed7953"
             ],
             [
              0.7777777777777778,
              "#fb9f3a"
             ],
             [
              0.8888888888888888,
              "#fdca26"
             ],
             [
              1,
              "#f0f921"
             ]
            ],
            "type": "heatmapgl"
           }
          ],
          "histogram": [
           {
            "marker": {
             "pattern": {
              "fillmode": "overlay",
              "size": 10,
              "solidity": 0.2
             }
            },
            "type": "histogram"
           }
          ],
          "histogram2d": [
           {
            "colorbar": {
             "outlinewidth": 0,
             "ticks": ""
            },
            "colorscale": [
             [
              0,
              "#0d0887"
             ],
             [
              0.1111111111111111,
              "#46039f"
             ],
             [
              0.2222222222222222,
              "#7201a8"
             ],
             [
              0.3333333333333333,
              "#9c179e"
             ],
             [
              0.4444444444444444,
              "#bd3786"
             ],
             [
              0.5555555555555556,
              "#d8576b"
             ],
             [
              0.6666666666666666,
              "#ed7953"
             ],
             [
              0.7777777777777778,
              "#fb9f3a"
             ],
             [
              0.8888888888888888,
              "#fdca26"
             ],
             [
              1,
              "#f0f921"
             ]
            ],
            "type": "histogram2d"
           }
          ],
          "histogram2dcontour": [
           {
            "colorbar": {
             "outlinewidth": 0,
             "ticks": ""
            },
            "colorscale": [
             [
              0,
              "#0d0887"
             ],
             [
              0.1111111111111111,
              "#46039f"
             ],
             [
              0.2222222222222222,
              "#7201a8"
             ],
             [
              0.3333333333333333,
              "#9c179e"
             ],
             [
              0.4444444444444444,
              "#bd3786"
             ],
             [
              0.5555555555555556,
              "#d8576b"
             ],
             [
              0.6666666666666666,
              "#ed7953"
             ],
             [
              0.7777777777777778,
              "#fb9f3a"
             ],
             [
              0.8888888888888888,
              "#fdca26"
             ],
             [
              1,
              "#f0f921"
             ]
            ],
            "type": "histogram2dcontour"
           }
          ],
          "mesh3d": [
           {
            "colorbar": {
             "outlinewidth": 0,
             "ticks": ""
            },
            "type": "mesh3d"
           }
          ],
          "parcoords": [
           {
            "line": {
             "colorbar": {
              "outlinewidth": 0,
              "ticks": ""
             }
            },
            "type": "parcoords"
           }
          ],
          "pie": [
           {
            "automargin": true,
            "type": "pie"
           }
          ],
          "scatter": [
           {
            "fillpattern": {
             "fillmode": "overlay",
             "size": 10,
             "solidity": 0.2
            },
            "type": "scatter"
           }
          ],
          "scatter3d": [
           {
            "line": {
             "colorbar": {
              "outlinewidth": 0,
              "ticks": ""
             }
            },
            "marker": {
             "colorbar": {
              "outlinewidth": 0,
              "ticks": ""
             }
            },
            "type": "scatter3d"
           }
          ],
          "scattercarpet": [
           {
            "marker": {
             "colorbar": {
              "outlinewidth": 0,
              "ticks": ""
             }
            },
            "type": "scattercarpet"
           }
          ],
          "scattergeo": [
           {
            "marker": {
             "colorbar": {
              "outlinewidth": 0,
              "ticks": ""
             }
            },
            "type": "scattergeo"
           }
          ],
          "scattergl": [
           {
            "marker": {
             "colorbar": {
              "outlinewidth": 0,
              "ticks": ""
             }
            },
            "type": "scattergl"
           }
          ],
          "scattermapbox": [
           {
            "marker": {
             "colorbar": {
              "outlinewidth": 0,
              "ticks": ""
             }
            },
            "type": "scattermapbox"
           }
          ],
          "scatterpolar": [
           {
            "marker": {
             "colorbar": {
              "outlinewidth": 0,
              "ticks": ""
             }
            },
            "type": "scatterpolar"
           }
          ],
          "scatterpolargl": [
           {
            "marker": {
             "colorbar": {
              "outlinewidth": 0,
              "ticks": ""
             }
            },
            "type": "scatterpolargl"
           }
          ],
          "scatterternary": [
           {
            "marker": {
             "colorbar": {
              "outlinewidth": 0,
              "ticks": ""
             }
            },
            "type": "scatterternary"
           }
          ],
          "surface": [
           {
            "colorbar": {
             "outlinewidth": 0,
             "ticks": ""
            },
            "colorscale": [
             [
              0,
              "#0d0887"
             ],
             [
              0.1111111111111111,
              "#46039f"
             ],
             [
              0.2222222222222222,
              "#7201a8"
             ],
             [
              0.3333333333333333,
              "#9c179e"
             ],
             [
              0.4444444444444444,
              "#bd3786"
             ],
             [
              0.5555555555555556,
              "#d8576b"
             ],
             [
              0.6666666666666666,
              "#ed7953"
             ],
             [
              0.7777777777777778,
              "#fb9f3a"
             ],
             [
              0.8888888888888888,
              "#fdca26"
             ],
             [
              1,
              "#f0f921"
             ]
            ],
            "type": "surface"
           }
          ],
          "table": [
           {
            "cells": {
             "fill": {
              "color": "#EBF0F8"
             },
             "line": {
              "color": "white"
             }
            },
            "header": {
             "fill": {
              "color": "#C8D4E3"
             },
             "line": {
              "color": "white"
             }
            },
            "type": "table"
           }
          ]
         },
         "layout": {
          "annotationdefaults": {
           "arrowcolor": "#2a3f5f",
           "arrowhead": 0,
           "arrowwidth": 1
          },
          "autotypenumbers": "strict",
          "coloraxis": {
           "colorbar": {
            "outlinewidth": 0,
            "ticks": ""
           }
          },
          "colorscale": {
           "diverging": [
            [
             0,
             "#8e0152"
            ],
            [
             0.1,
             "#c51b7d"
            ],
            [
             0.2,
             "#de77ae"
            ],
            [
             0.3,
             "#f1b6da"
            ],
            [
             0.4,
             "#fde0ef"
            ],
            [
             0.5,
             "#f7f7f7"
            ],
            [
             0.6,
             "#e6f5d0"
            ],
            [
             0.7,
             "#b8e186"
            ],
            [
             0.8,
             "#7fbc41"
            ],
            [
             0.9,
             "#4d9221"
            ],
            [
             1,
             "#276419"
            ]
           ],
           "sequential": [
            [
             0,
             "#0d0887"
            ],
            [
             0.1111111111111111,
             "#46039f"
            ],
            [
             0.2222222222222222,
             "#7201a8"
            ],
            [
             0.3333333333333333,
             "#9c179e"
            ],
            [
             0.4444444444444444,
             "#bd3786"
            ],
            [
             0.5555555555555556,
             "#d8576b"
            ],
            [
             0.6666666666666666,
             "#ed7953"
            ],
            [
             0.7777777777777778,
             "#fb9f3a"
            ],
            [
             0.8888888888888888,
             "#fdca26"
            ],
            [
             1,
             "#f0f921"
            ]
           ],
           "sequentialminus": [
            [
             0,
             "#0d0887"
            ],
            [
             0.1111111111111111,
             "#46039f"
            ],
            [
             0.2222222222222222,
             "#7201a8"
            ],
            [
             0.3333333333333333,
             "#9c179e"
            ],
            [
             0.4444444444444444,
             "#bd3786"
            ],
            [
             0.5555555555555556,
             "#d8576b"
            ],
            [
             0.6666666666666666,
             "#ed7953"
            ],
            [
             0.7777777777777778,
             "#fb9f3a"
            ],
            [
             0.8888888888888888,
             "#fdca26"
            ],
            [
             1,
             "#f0f921"
            ]
           ]
          },
          "colorway": [
           "#636efa",
           "#EF553B",
           "#00cc96",
           "#ab63fa",
           "#FFA15A",
           "#19d3f3",
           "#FF6692",
           "#B6E880",
           "#FF97FF",
           "#FECB52"
          ],
          "font": {
           "color": "#2a3f5f"
          },
          "geo": {
           "bgcolor": "white",
           "lakecolor": "white",
           "landcolor": "#E5ECF6",
           "showlakes": true,
           "showland": true,
           "subunitcolor": "white"
          },
          "hoverlabel": {
           "align": "left"
          },
          "hovermode": "closest",
          "mapbox": {
           "style": "light"
          },
          "paper_bgcolor": "white",
          "plot_bgcolor": "#E5ECF6",
          "polar": {
           "angularaxis": {
            "gridcolor": "white",
            "linecolor": "white",
            "ticks": ""
           },
           "bgcolor": "#E5ECF6",
           "radialaxis": {
            "gridcolor": "white",
            "linecolor": "white",
            "ticks": ""
           }
          },
          "scene": {
           "xaxis": {
            "backgroundcolor": "#E5ECF6",
            "gridcolor": "white",
            "gridwidth": 2,
            "linecolor": "white",
            "showbackground": true,
            "ticks": "",
            "zerolinecolor": "white"
           },
           "yaxis": {
            "backgroundcolor": "#E5ECF6",
            "gridcolor": "white",
            "gridwidth": 2,
            "linecolor": "white",
            "showbackground": true,
            "ticks": "",
            "zerolinecolor": "white"
           },
           "zaxis": {
            "backgroundcolor": "#E5ECF6",
            "gridcolor": "white",
            "gridwidth": 2,
            "linecolor": "white",
            "showbackground": true,
            "ticks": "",
            "zerolinecolor": "white"
           }
          },
          "shapedefaults": {
           "line": {
            "color": "#2a3f5f"
           }
          },
          "ternary": {
           "aaxis": {
            "gridcolor": "white",
            "linecolor": "white",
            "ticks": ""
           },
           "baxis": {
            "gridcolor": "white",
            "linecolor": "white",
            "ticks": ""
           },
           "bgcolor": "#E5ECF6",
           "caxis": {
            "gridcolor": "white",
            "linecolor": "white",
            "ticks": ""
           }
          },
          "title": {
           "x": 0.05
          },
          "xaxis": {
           "automargin": true,
           "gridcolor": "white",
           "linecolor": "white",
           "ticks": "",
           "title": {
            "standoff": 15
           },
           "zerolinecolor": "white",
           "zerolinewidth": 2
          },
          "yaxis": {
           "automargin": true,
           "gridcolor": "white",
           "linecolor": "white",
           "ticks": "",
           "title": {
            "standoff": 15
           },
           "zerolinecolor": "white",
           "zerolinewidth": 2
          }
         }
        },
        "title": {
         "text": "son_terfiden_bu_yana_gecen_yil Box Plot"
        },
        "xaxis": {
         "anchor": "y",
         "domain": [
          0,
          1
         ]
        },
        "yaxis": {
         "anchor": "x",
         "domain": [
          0,
          1
         ],
         "title": {
          "text": "son_terfiden_bu_yana_gecen_yil"
         }
        }
       }
      }
     },
     "metadata": {},
     "output_type": "display_data"
    },
    {
     "data": {
      "application/vnd.plotly.v1+json": {
       "config": {
        "plotlyServerURL": "https://plot.ly"
       },
       "data": [
        {
         "alignmentgroup": "True",
         "bingroup": "x",
         "hovertemplate": "mevcut_rolde_gecirilen_yil=%{x}<br>count=%{y}<extra></extra>",
         "legendgroup": "",
         "marker": {
          "color": "#636efa",
          "pattern": {
           "shape": ""
          }
         },
         "name": "",
         "nbinsx": 30,
         "offsetgroup": "",
         "orientation": "v",
         "showlegend": false,
         "type": "histogram",
         "x": [
          4,
          7,
          0,
          7,
          2,
          7,
          0,
          0,
          7,
          7,
          4,
          5,
          2,
          2,
          2,
          9,
          2,
          0,
          8,
          2,
          2,
          3,
          6,
          0,
          2,
          13,
          2,
          7,
          6,
          2,
          1,
          2,
          0,
          0,
          0,
          3,
          2,
          2,
          1,
          3,
          0,
          0,
          0,
          8,
          8,
          15,
          5,
          0,
          6,
          0,
          0,
          2,
          3,
          0,
          2,
          14,
          8,
          2,
          7,
          5,
          8,
          3,
          3,
          16,
          14,
          0,
          5,
          0,
          2,
          0,
          3,
          4,
          1,
          4,
          0,
          7,
          13,
          0,
          2,
          2,
          8,
          4,
          0,
          11,
          2,
          4,
          0,
          2,
          10,
          8,
          3,
          7,
          8,
          9,
          8,
          3,
          2,
          4,
          10,
          2,
          2,
          0,
          0,
          13,
          0,
          2,
          3,
          4,
          2,
          0,
          12,
          7,
          3,
          3,
          0,
          3,
          10,
          7,
          0,
          12,
          7,
          7,
          4,
          18,
          7,
          4,
          10,
          0,
          1,
          11,
          2,
          2,
          2,
          7,
          7,
          2,
          2,
          11,
          2,
          9,
          4,
          5,
          2,
          4,
          7,
          2,
          3,
          6,
          0,
          0,
          7,
          8,
          7,
          9,
          8,
          7,
          0,
          0,
          11,
          3,
          2,
          2,
          2,
          3,
          1,
          4,
          8,
          9,
          3,
          4,
          2,
          0,
          7,
          9,
          4,
          2,
          1,
          0,
          13,
          2,
          2,
          2,
          3,
          2,
          2,
          7,
          8,
          15,
          9,
          7,
          18,
          7,
          0,
          4,
          8,
          7,
          2,
          3,
          0,
          7,
          2,
          7,
          3,
          2,
          0,
          4,
          2,
          1,
          2,
          2,
          8,
          8,
          7,
          9,
          2,
          0,
          3,
          2,
          7,
          2,
          11,
          2,
          8,
          10,
          4,
          0,
          8,
          10,
          7,
          3,
          2,
          17,
          2,
          0,
          4,
          13,
          7,
          7,
          3,
          2,
          2,
          2,
          0,
          8,
          0,
          2,
          2,
          9,
          1,
          2,
          0,
          6,
          5,
          2,
          2,
          2,
          6,
          7,
          0,
          4,
          1,
          7,
          2,
          7,
          0,
          0,
          0,
          3,
          7,
          13,
          10,
          7,
          2,
          4,
          2,
          2,
          7,
          0,
          5,
          4,
          3,
          16,
          7,
          7,
          3,
          12,
          0,
          2,
          2,
          3,
          2,
          0,
          2,
          7,
          2,
          4,
          0,
          9,
          0,
          1,
          10,
          0,
          3,
          7,
          10,
          8,
          8,
          8,
          3,
          2,
          2,
          9,
          2,
          6,
          9,
          7,
          1,
          2,
          3,
          12,
          4,
          7,
          7,
          2,
          8,
          9,
          9,
          0,
          7,
          2,
          7,
          4,
          3,
          0,
          9,
          3,
          7,
          2,
          9,
          7,
          2,
          10,
          9,
          7,
          6,
          2,
          4,
          0,
          0,
          3,
          2,
          0,
          0,
          7,
          2,
          7,
          0,
          2,
          0,
          9,
          2,
          7,
          2,
          0,
          4,
          0,
          7,
          3,
          4,
          2,
          0,
          2,
          1,
          2,
          5,
          2,
          7,
          2,
          2,
          4,
          2,
          0,
          4,
          1,
          9,
          0,
          7,
          4,
          2,
          0,
          10,
          0,
          2,
          2,
          10,
          2,
          2,
          4,
          11,
          2,
          8,
          7,
          4,
          7,
          0,
          2,
          4,
          2,
          2,
          4,
          4,
          8,
          7,
          5,
          3,
          2,
          0,
          15,
          2,
          3,
          2,
          2,
          0,
          8,
          0,
          10,
          7,
          13,
          0,
          2,
          4,
          0,
          3,
          2,
          8,
          6,
          3,
          2,
          7,
          0,
          2,
          2,
          3,
          2,
          7,
          9,
          3,
          9,
          6,
          3,
          5,
          9,
          7,
          7,
          2,
          1,
          4,
          0,
          0,
          7,
          0,
          4,
          7,
          0,
          5,
          2,
          16,
          5,
          9,
          2,
          2,
          0,
          5,
          9,
          5,
          3,
          0,
          5,
          4,
          3,
          0,
          5,
          1,
          2,
          7,
          3,
          0,
          0,
          2,
          0,
          0,
          7,
          2,
          2,
          2,
          3,
          2,
          2,
          2,
          0,
          4,
          0,
          7,
          9,
          1,
          2,
          7,
          0,
          11,
          11,
          7,
          2,
          2,
          0,
          8,
          0,
          2,
          2,
          7,
          7,
          2,
          5,
          0,
          8,
          7,
          2,
          7,
          7,
          3,
          7,
          7,
          7,
          7,
          13,
          1,
          6,
          2,
          7,
          7,
          2,
          7,
          7,
          0,
          2,
          2,
          7,
          0,
          2,
          2,
          1,
          3,
          3,
          7,
          2,
          6,
          2,
          2,
          0,
          8,
          0,
          0,
          6,
          9,
          5,
          7,
          2,
          4,
          5,
          2,
          7,
          3,
          2,
          7,
          3,
          2,
          3,
          2,
          3,
          7,
          5,
          2,
          2,
          7,
          2,
          7,
          0,
          0,
          2,
          3,
          0,
          9,
          2,
          14,
          7,
          7,
          15,
          2,
          3,
          2,
          2,
          13,
          0,
          0,
          0,
          8,
          3,
          2,
          8,
          7,
          1,
          8,
          5,
          7,
          2,
          7,
          0,
          6,
          2,
          3,
          8,
          5,
          14,
          2,
          4,
          2,
          4,
          3,
          8,
          0,
          1,
          2,
          2,
          1,
          4,
          3,
          14,
          2,
          0,
          2,
          2,
          2,
          8,
          2,
          3,
          4,
          2,
          0,
          10,
          4,
          9,
          2,
          6,
          0,
          6,
          4,
          3,
          0,
          3,
          7,
          2,
          0,
          0,
          2,
          0,
          8,
          2,
          2,
          7,
          2,
          2,
          1,
          0,
          4,
          2,
          0,
          7,
          6,
          9,
          0,
          8,
          2,
          12,
          0,
          0,
          0,
          7,
          13,
          8,
          0,
          0,
          7,
          1,
          7,
          7,
          0,
          1,
          7,
          1,
          2,
          8,
          0,
          13,
          4,
          3,
          9,
          7,
          0,
          10,
          7,
          2,
          8,
          0,
          2,
          3,
          4,
          5,
          16,
          2,
          8,
          0,
          2,
          11,
          1,
          7,
          2,
          2,
          3,
          0,
          7,
          10,
          7,
          0,
          2,
          7,
          3,
          2,
          11,
          2,
          6,
          2,
          2,
          0,
          0,
          3,
          0,
          7,
          16,
          0,
          2,
          14,
          11,
          7,
          13,
          6,
          2,
          3,
          7,
          1,
          4,
          3,
          7,
          0,
          2,
          1,
          0,
          2,
          1,
          3,
          7,
          3,
          2,
          4,
          4,
          8,
          7,
          0,
          2,
          0,
          13,
          0,
          7,
          3,
          2,
          6,
          9,
          10,
          2,
          2,
          7,
          6,
          2,
          7,
          7,
          2,
          2,
          0,
          7,
          1,
          2,
          6,
          0,
          0,
          2,
          0,
          4,
          10,
          6,
          7,
          5,
          7,
          9,
          0,
          7,
          7,
          7,
          2,
          4,
          9,
          2,
          3,
          2,
          8,
          2,
          5,
          0,
          7,
          6,
          1,
          0,
          2,
          0,
          2,
          2,
          2,
          5,
          4,
          8,
          7,
          9,
          4,
          0,
          3,
          1,
          7,
          3,
          1,
          7,
          9,
          2,
          3,
          0,
          2,
          8,
          1,
          2,
          8,
          2,
          4,
          7,
          4,
          0,
          15,
          0,
          4,
          0,
          3,
          0,
          2,
          5,
          2,
          7,
          0,
          7,
          7,
          7,
          11,
          1,
          3,
          3,
          7,
          2,
          7,
          7,
          10,
          1,
          3,
          9,
          0,
          2,
          7,
          4,
          5,
          1,
          2,
          9,
          5,
          9,
          1,
          7,
          0,
          10,
          0,
          3,
          0,
          0,
          7,
          0,
          9,
          8,
          0,
          0,
          0,
          5,
          10,
          9,
          2,
          4,
          2,
          10,
          7,
          8,
          2,
          9,
          9,
          2,
          0,
          7,
          14,
          7,
          2,
          0,
          4,
          7,
          2,
          2,
          7,
          0,
          9,
          2,
          4,
          2,
          2,
          7,
          6,
          8,
          2,
          4,
          7,
          1,
          7,
          8,
          2,
          2,
          2,
          8,
          9,
          3,
          2,
          7,
          8,
          3,
          6,
          9,
          7,
          8,
          2,
          9,
          2,
          7,
          9,
          0,
          2,
          0,
          7,
          2,
          7,
          16,
          4,
          11,
          7,
          0,
          2,
          2,
          11,
          3,
          2,
          4,
          2,
          2,
          4,
          4,
          2,
          4,
          2,
          3,
          7,
          2,
          2,
          3,
          7,
          4,
          2,
          2,
          2,
          7,
          9,
          3,
          7,
          7,
          8,
          7,
          4,
          0,
          2,
          2,
          3,
          0,
          0,
          4,
          2,
          5,
          2,
          5,
          2,
          17,
          4,
          3,
          4,
          2,
          7,
          7,
          7,
          0,
          8,
          7,
          2,
          2,
          1,
          2,
          2,
          8,
          4,
          2,
          8,
          2,
          1,
          2,
          3,
          9,
          1,
          9,
          0,
          0,
          9,
          7,
          8,
          2,
          3,
          9,
          0,
          0,
          0,
          2,
          7,
          3,
          2,
          4,
          4,
          0,
          0,
          2,
          2,
          2,
          6,
          0,
          2,
          9,
          7,
          6,
          0,
          12,
          8,
          3,
          4,
          9,
          2,
          6,
          10,
          0,
          8,
          7,
          3,
          4,
          8,
          4,
          14,
          7,
          1,
          2,
          8,
          3,
          1,
          2,
          7,
          0,
          2,
          8,
          3,
          0,
          2,
          0,
          7,
          2,
          5,
          2,
          0,
          6,
          2,
          0,
          8,
          2,
          0,
          9,
          2,
          6,
          4,
          0,
          2,
          2,
          0,
          9,
          2,
          4,
          4,
          0,
          0,
          1,
          2,
          8,
          2,
          7,
          4,
          7,
          7,
          2,
          2,
          7,
          6,
          7,
          7,
          15,
          3,
          2,
          0,
          2,
          8,
          15,
          11,
          3,
          2,
          7,
          4,
          12,
          4,
          2,
          7,
          2,
          2,
          3,
          2,
          2,
          2,
          2,
          2,
          7,
          4,
          2,
          11,
          2,
          8,
          3,
          11,
          2,
          4,
          8,
          10,
          9,
          11,
          0,
          2,
          5,
          0,
          2,
          3,
          2,
          7,
          0,
          2,
          5,
          2,
          2,
          4,
          0,
          3,
          7,
          0,
          7,
          2,
          10,
          0,
          11,
          3,
          9,
          2,
          7,
          4,
          9,
          3,
          8,
          3,
          7,
          15,
          0,
          5,
          2,
          6,
          2,
          2,
          2,
          0,
          2,
          7,
          7,
          0,
          0,
          6,
          2,
          0,
          2,
          4,
          8,
          3,
          8,
          0,
          7,
          2,
          2,
          2,
          2,
          2,
          2,
          7,
          0,
          7,
          1,
          0,
          1,
          0,
          0,
          0,
          7,
          0,
          0,
          3,
          0,
          8,
          3,
          14,
          2,
          7,
          2,
          0,
          4,
          0,
          7,
          2,
          2,
          1,
          8,
          3,
          0,
          7,
          8,
          3,
          3,
          2,
          3,
          0,
          7,
          10,
          1,
          3,
          1,
          2,
          2,
          14,
          7,
          1,
          7,
          3,
          8,
          9,
          4,
          11,
          4,
          1,
          2,
          2,
          2,
          3,
          2,
          0,
          0,
          2,
          7,
          0,
          7,
          4,
          8,
          0,
          3,
          2,
          8,
          2,
          0,
          0,
          2,
          17,
          8,
          0,
          12,
          10,
          0,
          7,
          6,
          2,
          2,
          0,
          0,
          0,
          9,
          8,
          3,
          2,
          3,
          2,
          8,
          1,
          7,
          0,
          7,
          17,
          0,
          2,
          2,
          2,
          4,
          7,
          2,
          2,
          2,
          7,
          2,
          4,
          7,
          0,
          2,
          3,
          10,
          0,
          7,
          0,
          0,
          11,
          0,
          1,
          2,
          4,
          0,
          0,
          3,
          3,
          2,
          4,
          8,
          7,
          7,
          3,
          1,
          8,
          1,
          0,
          8,
          7,
          0,
          7,
          2,
          3,
          7,
          9,
          2,
          9,
          0,
          8,
          9,
          7,
          2,
          3,
          2,
          9,
          8,
          0,
          8,
          2,
          14,
          1,
          13,
          2,
          3,
          3,
          3,
          8,
          2,
          2,
          7,
          7,
          2,
          0,
          2,
          7,
          16,
          10,
          11,
          3,
          8,
          3,
          2,
          0,
          0,
          7,
          2,
          12,
          2,
          6,
          9,
          7,
          7,
          12,
          4,
          2,
          0,
          7,
          3,
          3,
          3,
          2,
          2,
          3,
          3,
          3,
          4,
          2,
          9,
          4,
          2,
          2,
          7,
          2,
          6,
          3
         ],
         "xaxis": "x",
         "yaxis": "y"
        }
       ],
       "layout": {
        "barmode": "relative",
        "legend": {
         "tracegroupgap": 0
        },
        "template": {
         "data": {
          "bar": [
           {
            "error_x": {
             "color": "#2a3f5f"
            },
            "error_y": {
             "color": "#2a3f5f"
            },
            "marker": {
             "line": {
              "color": "#E5ECF6",
              "width": 0.5
             },
             "pattern": {
              "fillmode": "overlay",
              "size": 10,
              "solidity": 0.2
             }
            },
            "type": "bar"
           }
          ],
          "barpolar": [
           {
            "marker": {
             "line": {
              "color": "#E5ECF6",
              "width": 0.5
             },
             "pattern": {
              "fillmode": "overlay",
              "size": 10,
              "solidity": 0.2
             }
            },
            "type": "barpolar"
           }
          ],
          "carpet": [
           {
            "aaxis": {
             "endlinecolor": "#2a3f5f",
             "gridcolor": "white",
             "linecolor": "white",
             "minorgridcolor": "white",
             "startlinecolor": "#2a3f5f"
            },
            "baxis": {
             "endlinecolor": "#2a3f5f",
             "gridcolor": "white",
             "linecolor": "white",
             "minorgridcolor": "white",
             "startlinecolor": "#2a3f5f"
            },
            "type": "carpet"
           }
          ],
          "choropleth": [
           {
            "colorbar": {
             "outlinewidth": 0,
             "ticks": ""
            },
            "type": "choropleth"
           }
          ],
          "contour": [
           {
            "colorbar": {
             "outlinewidth": 0,
             "ticks": ""
            },
            "colorscale": [
             [
              0,
              "#0d0887"
             ],
             [
              0.1111111111111111,
              "#46039f"
             ],
             [
              0.2222222222222222,
              "#7201a8"
             ],
             [
              0.3333333333333333,
              "#9c179e"
             ],
             [
              0.4444444444444444,
              "#bd3786"
             ],
             [
              0.5555555555555556,
              "#d8576b"
             ],
             [
              0.6666666666666666,
              "#ed7953"
             ],
             [
              0.7777777777777778,
              "#fb9f3a"
             ],
             [
              0.8888888888888888,
              "#fdca26"
             ],
             [
              1,
              "#f0f921"
             ]
            ],
            "type": "contour"
           }
          ],
          "contourcarpet": [
           {
            "colorbar": {
             "outlinewidth": 0,
             "ticks": ""
            },
            "type": "contourcarpet"
           }
          ],
          "heatmap": [
           {
            "colorbar": {
             "outlinewidth": 0,
             "ticks": ""
            },
            "colorscale": [
             [
              0,
              "#0d0887"
             ],
             [
              0.1111111111111111,
              "#46039f"
             ],
             [
              0.2222222222222222,
              "#7201a8"
             ],
             [
              0.3333333333333333,
              "#9c179e"
             ],
             [
              0.4444444444444444,
              "#bd3786"
             ],
             [
              0.5555555555555556,
              "#d8576b"
             ],
             [
              0.6666666666666666,
              "#ed7953"
             ],
             [
              0.7777777777777778,
              "#fb9f3a"
             ],
             [
              0.8888888888888888,
              "#fdca26"
             ],
             [
              1,
              "#f0f921"
             ]
            ],
            "type": "heatmap"
           }
          ],
          "heatmapgl": [
           {
            "colorbar": {
             "outlinewidth": 0,
             "ticks": ""
            },
            "colorscale": [
             [
              0,
              "#0d0887"
             ],
             [
              0.1111111111111111,
              "#46039f"
             ],
             [
              0.2222222222222222,
              "#7201a8"
             ],
             [
              0.3333333333333333,
              "#9c179e"
             ],
             [
              0.4444444444444444,
              "#bd3786"
             ],
             [
              0.5555555555555556,
              "#d8576b"
             ],
             [
              0.6666666666666666,
              "#ed7953"
             ],
             [
              0.7777777777777778,
              "#fb9f3a"
             ],
             [
              0.8888888888888888,
              "#fdca26"
             ],
             [
              1,
              "#f0f921"
             ]
            ],
            "type": "heatmapgl"
           }
          ],
          "histogram": [
           {
            "marker": {
             "pattern": {
              "fillmode": "overlay",
              "size": 10,
              "solidity": 0.2
             }
            },
            "type": "histogram"
           }
          ],
          "histogram2d": [
           {
            "colorbar": {
             "outlinewidth": 0,
             "ticks": ""
            },
            "colorscale": [
             [
              0,
              "#0d0887"
             ],
             [
              0.1111111111111111,
              "#46039f"
             ],
             [
              0.2222222222222222,
              "#7201a8"
             ],
             [
              0.3333333333333333,
              "#9c179e"
             ],
             [
              0.4444444444444444,
              "#bd3786"
             ],
             [
              0.5555555555555556,
              "#d8576b"
             ],
             [
              0.6666666666666666,
              "#ed7953"
             ],
             [
              0.7777777777777778,
              "#fb9f3a"
             ],
             [
              0.8888888888888888,
              "#fdca26"
             ],
             [
              1,
              "#f0f921"
             ]
            ],
            "type": "histogram2d"
           }
          ],
          "histogram2dcontour": [
           {
            "colorbar": {
             "outlinewidth": 0,
             "ticks": ""
            },
            "colorscale": [
             [
              0,
              "#0d0887"
             ],
             [
              0.1111111111111111,
              "#46039f"
             ],
             [
              0.2222222222222222,
              "#7201a8"
             ],
             [
              0.3333333333333333,
              "#9c179e"
             ],
             [
              0.4444444444444444,
              "#bd3786"
             ],
             [
              0.5555555555555556,
              "#d8576b"
             ],
             [
              0.6666666666666666,
              "#ed7953"
             ],
             [
              0.7777777777777778,
              "#fb9f3a"
             ],
             [
              0.8888888888888888,
              "#fdca26"
             ],
             [
              1,
              "#f0f921"
             ]
            ],
            "type": "histogram2dcontour"
           }
          ],
          "mesh3d": [
           {
            "colorbar": {
             "outlinewidth": 0,
             "ticks": ""
            },
            "type": "mesh3d"
           }
          ],
          "parcoords": [
           {
            "line": {
             "colorbar": {
              "outlinewidth": 0,
              "ticks": ""
             }
            },
            "type": "parcoords"
           }
          ],
          "pie": [
           {
            "automargin": true,
            "type": "pie"
           }
          ],
          "scatter": [
           {
            "fillpattern": {
             "fillmode": "overlay",
             "size": 10,
             "solidity": 0.2
            },
            "type": "scatter"
           }
          ],
          "scatter3d": [
           {
            "line": {
             "colorbar": {
              "outlinewidth": 0,
              "ticks": ""
             }
            },
            "marker": {
             "colorbar": {
              "outlinewidth": 0,
              "ticks": ""
             }
            },
            "type": "scatter3d"
           }
          ],
          "scattercarpet": [
           {
            "marker": {
             "colorbar": {
              "outlinewidth": 0,
              "ticks": ""
             }
            },
            "type": "scattercarpet"
           }
          ],
          "scattergeo": [
           {
            "marker": {
             "colorbar": {
              "outlinewidth": 0,
              "ticks": ""
             }
            },
            "type": "scattergeo"
           }
          ],
          "scattergl": [
           {
            "marker": {
             "colorbar": {
              "outlinewidth": 0,
              "ticks": ""
             }
            },
            "type": "scattergl"
           }
          ],
          "scattermapbox": [
           {
            "marker": {
             "colorbar": {
              "outlinewidth": 0,
              "ticks": ""
             }
            },
            "type": "scattermapbox"
           }
          ],
          "scatterpolar": [
           {
            "marker": {
             "colorbar": {
              "outlinewidth": 0,
              "ticks": ""
             }
            },
            "type": "scatterpolar"
           }
          ],
          "scatterpolargl": [
           {
            "marker": {
             "colorbar": {
              "outlinewidth": 0,
              "ticks": ""
             }
            },
            "type": "scatterpolargl"
           }
          ],
          "scatterternary": [
           {
            "marker": {
             "colorbar": {
              "outlinewidth": 0,
              "ticks": ""
             }
            },
            "type": "scatterternary"
           }
          ],
          "surface": [
           {
            "colorbar": {
             "outlinewidth": 0,
             "ticks": ""
            },
            "colorscale": [
             [
              0,
              "#0d0887"
             ],
             [
              0.1111111111111111,
              "#46039f"
             ],
             [
              0.2222222222222222,
              "#7201a8"
             ],
             [
              0.3333333333333333,
              "#9c179e"
             ],
             [
              0.4444444444444444,
              "#bd3786"
             ],
             [
              0.5555555555555556,
              "#d8576b"
             ],
             [
              0.6666666666666666,
              "#ed7953"
             ],
             [
              0.7777777777777778,
              "#fb9f3a"
             ],
             [
              0.8888888888888888,
              "#fdca26"
             ],
             [
              1,
              "#f0f921"
             ]
            ],
            "type": "surface"
           }
          ],
          "table": [
           {
            "cells": {
             "fill": {
              "color": "#EBF0F8"
             },
             "line": {
              "color": "white"
             }
            },
            "header": {
             "fill": {
              "color": "#C8D4E3"
             },
             "line": {
              "color": "white"
             }
            },
            "type": "table"
           }
          ]
         },
         "layout": {
          "annotationdefaults": {
           "arrowcolor": "#2a3f5f",
           "arrowhead": 0,
           "arrowwidth": 1
          },
          "autotypenumbers": "strict",
          "coloraxis": {
           "colorbar": {
            "outlinewidth": 0,
            "ticks": ""
           }
          },
          "colorscale": {
           "diverging": [
            [
             0,
             "#8e0152"
            ],
            [
             0.1,
             "#c51b7d"
            ],
            [
             0.2,
             "#de77ae"
            ],
            [
             0.3,
             "#f1b6da"
            ],
            [
             0.4,
             "#fde0ef"
            ],
            [
             0.5,
             "#f7f7f7"
            ],
            [
             0.6,
             "#e6f5d0"
            ],
            [
             0.7,
             "#b8e186"
            ],
            [
             0.8,
             "#7fbc41"
            ],
            [
             0.9,
             "#4d9221"
            ],
            [
             1,
             "#276419"
            ]
           ],
           "sequential": [
            [
             0,
             "#0d0887"
            ],
            [
             0.1111111111111111,
             "#46039f"
            ],
            [
             0.2222222222222222,
             "#7201a8"
            ],
            [
             0.3333333333333333,
             "#9c179e"
            ],
            [
             0.4444444444444444,
             "#bd3786"
            ],
            [
             0.5555555555555556,
             "#d8576b"
            ],
            [
             0.6666666666666666,
             "#ed7953"
            ],
            [
             0.7777777777777778,
             "#fb9f3a"
            ],
            [
             0.8888888888888888,
             "#fdca26"
            ],
            [
             1,
             "#f0f921"
            ]
           ],
           "sequentialminus": [
            [
             0,
             "#0d0887"
            ],
            [
             0.1111111111111111,
             "#46039f"
            ],
            [
             0.2222222222222222,
             "#7201a8"
            ],
            [
             0.3333333333333333,
             "#9c179e"
            ],
            [
             0.4444444444444444,
             "#bd3786"
            ],
            [
             0.5555555555555556,
             "#d8576b"
            ],
            [
             0.6666666666666666,
             "#ed7953"
            ],
            [
             0.7777777777777778,
             "#fb9f3a"
            ],
            [
             0.8888888888888888,
             "#fdca26"
            ],
            [
             1,
             "#f0f921"
            ]
           ]
          },
          "colorway": [
           "#636efa",
           "#EF553B",
           "#00cc96",
           "#ab63fa",
           "#FFA15A",
           "#19d3f3",
           "#FF6692",
           "#B6E880",
           "#FF97FF",
           "#FECB52"
          ],
          "font": {
           "color": "#2a3f5f"
          },
          "geo": {
           "bgcolor": "white",
           "lakecolor": "white",
           "landcolor": "#E5ECF6",
           "showlakes": true,
           "showland": true,
           "subunitcolor": "white"
          },
          "hoverlabel": {
           "align": "left"
          },
          "hovermode": "closest",
          "mapbox": {
           "style": "light"
          },
          "paper_bgcolor": "white",
          "plot_bgcolor": "#E5ECF6",
          "polar": {
           "angularaxis": {
            "gridcolor": "white",
            "linecolor": "white",
            "ticks": ""
           },
           "bgcolor": "#E5ECF6",
           "radialaxis": {
            "gridcolor": "white",
            "linecolor": "white",
            "ticks": ""
           }
          },
          "scene": {
           "xaxis": {
            "backgroundcolor": "#E5ECF6",
            "gridcolor": "white",
            "gridwidth": 2,
            "linecolor": "white",
            "showbackground": true,
            "ticks": "",
            "zerolinecolor": "white"
           },
           "yaxis": {
            "backgroundcolor": "#E5ECF6",
            "gridcolor": "white",
            "gridwidth": 2,
            "linecolor": "white",
            "showbackground": true,
            "ticks": "",
            "zerolinecolor": "white"
           },
           "zaxis": {
            "backgroundcolor": "#E5ECF6",
            "gridcolor": "white",
            "gridwidth": 2,
            "linecolor": "white",
            "showbackground": true,
            "ticks": "",
            "zerolinecolor": "white"
           }
          },
          "shapedefaults": {
           "line": {
            "color": "#2a3f5f"
           }
          },
          "ternary": {
           "aaxis": {
            "gridcolor": "white",
            "linecolor": "white",
            "ticks": ""
           },
           "baxis": {
            "gridcolor": "white",
            "linecolor": "white",
            "ticks": ""
           },
           "bgcolor": "#E5ECF6",
           "caxis": {
            "gridcolor": "white",
            "linecolor": "white",
            "ticks": ""
           }
          },
          "title": {
           "x": 0.05
          },
          "xaxis": {
           "automargin": true,
           "gridcolor": "white",
           "linecolor": "white",
           "ticks": "",
           "title": {
            "standoff": 15
           },
           "zerolinecolor": "white",
           "zerolinewidth": 2
          },
          "yaxis": {
           "automargin": true,
           "gridcolor": "white",
           "linecolor": "white",
           "ticks": "",
           "title": {
            "standoff": 15
           },
           "zerolinecolor": "white",
           "zerolinewidth": 2
          }
         }
        },
        "title": {
         "text": "mevcut_rolde_gecirilen_yil Distribution"
        },
        "xaxis": {
         "anchor": "y",
         "domain": [
          0,
          1
         ],
         "title": {
          "text": "mevcut_rolde_gecirilen_yil"
         }
        },
        "yaxis": {
         "anchor": "x",
         "domain": [
          0,
          1
         ],
         "title": {
          "text": "count"
         }
        }
       }
      }
     },
     "metadata": {},
     "output_type": "display_data"
    },
    {
     "data": {
      "application/vnd.plotly.v1+json": {
       "config": {
        "plotlyServerURL": "https://plot.ly"
       },
       "data": [
        {
         "alignmentgroup": "True",
         "hovertemplate": "mevcut_rolde_gecirilen_yil=%{y}<extra></extra>",
         "legendgroup": "",
         "marker": {
          "color": "#636efa"
         },
         "name": "",
         "notched": false,
         "offsetgroup": "",
         "orientation": "v",
         "showlegend": false,
         "type": "box",
         "x0": " ",
         "xaxis": "x",
         "y": [
          4,
          7,
          0,
          7,
          2,
          7,
          0,
          0,
          7,
          7,
          4,
          5,
          2,
          2,
          2,
          9,
          2,
          0,
          8,
          2,
          2,
          3,
          6,
          0,
          2,
          13,
          2,
          7,
          6,
          2,
          1,
          2,
          0,
          0,
          0,
          3,
          2,
          2,
          1,
          3,
          0,
          0,
          0,
          8,
          8,
          15,
          5,
          0,
          6,
          0,
          0,
          2,
          3,
          0,
          2,
          14,
          8,
          2,
          7,
          5,
          8,
          3,
          3,
          16,
          14,
          0,
          5,
          0,
          2,
          0,
          3,
          4,
          1,
          4,
          0,
          7,
          13,
          0,
          2,
          2,
          8,
          4,
          0,
          11,
          2,
          4,
          0,
          2,
          10,
          8,
          3,
          7,
          8,
          9,
          8,
          3,
          2,
          4,
          10,
          2,
          2,
          0,
          0,
          13,
          0,
          2,
          3,
          4,
          2,
          0,
          12,
          7,
          3,
          3,
          0,
          3,
          10,
          7,
          0,
          12,
          7,
          7,
          4,
          18,
          7,
          4,
          10,
          0,
          1,
          11,
          2,
          2,
          2,
          7,
          7,
          2,
          2,
          11,
          2,
          9,
          4,
          5,
          2,
          4,
          7,
          2,
          3,
          6,
          0,
          0,
          7,
          8,
          7,
          9,
          8,
          7,
          0,
          0,
          11,
          3,
          2,
          2,
          2,
          3,
          1,
          4,
          8,
          9,
          3,
          4,
          2,
          0,
          7,
          9,
          4,
          2,
          1,
          0,
          13,
          2,
          2,
          2,
          3,
          2,
          2,
          7,
          8,
          15,
          9,
          7,
          18,
          7,
          0,
          4,
          8,
          7,
          2,
          3,
          0,
          7,
          2,
          7,
          3,
          2,
          0,
          4,
          2,
          1,
          2,
          2,
          8,
          8,
          7,
          9,
          2,
          0,
          3,
          2,
          7,
          2,
          11,
          2,
          8,
          10,
          4,
          0,
          8,
          10,
          7,
          3,
          2,
          17,
          2,
          0,
          4,
          13,
          7,
          7,
          3,
          2,
          2,
          2,
          0,
          8,
          0,
          2,
          2,
          9,
          1,
          2,
          0,
          6,
          5,
          2,
          2,
          2,
          6,
          7,
          0,
          4,
          1,
          7,
          2,
          7,
          0,
          0,
          0,
          3,
          7,
          13,
          10,
          7,
          2,
          4,
          2,
          2,
          7,
          0,
          5,
          4,
          3,
          16,
          7,
          7,
          3,
          12,
          0,
          2,
          2,
          3,
          2,
          0,
          2,
          7,
          2,
          4,
          0,
          9,
          0,
          1,
          10,
          0,
          3,
          7,
          10,
          8,
          8,
          8,
          3,
          2,
          2,
          9,
          2,
          6,
          9,
          7,
          1,
          2,
          3,
          12,
          4,
          7,
          7,
          2,
          8,
          9,
          9,
          0,
          7,
          2,
          7,
          4,
          3,
          0,
          9,
          3,
          7,
          2,
          9,
          7,
          2,
          10,
          9,
          7,
          6,
          2,
          4,
          0,
          0,
          3,
          2,
          0,
          0,
          7,
          2,
          7,
          0,
          2,
          0,
          9,
          2,
          7,
          2,
          0,
          4,
          0,
          7,
          3,
          4,
          2,
          0,
          2,
          1,
          2,
          5,
          2,
          7,
          2,
          2,
          4,
          2,
          0,
          4,
          1,
          9,
          0,
          7,
          4,
          2,
          0,
          10,
          0,
          2,
          2,
          10,
          2,
          2,
          4,
          11,
          2,
          8,
          7,
          4,
          7,
          0,
          2,
          4,
          2,
          2,
          4,
          4,
          8,
          7,
          5,
          3,
          2,
          0,
          15,
          2,
          3,
          2,
          2,
          0,
          8,
          0,
          10,
          7,
          13,
          0,
          2,
          4,
          0,
          3,
          2,
          8,
          6,
          3,
          2,
          7,
          0,
          2,
          2,
          3,
          2,
          7,
          9,
          3,
          9,
          6,
          3,
          5,
          9,
          7,
          7,
          2,
          1,
          4,
          0,
          0,
          7,
          0,
          4,
          7,
          0,
          5,
          2,
          16,
          5,
          9,
          2,
          2,
          0,
          5,
          9,
          5,
          3,
          0,
          5,
          4,
          3,
          0,
          5,
          1,
          2,
          7,
          3,
          0,
          0,
          2,
          0,
          0,
          7,
          2,
          2,
          2,
          3,
          2,
          2,
          2,
          0,
          4,
          0,
          7,
          9,
          1,
          2,
          7,
          0,
          11,
          11,
          7,
          2,
          2,
          0,
          8,
          0,
          2,
          2,
          7,
          7,
          2,
          5,
          0,
          8,
          7,
          2,
          7,
          7,
          3,
          7,
          7,
          7,
          7,
          13,
          1,
          6,
          2,
          7,
          7,
          2,
          7,
          7,
          0,
          2,
          2,
          7,
          0,
          2,
          2,
          1,
          3,
          3,
          7,
          2,
          6,
          2,
          2,
          0,
          8,
          0,
          0,
          6,
          9,
          5,
          7,
          2,
          4,
          5,
          2,
          7,
          3,
          2,
          7,
          3,
          2,
          3,
          2,
          3,
          7,
          5,
          2,
          2,
          7,
          2,
          7,
          0,
          0,
          2,
          3,
          0,
          9,
          2,
          14,
          7,
          7,
          15,
          2,
          3,
          2,
          2,
          13,
          0,
          0,
          0,
          8,
          3,
          2,
          8,
          7,
          1,
          8,
          5,
          7,
          2,
          7,
          0,
          6,
          2,
          3,
          8,
          5,
          14,
          2,
          4,
          2,
          4,
          3,
          8,
          0,
          1,
          2,
          2,
          1,
          4,
          3,
          14,
          2,
          0,
          2,
          2,
          2,
          8,
          2,
          3,
          4,
          2,
          0,
          10,
          4,
          9,
          2,
          6,
          0,
          6,
          4,
          3,
          0,
          3,
          7,
          2,
          0,
          0,
          2,
          0,
          8,
          2,
          2,
          7,
          2,
          2,
          1,
          0,
          4,
          2,
          0,
          7,
          6,
          9,
          0,
          8,
          2,
          12,
          0,
          0,
          0,
          7,
          13,
          8,
          0,
          0,
          7,
          1,
          7,
          7,
          0,
          1,
          7,
          1,
          2,
          8,
          0,
          13,
          4,
          3,
          9,
          7,
          0,
          10,
          7,
          2,
          8,
          0,
          2,
          3,
          4,
          5,
          16,
          2,
          8,
          0,
          2,
          11,
          1,
          7,
          2,
          2,
          3,
          0,
          7,
          10,
          7,
          0,
          2,
          7,
          3,
          2,
          11,
          2,
          6,
          2,
          2,
          0,
          0,
          3,
          0,
          7,
          16,
          0,
          2,
          14,
          11,
          7,
          13,
          6,
          2,
          3,
          7,
          1,
          4,
          3,
          7,
          0,
          2,
          1,
          0,
          2,
          1,
          3,
          7,
          3,
          2,
          4,
          4,
          8,
          7,
          0,
          2,
          0,
          13,
          0,
          7,
          3,
          2,
          6,
          9,
          10,
          2,
          2,
          7,
          6,
          2,
          7,
          7,
          2,
          2,
          0,
          7,
          1,
          2,
          6,
          0,
          0,
          2,
          0,
          4,
          10,
          6,
          7,
          5,
          7,
          9,
          0,
          7,
          7,
          7,
          2,
          4,
          9,
          2,
          3,
          2,
          8,
          2,
          5,
          0,
          7,
          6,
          1,
          0,
          2,
          0,
          2,
          2,
          2,
          5,
          4,
          8,
          7,
          9,
          4,
          0,
          3,
          1,
          7,
          3,
          1,
          7,
          9,
          2,
          3,
          0,
          2,
          8,
          1,
          2,
          8,
          2,
          4,
          7,
          4,
          0,
          15,
          0,
          4,
          0,
          3,
          0,
          2,
          5,
          2,
          7,
          0,
          7,
          7,
          7,
          11,
          1,
          3,
          3,
          7,
          2,
          7,
          7,
          10,
          1,
          3,
          9,
          0,
          2,
          7,
          4,
          5,
          1,
          2,
          9,
          5,
          9,
          1,
          7,
          0,
          10,
          0,
          3,
          0,
          0,
          7,
          0,
          9,
          8,
          0,
          0,
          0,
          5,
          10,
          9,
          2,
          4,
          2,
          10,
          7,
          8,
          2,
          9,
          9,
          2,
          0,
          7,
          14,
          7,
          2,
          0,
          4,
          7,
          2,
          2,
          7,
          0,
          9,
          2,
          4,
          2,
          2,
          7,
          6,
          8,
          2,
          4,
          7,
          1,
          7,
          8,
          2,
          2,
          2,
          8,
          9,
          3,
          2,
          7,
          8,
          3,
          6,
          9,
          7,
          8,
          2,
          9,
          2,
          7,
          9,
          0,
          2,
          0,
          7,
          2,
          7,
          16,
          4,
          11,
          7,
          0,
          2,
          2,
          11,
          3,
          2,
          4,
          2,
          2,
          4,
          4,
          2,
          4,
          2,
          3,
          7,
          2,
          2,
          3,
          7,
          4,
          2,
          2,
          2,
          7,
          9,
          3,
          7,
          7,
          8,
          7,
          4,
          0,
          2,
          2,
          3,
          0,
          0,
          4,
          2,
          5,
          2,
          5,
          2,
          17,
          4,
          3,
          4,
          2,
          7,
          7,
          7,
          0,
          8,
          7,
          2,
          2,
          1,
          2,
          2,
          8,
          4,
          2,
          8,
          2,
          1,
          2,
          3,
          9,
          1,
          9,
          0,
          0,
          9,
          7,
          8,
          2,
          3,
          9,
          0,
          0,
          0,
          2,
          7,
          3,
          2,
          4,
          4,
          0,
          0,
          2,
          2,
          2,
          6,
          0,
          2,
          9,
          7,
          6,
          0,
          12,
          8,
          3,
          4,
          9,
          2,
          6,
          10,
          0,
          8,
          7,
          3,
          4,
          8,
          4,
          14,
          7,
          1,
          2,
          8,
          3,
          1,
          2,
          7,
          0,
          2,
          8,
          3,
          0,
          2,
          0,
          7,
          2,
          5,
          2,
          0,
          6,
          2,
          0,
          8,
          2,
          0,
          9,
          2,
          6,
          4,
          0,
          2,
          2,
          0,
          9,
          2,
          4,
          4,
          0,
          0,
          1,
          2,
          8,
          2,
          7,
          4,
          7,
          7,
          2,
          2,
          7,
          6,
          7,
          7,
          15,
          3,
          2,
          0,
          2,
          8,
          15,
          11,
          3,
          2,
          7,
          4,
          12,
          4,
          2,
          7,
          2,
          2,
          3,
          2,
          2,
          2,
          2,
          2,
          7,
          4,
          2,
          11,
          2,
          8,
          3,
          11,
          2,
          4,
          8,
          10,
          9,
          11,
          0,
          2,
          5,
          0,
          2,
          3,
          2,
          7,
          0,
          2,
          5,
          2,
          2,
          4,
          0,
          3,
          7,
          0,
          7,
          2,
          10,
          0,
          11,
          3,
          9,
          2,
          7,
          4,
          9,
          3,
          8,
          3,
          7,
          15,
          0,
          5,
          2,
          6,
          2,
          2,
          2,
          0,
          2,
          7,
          7,
          0,
          0,
          6,
          2,
          0,
          2,
          4,
          8,
          3,
          8,
          0,
          7,
          2,
          2,
          2,
          2,
          2,
          2,
          7,
          0,
          7,
          1,
          0,
          1,
          0,
          0,
          0,
          7,
          0,
          0,
          3,
          0,
          8,
          3,
          14,
          2,
          7,
          2,
          0,
          4,
          0,
          7,
          2,
          2,
          1,
          8,
          3,
          0,
          7,
          8,
          3,
          3,
          2,
          3,
          0,
          7,
          10,
          1,
          3,
          1,
          2,
          2,
          14,
          7,
          1,
          7,
          3,
          8,
          9,
          4,
          11,
          4,
          1,
          2,
          2,
          2,
          3,
          2,
          0,
          0,
          2,
          7,
          0,
          7,
          4,
          8,
          0,
          3,
          2,
          8,
          2,
          0,
          0,
          2,
          17,
          8,
          0,
          12,
          10,
          0,
          7,
          6,
          2,
          2,
          0,
          0,
          0,
          9,
          8,
          3,
          2,
          3,
          2,
          8,
          1,
          7,
          0,
          7,
          17,
          0,
          2,
          2,
          2,
          4,
          7,
          2,
          2,
          2,
          7,
          2,
          4,
          7,
          0,
          2,
          3,
          10,
          0,
          7,
          0,
          0,
          11,
          0,
          1,
          2,
          4,
          0,
          0,
          3,
          3,
          2,
          4,
          8,
          7,
          7,
          3,
          1,
          8,
          1,
          0,
          8,
          7,
          0,
          7,
          2,
          3,
          7,
          9,
          2,
          9,
          0,
          8,
          9,
          7,
          2,
          3,
          2,
          9,
          8,
          0,
          8,
          2,
          14,
          1,
          13,
          2,
          3,
          3,
          3,
          8,
          2,
          2,
          7,
          7,
          2,
          0,
          2,
          7,
          16,
          10,
          11,
          3,
          8,
          3,
          2,
          0,
          0,
          7,
          2,
          12,
          2,
          6,
          9,
          7,
          7,
          12,
          4,
          2,
          0,
          7,
          3,
          3,
          3,
          2,
          2,
          3,
          3,
          3,
          4,
          2,
          9,
          4,
          2,
          2,
          7,
          2,
          6,
          3
         ],
         "y0": " ",
         "yaxis": "y"
        }
       ],
       "layout": {
        "boxmode": "group",
        "legend": {
         "tracegroupgap": 0
        },
        "template": {
         "data": {
          "bar": [
           {
            "error_x": {
             "color": "#2a3f5f"
            },
            "error_y": {
             "color": "#2a3f5f"
            },
            "marker": {
             "line": {
              "color": "#E5ECF6",
              "width": 0.5
             },
             "pattern": {
              "fillmode": "overlay",
              "size": 10,
              "solidity": 0.2
             }
            },
            "type": "bar"
           }
          ],
          "barpolar": [
           {
            "marker": {
             "line": {
              "color": "#E5ECF6",
              "width": 0.5
             },
             "pattern": {
              "fillmode": "overlay",
              "size": 10,
              "solidity": 0.2
             }
            },
            "type": "barpolar"
           }
          ],
          "carpet": [
           {
            "aaxis": {
             "endlinecolor": "#2a3f5f",
             "gridcolor": "white",
             "linecolor": "white",
             "minorgridcolor": "white",
             "startlinecolor": "#2a3f5f"
            },
            "baxis": {
             "endlinecolor": "#2a3f5f",
             "gridcolor": "white",
             "linecolor": "white",
             "minorgridcolor": "white",
             "startlinecolor": "#2a3f5f"
            },
            "type": "carpet"
           }
          ],
          "choropleth": [
           {
            "colorbar": {
             "outlinewidth": 0,
             "ticks": ""
            },
            "type": "choropleth"
           }
          ],
          "contour": [
           {
            "colorbar": {
             "outlinewidth": 0,
             "ticks": ""
            },
            "colorscale": [
             [
              0,
              "#0d0887"
             ],
             [
              0.1111111111111111,
              "#46039f"
             ],
             [
              0.2222222222222222,
              "#7201a8"
             ],
             [
              0.3333333333333333,
              "#9c179e"
             ],
             [
              0.4444444444444444,
              "#bd3786"
             ],
             [
              0.5555555555555556,
              "#d8576b"
             ],
             [
              0.6666666666666666,
              "#ed7953"
             ],
             [
              0.7777777777777778,
              "#fb9f3a"
             ],
             [
              0.8888888888888888,
              "#fdca26"
             ],
             [
              1,
              "#f0f921"
             ]
            ],
            "type": "contour"
           }
          ],
          "contourcarpet": [
           {
            "colorbar": {
             "outlinewidth": 0,
             "ticks": ""
            },
            "type": "contourcarpet"
           }
          ],
          "heatmap": [
           {
            "colorbar": {
             "outlinewidth": 0,
             "ticks": ""
            },
            "colorscale": [
             [
              0,
              "#0d0887"
             ],
             [
              0.1111111111111111,
              "#46039f"
             ],
             [
              0.2222222222222222,
              "#7201a8"
             ],
             [
              0.3333333333333333,
              "#9c179e"
             ],
             [
              0.4444444444444444,
              "#bd3786"
             ],
             [
              0.5555555555555556,
              "#d8576b"
             ],
             [
              0.6666666666666666,
              "#ed7953"
             ],
             [
              0.7777777777777778,
              "#fb9f3a"
             ],
             [
              0.8888888888888888,
              "#fdca26"
             ],
             [
              1,
              "#f0f921"
             ]
            ],
            "type": "heatmap"
           }
          ],
          "heatmapgl": [
           {
            "colorbar": {
             "outlinewidth": 0,
             "ticks": ""
            },
            "colorscale": [
             [
              0,
              "#0d0887"
             ],
             [
              0.1111111111111111,
              "#46039f"
             ],
             [
              0.2222222222222222,
              "#7201a8"
             ],
             [
              0.3333333333333333,
              "#9c179e"
             ],
             [
              0.4444444444444444,
              "#bd3786"
             ],
             [
              0.5555555555555556,
              "#d8576b"
             ],
             [
              0.6666666666666666,
              "#ed7953"
             ],
             [
              0.7777777777777778,
              "#fb9f3a"
             ],
             [
              0.8888888888888888,
              "#fdca26"
             ],
             [
              1,
              "#f0f921"
             ]
            ],
            "type": "heatmapgl"
           }
          ],
          "histogram": [
           {
            "marker": {
             "pattern": {
              "fillmode": "overlay",
              "size": 10,
              "solidity": 0.2
             }
            },
            "type": "histogram"
           }
          ],
          "histogram2d": [
           {
            "colorbar": {
             "outlinewidth": 0,
             "ticks": ""
            },
            "colorscale": [
             [
              0,
              "#0d0887"
             ],
             [
              0.1111111111111111,
              "#46039f"
             ],
             [
              0.2222222222222222,
              "#7201a8"
             ],
             [
              0.3333333333333333,
              "#9c179e"
             ],
             [
              0.4444444444444444,
              "#bd3786"
             ],
             [
              0.5555555555555556,
              "#d8576b"
             ],
             [
              0.6666666666666666,
              "#ed7953"
             ],
             [
              0.7777777777777778,
              "#fb9f3a"
             ],
             [
              0.8888888888888888,
              "#fdca26"
             ],
             [
              1,
              "#f0f921"
             ]
            ],
            "type": "histogram2d"
           }
          ],
          "histogram2dcontour": [
           {
            "colorbar": {
             "outlinewidth": 0,
             "ticks": ""
            },
            "colorscale": [
             [
              0,
              "#0d0887"
             ],
             [
              0.1111111111111111,
              "#46039f"
             ],
             [
              0.2222222222222222,
              "#7201a8"
             ],
             [
              0.3333333333333333,
              "#9c179e"
             ],
             [
              0.4444444444444444,
              "#bd3786"
             ],
             [
              0.5555555555555556,
              "#d8576b"
             ],
             [
              0.6666666666666666,
              "#ed7953"
             ],
             [
              0.7777777777777778,
              "#fb9f3a"
             ],
             [
              0.8888888888888888,
              "#fdca26"
             ],
             [
              1,
              "#f0f921"
             ]
            ],
            "type": "histogram2dcontour"
           }
          ],
          "mesh3d": [
           {
            "colorbar": {
             "outlinewidth": 0,
             "ticks": ""
            },
            "type": "mesh3d"
           }
          ],
          "parcoords": [
           {
            "line": {
             "colorbar": {
              "outlinewidth": 0,
              "ticks": ""
             }
            },
            "type": "parcoords"
           }
          ],
          "pie": [
           {
            "automargin": true,
            "type": "pie"
           }
          ],
          "scatter": [
           {
            "fillpattern": {
             "fillmode": "overlay",
             "size": 10,
             "solidity": 0.2
            },
            "type": "scatter"
           }
          ],
          "scatter3d": [
           {
            "line": {
             "colorbar": {
              "outlinewidth": 0,
              "ticks": ""
             }
            },
            "marker": {
             "colorbar": {
              "outlinewidth": 0,
              "ticks": ""
             }
            },
            "type": "scatter3d"
           }
          ],
          "scattercarpet": [
           {
            "marker": {
             "colorbar": {
              "outlinewidth": 0,
              "ticks": ""
             }
            },
            "type": "scattercarpet"
           }
          ],
          "scattergeo": [
           {
            "marker": {
             "colorbar": {
              "outlinewidth": 0,
              "ticks": ""
             }
            },
            "type": "scattergeo"
           }
          ],
          "scattergl": [
           {
            "marker": {
             "colorbar": {
              "outlinewidth": 0,
              "ticks": ""
             }
            },
            "type": "scattergl"
           }
          ],
          "scattermapbox": [
           {
            "marker": {
             "colorbar": {
              "outlinewidth": 0,
              "ticks": ""
             }
            },
            "type": "scattermapbox"
           }
          ],
          "scatterpolar": [
           {
            "marker": {
             "colorbar": {
              "outlinewidth": 0,
              "ticks": ""
             }
            },
            "type": "scatterpolar"
           }
          ],
          "scatterpolargl": [
           {
            "marker": {
             "colorbar": {
              "outlinewidth": 0,
              "ticks": ""
             }
            },
            "type": "scatterpolargl"
           }
          ],
          "scatterternary": [
           {
            "marker": {
             "colorbar": {
              "outlinewidth": 0,
              "ticks": ""
             }
            },
            "type": "scatterternary"
           }
          ],
          "surface": [
           {
            "colorbar": {
             "outlinewidth": 0,
             "ticks": ""
            },
            "colorscale": [
             [
              0,
              "#0d0887"
             ],
             [
              0.1111111111111111,
              "#46039f"
             ],
             [
              0.2222222222222222,
              "#7201a8"
             ],
             [
              0.3333333333333333,
              "#9c179e"
             ],
             [
              0.4444444444444444,
              "#bd3786"
             ],
             [
              0.5555555555555556,
              "#d8576b"
             ],
             [
              0.6666666666666666,
              "#ed7953"
             ],
             [
              0.7777777777777778,
              "#fb9f3a"
             ],
             [
              0.8888888888888888,
              "#fdca26"
             ],
             [
              1,
              "#f0f921"
             ]
            ],
            "type": "surface"
           }
          ],
          "table": [
           {
            "cells": {
             "fill": {
              "color": "#EBF0F8"
             },
             "line": {
              "color": "white"
             }
            },
            "header": {
             "fill": {
              "color": "#C8D4E3"
             },
             "line": {
              "color": "white"
             }
            },
            "type": "table"
           }
          ]
         },
         "layout": {
          "annotationdefaults": {
           "arrowcolor": "#2a3f5f",
           "arrowhead": 0,
           "arrowwidth": 1
          },
          "autotypenumbers": "strict",
          "coloraxis": {
           "colorbar": {
            "outlinewidth": 0,
            "ticks": ""
           }
          },
          "colorscale": {
           "diverging": [
            [
             0,
             "#8e0152"
            ],
            [
             0.1,
             "#c51b7d"
            ],
            [
             0.2,
             "#de77ae"
            ],
            [
             0.3,
             "#f1b6da"
            ],
            [
             0.4,
             "#fde0ef"
            ],
            [
             0.5,
             "#f7f7f7"
            ],
            [
             0.6,
             "#e6f5d0"
            ],
            [
             0.7,
             "#b8e186"
            ],
            [
             0.8,
             "#7fbc41"
            ],
            [
             0.9,
             "#4d9221"
            ],
            [
             1,
             "#276419"
            ]
           ],
           "sequential": [
            [
             0,
             "#0d0887"
            ],
            [
             0.1111111111111111,
             "#46039f"
            ],
            [
             0.2222222222222222,
             "#7201a8"
            ],
            [
             0.3333333333333333,
             "#9c179e"
            ],
            [
             0.4444444444444444,
             "#bd3786"
            ],
            [
             0.5555555555555556,
             "#d8576b"
            ],
            [
             0.6666666666666666,
             "#ed7953"
            ],
            [
             0.7777777777777778,
             "#fb9f3a"
            ],
            [
             0.8888888888888888,
             "#fdca26"
            ],
            [
             1,
             "#f0f921"
            ]
           ],
           "sequentialminus": [
            [
             0,
             "#0d0887"
            ],
            [
             0.1111111111111111,
             "#46039f"
            ],
            [
             0.2222222222222222,
             "#7201a8"
            ],
            [
             0.3333333333333333,
             "#9c179e"
            ],
            [
             0.4444444444444444,
             "#bd3786"
            ],
            [
             0.5555555555555556,
             "#d8576b"
            ],
            [
             0.6666666666666666,
             "#ed7953"
            ],
            [
             0.7777777777777778,
             "#fb9f3a"
            ],
            [
             0.8888888888888888,
             "#fdca26"
            ],
            [
             1,
             "#f0f921"
            ]
           ]
          },
          "colorway": [
           "#636efa",
           "#EF553B",
           "#00cc96",
           "#ab63fa",
           "#FFA15A",
           "#19d3f3",
           "#FF6692",
           "#B6E880",
           "#FF97FF",
           "#FECB52"
          ],
          "font": {
           "color": "#2a3f5f"
          },
          "geo": {
           "bgcolor": "white",
           "lakecolor": "white",
           "landcolor": "#E5ECF6",
           "showlakes": true,
           "showland": true,
           "subunitcolor": "white"
          },
          "hoverlabel": {
           "align": "left"
          },
          "hovermode": "closest",
          "mapbox": {
           "style": "light"
          },
          "paper_bgcolor": "white",
          "plot_bgcolor": "#E5ECF6",
          "polar": {
           "angularaxis": {
            "gridcolor": "white",
            "linecolor": "white",
            "ticks": ""
           },
           "bgcolor": "#E5ECF6",
           "radialaxis": {
            "gridcolor": "white",
            "linecolor": "white",
            "ticks": ""
           }
          },
          "scene": {
           "xaxis": {
            "backgroundcolor": "#E5ECF6",
            "gridcolor": "white",
            "gridwidth": 2,
            "linecolor": "white",
            "showbackground": true,
            "ticks": "",
            "zerolinecolor": "white"
           },
           "yaxis": {
            "backgroundcolor": "#E5ECF6",
            "gridcolor": "white",
            "gridwidth": 2,
            "linecolor": "white",
            "showbackground": true,
            "ticks": "",
            "zerolinecolor": "white"
           },
           "zaxis": {
            "backgroundcolor": "#E5ECF6",
            "gridcolor": "white",
            "gridwidth": 2,
            "linecolor": "white",
            "showbackground": true,
            "ticks": "",
            "zerolinecolor": "white"
           }
          },
          "shapedefaults": {
           "line": {
            "color": "#2a3f5f"
           }
          },
          "ternary": {
           "aaxis": {
            "gridcolor": "white",
            "linecolor": "white",
            "ticks": ""
           },
           "baxis": {
            "gridcolor": "white",
            "linecolor": "white",
            "ticks": ""
           },
           "bgcolor": "#E5ECF6",
           "caxis": {
            "gridcolor": "white",
            "linecolor": "white",
            "ticks": ""
           }
          },
          "title": {
           "x": 0.05
          },
          "xaxis": {
           "automargin": true,
           "gridcolor": "white",
           "linecolor": "white",
           "ticks": "",
           "title": {
            "standoff": 15
           },
           "zerolinecolor": "white",
           "zerolinewidth": 2
          },
          "yaxis": {
           "automargin": true,
           "gridcolor": "white",
           "linecolor": "white",
           "ticks": "",
           "title": {
            "standoff": 15
           },
           "zerolinecolor": "white",
           "zerolinewidth": 2
          }
         }
        },
        "title": {
         "text": "mevcut_rolde_gecirilen_yil Box Plot"
        },
        "xaxis": {
         "anchor": "y",
         "domain": [
          0,
          1
         ]
        },
        "yaxis": {
         "anchor": "x",
         "domain": [
          0,
          1
         ],
         "title": {
          "text": "mevcut_rolde_gecirilen_yil"
         }
        }
       }
      }
     },
     "metadata": {},
     "output_type": "display_data"
    }
   ],
   "source": [
    "for col in num_cols:\n",
    "    num_summary_plotly(df, col)"
   ]
  },
  {
   "cell_type": "markdown",
   "id": "9fdef023",
   "metadata": {},
   "source": [
    "# **Hedef Değişken Analizi (Kategorik)**"
   ]
  },
  {
   "cell_type": "code",
   "execution_count": 11,
   "id": "5b08e9df",
   "metadata": {},
   "outputs": [
    {
     "data": {
      "application/vnd.plotly.v1+json": {
       "config": {
        "plotlyServerURL": "https://plot.ly"
       },
       "data": [
        {
         "alignmentgroup": "True",
         "hovertemplate": "is_seyahati=%{x}<br>isten_ayrilma=%{y}<extra></extra>",
         "legendgroup": "",
         "marker": {
          "color": "#636efa",
          "pattern": {
           "shape": ""
          }
         },
         "name": "",
         "offsetgroup": "",
         "orientation": "v",
         "showlegend": false,
         "textposition": "auto",
         "type": "bar",
         "x": [
          "Seyahat_Nadiren",
          "Seyahat_Siklikla",
          "Seyahat_Yok"
         ],
         "xaxis": "x",
         "y": [
          0.14956855225311602,
          0.2490974729241877,
          0.08
         ],
         "yaxis": "y"
        }
       ],
       "layout": {
        "barmode": "relative",
        "legend": {
         "tracegroupgap": 0
        },
        "template": {
         "data": {
          "bar": [
           {
            "error_x": {
             "color": "#2a3f5f"
            },
            "error_y": {
             "color": "#2a3f5f"
            },
            "marker": {
             "line": {
              "color": "#E5ECF6",
              "width": 0.5
             },
             "pattern": {
              "fillmode": "overlay",
              "size": 10,
              "solidity": 0.2
             }
            },
            "type": "bar"
           }
          ],
          "barpolar": [
           {
            "marker": {
             "line": {
              "color": "#E5ECF6",
              "width": 0.5
             },
             "pattern": {
              "fillmode": "overlay",
              "size": 10,
              "solidity": 0.2
             }
            },
            "type": "barpolar"
           }
          ],
          "carpet": [
           {
            "aaxis": {
             "endlinecolor": "#2a3f5f",
             "gridcolor": "white",
             "linecolor": "white",
             "minorgridcolor": "white",
             "startlinecolor": "#2a3f5f"
            },
            "baxis": {
             "endlinecolor": "#2a3f5f",
             "gridcolor": "white",
             "linecolor": "white",
             "minorgridcolor": "white",
             "startlinecolor": "#2a3f5f"
            },
            "type": "carpet"
           }
          ],
          "choropleth": [
           {
            "colorbar": {
             "outlinewidth": 0,
             "ticks": ""
            },
            "type": "choropleth"
           }
          ],
          "contour": [
           {
            "colorbar": {
             "outlinewidth": 0,
             "ticks": ""
            },
            "colorscale": [
             [
              0,
              "#0d0887"
             ],
             [
              0.1111111111111111,
              "#46039f"
             ],
             [
              0.2222222222222222,
              "#7201a8"
             ],
             [
              0.3333333333333333,
              "#9c179e"
             ],
             [
              0.4444444444444444,
              "#bd3786"
             ],
             [
              0.5555555555555556,
              "#d8576b"
             ],
             [
              0.6666666666666666,
              "#ed7953"
             ],
             [
              0.7777777777777778,
              "#fb9f3a"
             ],
             [
              0.8888888888888888,
              "#fdca26"
             ],
             [
              1,
              "#f0f921"
             ]
            ],
            "type": "contour"
           }
          ],
          "contourcarpet": [
           {
            "colorbar": {
             "outlinewidth": 0,
             "ticks": ""
            },
            "type": "contourcarpet"
           }
          ],
          "heatmap": [
           {
            "colorbar": {
             "outlinewidth": 0,
             "ticks": ""
            },
            "colorscale": [
             [
              0,
              "#0d0887"
             ],
             [
              0.1111111111111111,
              "#46039f"
             ],
             [
              0.2222222222222222,
              "#7201a8"
             ],
             [
              0.3333333333333333,
              "#9c179e"
             ],
             [
              0.4444444444444444,
              "#bd3786"
             ],
             [
              0.5555555555555556,
              "#d8576b"
             ],
             [
              0.6666666666666666,
              "#ed7953"
             ],
             [
              0.7777777777777778,
              "#fb9f3a"
             ],
             [
              0.8888888888888888,
              "#fdca26"
             ],
             [
              1,
              "#f0f921"
             ]
            ],
            "type": "heatmap"
           }
          ],
          "heatmapgl": [
           {
            "colorbar": {
             "outlinewidth": 0,
             "ticks": ""
            },
            "colorscale": [
             [
              0,
              "#0d0887"
             ],
             [
              0.1111111111111111,
              "#46039f"
             ],
             [
              0.2222222222222222,
              "#7201a8"
             ],
             [
              0.3333333333333333,
              "#9c179e"
             ],
             [
              0.4444444444444444,
              "#bd3786"
             ],
             [
              0.5555555555555556,
              "#d8576b"
             ],
             [
              0.6666666666666666,
              "#ed7953"
             ],
             [
              0.7777777777777778,
              "#fb9f3a"
             ],
             [
              0.8888888888888888,
              "#fdca26"
             ],
             [
              1,
              "#f0f921"
             ]
            ],
            "type": "heatmapgl"
           }
          ],
          "histogram": [
           {
            "marker": {
             "pattern": {
              "fillmode": "overlay",
              "size": 10,
              "solidity": 0.2
             }
            },
            "type": "histogram"
           }
          ],
          "histogram2d": [
           {
            "colorbar": {
             "outlinewidth": 0,
             "ticks": ""
            },
            "colorscale": [
             [
              0,
              "#0d0887"
             ],
             [
              0.1111111111111111,
              "#46039f"
             ],
             [
              0.2222222222222222,
              "#7201a8"
             ],
             [
              0.3333333333333333,
              "#9c179e"
             ],
             [
              0.4444444444444444,
              "#bd3786"
             ],
             [
              0.5555555555555556,
              "#d8576b"
             ],
             [
              0.6666666666666666,
              "#ed7953"
             ],
             [
              0.7777777777777778,
              "#fb9f3a"
             ],
             [
              0.8888888888888888,
              "#fdca26"
             ],
             [
              1,
              "#f0f921"
             ]
            ],
            "type": "histogram2d"
           }
          ],
          "histogram2dcontour": [
           {
            "colorbar": {
             "outlinewidth": 0,
             "ticks": ""
            },
            "colorscale": [
             [
              0,
              "#0d0887"
             ],
             [
              0.1111111111111111,
              "#46039f"
             ],
             [
              0.2222222222222222,
              "#7201a8"
             ],
             [
              0.3333333333333333,
              "#9c179e"
             ],
             [
              0.4444444444444444,
              "#bd3786"
             ],
             [
              0.5555555555555556,
              "#d8576b"
             ],
             [
              0.6666666666666666,
              "#ed7953"
             ],
             [
              0.7777777777777778,
              "#fb9f3a"
             ],
             [
              0.8888888888888888,
              "#fdca26"
             ],
             [
              1,
              "#f0f921"
             ]
            ],
            "type": "histogram2dcontour"
           }
          ],
          "mesh3d": [
           {
            "colorbar": {
             "outlinewidth": 0,
             "ticks": ""
            },
            "type": "mesh3d"
           }
          ],
          "parcoords": [
           {
            "line": {
             "colorbar": {
              "outlinewidth": 0,
              "ticks": ""
             }
            },
            "type": "parcoords"
           }
          ],
          "pie": [
           {
            "automargin": true,
            "type": "pie"
           }
          ],
          "scatter": [
           {
            "fillpattern": {
             "fillmode": "overlay",
             "size": 10,
             "solidity": 0.2
            },
            "type": "scatter"
           }
          ],
          "scatter3d": [
           {
            "line": {
             "colorbar": {
              "outlinewidth": 0,
              "ticks": ""
             }
            },
            "marker": {
             "colorbar": {
              "outlinewidth": 0,
              "ticks": ""
             }
            },
            "type": "scatter3d"
           }
          ],
          "scattercarpet": [
           {
            "marker": {
             "colorbar": {
              "outlinewidth": 0,
              "ticks": ""
             }
            },
            "type": "scattercarpet"
           }
          ],
          "scattergeo": [
           {
            "marker": {
             "colorbar": {
              "outlinewidth": 0,
              "ticks": ""
             }
            },
            "type": "scattergeo"
           }
          ],
          "scattergl": [
           {
            "marker": {
             "colorbar": {
              "outlinewidth": 0,
              "ticks": ""
             }
            },
            "type": "scattergl"
           }
          ],
          "scattermapbox": [
           {
            "marker": {
             "colorbar": {
              "outlinewidth": 0,
              "ticks": ""
             }
            },
            "type": "scattermapbox"
           }
          ],
          "scatterpolar": [
           {
            "marker": {
             "colorbar": {
              "outlinewidth": 0,
              "ticks": ""
             }
            },
            "type": "scatterpolar"
           }
          ],
          "scatterpolargl": [
           {
            "marker": {
             "colorbar": {
              "outlinewidth": 0,
              "ticks": ""
             }
            },
            "type": "scatterpolargl"
           }
          ],
          "scatterternary": [
           {
            "marker": {
             "colorbar": {
              "outlinewidth": 0,
              "ticks": ""
             }
            },
            "type": "scatterternary"
           }
          ],
          "surface": [
           {
            "colorbar": {
             "outlinewidth": 0,
             "ticks": ""
            },
            "colorscale": [
             [
              0,
              "#0d0887"
             ],
             [
              0.1111111111111111,
              "#46039f"
             ],
             [
              0.2222222222222222,
              "#7201a8"
             ],
             [
              0.3333333333333333,
              "#9c179e"
             ],
             [
              0.4444444444444444,
              "#bd3786"
             ],
             [
              0.5555555555555556,
              "#d8576b"
             ],
             [
              0.6666666666666666,
              "#ed7953"
             ],
             [
              0.7777777777777778,
              "#fb9f3a"
             ],
             [
              0.8888888888888888,
              "#fdca26"
             ],
             [
              1,
              "#f0f921"
             ]
            ],
            "type": "surface"
           }
          ],
          "table": [
           {
            "cells": {
             "fill": {
              "color": "#EBF0F8"
             },
             "line": {
              "color": "white"
             }
            },
            "header": {
             "fill": {
              "color": "#C8D4E3"
             },
             "line": {
              "color": "white"
             }
            },
            "type": "table"
           }
          ]
         },
         "layout": {
          "annotationdefaults": {
           "arrowcolor": "#2a3f5f",
           "arrowhead": 0,
           "arrowwidth": 1
          },
          "autotypenumbers": "strict",
          "coloraxis": {
           "colorbar": {
            "outlinewidth": 0,
            "ticks": ""
           }
          },
          "colorscale": {
           "diverging": [
            [
             0,
             "#8e0152"
            ],
            [
             0.1,
             "#c51b7d"
            ],
            [
             0.2,
             "#de77ae"
            ],
            [
             0.3,
             "#f1b6da"
            ],
            [
             0.4,
             "#fde0ef"
            ],
            [
             0.5,
             "#f7f7f7"
            ],
            [
             0.6,
             "#e6f5d0"
            ],
            [
             0.7,
             "#b8e186"
            ],
            [
             0.8,
             "#7fbc41"
            ],
            [
             0.9,
             "#4d9221"
            ],
            [
             1,
             "#276419"
            ]
           ],
           "sequential": [
            [
             0,
             "#0d0887"
            ],
            [
             0.1111111111111111,
             "#46039f"
            ],
            [
             0.2222222222222222,
             "#7201a8"
            ],
            [
             0.3333333333333333,
             "#9c179e"
            ],
            [
             0.4444444444444444,
             "#bd3786"
            ],
            [
             0.5555555555555556,
             "#d8576b"
            ],
            [
             0.6666666666666666,
             "#ed7953"
            ],
            [
             0.7777777777777778,
             "#fb9f3a"
            ],
            [
             0.8888888888888888,
             "#fdca26"
            ],
            [
             1,
             "#f0f921"
            ]
           ],
           "sequentialminus": [
            [
             0,
             "#0d0887"
            ],
            [
             0.1111111111111111,
             "#46039f"
            ],
            [
             0.2222222222222222,
             "#7201a8"
            ],
            [
             0.3333333333333333,
             "#9c179e"
            ],
            [
             0.4444444444444444,
             "#bd3786"
            ],
            [
             0.5555555555555556,
             "#d8576b"
            ],
            [
             0.6666666666666666,
             "#ed7953"
            ],
            [
             0.7777777777777778,
             "#fb9f3a"
            ],
            [
             0.8888888888888888,
             "#fdca26"
            ],
            [
             1,
             "#f0f921"
            ]
           ]
          },
          "colorway": [
           "#636efa",
           "#EF553B",
           "#00cc96",
           "#ab63fa",
           "#FFA15A",
           "#19d3f3",
           "#FF6692",
           "#B6E880",
           "#FF97FF",
           "#FECB52"
          ],
          "font": {
           "color": "#2a3f5f"
          },
          "geo": {
           "bgcolor": "white",
           "lakecolor": "white",
           "landcolor": "#E5ECF6",
           "showlakes": true,
           "showland": true,
           "subunitcolor": "white"
          },
          "hoverlabel": {
           "align": "left"
          },
          "hovermode": "closest",
          "mapbox": {
           "style": "light"
          },
          "paper_bgcolor": "white",
          "plot_bgcolor": "#E5ECF6",
          "polar": {
           "angularaxis": {
            "gridcolor": "white",
            "linecolor": "white",
            "ticks": ""
           },
           "bgcolor": "#E5ECF6",
           "radialaxis": {
            "gridcolor": "white",
            "linecolor": "white",
            "ticks": ""
           }
          },
          "scene": {
           "xaxis": {
            "backgroundcolor": "#E5ECF6",
            "gridcolor": "white",
            "gridwidth": 2,
            "linecolor": "white",
            "showbackground": true,
            "ticks": "",
            "zerolinecolor": "white"
           },
           "yaxis": {
            "backgroundcolor": "#E5ECF6",
            "gridcolor": "white",
            "gridwidth": 2,
            "linecolor": "white",
            "showbackground": true,
            "ticks": "",
            "zerolinecolor": "white"
           },
           "zaxis": {
            "backgroundcolor": "#E5ECF6",
            "gridcolor": "white",
            "gridwidth": 2,
            "linecolor": "white",
            "showbackground": true,
            "ticks": "",
            "zerolinecolor": "white"
           }
          },
          "shapedefaults": {
           "line": {
            "color": "#2a3f5f"
           }
          },
          "ternary": {
           "aaxis": {
            "gridcolor": "white",
            "linecolor": "white",
            "ticks": ""
           },
           "baxis": {
            "gridcolor": "white",
            "linecolor": "white",
            "ticks": ""
           },
           "bgcolor": "#E5ECF6",
           "caxis": {
            "gridcolor": "white",
            "linecolor": "white",
            "ticks": ""
           }
          },
          "title": {
           "x": 0.05
          },
          "xaxis": {
           "automargin": true,
           "gridcolor": "white",
           "linecolor": "white",
           "ticks": "",
           "title": {
            "standoff": 15
           },
           "zerolinecolor": "white",
           "zerolinewidth": 2
          },
          "yaxis": {
           "automargin": true,
           "gridcolor": "white",
           "linecolor": "white",
           "ticks": "",
           "title": {
            "standoff": 15
           },
           "zerolinecolor": "white",
           "zerolinewidth": 2
          }
         }
        },
        "title": {
         "text": "is_seyahati vs. isten_ayrilma"
        },
        "xaxis": {
         "anchor": "y",
         "domain": [
          0,
          1
         ],
         "title": {
          "text": "is_seyahati"
         }
        },
        "yaxis": {
         "anchor": "x",
         "domain": [
          0,
          1
         ],
         "title": {
          "text": "isten_ayrilma"
         }
        }
       }
      }
     },
     "metadata": {},
     "output_type": "display_data"
    },
    {
     "data": {
      "application/vnd.plotly.v1+json": {
       "config": {
        "plotlyServerURL": "https://plot.ly"
       },
       "data": [
        {
         "alignmentgroup": "True",
         "hovertemplate": "departman=%{x}<br>isten_ayrilma=%{y}<extra></extra>",
         "legendgroup": "",
         "marker": {
          "color": "#636efa",
          "pattern": {
           "shape": ""
          }
         },
         "name": "",
         "offsetgroup": "",
         "orientation": "v",
         "showlegend": false,
         "textposition": "auto",
         "type": "bar",
         "x": [
          "Arastirma_Gelistirme",
          "Insan_Kaynaklari",
          "Satis"
         ],
         "xaxis": "x",
         "y": [
          0.1383975026014568,
          0.19047619047619047,
          0.2062780269058296
         ],
         "yaxis": "y"
        }
       ],
       "layout": {
        "barmode": "relative",
        "legend": {
         "tracegroupgap": 0
        },
        "template": {
         "data": {
          "bar": [
           {
            "error_x": {
             "color": "#2a3f5f"
            },
            "error_y": {
             "color": "#2a3f5f"
            },
            "marker": {
             "line": {
              "color": "#E5ECF6",
              "width": 0.5
             },
             "pattern": {
              "fillmode": "overlay",
              "size": 10,
              "solidity": 0.2
             }
            },
            "type": "bar"
           }
          ],
          "barpolar": [
           {
            "marker": {
             "line": {
              "color": "#E5ECF6",
              "width": 0.5
             },
             "pattern": {
              "fillmode": "overlay",
              "size": 10,
              "solidity": 0.2
             }
            },
            "type": "barpolar"
           }
          ],
          "carpet": [
           {
            "aaxis": {
             "endlinecolor": "#2a3f5f",
             "gridcolor": "white",
             "linecolor": "white",
             "minorgridcolor": "white",
             "startlinecolor": "#2a3f5f"
            },
            "baxis": {
             "endlinecolor": "#2a3f5f",
             "gridcolor": "white",
             "linecolor": "white",
             "minorgridcolor": "white",
             "startlinecolor": "#2a3f5f"
            },
            "type": "carpet"
           }
          ],
          "choropleth": [
           {
            "colorbar": {
             "outlinewidth": 0,
             "ticks": ""
            },
            "type": "choropleth"
           }
          ],
          "contour": [
           {
            "colorbar": {
             "outlinewidth": 0,
             "ticks": ""
            },
            "colorscale": [
             [
              0,
              "#0d0887"
             ],
             [
              0.1111111111111111,
              "#46039f"
             ],
             [
              0.2222222222222222,
              "#7201a8"
             ],
             [
              0.3333333333333333,
              "#9c179e"
             ],
             [
              0.4444444444444444,
              "#bd3786"
             ],
             [
              0.5555555555555556,
              "#d8576b"
             ],
             [
              0.6666666666666666,
              "#ed7953"
             ],
             [
              0.7777777777777778,
              "#fb9f3a"
             ],
             [
              0.8888888888888888,
              "#fdca26"
             ],
             [
              1,
              "#f0f921"
             ]
            ],
            "type": "contour"
           }
          ],
          "contourcarpet": [
           {
            "colorbar": {
             "outlinewidth": 0,
             "ticks": ""
            },
            "type": "contourcarpet"
           }
          ],
          "heatmap": [
           {
            "colorbar": {
             "outlinewidth": 0,
             "ticks": ""
            },
            "colorscale": [
             [
              0,
              "#0d0887"
             ],
             [
              0.1111111111111111,
              "#46039f"
             ],
             [
              0.2222222222222222,
              "#7201a8"
             ],
             [
              0.3333333333333333,
              "#9c179e"
             ],
             [
              0.4444444444444444,
              "#bd3786"
             ],
             [
              0.5555555555555556,
              "#d8576b"
             ],
             [
              0.6666666666666666,
              "#ed7953"
             ],
             [
              0.7777777777777778,
              "#fb9f3a"
             ],
             [
              0.8888888888888888,
              "#fdca26"
             ],
             [
              1,
              "#f0f921"
             ]
            ],
            "type": "heatmap"
           }
          ],
          "heatmapgl": [
           {
            "colorbar": {
             "outlinewidth": 0,
             "ticks": ""
            },
            "colorscale": [
             [
              0,
              "#0d0887"
             ],
             [
              0.1111111111111111,
              "#46039f"
             ],
             [
              0.2222222222222222,
              "#7201a8"
             ],
             [
              0.3333333333333333,
              "#9c179e"
             ],
             [
              0.4444444444444444,
              "#bd3786"
             ],
             [
              0.5555555555555556,
              "#d8576b"
             ],
             [
              0.6666666666666666,
              "#ed7953"
             ],
             [
              0.7777777777777778,
              "#fb9f3a"
             ],
             [
              0.8888888888888888,
              "#fdca26"
             ],
             [
              1,
              "#f0f921"
             ]
            ],
            "type": "heatmapgl"
           }
          ],
          "histogram": [
           {
            "marker": {
             "pattern": {
              "fillmode": "overlay",
              "size": 10,
              "solidity": 0.2
             }
            },
            "type": "histogram"
           }
          ],
          "histogram2d": [
           {
            "colorbar": {
             "outlinewidth": 0,
             "ticks": ""
            },
            "colorscale": [
             [
              0,
              "#0d0887"
             ],
             [
              0.1111111111111111,
              "#46039f"
             ],
             [
              0.2222222222222222,
              "#7201a8"
             ],
             [
              0.3333333333333333,
              "#9c179e"
             ],
             [
              0.4444444444444444,
              "#bd3786"
             ],
             [
              0.5555555555555556,
              "#d8576b"
             ],
             [
              0.6666666666666666,
              "#ed7953"
             ],
             [
              0.7777777777777778,
              "#fb9f3a"
             ],
             [
              0.8888888888888888,
              "#fdca26"
             ],
             [
              1,
              "#f0f921"
             ]
            ],
            "type": "histogram2d"
           }
          ],
          "histogram2dcontour": [
           {
            "colorbar": {
             "outlinewidth": 0,
             "ticks": ""
            },
            "colorscale": [
             [
              0,
              "#0d0887"
             ],
             [
              0.1111111111111111,
              "#46039f"
             ],
             [
              0.2222222222222222,
              "#7201a8"
             ],
             [
              0.3333333333333333,
              "#9c179e"
             ],
             [
              0.4444444444444444,
              "#bd3786"
             ],
             [
              0.5555555555555556,
              "#d8576b"
             ],
             [
              0.6666666666666666,
              "#ed7953"
             ],
             [
              0.7777777777777778,
              "#fb9f3a"
             ],
             [
              0.8888888888888888,
              "#fdca26"
             ],
             [
              1,
              "#f0f921"
             ]
            ],
            "type": "histogram2dcontour"
           }
          ],
          "mesh3d": [
           {
            "colorbar": {
             "outlinewidth": 0,
             "ticks": ""
            },
            "type": "mesh3d"
           }
          ],
          "parcoords": [
           {
            "line": {
             "colorbar": {
              "outlinewidth": 0,
              "ticks": ""
             }
            },
            "type": "parcoords"
           }
          ],
          "pie": [
           {
            "automargin": true,
            "type": "pie"
           }
          ],
          "scatter": [
           {
            "fillpattern": {
             "fillmode": "overlay",
             "size": 10,
             "solidity": 0.2
            },
            "type": "scatter"
           }
          ],
          "scatter3d": [
           {
            "line": {
             "colorbar": {
              "outlinewidth": 0,
              "ticks": ""
             }
            },
            "marker": {
             "colorbar": {
              "outlinewidth": 0,
              "ticks": ""
             }
            },
            "type": "scatter3d"
           }
          ],
          "scattercarpet": [
           {
            "marker": {
             "colorbar": {
              "outlinewidth": 0,
              "ticks": ""
             }
            },
            "type": "scattercarpet"
           }
          ],
          "scattergeo": [
           {
            "marker": {
             "colorbar": {
              "outlinewidth": 0,
              "ticks": ""
             }
            },
            "type": "scattergeo"
           }
          ],
          "scattergl": [
           {
            "marker": {
             "colorbar": {
              "outlinewidth": 0,
              "ticks": ""
             }
            },
            "type": "scattergl"
           }
          ],
          "scattermapbox": [
           {
            "marker": {
             "colorbar": {
              "outlinewidth": 0,
              "ticks": ""
             }
            },
            "type": "scattermapbox"
           }
          ],
          "scatterpolar": [
           {
            "marker": {
             "colorbar": {
              "outlinewidth": 0,
              "ticks": ""
             }
            },
            "type": "scatterpolar"
           }
          ],
          "scatterpolargl": [
           {
            "marker": {
             "colorbar": {
              "outlinewidth": 0,
              "ticks": ""
             }
            },
            "type": "scatterpolargl"
           }
          ],
          "scatterternary": [
           {
            "marker": {
             "colorbar": {
              "outlinewidth": 0,
              "ticks": ""
             }
            },
            "type": "scatterternary"
           }
          ],
          "surface": [
           {
            "colorbar": {
             "outlinewidth": 0,
             "ticks": ""
            },
            "colorscale": [
             [
              0,
              "#0d0887"
             ],
             [
              0.1111111111111111,
              "#46039f"
             ],
             [
              0.2222222222222222,
              "#7201a8"
             ],
             [
              0.3333333333333333,
              "#9c179e"
             ],
             [
              0.4444444444444444,
              "#bd3786"
             ],
             [
              0.5555555555555556,
              "#d8576b"
             ],
             [
              0.6666666666666666,
              "#ed7953"
             ],
             [
              0.7777777777777778,
              "#fb9f3a"
             ],
             [
              0.8888888888888888,
              "#fdca26"
             ],
             [
              1,
              "#f0f921"
             ]
            ],
            "type": "surface"
           }
          ],
          "table": [
           {
            "cells": {
             "fill": {
              "color": "#EBF0F8"
             },
             "line": {
              "color": "white"
             }
            },
            "header": {
             "fill": {
              "color": "#C8D4E3"
             },
             "line": {
              "color": "white"
             }
            },
            "type": "table"
           }
          ]
         },
         "layout": {
          "annotationdefaults": {
           "arrowcolor": "#2a3f5f",
           "arrowhead": 0,
           "arrowwidth": 1
          },
          "autotypenumbers": "strict",
          "coloraxis": {
           "colorbar": {
            "outlinewidth": 0,
            "ticks": ""
           }
          },
          "colorscale": {
           "diverging": [
            [
             0,
             "#8e0152"
            ],
            [
             0.1,
             "#c51b7d"
            ],
            [
             0.2,
             "#de77ae"
            ],
            [
             0.3,
             "#f1b6da"
            ],
            [
             0.4,
             "#fde0ef"
            ],
            [
             0.5,
             "#f7f7f7"
            ],
            [
             0.6,
             "#e6f5d0"
            ],
            [
             0.7,
             "#b8e186"
            ],
            [
             0.8,
             "#7fbc41"
            ],
            [
             0.9,
             "#4d9221"
            ],
            [
             1,
             "#276419"
            ]
           ],
           "sequential": [
            [
             0,
             "#0d0887"
            ],
            [
             0.1111111111111111,
             "#46039f"
            ],
            [
             0.2222222222222222,
             "#7201a8"
            ],
            [
             0.3333333333333333,
             "#9c179e"
            ],
            [
             0.4444444444444444,
             "#bd3786"
            ],
            [
             0.5555555555555556,
             "#d8576b"
            ],
            [
             0.6666666666666666,
             "#ed7953"
            ],
            [
             0.7777777777777778,
             "#fb9f3a"
            ],
            [
             0.8888888888888888,
             "#fdca26"
            ],
            [
             1,
             "#f0f921"
            ]
           ],
           "sequentialminus": [
            [
             0,
             "#0d0887"
            ],
            [
             0.1111111111111111,
             "#46039f"
            ],
            [
             0.2222222222222222,
             "#7201a8"
            ],
            [
             0.3333333333333333,
             "#9c179e"
            ],
            [
             0.4444444444444444,
             "#bd3786"
            ],
            [
             0.5555555555555556,
             "#d8576b"
            ],
            [
             0.6666666666666666,
             "#ed7953"
            ],
            [
             0.7777777777777778,
             "#fb9f3a"
            ],
            [
             0.8888888888888888,
             "#fdca26"
            ],
            [
             1,
             "#f0f921"
            ]
           ]
          },
          "colorway": [
           "#636efa",
           "#EF553B",
           "#00cc96",
           "#ab63fa",
           "#FFA15A",
           "#19d3f3",
           "#FF6692",
           "#B6E880",
           "#FF97FF",
           "#FECB52"
          ],
          "font": {
           "color": "#2a3f5f"
          },
          "geo": {
           "bgcolor": "white",
           "lakecolor": "white",
           "landcolor": "#E5ECF6",
           "showlakes": true,
           "showland": true,
           "subunitcolor": "white"
          },
          "hoverlabel": {
           "align": "left"
          },
          "hovermode": "closest",
          "mapbox": {
           "style": "light"
          },
          "paper_bgcolor": "white",
          "plot_bgcolor": "#E5ECF6",
          "polar": {
           "angularaxis": {
            "gridcolor": "white",
            "linecolor": "white",
            "ticks": ""
           },
           "bgcolor": "#E5ECF6",
           "radialaxis": {
            "gridcolor": "white",
            "linecolor": "white",
            "ticks": ""
           }
          },
          "scene": {
           "xaxis": {
            "backgroundcolor": "#E5ECF6",
            "gridcolor": "white",
            "gridwidth": 2,
            "linecolor": "white",
            "showbackground": true,
            "ticks": "",
            "zerolinecolor": "white"
           },
           "yaxis": {
            "backgroundcolor": "#E5ECF6",
            "gridcolor": "white",
            "gridwidth": 2,
            "linecolor": "white",
            "showbackground": true,
            "ticks": "",
            "zerolinecolor": "white"
           },
           "zaxis": {
            "backgroundcolor": "#E5ECF6",
            "gridcolor": "white",
            "gridwidth": 2,
            "linecolor": "white",
            "showbackground": true,
            "ticks": "",
            "zerolinecolor": "white"
           }
          },
          "shapedefaults": {
           "line": {
            "color": "#2a3f5f"
           }
          },
          "ternary": {
           "aaxis": {
            "gridcolor": "white",
            "linecolor": "white",
            "ticks": ""
           },
           "baxis": {
            "gridcolor": "white",
            "linecolor": "white",
            "ticks": ""
           },
           "bgcolor": "#E5ECF6",
           "caxis": {
            "gridcolor": "white",
            "linecolor": "white",
            "ticks": ""
           }
          },
          "title": {
           "x": 0.05
          },
          "xaxis": {
           "automargin": true,
           "gridcolor": "white",
           "linecolor": "white",
           "ticks": "",
           "title": {
            "standoff": 15
           },
           "zerolinecolor": "white",
           "zerolinewidth": 2
          },
          "yaxis": {
           "automargin": true,
           "gridcolor": "white",
           "linecolor": "white",
           "ticks": "",
           "title": {
            "standoff": 15
           },
           "zerolinecolor": "white",
           "zerolinewidth": 2
          }
         }
        },
        "title": {
         "text": "departman vs. isten_ayrilma"
        },
        "xaxis": {
         "anchor": "y",
         "domain": [
          0,
          1
         ],
         "title": {
          "text": "departman"
         }
        },
        "yaxis": {
         "anchor": "x",
         "domain": [
          0,
          1
         ],
         "title": {
          "text": "isten_ayrilma"
         }
        }
       }
      }
     },
     "metadata": {},
     "output_type": "display_data"
    },
    {
     "data": {
      "application/vnd.plotly.v1+json": {
       "config": {
        "plotlyServerURL": "https://plot.ly"
       },
       "data": [
        {
         "alignmentgroup": "True",
         "hovertemplate": "cinsiyet=%{x}<br>isten_ayrilma=%{y}<extra></extra>",
         "legendgroup": "",
         "marker": {
          "color": "#636efa",
          "pattern": {
           "shape": ""
          }
         },
         "name": "",
         "offsetgroup": "",
         "orientation": "v",
         "showlegend": false,
         "textposition": "auto",
         "type": "bar",
         "x": [
          "Erkek",
          "Kadin"
         ],
         "xaxis": "x",
         "y": [
          0.17006802721088435,
          0.14795918367346939
         ],
         "yaxis": "y"
        }
       ],
       "layout": {
        "barmode": "relative",
        "legend": {
         "tracegroupgap": 0
        },
        "template": {
         "data": {
          "bar": [
           {
            "error_x": {
             "color": "#2a3f5f"
            },
            "error_y": {
             "color": "#2a3f5f"
            },
            "marker": {
             "line": {
              "color": "#E5ECF6",
              "width": 0.5
             },
             "pattern": {
              "fillmode": "overlay",
              "size": 10,
              "solidity": 0.2
             }
            },
            "type": "bar"
           }
          ],
          "barpolar": [
           {
            "marker": {
             "line": {
              "color": "#E5ECF6",
              "width": 0.5
             },
             "pattern": {
              "fillmode": "overlay",
              "size": 10,
              "solidity": 0.2
             }
            },
            "type": "barpolar"
           }
          ],
          "carpet": [
           {
            "aaxis": {
             "endlinecolor": "#2a3f5f",
             "gridcolor": "white",
             "linecolor": "white",
             "minorgridcolor": "white",
             "startlinecolor": "#2a3f5f"
            },
            "baxis": {
             "endlinecolor": "#2a3f5f",
             "gridcolor": "white",
             "linecolor": "white",
             "minorgridcolor": "white",
             "startlinecolor": "#2a3f5f"
            },
            "type": "carpet"
           }
          ],
          "choropleth": [
           {
            "colorbar": {
             "outlinewidth": 0,
             "ticks": ""
            },
            "type": "choropleth"
           }
          ],
          "contour": [
           {
            "colorbar": {
             "outlinewidth": 0,
             "ticks": ""
            },
            "colorscale": [
             [
              0,
              "#0d0887"
             ],
             [
              0.1111111111111111,
              "#46039f"
             ],
             [
              0.2222222222222222,
              "#7201a8"
             ],
             [
              0.3333333333333333,
              "#9c179e"
             ],
             [
              0.4444444444444444,
              "#bd3786"
             ],
             [
              0.5555555555555556,
              "#d8576b"
             ],
             [
              0.6666666666666666,
              "#ed7953"
             ],
             [
              0.7777777777777778,
              "#fb9f3a"
             ],
             [
              0.8888888888888888,
              "#fdca26"
             ],
             [
              1,
              "#f0f921"
             ]
            ],
            "type": "contour"
           }
          ],
          "contourcarpet": [
           {
            "colorbar": {
             "outlinewidth": 0,
             "ticks": ""
            },
            "type": "contourcarpet"
           }
          ],
          "heatmap": [
           {
            "colorbar": {
             "outlinewidth": 0,
             "ticks": ""
            },
            "colorscale": [
             [
              0,
              "#0d0887"
             ],
             [
              0.1111111111111111,
              "#46039f"
             ],
             [
              0.2222222222222222,
              "#7201a8"
             ],
             [
              0.3333333333333333,
              "#9c179e"
             ],
             [
              0.4444444444444444,
              "#bd3786"
             ],
             [
              0.5555555555555556,
              "#d8576b"
             ],
             [
              0.6666666666666666,
              "#ed7953"
             ],
             [
              0.7777777777777778,
              "#fb9f3a"
             ],
             [
              0.8888888888888888,
              "#fdca26"
             ],
             [
              1,
              "#f0f921"
             ]
            ],
            "type": "heatmap"
           }
          ],
          "heatmapgl": [
           {
            "colorbar": {
             "outlinewidth": 0,
             "ticks": ""
            },
            "colorscale": [
             [
              0,
              "#0d0887"
             ],
             [
              0.1111111111111111,
              "#46039f"
             ],
             [
              0.2222222222222222,
              "#7201a8"
             ],
             [
              0.3333333333333333,
              "#9c179e"
             ],
             [
              0.4444444444444444,
              "#bd3786"
             ],
             [
              0.5555555555555556,
              "#d8576b"
             ],
             [
              0.6666666666666666,
              "#ed7953"
             ],
             [
              0.7777777777777778,
              "#fb9f3a"
             ],
             [
              0.8888888888888888,
              "#fdca26"
             ],
             [
              1,
              "#f0f921"
             ]
            ],
            "type": "heatmapgl"
           }
          ],
          "histogram": [
           {
            "marker": {
             "pattern": {
              "fillmode": "overlay",
              "size": 10,
              "solidity": 0.2
             }
            },
            "type": "histogram"
           }
          ],
          "histogram2d": [
           {
            "colorbar": {
             "outlinewidth": 0,
             "ticks": ""
            },
            "colorscale": [
             [
              0,
              "#0d0887"
             ],
             [
              0.1111111111111111,
              "#46039f"
             ],
             [
              0.2222222222222222,
              "#7201a8"
             ],
             [
              0.3333333333333333,
              "#9c179e"
             ],
             [
              0.4444444444444444,
              "#bd3786"
             ],
             [
              0.5555555555555556,
              "#d8576b"
             ],
             [
              0.6666666666666666,
              "#ed7953"
             ],
             [
              0.7777777777777778,
              "#fb9f3a"
             ],
             [
              0.8888888888888888,
              "#fdca26"
             ],
             [
              1,
              "#f0f921"
             ]
            ],
            "type": "histogram2d"
           }
          ],
          "histogram2dcontour": [
           {
            "colorbar": {
             "outlinewidth": 0,
             "ticks": ""
            },
            "colorscale": [
             [
              0,
              "#0d0887"
             ],
             [
              0.1111111111111111,
              "#46039f"
             ],
             [
              0.2222222222222222,
              "#7201a8"
             ],
             [
              0.3333333333333333,
              "#9c179e"
             ],
             [
              0.4444444444444444,
              "#bd3786"
             ],
             [
              0.5555555555555556,
              "#d8576b"
             ],
             [
              0.6666666666666666,
              "#ed7953"
             ],
             [
              0.7777777777777778,
              "#fb9f3a"
             ],
             [
              0.8888888888888888,
              "#fdca26"
             ],
             [
              1,
              "#f0f921"
             ]
            ],
            "type": "histogram2dcontour"
           }
          ],
          "mesh3d": [
           {
            "colorbar": {
             "outlinewidth": 0,
             "ticks": ""
            },
            "type": "mesh3d"
           }
          ],
          "parcoords": [
           {
            "line": {
             "colorbar": {
              "outlinewidth": 0,
              "ticks": ""
             }
            },
            "type": "parcoords"
           }
          ],
          "pie": [
           {
            "automargin": true,
            "type": "pie"
           }
          ],
          "scatter": [
           {
            "fillpattern": {
             "fillmode": "overlay",
             "size": 10,
             "solidity": 0.2
            },
            "type": "scatter"
           }
          ],
          "scatter3d": [
           {
            "line": {
             "colorbar": {
              "outlinewidth": 0,
              "ticks": ""
             }
            },
            "marker": {
             "colorbar": {
              "outlinewidth": 0,
              "ticks": ""
             }
            },
            "type": "scatter3d"
           }
          ],
          "scattercarpet": [
           {
            "marker": {
             "colorbar": {
              "outlinewidth": 0,
              "ticks": ""
             }
            },
            "type": "scattercarpet"
           }
          ],
          "scattergeo": [
           {
            "marker": {
             "colorbar": {
              "outlinewidth": 0,
              "ticks": ""
             }
            },
            "type": "scattergeo"
           }
          ],
          "scattergl": [
           {
            "marker": {
             "colorbar": {
              "outlinewidth": 0,
              "ticks": ""
             }
            },
            "type": "scattergl"
           }
          ],
          "scattermapbox": [
           {
            "marker": {
             "colorbar": {
              "outlinewidth": 0,
              "ticks": ""
             }
            },
            "type": "scattermapbox"
           }
          ],
          "scatterpolar": [
           {
            "marker": {
             "colorbar": {
              "outlinewidth": 0,
              "ticks": ""
             }
            },
            "type": "scatterpolar"
           }
          ],
          "scatterpolargl": [
           {
            "marker": {
             "colorbar": {
              "outlinewidth": 0,
              "ticks": ""
             }
            },
            "type": "scatterpolargl"
           }
          ],
          "scatterternary": [
           {
            "marker": {
             "colorbar": {
              "outlinewidth": 0,
              "ticks": ""
             }
            },
            "type": "scatterternary"
           }
          ],
          "surface": [
           {
            "colorbar": {
             "outlinewidth": 0,
             "ticks": ""
            },
            "colorscale": [
             [
              0,
              "#0d0887"
             ],
             [
              0.1111111111111111,
              "#46039f"
             ],
             [
              0.2222222222222222,
              "#7201a8"
             ],
             [
              0.3333333333333333,
              "#9c179e"
             ],
             [
              0.4444444444444444,
              "#bd3786"
             ],
             [
              0.5555555555555556,
              "#d8576b"
             ],
             [
              0.6666666666666666,
              "#ed7953"
             ],
             [
              0.7777777777777778,
              "#fb9f3a"
             ],
             [
              0.8888888888888888,
              "#fdca26"
             ],
             [
              1,
              "#f0f921"
             ]
            ],
            "type": "surface"
           }
          ],
          "table": [
           {
            "cells": {
             "fill": {
              "color": "#EBF0F8"
             },
             "line": {
              "color": "white"
             }
            },
            "header": {
             "fill": {
              "color": "#C8D4E3"
             },
             "line": {
              "color": "white"
             }
            },
            "type": "table"
           }
          ]
         },
         "layout": {
          "annotationdefaults": {
           "arrowcolor": "#2a3f5f",
           "arrowhead": 0,
           "arrowwidth": 1
          },
          "autotypenumbers": "strict",
          "coloraxis": {
           "colorbar": {
            "outlinewidth": 0,
            "ticks": ""
           }
          },
          "colorscale": {
           "diverging": [
            [
             0,
             "#8e0152"
            ],
            [
             0.1,
             "#c51b7d"
            ],
            [
             0.2,
             "#de77ae"
            ],
            [
             0.3,
             "#f1b6da"
            ],
            [
             0.4,
             "#fde0ef"
            ],
            [
             0.5,
             "#f7f7f7"
            ],
            [
             0.6,
             "#e6f5d0"
            ],
            [
             0.7,
             "#b8e186"
            ],
            [
             0.8,
             "#7fbc41"
            ],
            [
             0.9,
             "#4d9221"
            ],
            [
             1,
             "#276419"
            ]
           ],
           "sequential": [
            [
             0,
             "#0d0887"
            ],
            [
             0.1111111111111111,
             "#46039f"
            ],
            [
             0.2222222222222222,
             "#7201a8"
            ],
            [
             0.3333333333333333,
             "#9c179e"
            ],
            [
             0.4444444444444444,
             "#bd3786"
            ],
            [
             0.5555555555555556,
             "#d8576b"
            ],
            [
             0.6666666666666666,
             "#ed7953"
            ],
            [
             0.7777777777777778,
             "#fb9f3a"
            ],
            [
             0.8888888888888888,
             "#fdca26"
            ],
            [
             1,
             "#f0f921"
            ]
           ],
           "sequentialminus": [
            [
             0,
             "#0d0887"
            ],
            [
             0.1111111111111111,
             "#46039f"
            ],
            [
             0.2222222222222222,
             "#7201a8"
            ],
            [
             0.3333333333333333,
             "#9c179e"
            ],
            [
             0.4444444444444444,
             "#bd3786"
            ],
            [
             0.5555555555555556,
             "#d8576b"
            ],
            [
             0.6666666666666666,
             "#ed7953"
            ],
            [
             0.7777777777777778,
             "#fb9f3a"
            ],
            [
             0.8888888888888888,
             "#fdca26"
            ],
            [
             1,
             "#f0f921"
            ]
           ]
          },
          "colorway": [
           "#636efa",
           "#EF553B",
           "#00cc96",
           "#ab63fa",
           "#FFA15A",
           "#19d3f3",
           "#FF6692",
           "#B6E880",
           "#FF97FF",
           "#FECB52"
          ],
          "font": {
           "color": "#2a3f5f"
          },
          "geo": {
           "bgcolor": "white",
           "lakecolor": "white",
           "landcolor": "#E5ECF6",
           "showlakes": true,
           "showland": true,
           "subunitcolor": "white"
          },
          "hoverlabel": {
           "align": "left"
          },
          "hovermode": "closest",
          "mapbox": {
           "style": "light"
          },
          "paper_bgcolor": "white",
          "plot_bgcolor": "#E5ECF6",
          "polar": {
           "angularaxis": {
            "gridcolor": "white",
            "linecolor": "white",
            "ticks": ""
           },
           "bgcolor": "#E5ECF6",
           "radialaxis": {
            "gridcolor": "white",
            "linecolor": "white",
            "ticks": ""
           }
          },
          "scene": {
           "xaxis": {
            "backgroundcolor": "#E5ECF6",
            "gridcolor": "white",
            "gridwidth": 2,
            "linecolor": "white",
            "showbackground": true,
            "ticks": "",
            "zerolinecolor": "white"
           },
           "yaxis": {
            "backgroundcolor": "#E5ECF6",
            "gridcolor": "white",
            "gridwidth": 2,
            "linecolor": "white",
            "showbackground": true,
            "ticks": "",
            "zerolinecolor": "white"
           },
           "zaxis": {
            "backgroundcolor": "#E5ECF6",
            "gridcolor": "white",
            "gridwidth": 2,
            "linecolor": "white",
            "showbackground": true,
            "ticks": "",
            "zerolinecolor": "white"
           }
          },
          "shapedefaults": {
           "line": {
            "color": "#2a3f5f"
           }
          },
          "ternary": {
           "aaxis": {
            "gridcolor": "white",
            "linecolor": "white",
            "ticks": ""
           },
           "baxis": {
            "gridcolor": "white",
            "linecolor": "white",
            "ticks": ""
           },
           "bgcolor": "#E5ECF6",
           "caxis": {
            "gridcolor": "white",
            "linecolor": "white",
            "ticks": ""
           }
          },
          "title": {
           "x": 0.05
          },
          "xaxis": {
           "automargin": true,
           "gridcolor": "white",
           "linecolor": "white",
           "ticks": "",
           "title": {
            "standoff": 15
           },
           "zerolinecolor": "white",
           "zerolinewidth": 2
          },
          "yaxis": {
           "automargin": true,
           "gridcolor": "white",
           "linecolor": "white",
           "ticks": "",
           "title": {
            "standoff": 15
           },
           "zerolinecolor": "white",
           "zerolinewidth": 2
          }
         }
        },
        "title": {
         "text": "cinsiyet vs. isten_ayrilma"
        },
        "xaxis": {
         "anchor": "y",
         "domain": [
          0,
          1
         ],
         "title": {
          "text": "cinsiyet"
         }
        },
        "yaxis": {
         "anchor": "x",
         "domain": [
          0,
          1
         ],
         "title": {
          "text": "isten_ayrilma"
         }
        }
       }
      }
     },
     "metadata": {},
     "output_type": "display_data"
    },
    {
     "data": {
      "application/vnd.plotly.v1+json": {
       "config": {
        "plotlyServerURL": "https://plot.ly"
       },
       "data": [
        {
         "alignmentgroup": "True",
         "hovertemplate": "is_rolu=%{x}<br>isten_ayrilma=%{y}<extra></extra>",
         "legendgroup": "",
         "marker": {
          "color": "#636efa",
          "pattern": {
           "shape": ""
          }
         },
         "name": "",
         "offsetgroup": "",
         "orientation": "v",
         "showlegend": false,
         "textposition": "auto",
         "type": "bar",
         "x": [
          "Arastirma Bilim Insani",
          "Arastirma Muduru",
          "Insan_Kaynaklari",
          "Laboratuvar Teknisyeni",
          "Saglik Temsilcisi",
          "Satis Temsilcisi",
          "Satis Yoneticisi",
          "Uretim Muduru",
          "Yonetici"
         ],
         "xaxis": "x",
         "y": [
          0.16095890410958905,
          0.025,
          0.23076923076923078,
          0.23938223938223938,
          0.06870229007633588,
          0.39759036144578314,
          0.17484662576687116,
          0.06896551724137931,
          0.049019607843137254
         ],
         "yaxis": "y"
        }
       ],
       "layout": {
        "barmode": "relative",
        "legend": {
         "tracegroupgap": 0
        },
        "template": {
         "data": {
          "bar": [
           {
            "error_x": {
             "color": "#2a3f5f"
            },
            "error_y": {
             "color": "#2a3f5f"
            },
            "marker": {
             "line": {
              "color": "#E5ECF6",
              "width": 0.5
             },
             "pattern": {
              "fillmode": "overlay",
              "size": 10,
              "solidity": 0.2
             }
            },
            "type": "bar"
           }
          ],
          "barpolar": [
           {
            "marker": {
             "line": {
              "color": "#E5ECF6",
              "width": 0.5
             },
             "pattern": {
              "fillmode": "overlay",
              "size": 10,
              "solidity": 0.2
             }
            },
            "type": "barpolar"
           }
          ],
          "carpet": [
           {
            "aaxis": {
             "endlinecolor": "#2a3f5f",
             "gridcolor": "white",
             "linecolor": "white",
             "minorgridcolor": "white",
             "startlinecolor": "#2a3f5f"
            },
            "baxis": {
             "endlinecolor": "#2a3f5f",
             "gridcolor": "white",
             "linecolor": "white",
             "minorgridcolor": "white",
             "startlinecolor": "#2a3f5f"
            },
            "type": "carpet"
           }
          ],
          "choropleth": [
           {
            "colorbar": {
             "outlinewidth": 0,
             "ticks": ""
            },
            "type": "choropleth"
           }
          ],
          "contour": [
           {
            "colorbar": {
             "outlinewidth": 0,
             "ticks": ""
            },
            "colorscale": [
             [
              0,
              "#0d0887"
             ],
             [
              0.1111111111111111,
              "#46039f"
             ],
             [
              0.2222222222222222,
              "#7201a8"
             ],
             [
              0.3333333333333333,
              "#9c179e"
             ],
             [
              0.4444444444444444,
              "#bd3786"
             ],
             [
              0.5555555555555556,
              "#d8576b"
             ],
             [
              0.6666666666666666,
              "#ed7953"
             ],
             [
              0.7777777777777778,
              "#fb9f3a"
             ],
             [
              0.8888888888888888,
              "#fdca26"
             ],
             [
              1,
              "#f0f921"
             ]
            ],
            "type": "contour"
           }
          ],
          "contourcarpet": [
           {
            "colorbar": {
             "outlinewidth": 0,
             "ticks": ""
            },
            "type": "contourcarpet"
           }
          ],
          "heatmap": [
           {
            "colorbar": {
             "outlinewidth": 0,
             "ticks": ""
            },
            "colorscale": [
             [
              0,
              "#0d0887"
             ],
             [
              0.1111111111111111,
              "#46039f"
             ],
             [
              0.2222222222222222,
              "#7201a8"
             ],
             [
              0.3333333333333333,
              "#9c179e"
             ],
             [
              0.4444444444444444,
              "#bd3786"
             ],
             [
              0.5555555555555556,
              "#d8576b"
             ],
             [
              0.6666666666666666,
              "#ed7953"
             ],
             [
              0.7777777777777778,
              "#fb9f3a"
             ],
             [
              0.8888888888888888,
              "#fdca26"
             ],
             [
              1,
              "#f0f921"
             ]
            ],
            "type": "heatmap"
           }
          ],
          "heatmapgl": [
           {
            "colorbar": {
             "outlinewidth": 0,
             "ticks": ""
            },
            "colorscale": [
             [
              0,
              "#0d0887"
             ],
             [
              0.1111111111111111,
              "#46039f"
             ],
             [
              0.2222222222222222,
              "#7201a8"
             ],
             [
              0.3333333333333333,
              "#9c179e"
             ],
             [
              0.4444444444444444,
              "#bd3786"
             ],
             [
              0.5555555555555556,
              "#d8576b"
             ],
             [
              0.6666666666666666,
              "#ed7953"
             ],
             [
              0.7777777777777778,
              "#fb9f3a"
             ],
             [
              0.8888888888888888,
              "#fdca26"
             ],
             [
              1,
              "#f0f921"
             ]
            ],
            "type": "heatmapgl"
           }
          ],
          "histogram": [
           {
            "marker": {
             "pattern": {
              "fillmode": "overlay",
              "size": 10,
              "solidity": 0.2
             }
            },
            "type": "histogram"
           }
          ],
          "histogram2d": [
           {
            "colorbar": {
             "outlinewidth": 0,
             "ticks": ""
            },
            "colorscale": [
             [
              0,
              "#0d0887"
             ],
             [
              0.1111111111111111,
              "#46039f"
             ],
             [
              0.2222222222222222,
              "#7201a8"
             ],
             [
              0.3333333333333333,
              "#9c179e"
             ],
             [
              0.4444444444444444,
              "#bd3786"
             ],
             [
              0.5555555555555556,
              "#d8576b"
             ],
             [
              0.6666666666666666,
              "#ed7953"
             ],
             [
              0.7777777777777778,
              "#fb9f3a"
             ],
             [
              0.8888888888888888,
              "#fdca26"
             ],
             [
              1,
              "#f0f921"
             ]
            ],
            "type": "histogram2d"
           }
          ],
          "histogram2dcontour": [
           {
            "colorbar": {
             "outlinewidth": 0,
             "ticks": ""
            },
            "colorscale": [
             [
              0,
              "#0d0887"
             ],
             [
              0.1111111111111111,
              "#46039f"
             ],
             [
              0.2222222222222222,
              "#7201a8"
             ],
             [
              0.3333333333333333,
              "#9c179e"
             ],
             [
              0.4444444444444444,
              "#bd3786"
             ],
             [
              0.5555555555555556,
              "#d8576b"
             ],
             [
              0.6666666666666666,
              "#ed7953"
             ],
             [
              0.7777777777777778,
              "#fb9f3a"
             ],
             [
              0.8888888888888888,
              "#fdca26"
             ],
             [
              1,
              "#f0f921"
             ]
            ],
            "type": "histogram2dcontour"
           }
          ],
          "mesh3d": [
           {
            "colorbar": {
             "outlinewidth": 0,
             "ticks": ""
            },
            "type": "mesh3d"
           }
          ],
          "parcoords": [
           {
            "line": {
             "colorbar": {
              "outlinewidth": 0,
              "ticks": ""
             }
            },
            "type": "parcoords"
           }
          ],
          "pie": [
           {
            "automargin": true,
            "type": "pie"
           }
          ],
          "scatter": [
           {
            "fillpattern": {
             "fillmode": "overlay",
             "size": 10,
             "solidity": 0.2
            },
            "type": "scatter"
           }
          ],
          "scatter3d": [
           {
            "line": {
             "colorbar": {
              "outlinewidth": 0,
              "ticks": ""
             }
            },
            "marker": {
             "colorbar": {
              "outlinewidth": 0,
              "ticks": ""
             }
            },
            "type": "scatter3d"
           }
          ],
          "scattercarpet": [
           {
            "marker": {
             "colorbar": {
              "outlinewidth": 0,
              "ticks": ""
             }
            },
            "type": "scattercarpet"
           }
          ],
          "scattergeo": [
           {
            "marker": {
             "colorbar": {
              "outlinewidth": 0,
              "ticks": ""
             }
            },
            "type": "scattergeo"
           }
          ],
          "scattergl": [
           {
            "marker": {
             "colorbar": {
              "outlinewidth": 0,
              "ticks": ""
             }
            },
            "type": "scattergl"
           }
          ],
          "scattermapbox": [
           {
            "marker": {
             "colorbar": {
              "outlinewidth": 0,
              "ticks": ""
             }
            },
            "type": "scattermapbox"
           }
          ],
          "scatterpolar": [
           {
            "marker": {
             "colorbar": {
              "outlinewidth": 0,
              "ticks": ""
             }
            },
            "type": "scatterpolar"
           }
          ],
          "scatterpolargl": [
           {
            "marker": {
             "colorbar": {
              "outlinewidth": 0,
              "ticks": ""
             }
            },
            "type": "scatterpolargl"
           }
          ],
          "scatterternary": [
           {
            "marker": {
             "colorbar": {
              "outlinewidth": 0,
              "ticks": ""
             }
            },
            "type": "scatterternary"
           }
          ],
          "surface": [
           {
            "colorbar": {
             "outlinewidth": 0,
             "ticks": ""
            },
            "colorscale": [
             [
              0,
              "#0d0887"
             ],
             [
              0.1111111111111111,
              "#46039f"
             ],
             [
              0.2222222222222222,
              "#7201a8"
             ],
             [
              0.3333333333333333,
              "#9c179e"
             ],
             [
              0.4444444444444444,
              "#bd3786"
             ],
             [
              0.5555555555555556,
              "#d8576b"
             ],
             [
              0.6666666666666666,
              "#ed7953"
             ],
             [
              0.7777777777777778,
              "#fb9f3a"
             ],
             [
              0.8888888888888888,
              "#fdca26"
             ],
             [
              1,
              "#f0f921"
             ]
            ],
            "type": "surface"
           }
          ],
          "table": [
           {
            "cells": {
             "fill": {
              "color": "#EBF0F8"
             },
             "line": {
              "color": "white"
             }
            },
            "header": {
             "fill": {
              "color": "#C8D4E3"
             },
             "line": {
              "color": "white"
             }
            },
            "type": "table"
           }
          ]
         },
         "layout": {
          "annotationdefaults": {
           "arrowcolor": "#2a3f5f",
           "arrowhead": 0,
           "arrowwidth": 1
          },
          "autotypenumbers": "strict",
          "coloraxis": {
           "colorbar": {
            "outlinewidth": 0,
            "ticks": ""
           }
          },
          "colorscale": {
           "diverging": [
            [
             0,
             "#8e0152"
            ],
            [
             0.1,
             "#c51b7d"
            ],
            [
             0.2,
             "#de77ae"
            ],
            [
             0.3,
             "#f1b6da"
            ],
            [
             0.4,
             "#fde0ef"
            ],
            [
             0.5,
             "#f7f7f7"
            ],
            [
             0.6,
             "#e6f5d0"
            ],
            [
             0.7,
             "#b8e186"
            ],
            [
             0.8,
             "#7fbc41"
            ],
            [
             0.9,
             "#4d9221"
            ],
            [
             1,
             "#276419"
            ]
           ],
           "sequential": [
            [
             0,
             "#0d0887"
            ],
            [
             0.1111111111111111,
             "#46039f"
            ],
            [
             0.2222222222222222,
             "#7201a8"
            ],
            [
             0.3333333333333333,
             "#9c179e"
            ],
            [
             0.4444444444444444,
             "#bd3786"
            ],
            [
             0.5555555555555556,
             "#d8576b"
            ],
            [
             0.6666666666666666,
             "#ed7953"
            ],
            [
             0.7777777777777778,
             "#fb9f3a"
            ],
            [
             0.8888888888888888,
             "#fdca26"
            ],
            [
             1,
             "#f0f921"
            ]
           ],
           "sequentialminus": [
            [
             0,
             "#0d0887"
            ],
            [
             0.1111111111111111,
             "#46039f"
            ],
            [
             0.2222222222222222,
             "#7201a8"
            ],
            [
             0.3333333333333333,
             "#9c179e"
            ],
            [
             0.4444444444444444,
             "#bd3786"
            ],
            [
             0.5555555555555556,
             "#d8576b"
            ],
            [
             0.6666666666666666,
             "#ed7953"
            ],
            [
             0.7777777777777778,
             "#fb9f3a"
            ],
            [
             0.8888888888888888,
             "#fdca26"
            ],
            [
             1,
             "#f0f921"
            ]
           ]
          },
          "colorway": [
           "#636efa",
           "#EF553B",
           "#00cc96",
           "#ab63fa",
           "#FFA15A",
           "#19d3f3",
           "#FF6692",
           "#B6E880",
           "#FF97FF",
           "#FECB52"
          ],
          "font": {
           "color": "#2a3f5f"
          },
          "geo": {
           "bgcolor": "white",
           "lakecolor": "white",
           "landcolor": "#E5ECF6",
           "showlakes": true,
           "showland": true,
           "subunitcolor": "white"
          },
          "hoverlabel": {
           "align": "left"
          },
          "hovermode": "closest",
          "mapbox": {
           "style": "light"
          },
          "paper_bgcolor": "white",
          "plot_bgcolor": "#E5ECF6",
          "polar": {
           "angularaxis": {
            "gridcolor": "white",
            "linecolor": "white",
            "ticks": ""
           },
           "bgcolor": "#E5ECF6",
           "radialaxis": {
            "gridcolor": "white",
            "linecolor": "white",
            "ticks": ""
           }
          },
          "scene": {
           "xaxis": {
            "backgroundcolor": "#E5ECF6",
            "gridcolor": "white",
            "gridwidth": 2,
            "linecolor": "white",
            "showbackground": true,
            "ticks": "",
            "zerolinecolor": "white"
           },
           "yaxis": {
            "backgroundcolor": "#E5ECF6",
            "gridcolor": "white",
            "gridwidth": 2,
            "linecolor": "white",
            "showbackground": true,
            "ticks": "",
            "zerolinecolor": "white"
           },
           "zaxis": {
            "backgroundcolor": "#E5ECF6",
            "gridcolor": "white",
            "gridwidth": 2,
            "linecolor": "white",
            "showbackground": true,
            "ticks": "",
            "zerolinecolor": "white"
           }
          },
          "shapedefaults": {
           "line": {
            "color": "#2a3f5f"
           }
          },
          "ternary": {
           "aaxis": {
            "gridcolor": "white",
            "linecolor": "white",
            "ticks": ""
           },
           "baxis": {
            "gridcolor": "white",
            "linecolor": "white",
            "ticks": ""
           },
           "bgcolor": "#E5ECF6",
           "caxis": {
            "gridcolor": "white",
            "linecolor": "white",
            "ticks": ""
           }
          },
          "title": {
           "x": 0.05
          },
          "xaxis": {
           "automargin": true,
           "gridcolor": "white",
           "linecolor": "white",
           "ticks": "",
           "title": {
            "standoff": 15
           },
           "zerolinecolor": "white",
           "zerolinewidth": 2
          },
          "yaxis": {
           "automargin": true,
           "gridcolor": "white",
           "linecolor": "white",
           "ticks": "",
           "title": {
            "standoff": 15
           },
           "zerolinecolor": "white",
           "zerolinewidth": 2
          }
         }
        },
        "title": {
         "text": "is_rolu vs. isten_ayrilma"
        },
        "xaxis": {
         "anchor": "y",
         "domain": [
          0,
          1
         ],
         "title": {
          "text": "is_rolu"
         }
        },
        "yaxis": {
         "anchor": "x",
         "domain": [
          0,
          1
         ],
         "title": {
          "text": "isten_ayrilma"
         }
        }
       }
      }
     },
     "metadata": {},
     "output_type": "display_data"
    },
    {
     "data": {
      "application/vnd.plotly.v1+json": {
       "config": {
        "plotlyServerURL": "https://plot.ly"
       },
       "data": [
        {
         "alignmentgroup": "True",
         "hovertemplate": "medeni_durum=%{x}<br>isten_ayrilma=%{y}<extra></extra>",
         "legendgroup": "",
         "marker": {
          "color": "#636efa",
          "pattern": {
           "shape": ""
          }
         },
         "name": "",
         "offsetgroup": "",
         "orientation": "v",
         "showlegend": false,
         "textposition": "auto",
         "type": "bar",
         "x": [
          "Bekar",
          "Bosanmis",
          "Evli"
         ],
         "xaxis": "x",
         "y": [
          0.2553191489361702,
          0.10091743119266056,
          0.12481426448736999
         ],
         "yaxis": "y"
        }
       ],
       "layout": {
        "barmode": "relative",
        "legend": {
         "tracegroupgap": 0
        },
        "template": {
         "data": {
          "bar": [
           {
            "error_x": {
             "color": "#2a3f5f"
            },
            "error_y": {
             "color": "#2a3f5f"
            },
            "marker": {
             "line": {
              "color": "#E5ECF6",
              "width": 0.5
             },
             "pattern": {
              "fillmode": "overlay",
              "size": 10,
              "solidity": 0.2
             }
            },
            "type": "bar"
           }
          ],
          "barpolar": [
           {
            "marker": {
             "line": {
              "color": "#E5ECF6",
              "width": 0.5
             },
             "pattern": {
              "fillmode": "overlay",
              "size": 10,
              "solidity": 0.2
             }
            },
            "type": "barpolar"
           }
          ],
          "carpet": [
           {
            "aaxis": {
             "endlinecolor": "#2a3f5f",
             "gridcolor": "white",
             "linecolor": "white",
             "minorgridcolor": "white",
             "startlinecolor": "#2a3f5f"
            },
            "baxis": {
             "endlinecolor": "#2a3f5f",
             "gridcolor": "white",
             "linecolor": "white",
             "minorgridcolor": "white",
             "startlinecolor": "#2a3f5f"
            },
            "type": "carpet"
           }
          ],
          "choropleth": [
           {
            "colorbar": {
             "outlinewidth": 0,
             "ticks": ""
            },
            "type": "choropleth"
           }
          ],
          "contour": [
           {
            "colorbar": {
             "outlinewidth": 0,
             "ticks": ""
            },
            "colorscale": [
             [
              0,
              "#0d0887"
             ],
             [
              0.1111111111111111,
              "#46039f"
             ],
             [
              0.2222222222222222,
              "#7201a8"
             ],
             [
              0.3333333333333333,
              "#9c179e"
             ],
             [
              0.4444444444444444,
              "#bd3786"
             ],
             [
              0.5555555555555556,
              "#d8576b"
             ],
             [
              0.6666666666666666,
              "#ed7953"
             ],
             [
              0.7777777777777778,
              "#fb9f3a"
             ],
             [
              0.8888888888888888,
              "#fdca26"
             ],
             [
              1,
              "#f0f921"
             ]
            ],
            "type": "contour"
           }
          ],
          "contourcarpet": [
           {
            "colorbar": {
             "outlinewidth": 0,
             "ticks": ""
            },
            "type": "contourcarpet"
           }
          ],
          "heatmap": [
           {
            "colorbar": {
             "outlinewidth": 0,
             "ticks": ""
            },
            "colorscale": [
             [
              0,
              "#0d0887"
             ],
             [
              0.1111111111111111,
              "#46039f"
             ],
             [
              0.2222222222222222,
              "#7201a8"
             ],
             [
              0.3333333333333333,
              "#9c179e"
             ],
             [
              0.4444444444444444,
              "#bd3786"
             ],
             [
              0.5555555555555556,
              "#d8576b"
             ],
             [
              0.6666666666666666,
              "#ed7953"
             ],
             [
              0.7777777777777778,
              "#fb9f3a"
             ],
             [
              0.8888888888888888,
              "#fdca26"
             ],
             [
              1,
              "#f0f921"
             ]
            ],
            "type": "heatmap"
           }
          ],
          "heatmapgl": [
           {
            "colorbar": {
             "outlinewidth": 0,
             "ticks": ""
            },
            "colorscale": [
             [
              0,
              "#0d0887"
             ],
             [
              0.1111111111111111,
              "#46039f"
             ],
             [
              0.2222222222222222,
              "#7201a8"
             ],
             [
              0.3333333333333333,
              "#9c179e"
             ],
             [
              0.4444444444444444,
              "#bd3786"
             ],
             [
              0.5555555555555556,
              "#d8576b"
             ],
             [
              0.6666666666666666,
              "#ed7953"
             ],
             [
              0.7777777777777778,
              "#fb9f3a"
             ],
             [
              0.8888888888888888,
              "#fdca26"
             ],
             [
              1,
              "#f0f921"
             ]
            ],
            "type": "heatmapgl"
           }
          ],
          "histogram": [
           {
            "marker": {
             "pattern": {
              "fillmode": "overlay",
              "size": 10,
              "solidity": 0.2
             }
            },
            "type": "histogram"
           }
          ],
          "histogram2d": [
           {
            "colorbar": {
             "outlinewidth": 0,
             "ticks": ""
            },
            "colorscale": [
             [
              0,
              "#0d0887"
             ],
             [
              0.1111111111111111,
              "#46039f"
             ],
             [
              0.2222222222222222,
              "#7201a8"
             ],
             [
              0.3333333333333333,
              "#9c179e"
             ],
             [
              0.4444444444444444,
              "#bd3786"
             ],
             [
              0.5555555555555556,
              "#d8576b"
             ],
             [
              0.6666666666666666,
              "#ed7953"
             ],
             [
              0.7777777777777778,
              "#fb9f3a"
             ],
             [
              0.8888888888888888,
              "#fdca26"
             ],
             [
              1,
              "#f0f921"
             ]
            ],
            "type": "histogram2d"
           }
          ],
          "histogram2dcontour": [
           {
            "colorbar": {
             "outlinewidth": 0,
             "ticks": ""
            },
            "colorscale": [
             [
              0,
              "#0d0887"
             ],
             [
              0.1111111111111111,
              "#46039f"
             ],
             [
              0.2222222222222222,
              "#7201a8"
             ],
             [
              0.3333333333333333,
              "#9c179e"
             ],
             [
              0.4444444444444444,
              "#bd3786"
             ],
             [
              0.5555555555555556,
              "#d8576b"
             ],
             [
              0.6666666666666666,
              "#ed7953"
             ],
             [
              0.7777777777777778,
              "#fb9f3a"
             ],
             [
              0.8888888888888888,
              "#fdca26"
             ],
             [
              1,
              "#f0f921"
             ]
            ],
            "type": "histogram2dcontour"
           }
          ],
          "mesh3d": [
           {
            "colorbar": {
             "outlinewidth": 0,
             "ticks": ""
            },
            "type": "mesh3d"
           }
          ],
          "parcoords": [
           {
            "line": {
             "colorbar": {
              "outlinewidth": 0,
              "ticks": ""
             }
            },
            "type": "parcoords"
           }
          ],
          "pie": [
           {
            "automargin": true,
            "type": "pie"
           }
          ],
          "scatter": [
           {
            "fillpattern": {
             "fillmode": "overlay",
             "size": 10,
             "solidity": 0.2
            },
            "type": "scatter"
           }
          ],
          "scatter3d": [
           {
            "line": {
             "colorbar": {
              "outlinewidth": 0,
              "ticks": ""
             }
            },
            "marker": {
             "colorbar": {
              "outlinewidth": 0,
              "ticks": ""
             }
            },
            "type": "scatter3d"
           }
          ],
          "scattercarpet": [
           {
            "marker": {
             "colorbar": {
              "outlinewidth": 0,
              "ticks": ""
             }
            },
            "type": "scattercarpet"
           }
          ],
          "scattergeo": [
           {
            "marker": {
             "colorbar": {
              "outlinewidth": 0,
              "ticks": ""
             }
            },
            "type": "scattergeo"
           }
          ],
          "scattergl": [
           {
            "marker": {
             "colorbar": {
              "outlinewidth": 0,
              "ticks": ""
             }
            },
            "type": "scattergl"
           }
          ],
          "scattermapbox": [
           {
            "marker": {
             "colorbar": {
              "outlinewidth": 0,
              "ticks": ""
             }
            },
            "type": "scattermapbox"
           }
          ],
          "scatterpolar": [
           {
            "marker": {
             "colorbar": {
              "outlinewidth": 0,
              "ticks": ""
             }
            },
            "type": "scatterpolar"
           }
          ],
          "scatterpolargl": [
           {
            "marker": {
             "colorbar": {
              "outlinewidth": 0,
              "ticks": ""
             }
            },
            "type": "scatterpolargl"
           }
          ],
          "scatterternary": [
           {
            "marker": {
             "colorbar": {
              "outlinewidth": 0,
              "ticks": ""
             }
            },
            "type": "scatterternary"
           }
          ],
          "surface": [
           {
            "colorbar": {
             "outlinewidth": 0,
             "ticks": ""
            },
            "colorscale": [
             [
              0,
              "#0d0887"
             ],
             [
              0.1111111111111111,
              "#46039f"
             ],
             [
              0.2222222222222222,
              "#7201a8"
             ],
             [
              0.3333333333333333,
              "#9c179e"
             ],
             [
              0.4444444444444444,
              "#bd3786"
             ],
             [
              0.5555555555555556,
              "#d8576b"
             ],
             [
              0.6666666666666666,
              "#ed7953"
             ],
             [
              0.7777777777777778,
              "#fb9f3a"
             ],
             [
              0.8888888888888888,
              "#fdca26"
             ],
             [
              1,
              "#f0f921"
             ]
            ],
            "type": "surface"
           }
          ],
          "table": [
           {
            "cells": {
             "fill": {
              "color": "#EBF0F8"
             },
             "line": {
              "color": "white"
             }
            },
            "header": {
             "fill": {
              "color": "#C8D4E3"
             },
             "line": {
              "color": "white"
             }
            },
            "type": "table"
           }
          ]
         },
         "layout": {
          "annotationdefaults": {
           "arrowcolor": "#2a3f5f",
           "arrowhead": 0,
           "arrowwidth": 1
          },
          "autotypenumbers": "strict",
          "coloraxis": {
           "colorbar": {
            "outlinewidth": 0,
            "ticks": ""
           }
          },
          "colorscale": {
           "diverging": [
            [
             0,
             "#8e0152"
            ],
            [
             0.1,
             "#c51b7d"
            ],
            [
             0.2,
             "#de77ae"
            ],
            [
             0.3,
             "#f1b6da"
            ],
            [
             0.4,
             "#fde0ef"
            ],
            [
             0.5,
             "#f7f7f7"
            ],
            [
             0.6,
             "#e6f5d0"
            ],
            [
             0.7,
             "#b8e186"
            ],
            [
             0.8,
             "#7fbc41"
            ],
            [
             0.9,
             "#4d9221"
            ],
            [
             1,
             "#276419"
            ]
           ],
           "sequential": [
            [
             0,
             "#0d0887"
            ],
            [
             0.1111111111111111,
             "#46039f"
            ],
            [
             0.2222222222222222,
             "#7201a8"
            ],
            [
             0.3333333333333333,
             "#9c179e"
            ],
            [
             0.4444444444444444,
             "#bd3786"
            ],
            [
             0.5555555555555556,
             "#d8576b"
            ],
            [
             0.6666666666666666,
             "#ed7953"
            ],
            [
             0.7777777777777778,
             "#fb9f3a"
            ],
            [
             0.8888888888888888,
             "#fdca26"
            ],
            [
             1,
             "#f0f921"
            ]
           ],
           "sequentialminus": [
            [
             0,
             "#0d0887"
            ],
            [
             0.1111111111111111,
             "#46039f"
            ],
            [
             0.2222222222222222,
             "#7201a8"
            ],
            [
             0.3333333333333333,
             "#9c179e"
            ],
            [
             0.4444444444444444,
             "#bd3786"
            ],
            [
             0.5555555555555556,
             "#d8576b"
            ],
            [
             0.6666666666666666,
             "#ed7953"
            ],
            [
             0.7777777777777778,
             "#fb9f3a"
            ],
            [
             0.8888888888888888,
             "#fdca26"
            ],
            [
             1,
             "#f0f921"
            ]
           ]
          },
          "colorway": [
           "#636efa",
           "#EF553B",
           "#00cc96",
           "#ab63fa",
           "#FFA15A",
           "#19d3f3",
           "#FF6692",
           "#B6E880",
           "#FF97FF",
           "#FECB52"
          ],
          "font": {
           "color": "#2a3f5f"
          },
          "geo": {
           "bgcolor": "white",
           "lakecolor": "white",
           "landcolor": "#E5ECF6",
           "showlakes": true,
           "showland": true,
           "subunitcolor": "white"
          },
          "hoverlabel": {
           "align": "left"
          },
          "hovermode": "closest",
          "mapbox": {
           "style": "light"
          },
          "paper_bgcolor": "white",
          "plot_bgcolor": "#E5ECF6",
          "polar": {
           "angularaxis": {
            "gridcolor": "white",
            "linecolor": "white",
            "ticks": ""
           },
           "bgcolor": "#E5ECF6",
           "radialaxis": {
            "gridcolor": "white",
            "linecolor": "white",
            "ticks": ""
           }
          },
          "scene": {
           "xaxis": {
            "backgroundcolor": "#E5ECF6",
            "gridcolor": "white",
            "gridwidth": 2,
            "linecolor": "white",
            "showbackground": true,
            "ticks": "",
            "zerolinecolor": "white"
           },
           "yaxis": {
            "backgroundcolor": "#E5ECF6",
            "gridcolor": "white",
            "gridwidth": 2,
            "linecolor": "white",
            "showbackground": true,
            "ticks": "",
            "zerolinecolor": "white"
           },
           "zaxis": {
            "backgroundcolor": "#E5ECF6",
            "gridcolor": "white",
            "gridwidth": 2,
            "linecolor": "white",
            "showbackground": true,
            "ticks": "",
            "zerolinecolor": "white"
           }
          },
          "shapedefaults": {
           "line": {
            "color": "#2a3f5f"
           }
          },
          "ternary": {
           "aaxis": {
            "gridcolor": "white",
            "linecolor": "white",
            "ticks": ""
           },
           "baxis": {
            "gridcolor": "white",
            "linecolor": "white",
            "ticks": ""
           },
           "bgcolor": "#E5ECF6",
           "caxis": {
            "gridcolor": "white",
            "linecolor": "white",
            "ticks": ""
           }
          },
          "title": {
           "x": 0.05
          },
          "xaxis": {
           "automargin": true,
           "gridcolor": "white",
           "linecolor": "white",
           "ticks": "",
           "title": {
            "standoff": 15
           },
           "zerolinecolor": "white",
           "zerolinewidth": 2
          },
          "yaxis": {
           "automargin": true,
           "gridcolor": "white",
           "linecolor": "white",
           "ticks": "",
           "title": {
            "standoff": 15
           },
           "zerolinecolor": "white",
           "zerolinewidth": 2
          }
         }
        },
        "title": {
         "text": "medeni_durum vs. isten_ayrilma"
        },
        "xaxis": {
         "anchor": "y",
         "domain": [
          0,
          1
         ],
         "title": {
          "text": "medeni_durum"
         }
        },
        "yaxis": {
         "anchor": "x",
         "domain": [
          0,
          1
         ],
         "title": {
          "text": "isten_ayrilma"
         }
        }
       }
      }
     },
     "metadata": {},
     "output_type": "display_data"
    },
    {
     "data": {
      "application/vnd.plotly.v1+json": {
       "config": {
        "plotlyServerURL": "https://plot.ly"
       },
       "data": [
        {
         "alignmentgroup": "True",
         "hovertemplate": "fazla_mesai=%{x}<br>isten_ayrilma=%{y}<extra></extra>",
         "legendgroup": "",
         "marker": {
          "color": "#636efa",
          "pattern": {
           "shape": ""
          }
         },
         "name": "",
         "offsetgroup": "",
         "orientation": "v",
         "showlegend": false,
         "textposition": "auto",
         "type": "bar",
         "x": [
          "Evet",
          "Hayir"
         ],
         "xaxis": "x",
         "y": [
          0.30528846153846156,
          0.10436432637571158
         ],
         "yaxis": "y"
        }
       ],
       "layout": {
        "barmode": "relative",
        "legend": {
         "tracegroupgap": 0
        },
        "template": {
         "data": {
          "bar": [
           {
            "error_x": {
             "color": "#2a3f5f"
            },
            "error_y": {
             "color": "#2a3f5f"
            },
            "marker": {
             "line": {
              "color": "#E5ECF6",
              "width": 0.5
             },
             "pattern": {
              "fillmode": "overlay",
              "size": 10,
              "solidity": 0.2
             }
            },
            "type": "bar"
           }
          ],
          "barpolar": [
           {
            "marker": {
             "line": {
              "color": "#E5ECF6",
              "width": 0.5
             },
             "pattern": {
              "fillmode": "overlay",
              "size": 10,
              "solidity": 0.2
             }
            },
            "type": "barpolar"
           }
          ],
          "carpet": [
           {
            "aaxis": {
             "endlinecolor": "#2a3f5f",
             "gridcolor": "white",
             "linecolor": "white",
             "minorgridcolor": "white",
             "startlinecolor": "#2a3f5f"
            },
            "baxis": {
             "endlinecolor": "#2a3f5f",
             "gridcolor": "white",
             "linecolor": "white",
             "minorgridcolor": "white",
             "startlinecolor": "#2a3f5f"
            },
            "type": "carpet"
           }
          ],
          "choropleth": [
           {
            "colorbar": {
             "outlinewidth": 0,
             "ticks": ""
            },
            "type": "choropleth"
           }
          ],
          "contour": [
           {
            "colorbar": {
             "outlinewidth": 0,
             "ticks": ""
            },
            "colorscale": [
             [
              0,
              "#0d0887"
             ],
             [
              0.1111111111111111,
              "#46039f"
             ],
             [
              0.2222222222222222,
              "#7201a8"
             ],
             [
              0.3333333333333333,
              "#9c179e"
             ],
             [
              0.4444444444444444,
              "#bd3786"
             ],
             [
              0.5555555555555556,
              "#d8576b"
             ],
             [
              0.6666666666666666,
              "#ed7953"
             ],
             [
              0.7777777777777778,
              "#fb9f3a"
             ],
             [
              0.8888888888888888,
              "#fdca26"
             ],
             [
              1,
              "#f0f921"
             ]
            ],
            "type": "contour"
           }
          ],
          "contourcarpet": [
           {
            "colorbar": {
             "outlinewidth": 0,
             "ticks": ""
            },
            "type": "contourcarpet"
           }
          ],
          "heatmap": [
           {
            "colorbar": {
             "outlinewidth": 0,
             "ticks": ""
            },
            "colorscale": [
             [
              0,
              "#0d0887"
             ],
             [
              0.1111111111111111,
              "#46039f"
             ],
             [
              0.2222222222222222,
              "#7201a8"
             ],
             [
              0.3333333333333333,
              "#9c179e"
             ],
             [
              0.4444444444444444,
              "#bd3786"
             ],
             [
              0.5555555555555556,
              "#d8576b"
             ],
             [
              0.6666666666666666,
              "#ed7953"
             ],
             [
              0.7777777777777778,
              "#fb9f3a"
             ],
             [
              0.8888888888888888,
              "#fdca26"
             ],
             [
              1,
              "#f0f921"
             ]
            ],
            "type": "heatmap"
           }
          ],
          "heatmapgl": [
           {
            "colorbar": {
             "outlinewidth": 0,
             "ticks": ""
            },
            "colorscale": [
             [
              0,
              "#0d0887"
             ],
             [
              0.1111111111111111,
              "#46039f"
             ],
             [
              0.2222222222222222,
              "#7201a8"
             ],
             [
              0.3333333333333333,
              "#9c179e"
             ],
             [
              0.4444444444444444,
              "#bd3786"
             ],
             [
              0.5555555555555556,
              "#d8576b"
             ],
             [
              0.6666666666666666,
              "#ed7953"
             ],
             [
              0.7777777777777778,
              "#fb9f3a"
             ],
             [
              0.8888888888888888,
              "#fdca26"
             ],
             [
              1,
              "#f0f921"
             ]
            ],
            "type": "heatmapgl"
           }
          ],
          "histogram": [
           {
            "marker": {
             "pattern": {
              "fillmode": "overlay",
              "size": 10,
              "solidity": 0.2
             }
            },
            "type": "histogram"
           }
          ],
          "histogram2d": [
           {
            "colorbar": {
             "outlinewidth": 0,
             "ticks": ""
            },
            "colorscale": [
             [
              0,
              "#0d0887"
             ],
             [
              0.1111111111111111,
              "#46039f"
             ],
             [
              0.2222222222222222,
              "#7201a8"
             ],
             [
              0.3333333333333333,
              "#9c179e"
             ],
             [
              0.4444444444444444,
              "#bd3786"
             ],
             [
              0.5555555555555556,
              "#d8576b"
             ],
             [
              0.6666666666666666,
              "#ed7953"
             ],
             [
              0.7777777777777778,
              "#fb9f3a"
             ],
             [
              0.8888888888888888,
              "#fdca26"
             ],
             [
              1,
              "#f0f921"
             ]
            ],
            "type": "histogram2d"
           }
          ],
          "histogram2dcontour": [
           {
            "colorbar": {
             "outlinewidth": 0,
             "ticks": ""
            },
            "colorscale": [
             [
              0,
              "#0d0887"
             ],
             [
              0.1111111111111111,
              "#46039f"
             ],
             [
              0.2222222222222222,
              "#7201a8"
             ],
             [
              0.3333333333333333,
              "#9c179e"
             ],
             [
              0.4444444444444444,
              "#bd3786"
             ],
             [
              0.5555555555555556,
              "#d8576b"
             ],
             [
              0.6666666666666666,
              "#ed7953"
             ],
             [
              0.7777777777777778,
              "#fb9f3a"
             ],
             [
              0.8888888888888888,
              "#fdca26"
             ],
             [
              1,
              "#f0f921"
             ]
            ],
            "type": "histogram2dcontour"
           }
          ],
          "mesh3d": [
           {
            "colorbar": {
             "outlinewidth": 0,
             "ticks": ""
            },
            "type": "mesh3d"
           }
          ],
          "parcoords": [
           {
            "line": {
             "colorbar": {
              "outlinewidth": 0,
              "ticks": ""
             }
            },
            "type": "parcoords"
           }
          ],
          "pie": [
           {
            "automargin": true,
            "type": "pie"
           }
          ],
          "scatter": [
           {
            "fillpattern": {
             "fillmode": "overlay",
             "size": 10,
             "solidity": 0.2
            },
            "type": "scatter"
           }
          ],
          "scatter3d": [
           {
            "line": {
             "colorbar": {
              "outlinewidth": 0,
              "ticks": ""
             }
            },
            "marker": {
             "colorbar": {
              "outlinewidth": 0,
              "ticks": ""
             }
            },
            "type": "scatter3d"
           }
          ],
          "scattercarpet": [
           {
            "marker": {
             "colorbar": {
              "outlinewidth": 0,
              "ticks": ""
             }
            },
            "type": "scattercarpet"
           }
          ],
          "scattergeo": [
           {
            "marker": {
             "colorbar": {
              "outlinewidth": 0,
              "ticks": ""
             }
            },
            "type": "scattergeo"
           }
          ],
          "scattergl": [
           {
            "marker": {
             "colorbar": {
              "outlinewidth": 0,
              "ticks": ""
             }
            },
            "type": "scattergl"
           }
          ],
          "scattermapbox": [
           {
            "marker": {
             "colorbar": {
              "outlinewidth": 0,
              "ticks": ""
             }
            },
            "type": "scattermapbox"
           }
          ],
          "scatterpolar": [
           {
            "marker": {
             "colorbar": {
              "outlinewidth": 0,
              "ticks": ""
             }
            },
            "type": "scatterpolar"
           }
          ],
          "scatterpolargl": [
           {
            "marker": {
             "colorbar": {
              "outlinewidth": 0,
              "ticks": ""
             }
            },
            "type": "scatterpolargl"
           }
          ],
          "scatterternary": [
           {
            "marker": {
             "colorbar": {
              "outlinewidth": 0,
              "ticks": ""
             }
            },
            "type": "scatterternary"
           }
          ],
          "surface": [
           {
            "colorbar": {
             "outlinewidth": 0,
             "ticks": ""
            },
            "colorscale": [
             [
              0,
              "#0d0887"
             ],
             [
              0.1111111111111111,
              "#46039f"
             ],
             [
              0.2222222222222222,
              "#7201a8"
             ],
             [
              0.3333333333333333,
              "#9c179e"
             ],
             [
              0.4444444444444444,
              "#bd3786"
             ],
             [
              0.5555555555555556,
              "#d8576b"
             ],
             [
              0.6666666666666666,
              "#ed7953"
             ],
             [
              0.7777777777777778,
              "#fb9f3a"
             ],
             [
              0.8888888888888888,
              "#fdca26"
             ],
             [
              1,
              "#f0f921"
             ]
            ],
            "type": "surface"
           }
          ],
          "table": [
           {
            "cells": {
             "fill": {
              "color": "#EBF0F8"
             },
             "line": {
              "color": "white"
             }
            },
            "header": {
             "fill": {
              "color": "#C8D4E3"
             },
             "line": {
              "color": "white"
             }
            },
            "type": "table"
           }
          ]
         },
         "layout": {
          "annotationdefaults": {
           "arrowcolor": "#2a3f5f",
           "arrowhead": 0,
           "arrowwidth": 1
          },
          "autotypenumbers": "strict",
          "coloraxis": {
           "colorbar": {
            "outlinewidth": 0,
            "ticks": ""
           }
          },
          "colorscale": {
           "diverging": [
            [
             0,
             "#8e0152"
            ],
            [
             0.1,
             "#c51b7d"
            ],
            [
             0.2,
             "#de77ae"
            ],
            [
             0.3,
             "#f1b6da"
            ],
            [
             0.4,
             "#fde0ef"
            ],
            [
             0.5,
             "#f7f7f7"
            ],
            [
             0.6,
             "#e6f5d0"
            ],
            [
             0.7,
             "#b8e186"
            ],
            [
             0.8,
             "#7fbc41"
            ],
            [
             0.9,
             "#4d9221"
            ],
            [
             1,
             "#276419"
            ]
           ],
           "sequential": [
            [
             0,
             "#0d0887"
            ],
            [
             0.1111111111111111,
             "#46039f"
            ],
            [
             0.2222222222222222,
             "#7201a8"
            ],
            [
             0.3333333333333333,
             "#9c179e"
            ],
            [
             0.4444444444444444,
             "#bd3786"
            ],
            [
             0.5555555555555556,
             "#d8576b"
            ],
            [
             0.6666666666666666,
             "#ed7953"
            ],
            [
             0.7777777777777778,
             "#fb9f3a"
            ],
            [
             0.8888888888888888,
             "#fdca26"
            ],
            [
             1,
             "#f0f921"
            ]
           ],
           "sequentialminus": [
            [
             0,
             "#0d0887"
            ],
            [
             0.1111111111111111,
             "#46039f"
            ],
            [
             0.2222222222222222,
             "#7201a8"
            ],
            [
             0.3333333333333333,
             "#9c179e"
            ],
            [
             0.4444444444444444,
             "#bd3786"
            ],
            [
             0.5555555555555556,
             "#d8576b"
            ],
            [
             0.6666666666666666,
             "#ed7953"
            ],
            [
             0.7777777777777778,
             "#fb9f3a"
            ],
            [
             0.8888888888888888,
             "#fdca26"
            ],
            [
             1,
             "#f0f921"
            ]
           ]
          },
          "colorway": [
           "#636efa",
           "#EF553B",
           "#00cc96",
           "#ab63fa",
           "#FFA15A",
           "#19d3f3",
           "#FF6692",
           "#B6E880",
           "#FF97FF",
           "#FECB52"
          ],
          "font": {
           "color": "#2a3f5f"
          },
          "geo": {
           "bgcolor": "white",
           "lakecolor": "white",
           "landcolor": "#E5ECF6",
           "showlakes": true,
           "showland": true,
           "subunitcolor": "white"
          },
          "hoverlabel": {
           "align": "left"
          },
          "hovermode": "closest",
          "mapbox": {
           "style": "light"
          },
          "paper_bgcolor": "white",
          "plot_bgcolor": "#E5ECF6",
          "polar": {
           "angularaxis": {
            "gridcolor": "white",
            "linecolor": "white",
            "ticks": ""
           },
           "bgcolor": "#E5ECF6",
           "radialaxis": {
            "gridcolor": "white",
            "linecolor": "white",
            "ticks": ""
           }
          },
          "scene": {
           "xaxis": {
            "backgroundcolor": "#E5ECF6",
            "gridcolor": "white",
            "gridwidth": 2,
            "linecolor": "white",
            "showbackground": true,
            "ticks": "",
            "zerolinecolor": "white"
           },
           "yaxis": {
            "backgroundcolor": "#E5ECF6",
            "gridcolor": "white",
            "gridwidth": 2,
            "linecolor": "white",
            "showbackground": true,
            "ticks": "",
            "zerolinecolor": "white"
           },
           "zaxis": {
            "backgroundcolor": "#E5ECF6",
            "gridcolor": "white",
            "gridwidth": 2,
            "linecolor": "white",
            "showbackground": true,
            "ticks": "",
            "zerolinecolor": "white"
           }
          },
          "shapedefaults": {
           "line": {
            "color": "#2a3f5f"
           }
          },
          "ternary": {
           "aaxis": {
            "gridcolor": "white",
            "linecolor": "white",
            "ticks": ""
           },
           "baxis": {
            "gridcolor": "white",
            "linecolor": "white",
            "ticks": ""
           },
           "bgcolor": "#E5ECF6",
           "caxis": {
            "gridcolor": "white",
            "linecolor": "white",
            "ticks": ""
           }
          },
          "title": {
           "x": 0.05
          },
          "xaxis": {
           "automargin": true,
           "gridcolor": "white",
           "linecolor": "white",
           "ticks": "",
           "title": {
            "standoff": 15
           },
           "zerolinecolor": "white",
           "zerolinewidth": 2
          },
          "yaxis": {
           "automargin": true,
           "gridcolor": "white",
           "linecolor": "white",
           "ticks": "",
           "title": {
            "standoff": 15
           },
           "zerolinecolor": "white",
           "zerolinewidth": 2
          }
         }
        },
        "title": {
         "text": "fazla_mesai vs. isten_ayrilma"
        },
        "xaxis": {
         "anchor": "y",
         "domain": [
          0,
          1
         ],
         "title": {
          "text": "fazla_mesai"
         }
        },
        "yaxis": {
         "anchor": "x",
         "domain": [
          0,
          1
         ],
         "title": {
          "text": "isten_ayrilma"
         }
        }
       }
      }
     },
     "metadata": {},
     "output_type": "display_data"
    }
   ],
   "source": [
    "for col in cat_cols:\n",
    "    target_summary_with_cat_plotly(df,\"isten_ayrilma\", col)"
   ]
  },
  {
   "cell_type": "markdown",
   "id": "4267d729",
   "metadata": {},
   "source": [
    "# **Hedef Değişken Analizi (Sayısal)**"
   ]
  },
  {
   "cell_type": "code",
   "execution_count": 12,
   "id": "549b8f38",
   "metadata": {},
   "outputs": [
    {
     "data": {
      "application/vnd.plotly.v1+json": {
       "config": {
        "plotlyServerURL": "https://plot.ly"
       },
       "data": [
        {
         "alignmentgroup": "True",
         "hovertemplate": "isten_ayrilma=%{x}<br>Mean of yas=%{y}<extra></extra>",
         "legendgroup": "",
         "marker": {
          "color": "#636efa",
          "pattern": {
           "shape": ""
          }
         },
         "name": "",
         "offsetgroup": "",
         "orientation": "v",
         "showlegend": false,
         "textposition": "auto",
         "type": "bar",
         "x": [
          0,
          1
         ],
         "xaxis": "x",
         "y": [
          37.561232765612324,
          33.607594936708864
         ],
         "yaxis": "y"
        }
       ],
       "layout": {
        "barmode": "relative",
        "legend": {
         "tracegroupgap": 0
        },
        "template": {
         "data": {
          "bar": [
           {
            "error_x": {
             "color": "#2a3f5f"
            },
            "error_y": {
             "color": "#2a3f5f"
            },
            "marker": {
             "line": {
              "color": "#E5ECF6",
              "width": 0.5
             },
             "pattern": {
              "fillmode": "overlay",
              "size": 10,
              "solidity": 0.2
             }
            },
            "type": "bar"
           }
          ],
          "barpolar": [
           {
            "marker": {
             "line": {
              "color": "#E5ECF6",
              "width": 0.5
             },
             "pattern": {
              "fillmode": "overlay",
              "size": 10,
              "solidity": 0.2
             }
            },
            "type": "barpolar"
           }
          ],
          "carpet": [
           {
            "aaxis": {
             "endlinecolor": "#2a3f5f",
             "gridcolor": "white",
             "linecolor": "white",
             "minorgridcolor": "white",
             "startlinecolor": "#2a3f5f"
            },
            "baxis": {
             "endlinecolor": "#2a3f5f",
             "gridcolor": "white",
             "linecolor": "white",
             "minorgridcolor": "white",
             "startlinecolor": "#2a3f5f"
            },
            "type": "carpet"
           }
          ],
          "choropleth": [
           {
            "colorbar": {
             "outlinewidth": 0,
             "ticks": ""
            },
            "type": "choropleth"
           }
          ],
          "contour": [
           {
            "colorbar": {
             "outlinewidth": 0,
             "ticks": ""
            },
            "colorscale": [
             [
              0,
              "#0d0887"
             ],
             [
              0.1111111111111111,
              "#46039f"
             ],
             [
              0.2222222222222222,
              "#7201a8"
             ],
             [
              0.3333333333333333,
              "#9c179e"
             ],
             [
              0.4444444444444444,
              "#bd3786"
             ],
             [
              0.5555555555555556,
              "#d8576b"
             ],
             [
              0.6666666666666666,
              "#ed7953"
             ],
             [
              0.7777777777777778,
              "#fb9f3a"
             ],
             [
              0.8888888888888888,
              "#fdca26"
             ],
             [
              1,
              "#f0f921"
             ]
            ],
            "type": "contour"
           }
          ],
          "contourcarpet": [
           {
            "colorbar": {
             "outlinewidth": 0,
             "ticks": ""
            },
            "type": "contourcarpet"
           }
          ],
          "heatmap": [
           {
            "colorbar": {
             "outlinewidth": 0,
             "ticks": ""
            },
            "colorscale": [
             [
              0,
              "#0d0887"
             ],
             [
              0.1111111111111111,
              "#46039f"
             ],
             [
              0.2222222222222222,
              "#7201a8"
             ],
             [
              0.3333333333333333,
              "#9c179e"
             ],
             [
              0.4444444444444444,
              "#bd3786"
             ],
             [
              0.5555555555555556,
              "#d8576b"
             ],
             [
              0.6666666666666666,
              "#ed7953"
             ],
             [
              0.7777777777777778,
              "#fb9f3a"
             ],
             [
              0.8888888888888888,
              "#fdca26"
             ],
             [
              1,
              "#f0f921"
             ]
            ],
            "type": "heatmap"
           }
          ],
          "heatmapgl": [
           {
            "colorbar": {
             "outlinewidth": 0,
             "ticks": ""
            },
            "colorscale": [
             [
              0,
              "#0d0887"
             ],
             [
              0.1111111111111111,
              "#46039f"
             ],
             [
              0.2222222222222222,
              "#7201a8"
             ],
             [
              0.3333333333333333,
              "#9c179e"
             ],
             [
              0.4444444444444444,
              "#bd3786"
             ],
             [
              0.5555555555555556,
              "#d8576b"
             ],
             [
              0.6666666666666666,
              "#ed7953"
             ],
             [
              0.7777777777777778,
              "#fb9f3a"
             ],
             [
              0.8888888888888888,
              "#fdca26"
             ],
             [
              1,
              "#f0f921"
             ]
            ],
            "type": "heatmapgl"
           }
          ],
          "histogram": [
           {
            "marker": {
             "pattern": {
              "fillmode": "overlay",
              "size": 10,
              "solidity": 0.2
             }
            },
            "type": "histogram"
           }
          ],
          "histogram2d": [
           {
            "colorbar": {
             "outlinewidth": 0,
             "ticks": ""
            },
            "colorscale": [
             [
              0,
              "#0d0887"
             ],
             [
              0.1111111111111111,
              "#46039f"
             ],
             [
              0.2222222222222222,
              "#7201a8"
             ],
             [
              0.3333333333333333,
              "#9c179e"
             ],
             [
              0.4444444444444444,
              "#bd3786"
             ],
             [
              0.5555555555555556,
              "#d8576b"
             ],
             [
              0.6666666666666666,
              "#ed7953"
             ],
             [
              0.7777777777777778,
              "#fb9f3a"
             ],
             [
              0.8888888888888888,
              "#fdca26"
             ],
             [
              1,
              "#f0f921"
             ]
            ],
            "type": "histogram2d"
           }
          ],
          "histogram2dcontour": [
           {
            "colorbar": {
             "outlinewidth": 0,
             "ticks": ""
            },
            "colorscale": [
             [
              0,
              "#0d0887"
             ],
             [
              0.1111111111111111,
              "#46039f"
             ],
             [
              0.2222222222222222,
              "#7201a8"
             ],
             [
              0.3333333333333333,
              "#9c179e"
             ],
             [
              0.4444444444444444,
              "#bd3786"
             ],
             [
              0.5555555555555556,
              "#d8576b"
             ],
             [
              0.6666666666666666,
              "#ed7953"
             ],
             [
              0.7777777777777778,
              "#fb9f3a"
             ],
             [
              0.8888888888888888,
              "#fdca26"
             ],
             [
              1,
              "#f0f921"
             ]
            ],
            "type": "histogram2dcontour"
           }
          ],
          "mesh3d": [
           {
            "colorbar": {
             "outlinewidth": 0,
             "ticks": ""
            },
            "type": "mesh3d"
           }
          ],
          "parcoords": [
           {
            "line": {
             "colorbar": {
              "outlinewidth": 0,
              "ticks": ""
             }
            },
            "type": "parcoords"
           }
          ],
          "pie": [
           {
            "automargin": true,
            "type": "pie"
           }
          ],
          "scatter": [
           {
            "fillpattern": {
             "fillmode": "overlay",
             "size": 10,
             "solidity": 0.2
            },
            "type": "scatter"
           }
          ],
          "scatter3d": [
           {
            "line": {
             "colorbar": {
              "outlinewidth": 0,
              "ticks": ""
             }
            },
            "marker": {
             "colorbar": {
              "outlinewidth": 0,
              "ticks": ""
             }
            },
            "type": "scatter3d"
           }
          ],
          "scattercarpet": [
           {
            "marker": {
             "colorbar": {
              "outlinewidth": 0,
              "ticks": ""
             }
            },
            "type": "scattercarpet"
           }
          ],
          "scattergeo": [
           {
            "marker": {
             "colorbar": {
              "outlinewidth": 0,
              "ticks": ""
             }
            },
            "type": "scattergeo"
           }
          ],
          "scattergl": [
           {
            "marker": {
             "colorbar": {
              "outlinewidth": 0,
              "ticks": ""
             }
            },
            "type": "scattergl"
           }
          ],
          "scattermapbox": [
           {
            "marker": {
             "colorbar": {
              "outlinewidth": 0,
              "ticks": ""
             }
            },
            "type": "scattermapbox"
           }
          ],
          "scatterpolar": [
           {
            "marker": {
             "colorbar": {
              "outlinewidth": 0,
              "ticks": ""
             }
            },
            "type": "scatterpolar"
           }
          ],
          "scatterpolargl": [
           {
            "marker": {
             "colorbar": {
              "outlinewidth": 0,
              "ticks": ""
             }
            },
            "type": "scatterpolargl"
           }
          ],
          "scatterternary": [
           {
            "marker": {
             "colorbar": {
              "outlinewidth": 0,
              "ticks": ""
             }
            },
            "type": "scatterternary"
           }
          ],
          "surface": [
           {
            "colorbar": {
             "outlinewidth": 0,
             "ticks": ""
            },
            "colorscale": [
             [
              0,
              "#0d0887"
             ],
             [
              0.1111111111111111,
              "#46039f"
             ],
             [
              0.2222222222222222,
              "#7201a8"
             ],
             [
              0.3333333333333333,
              "#9c179e"
             ],
             [
              0.4444444444444444,
              "#bd3786"
             ],
             [
              0.5555555555555556,
              "#d8576b"
             ],
             [
              0.6666666666666666,
              "#ed7953"
             ],
             [
              0.7777777777777778,
              "#fb9f3a"
             ],
             [
              0.8888888888888888,
              "#fdca26"
             ],
             [
              1,
              "#f0f921"
             ]
            ],
            "type": "surface"
           }
          ],
          "table": [
           {
            "cells": {
             "fill": {
              "color": "#EBF0F8"
             },
             "line": {
              "color": "white"
             }
            },
            "header": {
             "fill": {
              "color": "#C8D4E3"
             },
             "line": {
              "color": "white"
             }
            },
            "type": "table"
           }
          ]
         },
         "layout": {
          "annotationdefaults": {
           "arrowcolor": "#2a3f5f",
           "arrowhead": 0,
           "arrowwidth": 1
          },
          "autotypenumbers": "strict",
          "coloraxis": {
           "colorbar": {
            "outlinewidth": 0,
            "ticks": ""
           }
          },
          "colorscale": {
           "diverging": [
            [
             0,
             "#8e0152"
            ],
            [
             0.1,
             "#c51b7d"
            ],
            [
             0.2,
             "#de77ae"
            ],
            [
             0.3,
             "#f1b6da"
            ],
            [
             0.4,
             "#fde0ef"
            ],
            [
             0.5,
             "#f7f7f7"
            ],
            [
             0.6,
             "#e6f5d0"
            ],
            [
             0.7,
             "#b8e186"
            ],
            [
             0.8,
             "#7fbc41"
            ],
            [
             0.9,
             "#4d9221"
            ],
            [
             1,
             "#276419"
            ]
           ],
           "sequential": [
            [
             0,
             "#0d0887"
            ],
            [
             0.1111111111111111,
             "#46039f"
            ],
            [
             0.2222222222222222,
             "#7201a8"
            ],
            [
             0.3333333333333333,
             "#9c179e"
            ],
            [
             0.4444444444444444,
             "#bd3786"
            ],
            [
             0.5555555555555556,
             "#d8576b"
            ],
            [
             0.6666666666666666,
             "#ed7953"
            ],
            [
             0.7777777777777778,
             "#fb9f3a"
            ],
            [
             0.8888888888888888,
             "#fdca26"
            ],
            [
             1,
             "#f0f921"
            ]
           ],
           "sequentialminus": [
            [
             0,
             "#0d0887"
            ],
            [
             0.1111111111111111,
             "#46039f"
            ],
            [
             0.2222222222222222,
             "#7201a8"
            ],
            [
             0.3333333333333333,
             "#9c179e"
            ],
            [
             0.4444444444444444,
             "#bd3786"
            ],
            [
             0.5555555555555556,
             "#d8576b"
            ],
            [
             0.6666666666666666,
             "#ed7953"
            ],
            [
             0.7777777777777778,
             "#fb9f3a"
            ],
            [
             0.8888888888888888,
             "#fdca26"
            ],
            [
             1,
             "#f0f921"
            ]
           ]
          },
          "colorway": [
           "#636efa",
           "#EF553B",
           "#00cc96",
           "#ab63fa",
           "#FFA15A",
           "#19d3f3",
           "#FF6692",
           "#B6E880",
           "#FF97FF",
           "#FECB52"
          ],
          "font": {
           "color": "#2a3f5f"
          },
          "geo": {
           "bgcolor": "white",
           "lakecolor": "white",
           "landcolor": "#E5ECF6",
           "showlakes": true,
           "showland": true,
           "subunitcolor": "white"
          },
          "hoverlabel": {
           "align": "left"
          },
          "hovermode": "closest",
          "mapbox": {
           "style": "light"
          },
          "paper_bgcolor": "white",
          "plot_bgcolor": "#E5ECF6",
          "polar": {
           "angularaxis": {
            "gridcolor": "white",
            "linecolor": "white",
            "ticks": ""
           },
           "bgcolor": "#E5ECF6",
           "radialaxis": {
            "gridcolor": "white",
            "linecolor": "white",
            "ticks": ""
           }
          },
          "scene": {
           "xaxis": {
            "backgroundcolor": "#E5ECF6",
            "gridcolor": "white",
            "gridwidth": 2,
            "linecolor": "white",
            "showbackground": true,
            "ticks": "",
            "zerolinecolor": "white"
           },
           "yaxis": {
            "backgroundcolor": "#E5ECF6",
            "gridcolor": "white",
            "gridwidth": 2,
            "linecolor": "white",
            "showbackground": true,
            "ticks": "",
            "zerolinecolor": "white"
           },
           "zaxis": {
            "backgroundcolor": "#E5ECF6",
            "gridcolor": "white",
            "gridwidth": 2,
            "linecolor": "white",
            "showbackground": true,
            "ticks": "",
            "zerolinecolor": "white"
           }
          },
          "shapedefaults": {
           "line": {
            "color": "#2a3f5f"
           }
          },
          "ternary": {
           "aaxis": {
            "gridcolor": "white",
            "linecolor": "white",
            "ticks": ""
           },
           "baxis": {
            "gridcolor": "white",
            "linecolor": "white",
            "ticks": ""
           },
           "bgcolor": "#E5ECF6",
           "caxis": {
            "gridcolor": "white",
            "linecolor": "white",
            "ticks": ""
           }
          },
          "title": {
           "x": 0.05
          },
          "xaxis": {
           "automargin": true,
           "gridcolor": "white",
           "linecolor": "white",
           "ticks": "",
           "title": {
            "standoff": 15
           },
           "zerolinecolor": "white",
           "zerolinewidth": 2
          },
          "yaxis": {
           "automargin": true,
           "gridcolor": "white",
           "linecolor": "white",
           "ticks": "",
           "title": {
            "standoff": 15
           },
           "zerolinecolor": "white",
           "zerolinewidth": 2
          }
         }
        },
        "title": {
         "text": "isten_ayrilma vs. Mean of yas"
        },
        "xaxis": {
         "anchor": "y",
         "domain": [
          0,
          1
         ],
         "title": {
          "text": "isten_ayrilma"
         }
        },
        "yaxis": {
         "anchor": "x",
         "domain": [
          0,
          1
         ],
         "title": {
          "text": "Mean of yas"
         }
        }
       }
      }
     },
     "metadata": {},
     "output_type": "display_data"
    },
    {
     "data": {
      "application/vnd.plotly.v1+json": {
       "config": {
        "plotlyServerURL": "https://plot.ly"
       },
       "data": [
        {
         "alignmentgroup": "True",
         "hovertemplate": "isten_ayrilma=%{x}<br>Mean of aylik_ucret=%{y}<extra></extra>",
         "legendgroup": "",
         "marker": {
          "color": "#636efa",
          "pattern": {
           "shape": ""
          }
         },
         "name": "",
         "offsetgroup": "",
         "orientation": "v",
         "showlegend": false,
         "textposition": "auto",
         "type": "bar",
         "x": [
          0,
          1
         ],
         "xaxis": "x",
         "y": [
          14265.779399837795,
          14559.308016877638
         ],
         "yaxis": "y"
        }
       ],
       "layout": {
        "barmode": "relative",
        "legend": {
         "tracegroupgap": 0
        },
        "template": {
         "data": {
          "bar": [
           {
            "error_x": {
             "color": "#2a3f5f"
            },
            "error_y": {
             "color": "#2a3f5f"
            },
            "marker": {
             "line": {
              "color": "#E5ECF6",
              "width": 0.5
             },
             "pattern": {
              "fillmode": "overlay",
              "size": 10,
              "solidity": 0.2
             }
            },
            "type": "bar"
           }
          ],
          "barpolar": [
           {
            "marker": {
             "line": {
              "color": "#E5ECF6",
              "width": 0.5
             },
             "pattern": {
              "fillmode": "overlay",
              "size": 10,
              "solidity": 0.2
             }
            },
            "type": "barpolar"
           }
          ],
          "carpet": [
           {
            "aaxis": {
             "endlinecolor": "#2a3f5f",
             "gridcolor": "white",
             "linecolor": "white",
             "minorgridcolor": "white",
             "startlinecolor": "#2a3f5f"
            },
            "baxis": {
             "endlinecolor": "#2a3f5f",
             "gridcolor": "white",
             "linecolor": "white",
             "minorgridcolor": "white",
             "startlinecolor": "#2a3f5f"
            },
            "type": "carpet"
           }
          ],
          "choropleth": [
           {
            "colorbar": {
             "outlinewidth": 0,
             "ticks": ""
            },
            "type": "choropleth"
           }
          ],
          "contour": [
           {
            "colorbar": {
             "outlinewidth": 0,
             "ticks": ""
            },
            "colorscale": [
             [
              0,
              "#0d0887"
             ],
             [
              0.1111111111111111,
              "#46039f"
             ],
             [
              0.2222222222222222,
              "#7201a8"
             ],
             [
              0.3333333333333333,
              "#9c179e"
             ],
             [
              0.4444444444444444,
              "#bd3786"
             ],
             [
              0.5555555555555556,
              "#d8576b"
             ],
             [
              0.6666666666666666,
              "#ed7953"
             ],
             [
              0.7777777777777778,
              "#fb9f3a"
             ],
             [
              0.8888888888888888,
              "#fdca26"
             ],
             [
              1,
              "#f0f921"
             ]
            ],
            "type": "contour"
           }
          ],
          "contourcarpet": [
           {
            "colorbar": {
             "outlinewidth": 0,
             "ticks": ""
            },
            "type": "contourcarpet"
           }
          ],
          "heatmap": [
           {
            "colorbar": {
             "outlinewidth": 0,
             "ticks": ""
            },
            "colorscale": [
             [
              0,
              "#0d0887"
             ],
             [
              0.1111111111111111,
              "#46039f"
             ],
             [
              0.2222222222222222,
              "#7201a8"
             ],
             [
              0.3333333333333333,
              "#9c179e"
             ],
             [
              0.4444444444444444,
              "#bd3786"
             ],
             [
              0.5555555555555556,
              "#d8576b"
             ],
             [
              0.6666666666666666,
              "#ed7953"
             ],
             [
              0.7777777777777778,
              "#fb9f3a"
             ],
             [
              0.8888888888888888,
              "#fdca26"
             ],
             [
              1,
              "#f0f921"
             ]
            ],
            "type": "heatmap"
           }
          ],
          "heatmapgl": [
           {
            "colorbar": {
             "outlinewidth": 0,
             "ticks": ""
            },
            "colorscale": [
             [
              0,
              "#0d0887"
             ],
             [
              0.1111111111111111,
              "#46039f"
             ],
             [
              0.2222222222222222,
              "#7201a8"
             ],
             [
              0.3333333333333333,
              "#9c179e"
             ],
             [
              0.4444444444444444,
              "#bd3786"
             ],
             [
              0.5555555555555556,
              "#d8576b"
             ],
             [
              0.6666666666666666,
              "#ed7953"
             ],
             [
              0.7777777777777778,
              "#fb9f3a"
             ],
             [
              0.8888888888888888,
              "#fdca26"
             ],
             [
              1,
              "#f0f921"
             ]
            ],
            "type": "heatmapgl"
           }
          ],
          "histogram": [
           {
            "marker": {
             "pattern": {
              "fillmode": "overlay",
              "size": 10,
              "solidity": 0.2
             }
            },
            "type": "histogram"
           }
          ],
          "histogram2d": [
           {
            "colorbar": {
             "outlinewidth": 0,
             "ticks": ""
            },
            "colorscale": [
             [
              0,
              "#0d0887"
             ],
             [
              0.1111111111111111,
              "#46039f"
             ],
             [
              0.2222222222222222,
              "#7201a8"
             ],
             [
              0.3333333333333333,
              "#9c179e"
             ],
             [
              0.4444444444444444,
              "#bd3786"
             ],
             [
              0.5555555555555556,
              "#d8576b"
             ],
             [
              0.6666666666666666,
              "#ed7953"
             ],
             [
              0.7777777777777778,
              "#fb9f3a"
             ],
             [
              0.8888888888888888,
              "#fdca26"
             ],
             [
              1,
              "#f0f921"
             ]
            ],
            "type": "histogram2d"
           }
          ],
          "histogram2dcontour": [
           {
            "colorbar": {
             "outlinewidth": 0,
             "ticks": ""
            },
            "colorscale": [
             [
              0,
              "#0d0887"
             ],
             [
              0.1111111111111111,
              "#46039f"
             ],
             [
              0.2222222222222222,
              "#7201a8"
             ],
             [
              0.3333333333333333,
              "#9c179e"
             ],
             [
              0.4444444444444444,
              "#bd3786"
             ],
             [
              0.5555555555555556,
              "#d8576b"
             ],
             [
              0.6666666666666666,
              "#ed7953"
             ],
             [
              0.7777777777777778,
              "#fb9f3a"
             ],
             [
              0.8888888888888888,
              "#fdca26"
             ],
             [
              1,
              "#f0f921"
             ]
            ],
            "type": "histogram2dcontour"
           }
          ],
          "mesh3d": [
           {
            "colorbar": {
             "outlinewidth": 0,
             "ticks": ""
            },
            "type": "mesh3d"
           }
          ],
          "parcoords": [
           {
            "line": {
             "colorbar": {
              "outlinewidth": 0,
              "ticks": ""
             }
            },
            "type": "parcoords"
           }
          ],
          "pie": [
           {
            "automargin": true,
            "type": "pie"
           }
          ],
          "scatter": [
           {
            "fillpattern": {
             "fillmode": "overlay",
             "size": 10,
             "solidity": 0.2
            },
            "type": "scatter"
           }
          ],
          "scatter3d": [
           {
            "line": {
             "colorbar": {
              "outlinewidth": 0,
              "ticks": ""
             }
            },
            "marker": {
             "colorbar": {
              "outlinewidth": 0,
              "ticks": ""
             }
            },
            "type": "scatter3d"
           }
          ],
          "scattercarpet": [
           {
            "marker": {
             "colorbar": {
              "outlinewidth": 0,
              "ticks": ""
             }
            },
            "type": "scattercarpet"
           }
          ],
          "scattergeo": [
           {
            "marker": {
             "colorbar": {
              "outlinewidth": 0,
              "ticks": ""
             }
            },
            "type": "scattergeo"
           }
          ],
          "scattergl": [
           {
            "marker": {
             "colorbar": {
              "outlinewidth": 0,
              "ticks": ""
             }
            },
            "type": "scattergl"
           }
          ],
          "scattermapbox": [
           {
            "marker": {
             "colorbar": {
              "outlinewidth": 0,
              "ticks": ""
             }
            },
            "type": "scattermapbox"
           }
          ],
          "scatterpolar": [
           {
            "marker": {
             "colorbar": {
              "outlinewidth": 0,
              "ticks": ""
             }
            },
            "type": "scatterpolar"
           }
          ],
          "scatterpolargl": [
           {
            "marker": {
             "colorbar": {
              "outlinewidth": 0,
              "ticks": ""
             }
            },
            "type": "scatterpolargl"
           }
          ],
          "scatterternary": [
           {
            "marker": {
             "colorbar": {
              "outlinewidth": 0,
              "ticks": ""
             }
            },
            "type": "scatterternary"
           }
          ],
          "surface": [
           {
            "colorbar": {
             "outlinewidth": 0,
             "ticks": ""
            },
            "colorscale": [
             [
              0,
              "#0d0887"
             ],
             [
              0.1111111111111111,
              "#46039f"
             ],
             [
              0.2222222222222222,
              "#7201a8"
             ],
             [
              0.3333333333333333,
              "#9c179e"
             ],
             [
              0.4444444444444444,
              "#bd3786"
             ],
             [
              0.5555555555555556,
              "#d8576b"
             ],
             [
              0.6666666666666666,
              "#ed7953"
             ],
             [
              0.7777777777777778,
              "#fb9f3a"
             ],
             [
              0.8888888888888888,
              "#fdca26"
             ],
             [
              1,
              "#f0f921"
             ]
            ],
            "type": "surface"
           }
          ],
          "table": [
           {
            "cells": {
             "fill": {
              "color": "#EBF0F8"
             },
             "line": {
              "color": "white"
             }
            },
            "header": {
             "fill": {
              "color": "#C8D4E3"
             },
             "line": {
              "color": "white"
             }
            },
            "type": "table"
           }
          ]
         },
         "layout": {
          "annotationdefaults": {
           "arrowcolor": "#2a3f5f",
           "arrowhead": 0,
           "arrowwidth": 1
          },
          "autotypenumbers": "strict",
          "coloraxis": {
           "colorbar": {
            "outlinewidth": 0,
            "ticks": ""
           }
          },
          "colorscale": {
           "diverging": [
            [
             0,
             "#8e0152"
            ],
            [
             0.1,
             "#c51b7d"
            ],
            [
             0.2,
             "#de77ae"
            ],
            [
             0.3,
             "#f1b6da"
            ],
            [
             0.4,
             "#fde0ef"
            ],
            [
             0.5,
             "#f7f7f7"
            ],
            [
             0.6,
             "#e6f5d0"
            ],
            [
             0.7,
             "#b8e186"
            ],
            [
             0.8,
             "#7fbc41"
            ],
            [
             0.9,
             "#4d9221"
            ],
            [
             1,
             "#276419"
            ]
           ],
           "sequential": [
            [
             0,
             "#0d0887"
            ],
            [
             0.1111111111111111,
             "#46039f"
            ],
            [
             0.2222222222222222,
             "#7201a8"
            ],
            [
             0.3333333333333333,
             "#9c179e"
            ],
            [
             0.4444444444444444,
             "#bd3786"
            ],
            [
             0.5555555555555556,
             "#d8576b"
            ],
            [
             0.6666666666666666,
             "#ed7953"
            ],
            [
             0.7777777777777778,
             "#fb9f3a"
            ],
            [
             0.8888888888888888,
             "#fdca26"
            ],
            [
             1,
             "#f0f921"
            ]
           ],
           "sequentialminus": [
            [
             0,
             "#0d0887"
            ],
            [
             0.1111111111111111,
             "#46039f"
            ],
            [
             0.2222222222222222,
             "#7201a8"
            ],
            [
             0.3333333333333333,
             "#9c179e"
            ],
            [
             0.4444444444444444,
             "#bd3786"
            ],
            [
             0.5555555555555556,
             "#d8576b"
            ],
            [
             0.6666666666666666,
             "#ed7953"
            ],
            [
             0.7777777777777778,
             "#fb9f3a"
            ],
            [
             0.8888888888888888,
             "#fdca26"
            ],
            [
             1,
             "#f0f921"
            ]
           ]
          },
          "colorway": [
           "#636efa",
           "#EF553B",
           "#00cc96",
           "#ab63fa",
           "#FFA15A",
           "#19d3f3",
           "#FF6692",
           "#B6E880",
           "#FF97FF",
           "#FECB52"
          ],
          "font": {
           "color": "#2a3f5f"
          },
          "geo": {
           "bgcolor": "white",
           "lakecolor": "white",
           "landcolor": "#E5ECF6",
           "showlakes": true,
           "showland": true,
           "subunitcolor": "white"
          },
          "hoverlabel": {
           "align": "left"
          },
          "hovermode": "closest",
          "mapbox": {
           "style": "light"
          },
          "paper_bgcolor": "white",
          "plot_bgcolor": "#E5ECF6",
          "polar": {
           "angularaxis": {
            "gridcolor": "white",
            "linecolor": "white",
            "ticks": ""
           },
           "bgcolor": "#E5ECF6",
           "radialaxis": {
            "gridcolor": "white",
            "linecolor": "white",
            "ticks": ""
           }
          },
          "scene": {
           "xaxis": {
            "backgroundcolor": "#E5ECF6",
            "gridcolor": "white",
            "gridwidth": 2,
            "linecolor": "white",
            "showbackground": true,
            "ticks": "",
            "zerolinecolor": "white"
           },
           "yaxis": {
            "backgroundcolor": "#E5ECF6",
            "gridcolor": "white",
            "gridwidth": 2,
            "linecolor": "white",
            "showbackground": true,
            "ticks": "",
            "zerolinecolor": "white"
           },
           "zaxis": {
            "backgroundcolor": "#E5ECF6",
            "gridcolor": "white",
            "gridwidth": 2,
            "linecolor": "white",
            "showbackground": true,
            "ticks": "",
            "zerolinecolor": "white"
           }
          },
          "shapedefaults": {
           "line": {
            "color": "#2a3f5f"
           }
          },
          "ternary": {
           "aaxis": {
            "gridcolor": "white",
            "linecolor": "white",
            "ticks": ""
           },
           "baxis": {
            "gridcolor": "white",
            "linecolor": "white",
            "ticks": ""
           },
           "bgcolor": "#E5ECF6",
           "caxis": {
            "gridcolor": "white",
            "linecolor": "white",
            "ticks": ""
           }
          },
          "title": {
           "x": 0.05
          },
          "xaxis": {
           "automargin": true,
           "gridcolor": "white",
           "linecolor": "white",
           "ticks": "",
           "title": {
            "standoff": 15
           },
           "zerolinecolor": "white",
           "zerolinewidth": 2
          },
          "yaxis": {
           "automargin": true,
           "gridcolor": "white",
           "linecolor": "white",
           "ticks": "",
           "title": {
            "standoff": 15
           },
           "zerolinecolor": "white",
           "zerolinewidth": 2
          }
         }
        },
        "title": {
         "text": "isten_ayrilma vs. Mean of aylik_ucret"
        },
        "xaxis": {
         "anchor": "y",
         "domain": [
          0,
          1
         ],
         "title": {
          "text": "isten_ayrilma"
         }
        },
        "yaxis": {
         "anchor": "x",
         "domain": [
          0,
          1
         ],
         "title": {
          "text": "Mean of aylik_ucret"
         }
        }
       }
      }
     },
     "metadata": {},
     "output_type": "display_data"
    },
    {
     "data": {
      "application/vnd.plotly.v1+json": {
       "config": {
        "plotlyServerURL": "https://plot.ly"
       },
       "data": [
        {
         "alignmentgroup": "True",
         "hovertemplate": "isten_ayrilma=%{x}<br>Mean of evden_uzaklik=%{y}<extra></extra>",
         "legendgroup": "",
         "marker": {
          "color": "#636efa",
          "pattern": {
           "shape": ""
          }
         },
         "name": "",
         "offsetgroup": "",
         "orientation": "v",
         "showlegend": false,
         "textposition": "auto",
         "type": "bar",
         "x": [
          0,
          1
         ],
         "xaxis": "x",
         "y": [
          8.915652879156529,
          10.632911392405063
         ],
         "yaxis": "y"
        }
       ],
       "layout": {
        "barmode": "relative",
        "legend": {
         "tracegroupgap": 0
        },
        "template": {
         "data": {
          "bar": [
           {
            "error_x": {
             "color": "#2a3f5f"
            },
            "error_y": {
             "color": "#2a3f5f"
            },
            "marker": {
             "line": {
              "color": "#E5ECF6",
              "width": 0.5
             },
             "pattern": {
              "fillmode": "overlay",
              "size": 10,
              "solidity": 0.2
             }
            },
            "type": "bar"
           }
          ],
          "barpolar": [
           {
            "marker": {
             "line": {
              "color": "#E5ECF6",
              "width": 0.5
             },
             "pattern": {
              "fillmode": "overlay",
              "size": 10,
              "solidity": 0.2
             }
            },
            "type": "barpolar"
           }
          ],
          "carpet": [
           {
            "aaxis": {
             "endlinecolor": "#2a3f5f",
             "gridcolor": "white",
             "linecolor": "white",
             "minorgridcolor": "white",
             "startlinecolor": "#2a3f5f"
            },
            "baxis": {
             "endlinecolor": "#2a3f5f",
             "gridcolor": "white",
             "linecolor": "white",
             "minorgridcolor": "white",
             "startlinecolor": "#2a3f5f"
            },
            "type": "carpet"
           }
          ],
          "choropleth": [
           {
            "colorbar": {
             "outlinewidth": 0,
             "ticks": ""
            },
            "type": "choropleth"
           }
          ],
          "contour": [
           {
            "colorbar": {
             "outlinewidth": 0,
             "ticks": ""
            },
            "colorscale": [
             [
              0,
              "#0d0887"
             ],
             [
              0.1111111111111111,
              "#46039f"
             ],
             [
              0.2222222222222222,
              "#7201a8"
             ],
             [
              0.3333333333333333,
              "#9c179e"
             ],
             [
              0.4444444444444444,
              "#bd3786"
             ],
             [
              0.5555555555555556,
              "#d8576b"
             ],
             [
              0.6666666666666666,
              "#ed7953"
             ],
             [
              0.7777777777777778,
              "#fb9f3a"
             ],
             [
              0.8888888888888888,
              "#fdca26"
             ],
             [
              1,
              "#f0f921"
             ]
            ],
            "type": "contour"
           }
          ],
          "contourcarpet": [
           {
            "colorbar": {
             "outlinewidth": 0,
             "ticks": ""
            },
            "type": "contourcarpet"
           }
          ],
          "heatmap": [
           {
            "colorbar": {
             "outlinewidth": 0,
             "ticks": ""
            },
            "colorscale": [
             [
              0,
              "#0d0887"
             ],
             [
              0.1111111111111111,
              "#46039f"
             ],
             [
              0.2222222222222222,
              "#7201a8"
             ],
             [
              0.3333333333333333,
              "#9c179e"
             ],
             [
              0.4444444444444444,
              "#bd3786"
             ],
             [
              0.5555555555555556,
              "#d8576b"
             ],
             [
              0.6666666666666666,
              "#ed7953"
             ],
             [
              0.7777777777777778,
              "#fb9f3a"
             ],
             [
              0.8888888888888888,
              "#fdca26"
             ],
             [
              1,
              "#f0f921"
             ]
            ],
            "type": "heatmap"
           }
          ],
          "heatmapgl": [
           {
            "colorbar": {
             "outlinewidth": 0,
             "ticks": ""
            },
            "colorscale": [
             [
              0,
              "#0d0887"
             ],
             [
              0.1111111111111111,
              "#46039f"
             ],
             [
              0.2222222222222222,
              "#7201a8"
             ],
             [
              0.3333333333333333,
              "#9c179e"
             ],
             [
              0.4444444444444444,
              "#bd3786"
             ],
             [
              0.5555555555555556,
              "#d8576b"
             ],
             [
              0.6666666666666666,
              "#ed7953"
             ],
             [
              0.7777777777777778,
              "#fb9f3a"
             ],
             [
              0.8888888888888888,
              "#fdca26"
             ],
             [
              1,
              "#f0f921"
             ]
            ],
            "type": "heatmapgl"
           }
          ],
          "histogram": [
           {
            "marker": {
             "pattern": {
              "fillmode": "overlay",
              "size": 10,
              "solidity": 0.2
             }
            },
            "type": "histogram"
           }
          ],
          "histogram2d": [
           {
            "colorbar": {
             "outlinewidth": 0,
             "ticks": ""
            },
            "colorscale": [
             [
              0,
              "#0d0887"
             ],
             [
              0.1111111111111111,
              "#46039f"
             ],
             [
              0.2222222222222222,
              "#7201a8"
             ],
             [
              0.3333333333333333,
              "#9c179e"
             ],
             [
              0.4444444444444444,
              "#bd3786"
             ],
             [
              0.5555555555555556,
              "#d8576b"
             ],
             [
              0.6666666666666666,
              "#ed7953"
             ],
             [
              0.7777777777777778,
              "#fb9f3a"
             ],
             [
              0.8888888888888888,
              "#fdca26"
             ],
             [
              1,
              "#f0f921"
             ]
            ],
            "type": "histogram2d"
           }
          ],
          "histogram2dcontour": [
           {
            "colorbar": {
             "outlinewidth": 0,
             "ticks": ""
            },
            "colorscale": [
             [
              0,
              "#0d0887"
             ],
             [
              0.1111111111111111,
              "#46039f"
             ],
             [
              0.2222222222222222,
              "#7201a8"
             ],
             [
              0.3333333333333333,
              "#9c179e"
             ],
             [
              0.4444444444444444,
              "#bd3786"
             ],
             [
              0.5555555555555556,
              "#d8576b"
             ],
             [
              0.6666666666666666,
              "#ed7953"
             ],
             [
              0.7777777777777778,
              "#fb9f3a"
             ],
             [
              0.8888888888888888,
              "#fdca26"
             ],
             [
              1,
              "#f0f921"
             ]
            ],
            "type": "histogram2dcontour"
           }
          ],
          "mesh3d": [
           {
            "colorbar": {
             "outlinewidth": 0,
             "ticks": ""
            },
            "type": "mesh3d"
           }
          ],
          "parcoords": [
           {
            "line": {
             "colorbar": {
              "outlinewidth": 0,
              "ticks": ""
             }
            },
            "type": "parcoords"
           }
          ],
          "pie": [
           {
            "automargin": true,
            "type": "pie"
           }
          ],
          "scatter": [
           {
            "fillpattern": {
             "fillmode": "overlay",
             "size": 10,
             "solidity": 0.2
            },
            "type": "scatter"
           }
          ],
          "scatter3d": [
           {
            "line": {
             "colorbar": {
              "outlinewidth": 0,
              "ticks": ""
             }
            },
            "marker": {
             "colorbar": {
              "outlinewidth": 0,
              "ticks": ""
             }
            },
            "type": "scatter3d"
           }
          ],
          "scattercarpet": [
           {
            "marker": {
             "colorbar": {
              "outlinewidth": 0,
              "ticks": ""
             }
            },
            "type": "scattercarpet"
           }
          ],
          "scattergeo": [
           {
            "marker": {
             "colorbar": {
              "outlinewidth": 0,
              "ticks": ""
             }
            },
            "type": "scattergeo"
           }
          ],
          "scattergl": [
           {
            "marker": {
             "colorbar": {
              "outlinewidth": 0,
              "ticks": ""
             }
            },
            "type": "scattergl"
           }
          ],
          "scattermapbox": [
           {
            "marker": {
             "colorbar": {
              "outlinewidth": 0,
              "ticks": ""
             }
            },
            "type": "scattermapbox"
           }
          ],
          "scatterpolar": [
           {
            "marker": {
             "colorbar": {
              "outlinewidth": 0,
              "ticks": ""
             }
            },
            "type": "scatterpolar"
           }
          ],
          "scatterpolargl": [
           {
            "marker": {
             "colorbar": {
              "outlinewidth": 0,
              "ticks": ""
             }
            },
            "type": "scatterpolargl"
           }
          ],
          "scatterternary": [
           {
            "marker": {
             "colorbar": {
              "outlinewidth": 0,
              "ticks": ""
             }
            },
            "type": "scatterternary"
           }
          ],
          "surface": [
           {
            "colorbar": {
             "outlinewidth": 0,
             "ticks": ""
            },
            "colorscale": [
             [
              0,
              "#0d0887"
             ],
             [
              0.1111111111111111,
              "#46039f"
             ],
             [
              0.2222222222222222,
              "#7201a8"
             ],
             [
              0.3333333333333333,
              "#9c179e"
             ],
             [
              0.4444444444444444,
              "#bd3786"
             ],
             [
              0.5555555555555556,
              "#d8576b"
             ],
             [
              0.6666666666666666,
              "#ed7953"
             ],
             [
              0.7777777777777778,
              "#fb9f3a"
             ],
             [
              0.8888888888888888,
              "#fdca26"
             ],
             [
              1,
              "#f0f921"
             ]
            ],
            "type": "surface"
           }
          ],
          "table": [
           {
            "cells": {
             "fill": {
              "color": "#EBF0F8"
             },
             "line": {
              "color": "white"
             }
            },
            "header": {
             "fill": {
              "color": "#C8D4E3"
             },
             "line": {
              "color": "white"
             }
            },
            "type": "table"
           }
          ]
         },
         "layout": {
          "annotationdefaults": {
           "arrowcolor": "#2a3f5f",
           "arrowhead": 0,
           "arrowwidth": 1
          },
          "autotypenumbers": "strict",
          "coloraxis": {
           "colorbar": {
            "outlinewidth": 0,
            "ticks": ""
           }
          },
          "colorscale": {
           "diverging": [
            [
             0,
             "#8e0152"
            ],
            [
             0.1,
             "#c51b7d"
            ],
            [
             0.2,
             "#de77ae"
            ],
            [
             0.3,
             "#f1b6da"
            ],
            [
             0.4,
             "#fde0ef"
            ],
            [
             0.5,
             "#f7f7f7"
            ],
            [
             0.6,
             "#e6f5d0"
            ],
            [
             0.7,
             "#b8e186"
            ],
            [
             0.8,
             "#7fbc41"
            ],
            [
             0.9,
             "#4d9221"
            ],
            [
             1,
             "#276419"
            ]
           ],
           "sequential": [
            [
             0,
             "#0d0887"
            ],
            [
             0.1111111111111111,
             "#46039f"
            ],
            [
             0.2222222222222222,
             "#7201a8"
            ],
            [
             0.3333333333333333,
             "#9c179e"
            ],
            [
             0.4444444444444444,
             "#bd3786"
            ],
            [
             0.5555555555555556,
             "#d8576b"
            ],
            [
             0.6666666666666666,
             "#ed7953"
            ],
            [
             0.7777777777777778,
             "#fb9f3a"
            ],
            [
             0.8888888888888888,
             "#fdca26"
            ],
            [
             1,
             "#f0f921"
            ]
           ],
           "sequentialminus": [
            [
             0,
             "#0d0887"
            ],
            [
             0.1111111111111111,
             "#46039f"
            ],
            [
             0.2222222222222222,
             "#7201a8"
            ],
            [
             0.3333333333333333,
             "#9c179e"
            ],
            [
             0.4444444444444444,
             "#bd3786"
            ],
            [
             0.5555555555555556,
             "#d8576b"
            ],
            [
             0.6666666666666666,
             "#ed7953"
            ],
            [
             0.7777777777777778,
             "#fb9f3a"
            ],
            [
             0.8888888888888888,
             "#fdca26"
            ],
            [
             1,
             "#f0f921"
            ]
           ]
          },
          "colorway": [
           "#636efa",
           "#EF553B",
           "#00cc96",
           "#ab63fa",
           "#FFA15A",
           "#19d3f3",
           "#FF6692",
           "#B6E880",
           "#FF97FF",
           "#FECB52"
          ],
          "font": {
           "color": "#2a3f5f"
          },
          "geo": {
           "bgcolor": "white",
           "lakecolor": "white",
           "landcolor": "#E5ECF6",
           "showlakes": true,
           "showland": true,
           "subunitcolor": "white"
          },
          "hoverlabel": {
           "align": "left"
          },
          "hovermode": "closest",
          "mapbox": {
           "style": "light"
          },
          "paper_bgcolor": "white",
          "plot_bgcolor": "#E5ECF6",
          "polar": {
           "angularaxis": {
            "gridcolor": "white",
            "linecolor": "white",
            "ticks": ""
           },
           "bgcolor": "#E5ECF6",
           "radialaxis": {
            "gridcolor": "white",
            "linecolor": "white",
            "ticks": ""
           }
          },
          "scene": {
           "xaxis": {
            "backgroundcolor": "#E5ECF6",
            "gridcolor": "white",
            "gridwidth": 2,
            "linecolor": "white",
            "showbackground": true,
            "ticks": "",
            "zerolinecolor": "white"
           },
           "yaxis": {
            "backgroundcolor": "#E5ECF6",
            "gridcolor": "white",
            "gridwidth": 2,
            "linecolor": "white",
            "showbackground": true,
            "ticks": "",
            "zerolinecolor": "white"
           },
           "zaxis": {
            "backgroundcolor": "#E5ECF6",
            "gridcolor": "white",
            "gridwidth": 2,
            "linecolor": "white",
            "showbackground": true,
            "ticks": "",
            "zerolinecolor": "white"
           }
          },
          "shapedefaults": {
           "line": {
            "color": "#2a3f5f"
           }
          },
          "ternary": {
           "aaxis": {
            "gridcolor": "white",
            "linecolor": "white",
            "ticks": ""
           },
           "baxis": {
            "gridcolor": "white",
            "linecolor": "white",
            "ticks": ""
           },
           "bgcolor": "#E5ECF6",
           "caxis": {
            "gridcolor": "white",
            "linecolor": "white",
            "ticks": ""
           }
          },
          "title": {
           "x": 0.05
          },
          "xaxis": {
           "automargin": true,
           "gridcolor": "white",
           "linecolor": "white",
           "ticks": "",
           "title": {
            "standoff": 15
           },
           "zerolinecolor": "white",
           "zerolinewidth": 2
          },
          "yaxis": {
           "automargin": true,
           "gridcolor": "white",
           "linecolor": "white",
           "ticks": "",
           "title": {
            "standoff": 15
           },
           "zerolinecolor": "white",
           "zerolinewidth": 2
          }
         }
        },
        "title": {
         "text": "isten_ayrilma vs. Mean of evden_uzaklik"
        },
        "xaxis": {
         "anchor": "y",
         "domain": [
          0,
          1
         ],
         "title": {
          "text": "isten_ayrilma"
         }
        },
        "yaxis": {
         "anchor": "x",
         "domain": [
          0,
          1
         ],
         "title": {
          "text": "Mean of evden_uzaklik"
         }
        }
       }
      }
     },
     "metadata": {},
     "output_type": "display_data"
    },
    {
     "data": {
      "application/vnd.plotly.v1+json": {
       "config": {
        "plotlyServerURL": "https://plot.ly"
       },
       "data": [
        {
         "alignmentgroup": "True",
         "hovertemplate": "isten_ayrilma=%{x}<br>Mean of son_terfiden_bu_yana_gecen_yil=%{y}<extra></extra>",
         "legendgroup": "",
         "marker": {
          "color": "#636efa",
          "pattern": {
           "shape": ""
          }
         },
         "name": "",
         "offsetgroup": "",
         "orientation": "v",
         "showlegend": false,
         "textposition": "auto",
         "type": "bar",
         "x": [
          0,
          1
         ],
         "xaxis": "x",
         "y": [
          2.234387672343877,
          1.9451476793248945
         ],
         "yaxis": "y"
        }
       ],
       "layout": {
        "barmode": "relative",
        "legend": {
         "tracegroupgap": 0
        },
        "template": {
         "data": {
          "bar": [
           {
            "error_x": {
             "color": "#2a3f5f"
            },
            "error_y": {
             "color": "#2a3f5f"
            },
            "marker": {
             "line": {
              "color": "#E5ECF6",
              "width": 0.5
             },
             "pattern": {
              "fillmode": "overlay",
              "size": 10,
              "solidity": 0.2
             }
            },
            "type": "bar"
           }
          ],
          "barpolar": [
           {
            "marker": {
             "line": {
              "color": "#E5ECF6",
              "width": 0.5
             },
             "pattern": {
              "fillmode": "overlay",
              "size": 10,
              "solidity": 0.2
             }
            },
            "type": "barpolar"
           }
          ],
          "carpet": [
           {
            "aaxis": {
             "endlinecolor": "#2a3f5f",
             "gridcolor": "white",
             "linecolor": "white",
             "minorgridcolor": "white",
             "startlinecolor": "#2a3f5f"
            },
            "baxis": {
             "endlinecolor": "#2a3f5f",
             "gridcolor": "white",
             "linecolor": "white",
             "minorgridcolor": "white",
             "startlinecolor": "#2a3f5f"
            },
            "type": "carpet"
           }
          ],
          "choropleth": [
           {
            "colorbar": {
             "outlinewidth": 0,
             "ticks": ""
            },
            "type": "choropleth"
           }
          ],
          "contour": [
           {
            "colorbar": {
             "outlinewidth": 0,
             "ticks": ""
            },
            "colorscale": [
             [
              0,
              "#0d0887"
             ],
             [
              0.1111111111111111,
              "#46039f"
             ],
             [
              0.2222222222222222,
              "#7201a8"
             ],
             [
              0.3333333333333333,
              "#9c179e"
             ],
             [
              0.4444444444444444,
              "#bd3786"
             ],
             [
              0.5555555555555556,
              "#d8576b"
             ],
             [
              0.6666666666666666,
              "#ed7953"
             ],
             [
              0.7777777777777778,
              "#fb9f3a"
             ],
             [
              0.8888888888888888,
              "#fdca26"
             ],
             [
              1,
              "#f0f921"
             ]
            ],
            "type": "contour"
           }
          ],
          "contourcarpet": [
           {
            "colorbar": {
             "outlinewidth": 0,
             "ticks": ""
            },
            "type": "contourcarpet"
           }
          ],
          "heatmap": [
           {
            "colorbar": {
             "outlinewidth": 0,
             "ticks": ""
            },
            "colorscale": [
             [
              0,
              "#0d0887"
             ],
             [
              0.1111111111111111,
              "#46039f"
             ],
             [
              0.2222222222222222,
              "#7201a8"
             ],
             [
              0.3333333333333333,
              "#9c179e"
             ],
             [
              0.4444444444444444,
              "#bd3786"
             ],
             [
              0.5555555555555556,
              "#d8576b"
             ],
             [
              0.6666666666666666,
              "#ed7953"
             ],
             [
              0.7777777777777778,
              "#fb9f3a"
             ],
             [
              0.8888888888888888,
              "#fdca26"
             ],
             [
              1,
              "#f0f921"
             ]
            ],
            "type": "heatmap"
           }
          ],
          "heatmapgl": [
           {
            "colorbar": {
             "outlinewidth": 0,
             "ticks": ""
            },
            "colorscale": [
             [
              0,
              "#0d0887"
             ],
             [
              0.1111111111111111,
              "#46039f"
             ],
             [
              0.2222222222222222,
              "#7201a8"
             ],
             [
              0.3333333333333333,
              "#9c179e"
             ],
             [
              0.4444444444444444,
              "#bd3786"
             ],
             [
              0.5555555555555556,
              "#d8576b"
             ],
             [
              0.6666666666666666,
              "#ed7953"
             ],
             [
              0.7777777777777778,
              "#fb9f3a"
             ],
             [
              0.8888888888888888,
              "#fdca26"
             ],
             [
              1,
              "#f0f921"
             ]
            ],
            "type": "heatmapgl"
           }
          ],
          "histogram": [
           {
            "marker": {
             "pattern": {
              "fillmode": "overlay",
              "size": 10,
              "solidity": 0.2
             }
            },
            "type": "histogram"
           }
          ],
          "histogram2d": [
           {
            "colorbar": {
             "outlinewidth": 0,
             "ticks": ""
            },
            "colorscale": [
             [
              0,
              "#0d0887"
             ],
             [
              0.1111111111111111,
              "#46039f"
             ],
             [
              0.2222222222222222,
              "#7201a8"
             ],
             [
              0.3333333333333333,
              "#9c179e"
             ],
             [
              0.4444444444444444,
              "#bd3786"
             ],
             [
              0.5555555555555556,
              "#d8576b"
             ],
             [
              0.6666666666666666,
              "#ed7953"
             ],
             [
              0.7777777777777778,
              "#fb9f3a"
             ],
             [
              0.8888888888888888,
              "#fdca26"
             ],
             [
              1,
              "#f0f921"
             ]
            ],
            "type": "histogram2d"
           }
          ],
          "histogram2dcontour": [
           {
            "colorbar": {
             "outlinewidth": 0,
             "ticks": ""
            },
            "colorscale": [
             [
              0,
              "#0d0887"
             ],
             [
              0.1111111111111111,
              "#46039f"
             ],
             [
              0.2222222222222222,
              "#7201a8"
             ],
             [
              0.3333333333333333,
              "#9c179e"
             ],
             [
              0.4444444444444444,
              "#bd3786"
             ],
             [
              0.5555555555555556,
              "#d8576b"
             ],
             [
              0.6666666666666666,
              "#ed7953"
             ],
             [
              0.7777777777777778,
              "#fb9f3a"
             ],
             [
              0.8888888888888888,
              "#fdca26"
             ],
             [
              1,
              "#f0f921"
             ]
            ],
            "type": "histogram2dcontour"
           }
          ],
          "mesh3d": [
           {
            "colorbar": {
             "outlinewidth": 0,
             "ticks": ""
            },
            "type": "mesh3d"
           }
          ],
          "parcoords": [
           {
            "line": {
             "colorbar": {
              "outlinewidth": 0,
              "ticks": ""
             }
            },
            "type": "parcoords"
           }
          ],
          "pie": [
           {
            "automargin": true,
            "type": "pie"
           }
          ],
          "scatter": [
           {
            "fillpattern": {
             "fillmode": "overlay",
             "size": 10,
             "solidity": 0.2
            },
            "type": "scatter"
           }
          ],
          "scatter3d": [
           {
            "line": {
             "colorbar": {
              "outlinewidth": 0,
              "ticks": ""
             }
            },
            "marker": {
             "colorbar": {
              "outlinewidth": 0,
              "ticks": ""
             }
            },
            "type": "scatter3d"
           }
          ],
          "scattercarpet": [
           {
            "marker": {
             "colorbar": {
              "outlinewidth": 0,
              "ticks": ""
             }
            },
            "type": "scattercarpet"
           }
          ],
          "scattergeo": [
           {
            "marker": {
             "colorbar": {
              "outlinewidth": 0,
              "ticks": ""
             }
            },
            "type": "scattergeo"
           }
          ],
          "scattergl": [
           {
            "marker": {
             "colorbar": {
              "outlinewidth": 0,
              "ticks": ""
             }
            },
            "type": "scattergl"
           }
          ],
          "scattermapbox": [
           {
            "marker": {
             "colorbar": {
              "outlinewidth": 0,
              "ticks": ""
             }
            },
            "type": "scattermapbox"
           }
          ],
          "scatterpolar": [
           {
            "marker": {
             "colorbar": {
              "outlinewidth": 0,
              "ticks": ""
             }
            },
            "type": "scatterpolar"
           }
          ],
          "scatterpolargl": [
           {
            "marker": {
             "colorbar": {
              "outlinewidth": 0,
              "ticks": ""
             }
            },
            "type": "scatterpolargl"
           }
          ],
          "scatterternary": [
           {
            "marker": {
             "colorbar": {
              "outlinewidth": 0,
              "ticks": ""
             }
            },
            "type": "scatterternary"
           }
          ],
          "surface": [
           {
            "colorbar": {
             "outlinewidth": 0,
             "ticks": ""
            },
            "colorscale": [
             [
              0,
              "#0d0887"
             ],
             [
              0.1111111111111111,
              "#46039f"
             ],
             [
              0.2222222222222222,
              "#7201a8"
             ],
             [
              0.3333333333333333,
              "#9c179e"
             ],
             [
              0.4444444444444444,
              "#bd3786"
             ],
             [
              0.5555555555555556,
              "#d8576b"
             ],
             [
              0.6666666666666666,
              "#ed7953"
             ],
             [
              0.7777777777777778,
              "#fb9f3a"
             ],
             [
              0.8888888888888888,
              "#fdca26"
             ],
             [
              1,
              "#f0f921"
             ]
            ],
            "type": "surface"
           }
          ],
          "table": [
           {
            "cells": {
             "fill": {
              "color": "#EBF0F8"
             },
             "line": {
              "color": "white"
             }
            },
            "header": {
             "fill": {
              "color": "#C8D4E3"
             },
             "line": {
              "color": "white"
             }
            },
            "type": "table"
           }
          ]
         },
         "layout": {
          "annotationdefaults": {
           "arrowcolor": "#2a3f5f",
           "arrowhead": 0,
           "arrowwidth": 1
          },
          "autotypenumbers": "strict",
          "coloraxis": {
           "colorbar": {
            "outlinewidth": 0,
            "ticks": ""
           }
          },
          "colorscale": {
           "diverging": [
            [
             0,
             "#8e0152"
            ],
            [
             0.1,
             "#c51b7d"
            ],
            [
             0.2,
             "#de77ae"
            ],
            [
             0.3,
             "#f1b6da"
            ],
            [
             0.4,
             "#fde0ef"
            ],
            [
             0.5,
             "#f7f7f7"
            ],
            [
             0.6,
             "#e6f5d0"
            ],
            [
             0.7,
             "#b8e186"
            ],
            [
             0.8,
             "#7fbc41"
            ],
            [
             0.9,
             "#4d9221"
            ],
            [
             1,
             "#276419"
            ]
           ],
           "sequential": [
            [
             0,
             "#0d0887"
            ],
            [
             0.1111111111111111,
             "#46039f"
            ],
            [
             0.2222222222222222,
             "#7201a8"
            ],
            [
             0.3333333333333333,
             "#9c179e"
            ],
            [
             0.4444444444444444,
             "#bd3786"
            ],
            [
             0.5555555555555556,
             "#d8576b"
            ],
            [
             0.6666666666666666,
             "#ed7953"
            ],
            [
             0.7777777777777778,
             "#fb9f3a"
            ],
            [
             0.8888888888888888,
             "#fdca26"
            ],
            [
             1,
             "#f0f921"
            ]
           ],
           "sequentialminus": [
            [
             0,
             "#0d0887"
            ],
            [
             0.1111111111111111,
             "#46039f"
            ],
            [
             0.2222222222222222,
             "#7201a8"
            ],
            [
             0.3333333333333333,
             "#9c179e"
            ],
            [
             0.4444444444444444,
             "#bd3786"
            ],
            [
             0.5555555555555556,
             "#d8576b"
            ],
            [
             0.6666666666666666,
             "#ed7953"
            ],
            [
             0.7777777777777778,
             "#fb9f3a"
            ],
            [
             0.8888888888888888,
             "#fdca26"
            ],
            [
             1,
             "#f0f921"
            ]
           ]
          },
          "colorway": [
           "#636efa",
           "#EF553B",
           "#00cc96",
           "#ab63fa",
           "#FFA15A",
           "#19d3f3",
           "#FF6692",
           "#B6E880",
           "#FF97FF",
           "#FECB52"
          ],
          "font": {
           "color": "#2a3f5f"
          },
          "geo": {
           "bgcolor": "white",
           "lakecolor": "white",
           "landcolor": "#E5ECF6",
           "showlakes": true,
           "showland": true,
           "subunitcolor": "white"
          },
          "hoverlabel": {
           "align": "left"
          },
          "hovermode": "closest",
          "mapbox": {
           "style": "light"
          },
          "paper_bgcolor": "white",
          "plot_bgcolor": "#E5ECF6",
          "polar": {
           "angularaxis": {
            "gridcolor": "white",
            "linecolor": "white",
            "ticks": ""
           },
           "bgcolor": "#E5ECF6",
           "radialaxis": {
            "gridcolor": "white",
            "linecolor": "white",
            "ticks": ""
           }
          },
          "scene": {
           "xaxis": {
            "backgroundcolor": "#E5ECF6",
            "gridcolor": "white",
            "gridwidth": 2,
            "linecolor": "white",
            "showbackground": true,
            "ticks": "",
            "zerolinecolor": "white"
           },
           "yaxis": {
            "backgroundcolor": "#E5ECF6",
            "gridcolor": "white",
            "gridwidth": 2,
            "linecolor": "white",
            "showbackground": true,
            "ticks": "",
            "zerolinecolor": "white"
           },
           "zaxis": {
            "backgroundcolor": "#E5ECF6",
            "gridcolor": "white",
            "gridwidth": 2,
            "linecolor": "white",
            "showbackground": true,
            "ticks": "",
            "zerolinecolor": "white"
           }
          },
          "shapedefaults": {
           "line": {
            "color": "#2a3f5f"
           }
          },
          "ternary": {
           "aaxis": {
            "gridcolor": "white",
            "linecolor": "white",
            "ticks": ""
           },
           "baxis": {
            "gridcolor": "white",
            "linecolor": "white",
            "ticks": ""
           },
           "bgcolor": "#E5ECF6",
           "caxis": {
            "gridcolor": "white",
            "linecolor": "white",
            "ticks": ""
           }
          },
          "title": {
           "x": 0.05
          },
          "xaxis": {
           "automargin": true,
           "gridcolor": "white",
           "linecolor": "white",
           "ticks": "",
           "title": {
            "standoff": 15
           },
           "zerolinecolor": "white",
           "zerolinewidth": 2
          },
          "yaxis": {
           "automargin": true,
           "gridcolor": "white",
           "linecolor": "white",
           "ticks": "",
           "title": {
            "standoff": 15
           },
           "zerolinecolor": "white",
           "zerolinewidth": 2
          }
         }
        },
        "title": {
         "text": "isten_ayrilma vs. Mean of son_terfiden_bu_yana_gecen_yil"
        },
        "xaxis": {
         "anchor": "y",
         "domain": [
          0,
          1
         ],
         "title": {
          "text": "isten_ayrilma"
         }
        },
        "yaxis": {
         "anchor": "x",
         "domain": [
          0,
          1
         ],
         "title": {
          "text": "Mean of son_terfiden_bu_yana_gecen_yil"
         }
        }
       }
      }
     },
     "metadata": {},
     "output_type": "display_data"
    },
    {
     "data": {
      "application/vnd.plotly.v1+json": {
       "config": {
        "plotlyServerURL": "https://plot.ly"
       },
       "data": [
        {
         "alignmentgroup": "True",
         "hovertemplate": "isten_ayrilma=%{x}<br>Mean of mevcut_rolde_gecirilen_yil=%{y}<extra></extra>",
         "legendgroup": "",
         "marker": {
          "color": "#636efa",
          "pattern": {
           "shape": ""
          }
         },
         "name": "",
         "offsetgroup": "",
         "orientation": "v",
         "showlegend": false,
         "textposition": "auto",
         "type": "bar",
         "x": [
          0,
          1
         ],
         "xaxis": "x",
         "y": [
          4.484184914841849,
          2.9029535864978904
         ],
         "yaxis": "y"
        }
       ],
       "layout": {
        "barmode": "relative",
        "legend": {
         "tracegroupgap": 0
        },
        "template": {
         "data": {
          "bar": [
           {
            "error_x": {
             "color": "#2a3f5f"
            },
            "error_y": {
             "color": "#2a3f5f"
            },
            "marker": {
             "line": {
              "color": "#E5ECF6",
              "width": 0.5
             },
             "pattern": {
              "fillmode": "overlay",
              "size": 10,
              "solidity": 0.2
             }
            },
            "type": "bar"
           }
          ],
          "barpolar": [
           {
            "marker": {
             "line": {
              "color": "#E5ECF6",
              "width": 0.5
             },
             "pattern": {
              "fillmode": "overlay",
              "size": 10,
              "solidity": 0.2
             }
            },
            "type": "barpolar"
           }
          ],
          "carpet": [
           {
            "aaxis": {
             "endlinecolor": "#2a3f5f",
             "gridcolor": "white",
             "linecolor": "white",
             "minorgridcolor": "white",
             "startlinecolor": "#2a3f5f"
            },
            "baxis": {
             "endlinecolor": "#2a3f5f",
             "gridcolor": "white",
             "linecolor": "white",
             "minorgridcolor": "white",
             "startlinecolor": "#2a3f5f"
            },
            "type": "carpet"
           }
          ],
          "choropleth": [
           {
            "colorbar": {
             "outlinewidth": 0,
             "ticks": ""
            },
            "type": "choropleth"
           }
          ],
          "contour": [
           {
            "colorbar": {
             "outlinewidth": 0,
             "ticks": ""
            },
            "colorscale": [
             [
              0,
              "#0d0887"
             ],
             [
              0.1111111111111111,
              "#46039f"
             ],
             [
              0.2222222222222222,
              "#7201a8"
             ],
             [
              0.3333333333333333,
              "#9c179e"
             ],
             [
              0.4444444444444444,
              "#bd3786"
             ],
             [
              0.5555555555555556,
              "#d8576b"
             ],
             [
              0.6666666666666666,
              "#ed7953"
             ],
             [
              0.7777777777777778,
              "#fb9f3a"
             ],
             [
              0.8888888888888888,
              "#fdca26"
             ],
             [
              1,
              "#f0f921"
             ]
            ],
            "type": "contour"
           }
          ],
          "contourcarpet": [
           {
            "colorbar": {
             "outlinewidth": 0,
             "ticks": ""
            },
            "type": "contourcarpet"
           }
          ],
          "heatmap": [
           {
            "colorbar": {
             "outlinewidth": 0,
             "ticks": ""
            },
            "colorscale": [
             [
              0,
              "#0d0887"
             ],
             [
              0.1111111111111111,
              "#46039f"
             ],
             [
              0.2222222222222222,
              "#7201a8"
             ],
             [
              0.3333333333333333,
              "#9c179e"
             ],
             [
              0.4444444444444444,
              "#bd3786"
             ],
             [
              0.5555555555555556,
              "#d8576b"
             ],
             [
              0.6666666666666666,
              "#ed7953"
             ],
             [
              0.7777777777777778,
              "#fb9f3a"
             ],
             [
              0.8888888888888888,
              "#fdca26"
             ],
             [
              1,
              "#f0f921"
             ]
            ],
            "type": "heatmap"
           }
          ],
          "heatmapgl": [
           {
            "colorbar": {
             "outlinewidth": 0,
             "ticks": ""
            },
            "colorscale": [
             [
              0,
              "#0d0887"
             ],
             [
              0.1111111111111111,
              "#46039f"
             ],
             [
              0.2222222222222222,
              "#7201a8"
             ],
             [
              0.3333333333333333,
              "#9c179e"
             ],
             [
              0.4444444444444444,
              "#bd3786"
             ],
             [
              0.5555555555555556,
              "#d8576b"
             ],
             [
              0.6666666666666666,
              "#ed7953"
             ],
             [
              0.7777777777777778,
              "#fb9f3a"
             ],
             [
              0.8888888888888888,
              "#fdca26"
             ],
             [
              1,
              "#f0f921"
             ]
            ],
            "type": "heatmapgl"
           }
          ],
          "histogram": [
           {
            "marker": {
             "pattern": {
              "fillmode": "overlay",
              "size": 10,
              "solidity": 0.2
             }
            },
            "type": "histogram"
           }
          ],
          "histogram2d": [
           {
            "colorbar": {
             "outlinewidth": 0,
             "ticks": ""
            },
            "colorscale": [
             [
              0,
              "#0d0887"
             ],
             [
              0.1111111111111111,
              "#46039f"
             ],
             [
              0.2222222222222222,
              "#7201a8"
             ],
             [
              0.3333333333333333,
              "#9c179e"
             ],
             [
              0.4444444444444444,
              "#bd3786"
             ],
             [
              0.5555555555555556,
              "#d8576b"
             ],
             [
              0.6666666666666666,
              "#ed7953"
             ],
             [
              0.7777777777777778,
              "#fb9f3a"
             ],
             [
              0.8888888888888888,
              "#fdca26"
             ],
             [
              1,
              "#f0f921"
             ]
            ],
            "type": "histogram2d"
           }
          ],
          "histogram2dcontour": [
           {
            "colorbar": {
             "outlinewidth": 0,
             "ticks": ""
            },
            "colorscale": [
             [
              0,
              "#0d0887"
             ],
             [
              0.1111111111111111,
              "#46039f"
             ],
             [
              0.2222222222222222,
              "#7201a8"
             ],
             [
              0.3333333333333333,
              "#9c179e"
             ],
             [
              0.4444444444444444,
              "#bd3786"
             ],
             [
              0.5555555555555556,
              "#d8576b"
             ],
             [
              0.6666666666666666,
              "#ed7953"
             ],
             [
              0.7777777777777778,
              "#fb9f3a"
             ],
             [
              0.8888888888888888,
              "#fdca26"
             ],
             [
              1,
              "#f0f921"
             ]
            ],
            "type": "histogram2dcontour"
           }
          ],
          "mesh3d": [
           {
            "colorbar": {
             "outlinewidth": 0,
             "ticks": ""
            },
            "type": "mesh3d"
           }
          ],
          "parcoords": [
           {
            "line": {
             "colorbar": {
              "outlinewidth": 0,
              "ticks": ""
             }
            },
            "type": "parcoords"
           }
          ],
          "pie": [
           {
            "automargin": true,
            "type": "pie"
           }
          ],
          "scatter": [
           {
            "fillpattern": {
             "fillmode": "overlay",
             "size": 10,
             "solidity": 0.2
            },
            "type": "scatter"
           }
          ],
          "scatter3d": [
           {
            "line": {
             "colorbar": {
              "outlinewidth": 0,
              "ticks": ""
             }
            },
            "marker": {
             "colorbar": {
              "outlinewidth": 0,
              "ticks": ""
             }
            },
            "type": "scatter3d"
           }
          ],
          "scattercarpet": [
           {
            "marker": {
             "colorbar": {
              "outlinewidth": 0,
              "ticks": ""
             }
            },
            "type": "scattercarpet"
           }
          ],
          "scattergeo": [
           {
            "marker": {
             "colorbar": {
              "outlinewidth": 0,
              "ticks": ""
             }
            },
            "type": "scattergeo"
           }
          ],
          "scattergl": [
           {
            "marker": {
             "colorbar": {
              "outlinewidth": 0,
              "ticks": ""
             }
            },
            "type": "scattergl"
           }
          ],
          "scattermapbox": [
           {
            "marker": {
             "colorbar": {
              "outlinewidth": 0,
              "ticks": ""
             }
            },
            "type": "scattermapbox"
           }
          ],
          "scatterpolar": [
           {
            "marker": {
             "colorbar": {
              "outlinewidth": 0,
              "ticks": ""
             }
            },
            "type": "scatterpolar"
           }
          ],
          "scatterpolargl": [
           {
            "marker": {
             "colorbar": {
              "outlinewidth": 0,
              "ticks": ""
             }
            },
            "type": "scatterpolargl"
           }
          ],
          "scatterternary": [
           {
            "marker": {
             "colorbar": {
              "outlinewidth": 0,
              "ticks": ""
             }
            },
            "type": "scatterternary"
           }
          ],
          "surface": [
           {
            "colorbar": {
             "outlinewidth": 0,
             "ticks": ""
            },
            "colorscale": [
             [
              0,
              "#0d0887"
             ],
             [
              0.1111111111111111,
              "#46039f"
             ],
             [
              0.2222222222222222,
              "#7201a8"
             ],
             [
              0.3333333333333333,
              "#9c179e"
             ],
             [
              0.4444444444444444,
              "#bd3786"
             ],
             [
              0.5555555555555556,
              "#d8576b"
             ],
             [
              0.6666666666666666,
              "#ed7953"
             ],
             [
              0.7777777777777778,
              "#fb9f3a"
             ],
             [
              0.8888888888888888,
              "#fdca26"
             ],
             [
              1,
              "#f0f921"
             ]
            ],
            "type": "surface"
           }
          ],
          "table": [
           {
            "cells": {
             "fill": {
              "color": "#EBF0F8"
             },
             "line": {
              "color": "white"
             }
            },
            "header": {
             "fill": {
              "color": "#C8D4E3"
             },
             "line": {
              "color": "white"
             }
            },
            "type": "table"
           }
          ]
         },
         "layout": {
          "annotationdefaults": {
           "arrowcolor": "#2a3f5f",
           "arrowhead": 0,
           "arrowwidth": 1
          },
          "autotypenumbers": "strict",
          "coloraxis": {
           "colorbar": {
            "outlinewidth": 0,
            "ticks": ""
           }
          },
          "colorscale": {
           "diverging": [
            [
             0,
             "#8e0152"
            ],
            [
             0.1,
             "#c51b7d"
            ],
            [
             0.2,
             "#de77ae"
            ],
            [
             0.3,
             "#f1b6da"
            ],
            [
             0.4,
             "#fde0ef"
            ],
            [
             0.5,
             "#f7f7f7"
            ],
            [
             0.6,
             "#e6f5d0"
            ],
            [
             0.7,
             "#b8e186"
            ],
            [
             0.8,
             "#7fbc41"
            ],
            [
             0.9,
             "#4d9221"
            ],
            [
             1,
             "#276419"
            ]
           ],
           "sequential": [
            [
             0,
             "#0d0887"
            ],
            [
             0.1111111111111111,
             "#46039f"
            ],
            [
             0.2222222222222222,
             "#7201a8"
            ],
            [
             0.3333333333333333,
             "#9c179e"
            ],
            [
             0.4444444444444444,
             "#bd3786"
            ],
            [
             0.5555555555555556,
             "#d8576b"
            ],
            [
             0.6666666666666666,
             "#ed7953"
            ],
            [
             0.7777777777777778,
             "#fb9f3a"
            ],
            [
             0.8888888888888888,
             "#fdca26"
            ],
            [
             1,
             "#f0f921"
            ]
           ],
           "sequentialminus": [
            [
             0,
             "#0d0887"
            ],
            [
             0.1111111111111111,
             "#46039f"
            ],
            [
             0.2222222222222222,
             "#7201a8"
            ],
            [
             0.3333333333333333,
             "#9c179e"
            ],
            [
             0.4444444444444444,
             "#bd3786"
            ],
            [
             0.5555555555555556,
             "#d8576b"
            ],
            [
             0.6666666666666666,
             "#ed7953"
            ],
            [
             0.7777777777777778,
             "#fb9f3a"
            ],
            [
             0.8888888888888888,
             "#fdca26"
            ],
            [
             1,
             "#f0f921"
            ]
           ]
          },
          "colorway": [
           "#636efa",
           "#EF553B",
           "#00cc96",
           "#ab63fa",
           "#FFA15A",
           "#19d3f3",
           "#FF6692",
           "#B6E880",
           "#FF97FF",
           "#FECB52"
          ],
          "font": {
           "color": "#2a3f5f"
          },
          "geo": {
           "bgcolor": "white",
           "lakecolor": "white",
           "landcolor": "#E5ECF6",
           "showlakes": true,
           "showland": true,
           "subunitcolor": "white"
          },
          "hoverlabel": {
           "align": "left"
          },
          "hovermode": "closest",
          "mapbox": {
           "style": "light"
          },
          "paper_bgcolor": "white",
          "plot_bgcolor": "#E5ECF6",
          "polar": {
           "angularaxis": {
            "gridcolor": "white",
            "linecolor": "white",
            "ticks": ""
           },
           "bgcolor": "#E5ECF6",
           "radialaxis": {
            "gridcolor": "white",
            "linecolor": "white",
            "ticks": ""
           }
          },
          "scene": {
           "xaxis": {
            "backgroundcolor": "#E5ECF6",
            "gridcolor": "white",
            "gridwidth": 2,
            "linecolor": "white",
            "showbackground": true,
            "ticks": "",
            "zerolinecolor": "white"
           },
           "yaxis": {
            "backgroundcolor": "#E5ECF6",
            "gridcolor": "white",
            "gridwidth": 2,
            "linecolor": "white",
            "showbackground": true,
            "ticks": "",
            "zerolinecolor": "white"
           },
           "zaxis": {
            "backgroundcolor": "#E5ECF6",
            "gridcolor": "white",
            "gridwidth": 2,
            "linecolor": "white",
            "showbackground": true,
            "ticks": "",
            "zerolinecolor": "white"
           }
          },
          "shapedefaults": {
           "line": {
            "color": "#2a3f5f"
           }
          },
          "ternary": {
           "aaxis": {
            "gridcolor": "white",
            "linecolor": "white",
            "ticks": ""
           },
           "baxis": {
            "gridcolor": "white",
            "linecolor": "white",
            "ticks": ""
           },
           "bgcolor": "#E5ECF6",
           "caxis": {
            "gridcolor": "white",
            "linecolor": "white",
            "ticks": ""
           }
          },
          "title": {
           "x": 0.05
          },
          "xaxis": {
           "automargin": true,
           "gridcolor": "white",
           "linecolor": "white",
           "ticks": "",
           "title": {
            "standoff": 15
           },
           "zerolinecolor": "white",
           "zerolinewidth": 2
          },
          "yaxis": {
           "automargin": true,
           "gridcolor": "white",
           "linecolor": "white",
           "ticks": "",
           "title": {
            "standoff": 15
           },
           "zerolinecolor": "white",
           "zerolinewidth": 2
          }
         }
        },
        "title": {
         "text": "isten_ayrilma vs. Mean of mevcut_rolde_gecirilen_yil"
        },
        "xaxis": {
         "anchor": "y",
         "domain": [
          0,
          1
         ],
         "title": {
          "text": "isten_ayrilma"
         }
        },
        "yaxis": {
         "anchor": "x",
         "domain": [
          0,
          1
         ],
         "title": {
          "text": "Mean of mevcut_rolde_gecirilen_yil"
         }
        }
       }
      }
     },
     "metadata": {},
     "output_type": "display_data"
    }
   ],
   "source": [
    "for col in num_cols:\n",
    "    target_summary_with_num_plotly(df, \"isten_ayrilma\", col)"
   ]
  },
  {
   "cell_type": "markdown",
   "id": "5e6275d4",
   "metadata": {},
   "source": [
    "# **Korealasyon Analizi**"
   ]
  },
  {
   "cell_type": "code",
   "execution_count": 13,
   "id": "844d7e3d",
   "metadata": {},
   "outputs": [
    {
     "data": {
      "application/vnd.plotly.v1+json": {
       "config": {
        "plotlyServerURL": "https://plot.ly"
       },
       "data": [
        {
         "colorbar": {
          "title": {
           "text": "Correlation"
          }
         },
         "colorscale": [
          [
           0,
           "#440154"
          ],
          [
           0.1111111111111111,
           "#482878"
          ],
          [
           0.2222222222222222,
           "#3e4989"
          ],
          [
           0.3333333333333333,
           "#31688e"
          ],
          [
           0.4444444444444444,
           "#26828e"
          ],
          [
           0.5555555555555556,
           "#1f9e89"
          ],
          [
           0.6666666666666666,
           "#35b779"
          ],
          [
           0.7777777777777778,
           "#6ece58"
          ],
          [
           0.8888888888888888,
           "#b5de2b"
          ],
          [
           1,
           "#fde725"
          ]
         ],
         "type": "heatmap",
         "x": [
          "yas",
          "aylik_ucret",
          "evden_uzaklik",
          "son_terfiden_bu_yana_gecen_yil",
          "mevcut_rolde_gecirilen_yil"
         ],
         "y": [
          "yas",
          "aylik_ucret",
          "evden_uzaklik",
          "son_terfiden_bu_yana_gecen_yil",
          "mevcut_rolde_gecirilen_yil"
         ],
         "z": [
          [
           1,
           0.02805116713392273,
           -0.00168612014808715,
           0.2165133678516537,
           0.21290105556556793
          ],
          [
           0.02805116713392273,
           1,
           0.02747286354888412,
           0.001566799514676175,
           -0.012814874370471728
          ],
          [
           -0.00168612014808715,
           0.02747286354888412,
           1,
           0.010028835943115395,
           0.018844999108945746
          ],
          [
           0.2165133678516537,
           0.001566799514676175,
           0.010028835943115395,
           1,
           0.5480562476995187
          ],
          [
           0.21290105556556793,
           -0.012814874370471728,
           0.018844999108945746,
           0.5480562476995187,
           1
          ]
         ]
        }
       ],
       "layout": {
        "template": {
         "data": {
          "bar": [
           {
            "error_x": {
             "color": "#2a3f5f"
            },
            "error_y": {
             "color": "#2a3f5f"
            },
            "marker": {
             "line": {
              "color": "#E5ECF6",
              "width": 0.5
             },
             "pattern": {
              "fillmode": "overlay",
              "size": 10,
              "solidity": 0.2
             }
            },
            "type": "bar"
           }
          ],
          "barpolar": [
           {
            "marker": {
             "line": {
              "color": "#E5ECF6",
              "width": 0.5
             },
             "pattern": {
              "fillmode": "overlay",
              "size": 10,
              "solidity": 0.2
             }
            },
            "type": "barpolar"
           }
          ],
          "carpet": [
           {
            "aaxis": {
             "endlinecolor": "#2a3f5f",
             "gridcolor": "white",
             "linecolor": "white",
             "minorgridcolor": "white",
             "startlinecolor": "#2a3f5f"
            },
            "baxis": {
             "endlinecolor": "#2a3f5f",
             "gridcolor": "white",
             "linecolor": "white",
             "minorgridcolor": "white",
             "startlinecolor": "#2a3f5f"
            },
            "type": "carpet"
           }
          ],
          "choropleth": [
           {
            "colorbar": {
             "outlinewidth": 0,
             "ticks": ""
            },
            "type": "choropleth"
           }
          ],
          "contour": [
           {
            "colorbar": {
             "outlinewidth": 0,
             "ticks": ""
            },
            "colorscale": [
             [
              0,
              "#0d0887"
             ],
             [
              0.1111111111111111,
              "#46039f"
             ],
             [
              0.2222222222222222,
              "#7201a8"
             ],
             [
              0.3333333333333333,
              "#9c179e"
             ],
             [
              0.4444444444444444,
              "#bd3786"
             ],
             [
              0.5555555555555556,
              "#d8576b"
             ],
             [
              0.6666666666666666,
              "#ed7953"
             ],
             [
              0.7777777777777778,
              "#fb9f3a"
             ],
             [
              0.8888888888888888,
              "#fdca26"
             ],
             [
              1,
              "#f0f921"
             ]
            ],
            "type": "contour"
           }
          ],
          "contourcarpet": [
           {
            "colorbar": {
             "outlinewidth": 0,
             "ticks": ""
            },
            "type": "contourcarpet"
           }
          ],
          "heatmap": [
           {
            "colorbar": {
             "outlinewidth": 0,
             "ticks": ""
            },
            "colorscale": [
             [
              0,
              "#0d0887"
             ],
             [
              0.1111111111111111,
              "#46039f"
             ],
             [
              0.2222222222222222,
              "#7201a8"
             ],
             [
              0.3333333333333333,
              "#9c179e"
             ],
             [
              0.4444444444444444,
              "#bd3786"
             ],
             [
              0.5555555555555556,
              "#d8576b"
             ],
             [
              0.6666666666666666,
              "#ed7953"
             ],
             [
              0.7777777777777778,
              "#fb9f3a"
             ],
             [
              0.8888888888888888,
              "#fdca26"
             ],
             [
              1,
              "#f0f921"
             ]
            ],
            "type": "heatmap"
           }
          ],
          "heatmapgl": [
           {
            "colorbar": {
             "outlinewidth": 0,
             "ticks": ""
            },
            "colorscale": [
             [
              0,
              "#0d0887"
             ],
             [
              0.1111111111111111,
              "#46039f"
             ],
             [
              0.2222222222222222,
              "#7201a8"
             ],
             [
              0.3333333333333333,
              "#9c179e"
             ],
             [
              0.4444444444444444,
              "#bd3786"
             ],
             [
              0.5555555555555556,
              "#d8576b"
             ],
             [
              0.6666666666666666,
              "#ed7953"
             ],
             [
              0.7777777777777778,
              "#fb9f3a"
             ],
             [
              0.8888888888888888,
              "#fdca26"
             ],
             [
              1,
              "#f0f921"
             ]
            ],
            "type": "heatmapgl"
           }
          ],
          "histogram": [
           {
            "marker": {
             "pattern": {
              "fillmode": "overlay",
              "size": 10,
              "solidity": 0.2
             }
            },
            "type": "histogram"
           }
          ],
          "histogram2d": [
           {
            "colorbar": {
             "outlinewidth": 0,
             "ticks": ""
            },
            "colorscale": [
             [
              0,
              "#0d0887"
             ],
             [
              0.1111111111111111,
              "#46039f"
             ],
             [
              0.2222222222222222,
              "#7201a8"
             ],
             [
              0.3333333333333333,
              "#9c179e"
             ],
             [
              0.4444444444444444,
              "#bd3786"
             ],
             [
              0.5555555555555556,
              "#d8576b"
             ],
             [
              0.6666666666666666,
              "#ed7953"
             ],
             [
              0.7777777777777778,
              "#fb9f3a"
             ],
             [
              0.8888888888888888,
              "#fdca26"
             ],
             [
              1,
              "#f0f921"
             ]
            ],
            "type": "histogram2d"
           }
          ],
          "histogram2dcontour": [
           {
            "colorbar": {
             "outlinewidth": 0,
             "ticks": ""
            },
            "colorscale": [
             [
              0,
              "#0d0887"
             ],
             [
              0.1111111111111111,
              "#46039f"
             ],
             [
              0.2222222222222222,
              "#7201a8"
             ],
             [
              0.3333333333333333,
              "#9c179e"
             ],
             [
              0.4444444444444444,
              "#bd3786"
             ],
             [
              0.5555555555555556,
              "#d8576b"
             ],
             [
              0.6666666666666666,
              "#ed7953"
             ],
             [
              0.7777777777777778,
              "#fb9f3a"
             ],
             [
              0.8888888888888888,
              "#fdca26"
             ],
             [
              1,
              "#f0f921"
             ]
            ],
            "type": "histogram2dcontour"
           }
          ],
          "mesh3d": [
           {
            "colorbar": {
             "outlinewidth": 0,
             "ticks": ""
            },
            "type": "mesh3d"
           }
          ],
          "parcoords": [
           {
            "line": {
             "colorbar": {
              "outlinewidth": 0,
              "ticks": ""
             }
            },
            "type": "parcoords"
           }
          ],
          "pie": [
           {
            "automargin": true,
            "type": "pie"
           }
          ],
          "scatter": [
           {
            "fillpattern": {
             "fillmode": "overlay",
             "size": 10,
             "solidity": 0.2
            },
            "type": "scatter"
           }
          ],
          "scatter3d": [
           {
            "line": {
             "colorbar": {
              "outlinewidth": 0,
              "ticks": ""
             }
            },
            "marker": {
             "colorbar": {
              "outlinewidth": 0,
              "ticks": ""
             }
            },
            "type": "scatter3d"
           }
          ],
          "scattercarpet": [
           {
            "marker": {
             "colorbar": {
              "outlinewidth": 0,
              "ticks": ""
             }
            },
            "type": "scattercarpet"
           }
          ],
          "scattergeo": [
           {
            "marker": {
             "colorbar": {
              "outlinewidth": 0,
              "ticks": ""
             }
            },
            "type": "scattergeo"
           }
          ],
          "scattergl": [
           {
            "marker": {
             "colorbar": {
              "outlinewidth": 0,
              "ticks": ""
             }
            },
            "type": "scattergl"
           }
          ],
          "scattermapbox": [
           {
            "marker": {
             "colorbar": {
              "outlinewidth": 0,
              "ticks": ""
             }
            },
            "type": "scattermapbox"
           }
          ],
          "scatterpolar": [
           {
            "marker": {
             "colorbar": {
              "outlinewidth": 0,
              "ticks": ""
             }
            },
            "type": "scatterpolar"
           }
          ],
          "scatterpolargl": [
           {
            "marker": {
             "colorbar": {
              "outlinewidth": 0,
              "ticks": ""
             }
            },
            "type": "scatterpolargl"
           }
          ],
          "scatterternary": [
           {
            "marker": {
             "colorbar": {
              "outlinewidth": 0,
              "ticks": ""
             }
            },
            "type": "scatterternary"
           }
          ],
          "surface": [
           {
            "colorbar": {
             "outlinewidth": 0,
             "ticks": ""
            },
            "colorscale": [
             [
              0,
              "#0d0887"
             ],
             [
              0.1111111111111111,
              "#46039f"
             ],
             [
              0.2222222222222222,
              "#7201a8"
             ],
             [
              0.3333333333333333,
              "#9c179e"
             ],
             [
              0.4444444444444444,
              "#bd3786"
             ],
             [
              0.5555555555555556,
              "#d8576b"
             ],
             [
              0.6666666666666666,
              "#ed7953"
             ],
             [
              0.7777777777777778,
              "#fb9f3a"
             ],
             [
              0.8888888888888888,
              "#fdca26"
             ],
             [
              1,
              "#f0f921"
             ]
            ],
            "type": "surface"
           }
          ],
          "table": [
           {
            "cells": {
             "fill": {
              "color": "#EBF0F8"
             },
             "line": {
              "color": "white"
             }
            },
            "header": {
             "fill": {
              "color": "#C8D4E3"
             },
             "line": {
              "color": "white"
             }
            },
            "type": "table"
           }
          ]
         },
         "layout": {
          "annotationdefaults": {
           "arrowcolor": "#2a3f5f",
           "arrowhead": 0,
           "arrowwidth": 1
          },
          "autotypenumbers": "strict",
          "coloraxis": {
           "colorbar": {
            "outlinewidth": 0,
            "ticks": ""
           }
          },
          "colorscale": {
           "diverging": [
            [
             0,
             "#8e0152"
            ],
            [
             0.1,
             "#c51b7d"
            ],
            [
             0.2,
             "#de77ae"
            ],
            [
             0.3,
             "#f1b6da"
            ],
            [
             0.4,
             "#fde0ef"
            ],
            [
             0.5,
             "#f7f7f7"
            ],
            [
             0.6,
             "#e6f5d0"
            ],
            [
             0.7,
             "#b8e186"
            ],
            [
             0.8,
             "#7fbc41"
            ],
            [
             0.9,
             "#4d9221"
            ],
            [
             1,
             "#276419"
            ]
           ],
           "sequential": [
            [
             0,
             "#0d0887"
            ],
            [
             0.1111111111111111,
             "#46039f"
            ],
            [
             0.2222222222222222,
             "#7201a8"
            ],
            [
             0.3333333333333333,
             "#9c179e"
            ],
            [
             0.4444444444444444,
             "#bd3786"
            ],
            [
             0.5555555555555556,
             "#d8576b"
            ],
            [
             0.6666666666666666,
             "#ed7953"
            ],
            [
             0.7777777777777778,
             "#fb9f3a"
            ],
            [
             0.8888888888888888,
             "#fdca26"
            ],
            [
             1,
             "#f0f921"
            ]
           ],
           "sequentialminus": [
            [
             0,
             "#0d0887"
            ],
            [
             0.1111111111111111,
             "#46039f"
            ],
            [
             0.2222222222222222,
             "#7201a8"
            ],
            [
             0.3333333333333333,
             "#9c179e"
            ],
            [
             0.4444444444444444,
             "#bd3786"
            ],
            [
             0.5555555555555556,
             "#d8576b"
            ],
            [
             0.6666666666666666,
             "#ed7953"
            ],
            [
             0.7777777777777778,
             "#fb9f3a"
            ],
            [
             0.8888888888888888,
             "#fdca26"
            ],
            [
             1,
             "#f0f921"
            ]
           ]
          },
          "colorway": [
           "#636efa",
           "#EF553B",
           "#00cc96",
           "#ab63fa",
           "#FFA15A",
           "#19d3f3",
           "#FF6692",
           "#B6E880",
           "#FF97FF",
           "#FECB52"
          ],
          "font": {
           "color": "#2a3f5f"
          },
          "geo": {
           "bgcolor": "white",
           "lakecolor": "white",
           "landcolor": "#E5ECF6",
           "showlakes": true,
           "showland": true,
           "subunitcolor": "white"
          },
          "hoverlabel": {
           "align": "left"
          },
          "hovermode": "closest",
          "mapbox": {
           "style": "light"
          },
          "paper_bgcolor": "white",
          "plot_bgcolor": "#E5ECF6",
          "polar": {
           "angularaxis": {
            "gridcolor": "white",
            "linecolor": "white",
            "ticks": ""
           },
           "bgcolor": "#E5ECF6",
           "radialaxis": {
            "gridcolor": "white",
            "linecolor": "white",
            "ticks": ""
           }
          },
          "scene": {
           "xaxis": {
            "backgroundcolor": "#E5ECF6",
            "gridcolor": "white",
            "gridwidth": 2,
            "linecolor": "white",
            "showbackground": true,
            "ticks": "",
            "zerolinecolor": "white"
           },
           "yaxis": {
            "backgroundcolor": "#E5ECF6",
            "gridcolor": "white",
            "gridwidth": 2,
            "linecolor": "white",
            "showbackground": true,
            "ticks": "",
            "zerolinecolor": "white"
           },
           "zaxis": {
            "backgroundcolor": "#E5ECF6",
            "gridcolor": "white",
            "gridwidth": 2,
            "linecolor": "white",
            "showbackground": true,
            "ticks": "",
            "zerolinecolor": "white"
           }
          },
          "shapedefaults": {
           "line": {
            "color": "#2a3f5f"
           }
          },
          "ternary": {
           "aaxis": {
            "gridcolor": "white",
            "linecolor": "white",
            "ticks": ""
           },
           "baxis": {
            "gridcolor": "white",
            "linecolor": "white",
            "ticks": ""
           },
           "bgcolor": "#E5ECF6",
           "caxis": {
            "gridcolor": "white",
            "linecolor": "white",
            "ticks": ""
           }
          },
          "title": {
           "x": 0.05
          },
          "xaxis": {
           "automargin": true,
           "gridcolor": "white",
           "linecolor": "white",
           "ticks": "",
           "title": {
            "standoff": 15
           },
           "zerolinecolor": "white",
           "zerolinewidth": 2
          },
          "yaxis": {
           "automargin": true,
           "gridcolor": "white",
           "linecolor": "white",
           "ticks": "",
           "title": {
            "standoff": 15
           },
           "zerolinecolor": "white",
           "zerolinewidth": 2
          }
         }
        },
        "title": {
         "text": "Correlation Heatmap"
        },
        "xaxis": {
         "title": {
          "text": "Features"
         }
        },
        "yaxis": {
         "title": {
          "text": "Features"
         }
        }
       }
      }
     },
     "metadata": {},
     "output_type": "display_data"
    }
   ],
   "source": [
    "numerical_df = df[num_cols]\n",
    "correlation_heatmap(numerical_df)"
   ]
  },
  {
   "cell_type": "markdown",
   "id": "4b83fc30",
   "metadata": {},
   "source": [
    "# **Eksik Verilerin İncelenmesi**"
   ]
  },
  {
   "cell_type": "code",
   "execution_count": 14,
   "id": "3be42c04",
   "metadata": {},
   "outputs": [
    {
     "name": "stdout",
     "output_type": "stream",
     "text": [
      "Veri setinde eksik veya açıklanmayan veri yok.\n"
     ]
    }
   ],
   "source": [
    "check_missing_data_plotly(df)"
   ]
  },
  {
   "cell_type": "markdown",
   "id": "afddd762",
   "metadata": {},
   "source": [
    "# **Aykırı Değer Analizi**"
   ]
  },
  {
   "cell_type": "code",
   "execution_count": 15,
   "id": "9d4949e6",
   "metadata": {},
   "outputs": [
    {
     "data": {
      "application/vnd.plotly.v1+json": {
       "config": {
        "plotlyServerURL": "https://plot.ly"
       },
       "data": [
        {
         "alignmentgroup": "True",
         "hovertemplate": "yas=%{y}<extra></extra>",
         "legendgroup": "",
         "marker": {
          "color": "#636efa"
         },
         "name": "",
         "notched": false,
         "offsetgroup": "",
         "orientation": "v",
         "showlegend": false,
         "type": "box",
         "x0": " ",
         "xaxis": "x",
         "y": [
          41,
          49,
          37,
          33,
          27,
          32,
          59,
          30,
          38,
          36,
          35,
          29,
          31,
          34,
          28,
          29,
          32,
          22,
          53,
          38,
          24,
          36,
          34,
          21,
          34,
          53,
          32,
          42,
          44,
          46,
          33,
          44,
          30,
          39,
          24,
          43,
          50,
          35,
          36,
          33,
          35,
          27,
          26,
          27,
          30,
          41,
          34,
          37,
          46,
          35,
          48,
          28,
          44,
          35,
          26,
          33,
          35,
          35,
          31,
          37,
          32,
          38,
          50,
          59,
          36,
          55,
          36,
          45,
          35,
          36,
          59,
          29,
          31,
          32,
          36,
          31,
          35,
          45,
          37,
          46,
          30,
          35,
          55,
          38,
          34,
          56,
          23,
          51,
          30,
          46,
          40,
          51,
          30,
          46,
          32,
          54,
          24,
          28,
          58,
          44,
          37,
          32,
          20,
          34,
          37,
          59,
          50,
          25,
          25,
          22,
          51,
          34,
          54,
          24,
          34,
          37,
          34,
          36,
          36,
          43,
          30,
          33,
          56,
          51,
          31,
          26,
          58,
          19,
          22,
          49,
          43,
          50,
          31,
          41,
          26,
          36,
          51,
          39,
          25,
          30,
          32,
          45,
          38,
          30,
          32,
          30,
          30,
          41,
          41,
          19,
          40,
          35,
          53,
          45,
          32,
          29,
          51,
          58,
          40,
          34,
          22,
          27,
          28,
          57,
          27,
          50,
          41,
          30,
          38,
          32,
          27,
          19,
          36,
          30,
          45,
          56,
          33,
          19,
          46,
          38,
          31,
          34,
          41,
          50,
          53,
          33,
          40,
          55,
          34,
          51,
          52,
          27,
          35,
          43,
          45,
          37,
          35,
          42,
          38,
          38,
          27,
          49,
          34,
          40,
          38,
          29,
          22,
          36,
          40,
          46,
          32,
          30,
          27,
          51,
          30,
          41,
          30,
          29,
          45,
          54,
          36,
          33,
          37,
          38,
          31,
          59,
          37,
          29,
          35,
          29,
          52,
          42,
          59,
          50,
          33,
          43,
          33,
          52,
          32,
          32,
          39,
          32,
          41,
          40,
          45,
          31,
          33,
          34,
          37,
          45,
          37,
          39,
          29,
          42,
          29,
          25,
          42,
          40,
          51,
          31,
          32,
          38,
          32,
          46,
          28,
          29,
          31,
          25,
          45,
          36,
          55,
          47,
          28,
          37,
          21,
          37,
          35,
          38,
          26,
          50,
          53,
          42,
          29,
          55,
          26,
          37,
          44,
          38,
          26,
          28,
          49,
          36,
          31,
          26,
          37,
          42,
          18,
          35,
          36,
          51,
          41,
          18,
          28,
          31,
          39,
          36,
          32,
          38,
          58,
          31,
          31,
          45,
          31,
          33,
          39,
          43,
          49,
          52,
          27,
          32,
          27,
          31,
          32,
          28,
          30,
          31,
          39,
          39,
          33,
          47,
          43,
          27,
          54,
          43,
          45,
          40,
          29,
          29,
          30,
          27,
          37,
          38,
          31,
          29,
          35,
          23,
          41,
          47,
          42,
          29,
          42,
          32,
          48,
          37,
          30,
          26,
          42,
          21,
          36,
          36,
          57,
          40,
          21,
          33,
          37,
          46,
          41,
          50,
          40,
          31,
          21,
          29,
          35,
          27,
          28,
          49,
          51,
          36,
          34,
          55,
          24,
          30,
          26,
          22,
          36,
          30,
          37,
          40,
          42,
          37,
          43,
          40,
          54,
          34,
          31,
          43,
          43,
          25,
          37,
          31,
          39,
          56,
          30,
          41,
          28,
          25,
          52,
          45,
          52,
          42,
          30,
          60,
          46,
          42,
          24,
          34,
          38,
          40,
          26,
          30,
          29,
          29,
          19,
          30,
          57,
          50,
          30,
          60,
          47,
          46,
          35,
          54,
          34,
          46,
          31,
          33,
          33,
          30,
          35,
          31,
          34,
          42,
          36,
          22,
          48,
          55,
          41,
          35,
          40,
          39,
          31,
          42,
          45,
          26,
          29,
          33,
          31,
          18,
          40,
          41,
          26,
          35,
          34,
          26,
          37,
          46,
          41,
          37,
          52,
          32,
          24,
          38,
          37,
          49,
          24,
          26,
          24,
          50,
          25,
          24,
          30,
          34,
          31,
          35,
          31,
          27,
          37,
          20,
          42,
          43,
          38,
          43,
          48,
          44,
          34,
          27,
          21,
          44,
          22,
          33,
          32,
          30,
          53,
          34,
          45,
          26,
          37,
          29,
          35,
          33,
          54,
          36,
          27,
          20,
          33,
          35,
          23,
          25,
          38,
          29,
          48,
          27,
          37,
          50,
          34,
          24,
          39,
          32,
          50,
          38,
          27,
          32,
          47,
          40,
          53,
          41,
          60,
          27,
          41,
          50,
          28,
          36,
          38,
          44,
          47,
          30,
          29,
          42,
          43,
          34,
          23,
          39,
          56,
          40,
          27,
          29,
          53,
          35,
          32,
          38,
          34,
          52,
          33,
          25,
          45,
          23,
          47,
          34,
          55,
          36,
          52,
          26,
          29,
          26,
          34,
          54,
          27,
          37,
          38,
          34,
          35,
          30,
          40,
          34,
          42,
          23,
          24,
          52,
          50,
          29,
          33,
          33,
          47,
          36,
          29,
          58,
          35,
          42,
          28,
          36,
          32,
          40,
          30,
          45,
          42,
          38,
          34,
          49,
          55,
          43,
          27,
          35,
          28,
          34,
          26,
          27,
          51,
          44,
          25,
          33,
          35,
          36,
          32,
          30,
          53,
          45,
          32,
          52,
          37,
          28,
          22,
          44,
          42,
          36,
          25,
          35,
          35,
          32,
          25,
          49,
          24,
          32,
          38,
          42,
          31,
          29,
          53,
          35,
          37,
          53,
          43,
          47,
          37,
          50,
          39,
          33,
          32,
          29,
          44,
          28,
          58,
          43,
          20,
          21,
          36,
          47,
          22,
          41,
          28,
          39,
          27,
          34,
          42,
          33,
          58,
          31,
          35,
          49,
          48,
          31,
          36,
          38,
          32,
          25,
          40,
          26,
          41,
          36,
          19,
          20,
          31,
          40,
          32,
          36,
          33,
          37,
          45,
          29,
          35,
          52,
          58,
          53,
          30,
          38,
          35,
          39,
          40,
          47,
          36,
          31,
          33,
          29,
          33,
          45,
          50,
          33,
          41,
          27,
          45,
          47,
          30,
          50,
          38,
          46,
          24,
          35,
          31,
          18,
          54,
          35,
          30,
          20,
          30,
          26,
          22,
          48,
          48,
          41,
          39,
          27,
          35,
          42,
          50,
          59,
          37,
          55,
          41,
          38,
          26,
          52,
          44,
          50,
          36,
          39,
          33,
          45,
          32,
          34,
          59,
          45,
          53,
          36,
          26,
          34,
          28,
          38,
          50,
          37,
          40,
          26,
          46,
          54,
          56,
          36,
          55,
          43,
          20,
          21,
          46,
          51,
          28,
          26,
          30,
          41,
          38,
          40,
          27,
          55,
          28,
          44,
          33,
          35,
          33,
          28,
          34,
          37,
          25,
          26,
          33,
          42,
          28,
          50,
          33,
          34,
          48,
          45,
          52,
          38,
          29,
          28,
          46,
          38,
          43,
          39,
          40,
          21,
          39,
          36,
          31,
          28,
          35,
          49,
          34,
          29,
          42,
          29,
          38,
          28,
          18,
          33,
          41,
          31,
          37,
          27,
          34,
          35,
          29,
          40,
          42,
          42,
          35,
          24,
          28,
          26,
          30,
          40,
          35,
          34,
          35,
          43,
          32,
          56,
          29,
          19,
          45,
          37,
          20,
          44,
          53,
          29,
          22,
          46,
          44,
          33,
          41,
          30,
          40,
          50,
          28,
          46,
          35,
          24,
          33,
          36,
          30,
          44,
          20,
          46,
          42,
          60,
          32,
          32,
          36,
          33,
          40,
          25,
          30,
          42,
          35,
          27,
          54,
          44,
          19,
          29,
          54,
          31,
          31,
          59,
          43,
          49,
          36,
          48,
          27,
          29,
          48,
          29,
          34,
          44,
          33,
          19,
          23,
          25,
          26,
          45,
          55,
          21,
          46,
          34,
          51,
          59,
          34,
          28,
          44,
          34,
          35,
          42,
          43,
          36,
          44,
          28,
          51,
          30,
          29,
          28,
          25,
          32,
          45,
          39,
          58,
          32,
          39,
          30,
          36,
          46,
          28,
          50,
          40,
          52,
          30,
          39,
          31,
          41,
          31,
          44,
          42,
          55,
          56,
          40,
          34,
          40,
          41,
          35,
          51,
          38,
          34,
          25,
          58,
          40,
          36,
          48,
          27,
          51,
          18,
          35,
          27,
          55,
          56,
          34,
          40,
          34,
          31,
          35,
          38,
          34,
          28,
          31,
          39,
          51,
          41,
          37,
          33,
          32,
          39,
          25,
          52,
          43,
          27,
          27,
          26,
          42,
          52,
          37,
          35,
          25,
          26,
          29,
          49,
          29,
          54,
          58,
          55,
          36,
          31,
          30,
          31,
          34,
          31,
          27,
          36,
          36,
          47,
          25,
          37,
          56,
          47,
          24,
          32,
          34,
          41,
          40,
          31,
          46,
          39,
          31,
          45,
          31,
          31,
          45,
          48,
          34,
          40,
          28,
          44,
          53,
          49,
          40,
          44,
          33,
          34,
          30,
          42,
          44,
          30,
          57,
          49,
          34,
          28,
          29,
          34,
          35,
          24,
          24,
          44,
          29,
          30,
          55,
          33,
          47,
          28,
          28,
          28,
          49,
          29,
          28,
          33,
          32,
          54,
          29,
          44,
          39,
          46,
          35,
          23,
          40,
          34,
          31,
          50,
          34,
          42,
          37,
          29,
          33,
          45,
          42,
          40,
          33,
          40,
          24,
          40,
          45,
          35,
          32,
          36,
          48,
          29,
          33,
          30,
          38,
          35,
          30,
          35,
          53,
          38,
          32,
          48,
          34,
          55,
          34,
          26,
          38,
          38,
          36,
          29,
          35,
          39,
          29,
          50,
          23,
          36,
          42,
          35,
          34,
          40,
          43,
          35,
          46,
          28,
          22,
          50,
          32,
          44,
          30,
          45,
          45,
          31,
          36,
          34,
          49,
          39,
          27,
          35,
          28,
          21,
          18,
          47,
          39,
          40,
          35,
          37,
          39,
          45,
          38,
          35,
          37,
          40,
          44,
          48,
          35,
          24,
          27,
          27,
          40,
          29,
          36,
          25,
          39,
          49,
          50,
          20,
          34,
          36,
          49,
          36,
          36,
          54,
          43,
          35,
          38,
          29,
          33,
          32,
          31,
          49,
          38,
          47,
          49,
          41,
          20,
          33,
          36,
          44,
          23,
          38,
          53,
          48,
          32,
          26,
          55,
          34,
          60,
          33,
          37,
          34,
          23,
          44,
          35,
          43,
          24,
          41,
          29,
          36,
          45,
          24,
          47,
          26,
          45,
          32,
          31,
          41,
          40,
          24,
          46,
          35,
          30,
          47,
          46,
          36,
          32,
          23,
          31,
          39,
          32,
          40,
          45,
          30,
          24,
          30,
          31,
          27,
          29,
          29,
          30,
          34,
          33,
          49,
          33,
          38,
          31,
          29,
          30,
          32,
          38,
          43,
          42,
          55,
          33,
          41,
          34,
          53,
          43,
          34,
          21,
          38,
          22,
          31,
          51,
          37,
          46,
          36,
          44,
          37,
          35,
          33,
          28,
          39,
          46,
          40,
          42,
          35,
          38,
          34,
          37,
          39,
          43,
          41,
          41,
          30,
          26,
          46,
          40,
          34,
          58,
          35,
          47,
          40,
          54,
          31,
          28,
          38,
          26,
          58,
          18,
          31,
          29,
          45,
          36,
          43,
          27,
          29,
          32,
          42,
          47,
          46,
          28,
          29,
          42,
          32,
          46,
          27,
          29,
          43,
          48,
          29,
          46,
          27,
          39,
          55,
          28,
          30,
          22,
          36,
          31,
          34,
          29,
          37,
          35,
          45,
          36,
          40,
          26,
          27,
          48,
          44,
          34,
          56,
          36,
          41,
          42,
          31,
          34,
          31,
          26,
          45,
          33,
          28,
          29,
          39,
          27,
          34,
          28,
          47,
          56,
          39,
          38,
          58,
          32,
          38,
          49,
          42,
          27,
          35,
          28,
          31,
          36,
          34,
          34,
          26,
          29,
          32,
          31,
          28,
          38,
          35,
          27,
          32,
          31,
          53,
          54,
          33,
          43,
          38,
          55,
          31,
          39,
          42,
          31,
          54,
          24,
          23,
          40,
          40,
          25,
          30,
          25,
          47,
          33,
          38,
          31,
          38,
          42,
          41,
          47,
          35,
          22,
          35,
          33,
          32,
          40,
          32,
          39,
          38,
          32,
          37,
          25,
          52,
          44,
          21,
          39,
          23,
          36,
          36,
          56,
          29,
          42,
          56,
          41,
          34,
          36,
          41,
          32,
          35,
          38,
          50,
          36,
          45,
          40,
          35,
          40,
          35,
          29,
          29,
          50,
          39,
          31,
          26,
          36,
          39,
          27,
          49,
          34
         ],
         "y0": " ",
         "yaxis": "y"
        }
       ],
       "layout": {
        "boxmode": "group",
        "legend": {
         "tracegroupgap": 0
        },
        "shapes": [
         {
          "line": {
           "color": "red",
           "width": 2
          },
          "type": "line",
          "x0": 10.5,
          "x1": 10.5,
          "y0": 10.5,
          "y1": 62.5
         },
         {
          "line": {
           "color": "red",
           "width": 2
          },
          "type": "line",
          "x0": 62.5,
          "x1": 62.5,
          "y0": 10.5,
          "y1": 62.5
         }
        ],
        "template": {
         "data": {
          "bar": [
           {
            "error_x": {
             "color": "#2a3f5f"
            },
            "error_y": {
             "color": "#2a3f5f"
            },
            "marker": {
             "line": {
              "color": "#E5ECF6",
              "width": 0.5
             },
             "pattern": {
              "fillmode": "overlay",
              "size": 10,
              "solidity": 0.2
             }
            },
            "type": "bar"
           }
          ],
          "barpolar": [
           {
            "marker": {
             "line": {
              "color": "#E5ECF6",
              "width": 0.5
             },
             "pattern": {
              "fillmode": "overlay",
              "size": 10,
              "solidity": 0.2
             }
            },
            "type": "barpolar"
           }
          ],
          "carpet": [
           {
            "aaxis": {
             "endlinecolor": "#2a3f5f",
             "gridcolor": "white",
             "linecolor": "white",
             "minorgridcolor": "white",
             "startlinecolor": "#2a3f5f"
            },
            "baxis": {
             "endlinecolor": "#2a3f5f",
             "gridcolor": "white",
             "linecolor": "white",
             "minorgridcolor": "white",
             "startlinecolor": "#2a3f5f"
            },
            "type": "carpet"
           }
          ],
          "choropleth": [
           {
            "colorbar": {
             "outlinewidth": 0,
             "ticks": ""
            },
            "type": "choropleth"
           }
          ],
          "contour": [
           {
            "colorbar": {
             "outlinewidth": 0,
             "ticks": ""
            },
            "colorscale": [
             [
              0,
              "#0d0887"
             ],
             [
              0.1111111111111111,
              "#46039f"
             ],
             [
              0.2222222222222222,
              "#7201a8"
             ],
             [
              0.3333333333333333,
              "#9c179e"
             ],
             [
              0.4444444444444444,
              "#bd3786"
             ],
             [
              0.5555555555555556,
              "#d8576b"
             ],
             [
              0.6666666666666666,
              "#ed7953"
             ],
             [
              0.7777777777777778,
              "#fb9f3a"
             ],
             [
              0.8888888888888888,
              "#fdca26"
             ],
             [
              1,
              "#f0f921"
             ]
            ],
            "type": "contour"
           }
          ],
          "contourcarpet": [
           {
            "colorbar": {
             "outlinewidth": 0,
             "ticks": ""
            },
            "type": "contourcarpet"
           }
          ],
          "heatmap": [
           {
            "colorbar": {
             "outlinewidth": 0,
             "ticks": ""
            },
            "colorscale": [
             [
              0,
              "#0d0887"
             ],
             [
              0.1111111111111111,
              "#46039f"
             ],
             [
              0.2222222222222222,
              "#7201a8"
             ],
             [
              0.3333333333333333,
              "#9c179e"
             ],
             [
              0.4444444444444444,
              "#bd3786"
             ],
             [
              0.5555555555555556,
              "#d8576b"
             ],
             [
              0.6666666666666666,
              "#ed7953"
             ],
             [
              0.7777777777777778,
              "#fb9f3a"
             ],
             [
              0.8888888888888888,
              "#fdca26"
             ],
             [
              1,
              "#f0f921"
             ]
            ],
            "type": "heatmap"
           }
          ],
          "heatmapgl": [
           {
            "colorbar": {
             "outlinewidth": 0,
             "ticks": ""
            },
            "colorscale": [
             [
              0,
              "#0d0887"
             ],
             [
              0.1111111111111111,
              "#46039f"
             ],
             [
              0.2222222222222222,
              "#7201a8"
             ],
             [
              0.3333333333333333,
              "#9c179e"
             ],
             [
              0.4444444444444444,
              "#bd3786"
             ],
             [
              0.5555555555555556,
              "#d8576b"
             ],
             [
              0.6666666666666666,
              "#ed7953"
             ],
             [
              0.7777777777777778,
              "#fb9f3a"
             ],
             [
              0.8888888888888888,
              "#fdca26"
             ],
             [
              1,
              "#f0f921"
             ]
            ],
            "type": "heatmapgl"
           }
          ],
          "histogram": [
           {
            "marker": {
             "pattern": {
              "fillmode": "overlay",
              "size": 10,
              "solidity": 0.2
             }
            },
            "type": "histogram"
           }
          ],
          "histogram2d": [
           {
            "colorbar": {
             "outlinewidth": 0,
             "ticks": ""
            },
            "colorscale": [
             [
              0,
              "#0d0887"
             ],
             [
              0.1111111111111111,
              "#46039f"
             ],
             [
              0.2222222222222222,
              "#7201a8"
             ],
             [
              0.3333333333333333,
              "#9c179e"
             ],
             [
              0.4444444444444444,
              "#bd3786"
             ],
             [
              0.5555555555555556,
              "#d8576b"
             ],
             [
              0.6666666666666666,
              "#ed7953"
             ],
             [
              0.7777777777777778,
              "#fb9f3a"
             ],
             [
              0.8888888888888888,
              "#fdca26"
             ],
             [
              1,
              "#f0f921"
             ]
            ],
            "type": "histogram2d"
           }
          ],
          "histogram2dcontour": [
           {
            "colorbar": {
             "outlinewidth": 0,
             "ticks": ""
            },
            "colorscale": [
             [
              0,
              "#0d0887"
             ],
             [
              0.1111111111111111,
              "#46039f"
             ],
             [
              0.2222222222222222,
              "#7201a8"
             ],
             [
              0.3333333333333333,
              "#9c179e"
             ],
             [
              0.4444444444444444,
              "#bd3786"
             ],
             [
              0.5555555555555556,
              "#d8576b"
             ],
             [
              0.6666666666666666,
              "#ed7953"
             ],
             [
              0.7777777777777778,
              "#fb9f3a"
             ],
             [
              0.8888888888888888,
              "#fdca26"
             ],
             [
              1,
              "#f0f921"
             ]
            ],
            "type": "histogram2dcontour"
           }
          ],
          "mesh3d": [
           {
            "colorbar": {
             "outlinewidth": 0,
             "ticks": ""
            },
            "type": "mesh3d"
           }
          ],
          "parcoords": [
           {
            "line": {
             "colorbar": {
              "outlinewidth": 0,
              "ticks": ""
             }
            },
            "type": "parcoords"
           }
          ],
          "pie": [
           {
            "automargin": true,
            "type": "pie"
           }
          ],
          "scatter": [
           {
            "fillpattern": {
             "fillmode": "overlay",
             "size": 10,
             "solidity": 0.2
            },
            "type": "scatter"
           }
          ],
          "scatter3d": [
           {
            "line": {
             "colorbar": {
              "outlinewidth": 0,
              "ticks": ""
             }
            },
            "marker": {
             "colorbar": {
              "outlinewidth": 0,
              "ticks": ""
             }
            },
            "type": "scatter3d"
           }
          ],
          "scattercarpet": [
           {
            "marker": {
             "colorbar": {
              "outlinewidth": 0,
              "ticks": ""
             }
            },
            "type": "scattercarpet"
           }
          ],
          "scattergeo": [
           {
            "marker": {
             "colorbar": {
              "outlinewidth": 0,
              "ticks": ""
             }
            },
            "type": "scattergeo"
           }
          ],
          "scattergl": [
           {
            "marker": {
             "colorbar": {
              "outlinewidth": 0,
              "ticks": ""
             }
            },
            "type": "scattergl"
           }
          ],
          "scattermapbox": [
           {
            "marker": {
             "colorbar": {
              "outlinewidth": 0,
              "ticks": ""
             }
            },
            "type": "scattermapbox"
           }
          ],
          "scatterpolar": [
           {
            "marker": {
             "colorbar": {
              "outlinewidth": 0,
              "ticks": ""
             }
            },
            "type": "scatterpolar"
           }
          ],
          "scatterpolargl": [
           {
            "marker": {
             "colorbar": {
              "outlinewidth": 0,
              "ticks": ""
             }
            },
            "type": "scatterpolargl"
           }
          ],
          "scatterternary": [
           {
            "marker": {
             "colorbar": {
              "outlinewidth": 0,
              "ticks": ""
             }
            },
            "type": "scatterternary"
           }
          ],
          "surface": [
           {
            "colorbar": {
             "outlinewidth": 0,
             "ticks": ""
            },
            "colorscale": [
             [
              0,
              "#0d0887"
             ],
             [
              0.1111111111111111,
              "#46039f"
             ],
             [
              0.2222222222222222,
              "#7201a8"
             ],
             [
              0.3333333333333333,
              "#9c179e"
             ],
             [
              0.4444444444444444,
              "#bd3786"
             ],
             [
              0.5555555555555556,
              "#d8576b"
             ],
             [
              0.6666666666666666,
              "#ed7953"
             ],
             [
              0.7777777777777778,
              "#fb9f3a"
             ],
             [
              0.8888888888888888,
              "#fdca26"
             ],
             [
              1,
              "#f0f921"
             ]
            ],
            "type": "surface"
           }
          ],
          "table": [
           {
            "cells": {
             "fill": {
              "color": "#EBF0F8"
             },
             "line": {
              "color": "white"
             }
            },
            "header": {
             "fill": {
              "color": "#C8D4E3"
             },
             "line": {
              "color": "white"
             }
            },
            "type": "table"
           }
          ]
         },
         "layout": {
          "annotationdefaults": {
           "arrowcolor": "#2a3f5f",
           "arrowhead": 0,
           "arrowwidth": 1
          },
          "autotypenumbers": "strict",
          "coloraxis": {
           "colorbar": {
            "outlinewidth": 0,
            "ticks": ""
           }
          },
          "colorscale": {
           "diverging": [
            [
             0,
             "#8e0152"
            ],
            [
             0.1,
             "#c51b7d"
            ],
            [
             0.2,
             "#de77ae"
            ],
            [
             0.3,
             "#f1b6da"
            ],
            [
             0.4,
             "#fde0ef"
            ],
            [
             0.5,
             "#f7f7f7"
            ],
            [
             0.6,
             "#e6f5d0"
            ],
            [
             0.7,
             "#b8e186"
            ],
            [
             0.8,
             "#7fbc41"
            ],
            [
             0.9,
             "#4d9221"
            ],
            [
             1,
             "#276419"
            ]
           ],
           "sequential": [
            [
             0,
             "#0d0887"
            ],
            [
             0.1111111111111111,
             "#46039f"
            ],
            [
             0.2222222222222222,
             "#7201a8"
            ],
            [
             0.3333333333333333,
             "#9c179e"
            ],
            [
             0.4444444444444444,
             "#bd3786"
            ],
            [
             0.5555555555555556,
             "#d8576b"
            ],
            [
             0.6666666666666666,
             "#ed7953"
            ],
            [
             0.7777777777777778,
             "#fb9f3a"
            ],
            [
             0.8888888888888888,
             "#fdca26"
            ],
            [
             1,
             "#f0f921"
            ]
           ],
           "sequentialminus": [
            [
             0,
             "#0d0887"
            ],
            [
             0.1111111111111111,
             "#46039f"
            ],
            [
             0.2222222222222222,
             "#7201a8"
            ],
            [
             0.3333333333333333,
             "#9c179e"
            ],
            [
             0.4444444444444444,
             "#bd3786"
            ],
            [
             0.5555555555555556,
             "#d8576b"
            ],
            [
             0.6666666666666666,
             "#ed7953"
            ],
            [
             0.7777777777777778,
             "#fb9f3a"
            ],
            [
             0.8888888888888888,
             "#fdca26"
            ],
            [
             1,
             "#f0f921"
            ]
           ]
          },
          "colorway": [
           "#636efa",
           "#EF553B",
           "#00cc96",
           "#ab63fa",
           "#FFA15A",
           "#19d3f3",
           "#FF6692",
           "#B6E880",
           "#FF97FF",
           "#FECB52"
          ],
          "font": {
           "color": "#2a3f5f"
          },
          "geo": {
           "bgcolor": "white",
           "lakecolor": "white",
           "landcolor": "#E5ECF6",
           "showlakes": true,
           "showland": true,
           "subunitcolor": "white"
          },
          "hoverlabel": {
           "align": "left"
          },
          "hovermode": "closest",
          "mapbox": {
           "style": "light"
          },
          "paper_bgcolor": "white",
          "plot_bgcolor": "#E5ECF6",
          "polar": {
           "angularaxis": {
            "gridcolor": "white",
            "linecolor": "white",
            "ticks": ""
           },
           "bgcolor": "#E5ECF6",
           "radialaxis": {
            "gridcolor": "white",
            "linecolor": "white",
            "ticks": ""
           }
          },
          "scene": {
           "xaxis": {
            "backgroundcolor": "#E5ECF6",
            "gridcolor": "white",
            "gridwidth": 2,
            "linecolor": "white",
            "showbackground": true,
            "ticks": "",
            "zerolinecolor": "white"
           },
           "yaxis": {
            "backgroundcolor": "#E5ECF6",
            "gridcolor": "white",
            "gridwidth": 2,
            "linecolor": "white",
            "showbackground": true,
            "ticks": "",
            "zerolinecolor": "white"
           },
           "zaxis": {
            "backgroundcolor": "#E5ECF6",
            "gridcolor": "white",
            "gridwidth": 2,
            "linecolor": "white",
            "showbackground": true,
            "ticks": "",
            "zerolinecolor": "white"
           }
          },
          "shapedefaults": {
           "line": {
            "color": "#2a3f5f"
           }
          },
          "ternary": {
           "aaxis": {
            "gridcolor": "white",
            "linecolor": "white",
            "ticks": ""
           },
           "baxis": {
            "gridcolor": "white",
            "linecolor": "white",
            "ticks": ""
           },
           "bgcolor": "#E5ECF6",
           "caxis": {
            "gridcolor": "white",
            "linecolor": "white",
            "ticks": ""
           }
          },
          "title": {
           "x": 0.05
          },
          "xaxis": {
           "automargin": true,
           "gridcolor": "white",
           "linecolor": "white",
           "ticks": "",
           "title": {
            "standoff": 15
           },
           "zerolinecolor": "white",
           "zerolinewidth": 2
          },
          "yaxis": {
           "automargin": true,
           "gridcolor": "white",
           "linecolor": "white",
           "ticks": "",
           "title": {
            "standoff": 15
           },
           "zerolinecolor": "white",
           "zerolinewidth": 2
          }
         }
        },
        "title": {
         "text": "yas Aykırı Değer Analizi (IQR Method)"
        },
        "xaxis": {
         "anchor": "y",
         "domain": [
          0,
          1
         ]
        },
        "yaxis": {
         "anchor": "x",
         "domain": [
          0,
          1
         ],
         "title": {
          "text": "yas"
         }
        }
       }
      }
     },
     "metadata": {},
     "output_type": "display_data"
    },
    {
     "data": {
      "application/vnd.plotly.v1+json": {
       "config": {
        "plotlyServerURL": "https://plot.ly"
       },
       "data": [
        {
         "alignmentgroup": "True",
         "hovertemplate": "aylik_ucret=%{y}<extra></extra>",
         "legendgroup": "",
         "marker": {
          "color": "#636efa"
         },
         "name": "",
         "notched": false,
         "offsetgroup": "",
         "orientation": "v",
         "showlegend": false,
         "type": "box",
         "x0": " ",
         "xaxis": "x",
         "y": [
          19479,
          24907,
          2396,
          23159,
          16632,
          11864,
          9964,
          13335,
          8787,
          16577,
          16479,
          12682,
          15170,
          8758,
          12947,
          10195,
          15053,
          7324,
          22021,
          4306,
          8232,
          6986,
          21293,
          19281,
          17102,
          10735,
          4681,
          21173,
          2094,
          22822,
          6670,
          19121,
          16117,
          3335,
          3020,
          21923,
          3810,
          9687,
          13072,
          3193,
          10910,
          19715,
          10558,
          2975,
          10781,
          16280,
          10034,
          10227,
          20445,
          4892,
          19294,
          11179,
          4009,
          8302,
          21436,
          15146,
          11031,
          16002,
          9528,
          2689,
          10877,
          5456,
          16701,
          2354,
          8202,
          19730,
          22656,
          18787,
          5868,
          21777,
          24668,
          4956,
          18775,
          7346,
          22002,
          20682,
          23016,
          15067,
          25258,
          10425,
          15998,
          26278,
          18092,
          15717,
          17736,
          21698,
          9518,
          18725,
          15830,
          13596,
          14115,
          8423,
          19760,
          3142,
          24301,
          24001,
          17519,
          8863,
          24409,
          25043,
          23648,
          15178,
          19783,
          12482,
          15850,
          21922,
          9755,
          26959,
          26897,
          23785,
          25796,
          22887,
          13871,
          13257,
          15000,
          14506,
          5615,
          22952,
          2561,
          19494,
          22310,
          15480,
          4510,
          6462,
          20739,
          23300,
          3465,
          26820,
          19299,
          5549,
          16090,
          6645,
          24788,
          21196,
          8916,
          2819,
          25150,
          14590,
          24835,
          13982,
          10224,
          9752,
          2302,
          23910,
          22812,
          10415,
          11162,
          12888,
          6961,
          16102,
          8504,
          11439,
          16047,
          10901,
          15589,
          26283,
          13983,
          11873,
          8552,
          11314,
          11992,
          5970,
          6672,
          23402,
          25326,
          17053,
          4609,
          8053,
          12930,
          12430,
          13364,
          20989,
          15062,
          11012,
          6319,
          13939,
          10515,
          9241,
          2137,
          6319,
          6984,
          5711,
          21728,
          3425,
          26250,
          4673,
          6499,
          13339,
          14074,
          7192,
          5678,
          11781,
          15497,
          5228,
          20462,
          22977,
          15986,
          16439,
          7259,
          4185,
          9679,
          23793,
          5972,
          16523,
          11354,
          24525,
          12392,
          7703,
          14242,
          12368,
          25812,
          20925,
          12916,
          15736,
          8556,
          14674,
          22967,
          19757,
          16840,
          17011,
          9945,
          13248,
          10056,
          9647,
          4381,
          8456,
          2539,
          6599,
          9096,
          14961,
          3300,
          4933,
          25657,
          24118,
          22149,
          7744,
          21509,
          21030,
          20990,
          9571,
          15417,
          12069,
          19877,
          24447,
          15970,
          13523,
          14776,
          23687,
          18697,
          5118,
          22573,
          6420,
          22673,
          23016,
          10732,
          7505,
          8007,
          5949,
          23231,
          11652,
          26062,
          19682,
          19737,
          14977,
          14935,
          3687,
          14408,
          18384,
          7501,
          20251,
          18938,
          10268,
          2613,
          22825,
          10531,
          11677,
          19100,
          19191,
          26767,
          15815,
          21016,
          24532,
          20260,
          15972,
          22722,
          15881,
          19920,
          18899,
          14180,
          4488,
          25594,
          26285,
          3909,
          8450,
          11411,
          14864,
          25233,
          5100,
          7122,
          16321,
          15896,
          9724,
          4824,
          12241,
          10942,
          6927,
          16985,
          26707,
          17056,
          10077,
          17822,
          20308,
          7747,
          23364,
          5355,
          10675,
          17810,
          17747,
          20938,
          24624,
          5242,
          7143,
          10557,
          24737,
          11934,
          14034,
          21141,
          17778,
          4317,
          16375,
          6227,
          22107,
          16885,
          9262,
          9278,
          13273,
          4759,
          7621,
          5431,
          3415,
          23177,
          15682,
          25713,
          11866,
          18264,
          16092,
          10110,
          25751,
          15901,
          16928,
          24017,
          3956,
          23978,
          17001,
          6069,
          20156,
          17078,
          9150,
          15276,
          7246,
          2967,
          22495,
          2851,
          9150,
          17663,
          16044,
          9558,
          2755,
          6110,
          7551,
          25422,
          18168,
          19394,
          17881,
          20750,
          12066,
          14862,
          11868,
          4652,
          23258,
          5915,
          17434,
          6582,
          24440,
          3809,
          3427,
          26914,
          22553,
          20490,
          21123,
          4345,
          13436,
          8509,
          12740,
          4156,
          15238,
          2227,
          12090,
          23866,
          16193,
          8213,
          18256,
          19558,
          19566,
          13535,
          9396,
          19609,
          9655,
          10310,
          12932,
          24793,
          3854,
          26314,
          4386,
          21972,
          12253,
          12106,
          13022,
          3032,
          16734,
          21526,
          18300,
          18437,
          2890,
          22102,
          9314,
          7181,
          2845,
          7389,
          2288,
          19225,
          23428,
          8416,
          11563,
          14394,
          24619,
          6705,
          18398,
          14295,
          22908,
          11533,
          9260,
          15318,
          9129,
          19658,
          9873,
          13430,
          18659,
          20364,
          17872,
          8346,
          6950,
          16177,
          22808,
          22645,
          22578,
          25291,
          8059,
          11373,
          2112,
          4267,
          6698,
          19921,
          23213,
          23848,
          8984,
          5626,
          24666,
          22087,
          23914,
          5530,
          22174,
          15701,
          2125,
          21630,
          7428,
          9100,
          7999,
          26376,
          14168,
          14470,
          22794,
          11512,
          14004,
          6219,
          5013,
          3010,
          11757,
          5718,
          2671,
          14561,
          19627,
          17997,
          26894,
          2912,
          16346,
          24444,
          9358,
          12145,
          20431,
          18089,
          22653,
          7507,
          7660,
          5630,
          17759,
          9606,
          3487,
          19368,
          5335,
          6729,
          13934,
          15174,
          26999,
          3164,
          16900,
          8544,
          15678,
          7791,
          18959,
          18597,
          16673,
          15232,
          3297,
          17654,
          24785,
          20978,
          21703,
          23452,
          19383,
          6009,
          19373,
          11825,
          23772,
          13514,
          8861,
          11924,
          4809,
          19562,
          9983,
          3872,
          20335,
          15397,
          2104,
          10225,
          25275,
          2755,
          20366,
          23683,
          7360,
          4344,
          18767,
          20420,
          22929,
          23398,
          17967,
          10919,
          4761,
          21146,
          20471,
          4187,
          10084,
          5207,
          22807,
          12388,
          19630,
          10339,
          18686,
          21199,
          14229,
          26589,
          5288,
          25549,
          3064,
          13551,
          22670,
          24008,
          19905,
          26085,
          7530,
          20317,
          24375,
          9931,
          13305,
          16225,
          3445,
          26551,
          21821,
          6881,
          6689,
          25995,
          26507,
          12982,
          23361,
          23779,
          25761,
          13301,
          4051,
          16374,
          25527,
          19124,
          11983,
          20234,
          6153,
          11806,
          4284,
          8306,
          5860,
          21519,
          5200,
          8842,
          18869,
          3698,
          2243,
          20898,
          16571,
          5594,
          5197,
          21632,
          21816,
          17852,
          2823,
          9250,
          2373,
          20715,
          19239,
          22162,
          19028,
          24558,
          23965,
          19146,
          5044,
          9068,
          8635,
          14363,
          23457,
          16612,
          9148,
          18154,
          10554,
          10778,
          8891,
          12102,
          23726,
          14871,
          23522,
          22789,
          9129,
          21222,
          20206,
          21782,
          17783,
          4814,
          4544,
          7790,
          22650,
          18016,
          6054,
          7508,
          24252,
          13384,
          23814,
          22052,
          8870,
          4821,
          13137,
          10022,
          17725,
          9834,
          4303,
          17808,
          6896,
          7824,
          3339,
          9255,
          11737,
          19170,
          22477,
          5543,
          24406,
          23293,
          16292,
          3974,
          18798,
          20652,
          11148,
          3119,
          12287,
          9947,
          13008,
          17369,
          25063,
          13554,
          5518,
          12291,
          14922,
          23163,
          18203,
          6179,
          13829,
          26227,
          13938,
          9977,
          19899,
          6812,
          2560,
          17071,
          6759,
          25952,
          10322,
          20489,
          11479,
          17241,
          11005,
          6615,
          20161,
          3735,
          12086,
          14039,
          8571,
          11539,
          4161,
          12127,
          24208,
          24117,
          10074,
          11275,
          13493,
          13943,
          6975,
          17802,
          18275,
          25725,
          3334,
          6881,
          13119,
          22245,
          23371,
          7060,
          4658,
          9541,
          7770,
          20165,
          21829,
          14382,
          12992,
          20284,
          4981,
          21813,
          25846,
          11737,
          24920,
          8269,
          5083,
          21437,
          5404,
          11135,
          12278,
          11038,
          8318,
          23537,
          7858,
          15346,
          18410,
          23384,
          2997,
          12853,
          13848,
          22217,
          25265,
          21445,
          8392,
          12154,
          15669,
          17323,
          5268,
          17205,
          17258,
          21029,
          10332,
          12355,
          11141,
          9096,
          18863,
          24608,
          26542,
          5869,
          15813,
          7909,
          2326,
          21214,
          10333,
          3129,
          22482,
          22266,
          24223,
          4605,
          19373,
          2993,
          14399,
          7160,
          17251,
          13401,
          22478,
          16154,
          17970,
          15322,
          5569,
          26968,
          8039,
          15596,
          20619,
          11535,
          13547,
          17544,
          25326,
          8770,
          23238,
          21981,
          19911,
          18500,
          11879,
          15834,
          17940,
          9558,
          17689,
          6004,
          22088,
          13556,
          18385,
          9051,
          6233,
          17171,
          7950,
          5829,
          7108,
          11162,
          13782,
          2447,
          2253,
          16340,
          6409,
          22955,
          13421,
          2706,
          21203,
          19588,
          25755,
          26537,
          9489,
          14947,
          18575,
          26342,
          7172,
          20100,
          9961,
          12828,
          10826,
          18640,
          26933,
          4223,
          24097,
          4279,
          8429,
          20293,
          13192,
          25440,
          9490,
          12449,
          10849,
          21026,
          3372,
          4905,
          6865,
          11309,
          7744,
          5050,
          17433,
          12858,
          10893,
          7331,
          2338,
          4235,
          6311,
          11591,
          20623,
          9369,
          23281,
          13755,
          14377,
          9659,
          19982,
          6148,
          5598,
          23474,
          17089,
          17198,
          16490,
          18625,
          12124,
          9256,
          16620,
          3208,
          4204,
          8733,
          3423,
          21643,
          8751,
          21708,
          21221,
          16901,
          8040,
          9973,
          2493,
          25592,
          25308,
          9946,
          6039,
          19196,
          20002,
          22534,
          6842,
          17477,
          21833,
          6020,
          5628,
          20364,
          2323,
          14075,
          14222,
          4257,
          12858,
          17285,
          4732,
          18830,
          11693,
          13035,
          17334,
          26076,
          22845,
          22154,
          23631,
          5747,
          22957,
          16392,
          22422,
          17235,
          21534,
          25927,
          13352,
          8935,
          22074,
          8319,
          14669,
          26582,
          6992,
          4022,
          8532,
          5494,
          22455,
          4297,
          2690,
          17588,
          19461,
          23553,
          9075,
          12023,
          6762,
          2261,
          18706,
          6527,
          24439,
          19305,
          10846,
          20392,
          9277,
          18235,
          15891,
          13888,
          17491,
          11882,
          23288,
          15748,
          6163,
          24232,
          21057,
          3567,
          15395,
          13953,
          5182,
          19293,
          20497,
          3449,
          12477,
          9731,
          20003,
          7100,
          25681,
          4050,
          16616,
          17363,
          19106,
          19944,
          4910,
          23577,
          9769,
          22710,
          22930,
          5652,
          22456,
          12414,
          20763,
          16154,
          12761,
          8847,
          20284,
          22262,
          7679,
          22604,
          13494,
          10205,
          15182,
          25470,
          10494,
          26703,
          15211,
          23343,
          3708,
          5561,
          23099,
          8386,
          15986,
          17181,
          8931,
          19863,
          24609,
          21081,
          14720,
          24795,
          3072,
          25178,
          23490,
          7973,
          19764,
          21534,
          8045,
          21158,
          17456,
          15891,
          2939,
          16458,
          9282,
          7152,
          2721,
          20948,
          11929,
          15747,
          17485,
          7815,
          16192,
          16998,
          7103,
          19719,
          23757,
          15428,
          16143,
          8192,
          24200,
          5355,
          12530,
          11827,
          23070,
          4668,
          3173,
          22049,
          21072,
          24456,
          7568,
          22074,
          9150,
          11380,
          21195,
          24812,
          21831,
          12288,
          4156,
          24450,
          4944,
          24052,
          3031,
          7288,
          24152,
          4585,
          18611,
          19345,
          22949,
          17381,
          10036,
          8841,
          20933,
          26204,
          15624,
          17001,
          13693,
          22376,
          10589,
          5323,
          14814,
          21731,
          17799,
          26619,
          14618,
          7653,
          25174,
          16530,
          22061,
          23037,
          13008,
          11133,
          12355,
          16379,
          21447,
          16213,
          4223,
          4658,
          24483,
          19519,
          12826,
          19711,
          26362,
          25348,
          15332,
          11262,
          5855,
          7713,
          3156,
          7324,
          10293,
          20689,
          18783,
          3549,
          5348,
          23447,
          24162,
          21602,
          12421,
          17000,
          22102,
          3835,
          16290,
          26312,
          20460,
          26009,
          18420,
          5220,
          10302,
          25800,
          12250,
          26493,
          3140,
          5388,
          14199,
          21530,
          9953,
          19948,
          10503,
          5602,
          22098,
          17218,
          22490,
          6297,
          3339,
          23413,
          22792,
          4973,
          7693,
          3498,
          21981,
          13251,
          19332,
          10950,
          11652,
          15411,
          26308,
          18685,
          3525,
          10414,
          9867,
          3356,
          3921,
          25518,
          22589,
          24941,
          23826,
          21086,
          22384,
          11591,
          21082,
          16130,
          7419,
          4167,
          20586,
          26176,
          3458,
          11740,
          24852,
          11925,
          23737,
          11912,
          20467,
          13637,
          7677,
          20338,
          25103,
          14810,
          13970,
          6069,
          17616,
          15869,
          25412,
          7439,
          3395,
          11585,
          24164,
          6217,
          17119,
          17360,
          18103,
          20794,
          5041,
          3622,
          9697,
          5151,
          3811,
          3536,
          5596,
          8658,
          12147,
          12862,
          6670,
          8989,
          3840,
          4349,
          6595,
          26427,
          2097,
          9732,
          20943,
          6152,
          14630,
          23060,
          3088,
          5586,
          10697,
          8191,
          10092,
          15963,
          19002,
          10007,
          9128,
          17674,
          24539,
          15587,
          8952,
          19805,
          6194,
          20520,
          12313,
          22308,
          5033,
          25353,
          4567,
          16376,
          15999,
          13402,
          22984,
          8800,
          14218,
          25949,
          11092,
          12832,
          13492,
          6076,
          5531,
          7914,
          25166,
          25605,
          5696,
          24442,
          7129,
          6208,
          4992,
          19188,
          24978,
          15530,
          26458,
          2739,
          6889,
          10842,
          9060,
          22128,
          22577,
          9696,
          19271,
          10748,
          15696,
          8277,
          12719,
          4244,
          9125,
          21624,
          8018,
          21495,
          3157,
          19665,
          19573,
          19246,
          19826,
          7003,
          26075,
          6161,
          5411,
          19989,
          10494,
          21143,
          13624,
          26186,
          7739,
          7018,
          15434,
          22539,
          13583,
          14753,
          14011,
          23844,
          5141,
          7975,
          3692,
          16019,
          26092,
          6060,
          18624,
          24444,
          19384,
          13588,
          25388,
          23888,
          4223,
          18991,
          14908,
          26997,
          2437,
          9364,
          14460,
          10261,
          16822,
          26841,
          14842,
          20115,
          16495,
          16031,
          7102,
          14511,
          10410,
          19255,
          10642,
          3987,
          6073,
          26496,
          23352,
          2125,
          20328,
          12315,
          18115,
          11761,
          15318,
          14293,
          13738,
          2900,
          19555,
          15975,
          2122,
          3995,
          9238,
          6770,
          22914,
          20006,
          6225,
          16542,
          5771,
          18779,
          11473,
          13586,
          5099,
          10138,
          21075,
          5843,
          22474,
          18079,
          16873,
          5224,
          25811,
          17536,
          25098,
          14811,
          26862,
          25198,
          14120,
          13672,
          26849,
          4258,
          19655,
          4077,
          7298,
          13084,
          20439,
          7636,
          6393,
          14284,
          11189,
          21412,
          17231,
          20232,
          17624,
          18698,
          21653,
          15919,
          4060,
          18024,
          5340,
          3376,
          24032,
          15471,
          13684,
          19788,
          13422,
          25479,
          15302,
          26956,
          12695,
          9192,
          26236,
          26124,
          17312,
          3666,
          5640,
          8978,
          10436,
          12227,
          11288,
          16642,
          5982,
          14255,
          14369,
          23333,
          2725,
          24594,
          12549,
          8952,
          23679,
          8489,
          16586,
          8828,
          3787,
          21378,
          12290,
          21457,
          5174,
          13243,
          10228
         ],
         "y0": " ",
         "yaxis": "y"
        }
       ],
       "layout": {
        "boxmode": "group",
        "legend": {
         "tracegroupgap": 0
        },
        "shapes": [
         {
          "line": {
           "color": "red",
           "width": 2
          },
          "type": "line",
          "x0": -10574.75,
          "x1": -10574.75,
          "y0": -10574.75,
          "y1": 39083.25
         },
         {
          "line": {
           "color": "red",
           "width": 2
          },
          "type": "line",
          "x0": 39083.25,
          "x1": 39083.25,
          "y0": -10574.75,
          "y1": 39083.25
         }
        ],
        "template": {
         "data": {
          "bar": [
           {
            "error_x": {
             "color": "#2a3f5f"
            },
            "error_y": {
             "color": "#2a3f5f"
            },
            "marker": {
             "line": {
              "color": "#E5ECF6",
              "width": 0.5
             },
             "pattern": {
              "fillmode": "overlay",
              "size": 10,
              "solidity": 0.2
             }
            },
            "type": "bar"
           }
          ],
          "barpolar": [
           {
            "marker": {
             "line": {
              "color": "#E5ECF6",
              "width": 0.5
             },
             "pattern": {
              "fillmode": "overlay",
              "size": 10,
              "solidity": 0.2
             }
            },
            "type": "barpolar"
           }
          ],
          "carpet": [
           {
            "aaxis": {
             "endlinecolor": "#2a3f5f",
             "gridcolor": "white",
             "linecolor": "white",
             "minorgridcolor": "white",
             "startlinecolor": "#2a3f5f"
            },
            "baxis": {
             "endlinecolor": "#2a3f5f",
             "gridcolor": "white",
             "linecolor": "white",
             "minorgridcolor": "white",
             "startlinecolor": "#2a3f5f"
            },
            "type": "carpet"
           }
          ],
          "choropleth": [
           {
            "colorbar": {
             "outlinewidth": 0,
             "ticks": ""
            },
            "type": "choropleth"
           }
          ],
          "contour": [
           {
            "colorbar": {
             "outlinewidth": 0,
             "ticks": ""
            },
            "colorscale": [
             [
              0,
              "#0d0887"
             ],
             [
              0.1111111111111111,
              "#46039f"
             ],
             [
              0.2222222222222222,
              "#7201a8"
             ],
             [
              0.3333333333333333,
              "#9c179e"
             ],
             [
              0.4444444444444444,
              "#bd3786"
             ],
             [
              0.5555555555555556,
              "#d8576b"
             ],
             [
              0.6666666666666666,
              "#ed7953"
             ],
             [
              0.7777777777777778,
              "#fb9f3a"
             ],
             [
              0.8888888888888888,
              "#fdca26"
             ],
             [
              1,
              "#f0f921"
             ]
            ],
            "type": "contour"
           }
          ],
          "contourcarpet": [
           {
            "colorbar": {
             "outlinewidth": 0,
             "ticks": ""
            },
            "type": "contourcarpet"
           }
          ],
          "heatmap": [
           {
            "colorbar": {
             "outlinewidth": 0,
             "ticks": ""
            },
            "colorscale": [
             [
              0,
              "#0d0887"
             ],
             [
              0.1111111111111111,
              "#46039f"
             ],
             [
              0.2222222222222222,
              "#7201a8"
             ],
             [
              0.3333333333333333,
              "#9c179e"
             ],
             [
              0.4444444444444444,
              "#bd3786"
             ],
             [
              0.5555555555555556,
              "#d8576b"
             ],
             [
              0.6666666666666666,
              "#ed7953"
             ],
             [
              0.7777777777777778,
              "#fb9f3a"
             ],
             [
              0.8888888888888888,
              "#fdca26"
             ],
             [
              1,
              "#f0f921"
             ]
            ],
            "type": "heatmap"
           }
          ],
          "heatmapgl": [
           {
            "colorbar": {
             "outlinewidth": 0,
             "ticks": ""
            },
            "colorscale": [
             [
              0,
              "#0d0887"
             ],
             [
              0.1111111111111111,
              "#46039f"
             ],
             [
              0.2222222222222222,
              "#7201a8"
             ],
             [
              0.3333333333333333,
              "#9c179e"
             ],
             [
              0.4444444444444444,
              "#bd3786"
             ],
             [
              0.5555555555555556,
              "#d8576b"
             ],
             [
              0.6666666666666666,
              "#ed7953"
             ],
             [
              0.7777777777777778,
              "#fb9f3a"
             ],
             [
              0.8888888888888888,
              "#fdca26"
             ],
             [
              1,
              "#f0f921"
             ]
            ],
            "type": "heatmapgl"
           }
          ],
          "histogram": [
           {
            "marker": {
             "pattern": {
              "fillmode": "overlay",
              "size": 10,
              "solidity": 0.2
             }
            },
            "type": "histogram"
           }
          ],
          "histogram2d": [
           {
            "colorbar": {
             "outlinewidth": 0,
             "ticks": ""
            },
            "colorscale": [
             [
              0,
              "#0d0887"
             ],
             [
              0.1111111111111111,
              "#46039f"
             ],
             [
              0.2222222222222222,
              "#7201a8"
             ],
             [
              0.3333333333333333,
              "#9c179e"
             ],
             [
              0.4444444444444444,
              "#bd3786"
             ],
             [
              0.5555555555555556,
              "#d8576b"
             ],
             [
              0.6666666666666666,
              "#ed7953"
             ],
             [
              0.7777777777777778,
              "#fb9f3a"
             ],
             [
              0.8888888888888888,
              "#fdca26"
             ],
             [
              1,
              "#f0f921"
             ]
            ],
            "type": "histogram2d"
           }
          ],
          "histogram2dcontour": [
           {
            "colorbar": {
             "outlinewidth": 0,
             "ticks": ""
            },
            "colorscale": [
             [
              0,
              "#0d0887"
             ],
             [
              0.1111111111111111,
              "#46039f"
             ],
             [
              0.2222222222222222,
              "#7201a8"
             ],
             [
              0.3333333333333333,
              "#9c179e"
             ],
             [
              0.4444444444444444,
              "#bd3786"
             ],
             [
              0.5555555555555556,
              "#d8576b"
             ],
             [
              0.6666666666666666,
              "#ed7953"
             ],
             [
              0.7777777777777778,
              "#fb9f3a"
             ],
             [
              0.8888888888888888,
              "#fdca26"
             ],
             [
              1,
              "#f0f921"
             ]
            ],
            "type": "histogram2dcontour"
           }
          ],
          "mesh3d": [
           {
            "colorbar": {
             "outlinewidth": 0,
             "ticks": ""
            },
            "type": "mesh3d"
           }
          ],
          "parcoords": [
           {
            "line": {
             "colorbar": {
              "outlinewidth": 0,
              "ticks": ""
             }
            },
            "type": "parcoords"
           }
          ],
          "pie": [
           {
            "automargin": true,
            "type": "pie"
           }
          ],
          "scatter": [
           {
            "fillpattern": {
             "fillmode": "overlay",
             "size": 10,
             "solidity": 0.2
            },
            "type": "scatter"
           }
          ],
          "scatter3d": [
           {
            "line": {
             "colorbar": {
              "outlinewidth": 0,
              "ticks": ""
             }
            },
            "marker": {
             "colorbar": {
              "outlinewidth": 0,
              "ticks": ""
             }
            },
            "type": "scatter3d"
           }
          ],
          "scattercarpet": [
           {
            "marker": {
             "colorbar": {
              "outlinewidth": 0,
              "ticks": ""
             }
            },
            "type": "scattercarpet"
           }
          ],
          "scattergeo": [
           {
            "marker": {
             "colorbar": {
              "outlinewidth": 0,
              "ticks": ""
             }
            },
            "type": "scattergeo"
           }
          ],
          "scattergl": [
           {
            "marker": {
             "colorbar": {
              "outlinewidth": 0,
              "ticks": ""
             }
            },
            "type": "scattergl"
           }
          ],
          "scattermapbox": [
           {
            "marker": {
             "colorbar": {
              "outlinewidth": 0,
              "ticks": ""
             }
            },
            "type": "scattermapbox"
           }
          ],
          "scatterpolar": [
           {
            "marker": {
             "colorbar": {
              "outlinewidth": 0,
              "ticks": ""
             }
            },
            "type": "scatterpolar"
           }
          ],
          "scatterpolargl": [
           {
            "marker": {
             "colorbar": {
              "outlinewidth": 0,
              "ticks": ""
             }
            },
            "type": "scatterpolargl"
           }
          ],
          "scatterternary": [
           {
            "marker": {
             "colorbar": {
              "outlinewidth": 0,
              "ticks": ""
             }
            },
            "type": "scatterternary"
           }
          ],
          "surface": [
           {
            "colorbar": {
             "outlinewidth": 0,
             "ticks": ""
            },
            "colorscale": [
             [
              0,
              "#0d0887"
             ],
             [
              0.1111111111111111,
              "#46039f"
             ],
             [
              0.2222222222222222,
              "#7201a8"
             ],
             [
              0.3333333333333333,
              "#9c179e"
             ],
             [
              0.4444444444444444,
              "#bd3786"
             ],
             [
              0.5555555555555556,
              "#d8576b"
             ],
             [
              0.6666666666666666,
              "#ed7953"
             ],
             [
              0.7777777777777778,
              "#fb9f3a"
             ],
             [
              0.8888888888888888,
              "#fdca26"
             ],
             [
              1,
              "#f0f921"
             ]
            ],
            "type": "surface"
           }
          ],
          "table": [
           {
            "cells": {
             "fill": {
              "color": "#EBF0F8"
             },
             "line": {
              "color": "white"
             }
            },
            "header": {
             "fill": {
              "color": "#C8D4E3"
             },
             "line": {
              "color": "white"
             }
            },
            "type": "table"
           }
          ]
         },
         "layout": {
          "annotationdefaults": {
           "arrowcolor": "#2a3f5f",
           "arrowhead": 0,
           "arrowwidth": 1
          },
          "autotypenumbers": "strict",
          "coloraxis": {
           "colorbar": {
            "outlinewidth": 0,
            "ticks": ""
           }
          },
          "colorscale": {
           "diverging": [
            [
             0,
             "#8e0152"
            ],
            [
             0.1,
             "#c51b7d"
            ],
            [
             0.2,
             "#de77ae"
            ],
            [
             0.3,
             "#f1b6da"
            ],
            [
             0.4,
             "#fde0ef"
            ],
            [
             0.5,
             "#f7f7f7"
            ],
            [
             0.6,
             "#e6f5d0"
            ],
            [
             0.7,
             "#b8e186"
            ],
            [
             0.8,
             "#7fbc41"
            ],
            [
             0.9,
             "#4d9221"
            ],
            [
             1,
             "#276419"
            ]
           ],
           "sequential": [
            [
             0,
             "#0d0887"
            ],
            [
             0.1111111111111111,
             "#46039f"
            ],
            [
             0.2222222222222222,
             "#7201a8"
            ],
            [
             0.3333333333333333,
             "#9c179e"
            ],
            [
             0.4444444444444444,
             "#bd3786"
            ],
            [
             0.5555555555555556,
             "#d8576b"
            ],
            [
             0.6666666666666666,
             "#ed7953"
            ],
            [
             0.7777777777777778,
             "#fb9f3a"
            ],
            [
             0.8888888888888888,
             "#fdca26"
            ],
            [
             1,
             "#f0f921"
            ]
           ],
           "sequentialminus": [
            [
             0,
             "#0d0887"
            ],
            [
             0.1111111111111111,
             "#46039f"
            ],
            [
             0.2222222222222222,
             "#7201a8"
            ],
            [
             0.3333333333333333,
             "#9c179e"
            ],
            [
             0.4444444444444444,
             "#bd3786"
            ],
            [
             0.5555555555555556,
             "#d8576b"
            ],
            [
             0.6666666666666666,
             "#ed7953"
            ],
            [
             0.7777777777777778,
             "#fb9f3a"
            ],
            [
             0.8888888888888888,
             "#fdca26"
            ],
            [
             1,
             "#f0f921"
            ]
           ]
          },
          "colorway": [
           "#636efa",
           "#EF553B",
           "#00cc96",
           "#ab63fa",
           "#FFA15A",
           "#19d3f3",
           "#FF6692",
           "#B6E880",
           "#FF97FF",
           "#FECB52"
          ],
          "font": {
           "color": "#2a3f5f"
          },
          "geo": {
           "bgcolor": "white",
           "lakecolor": "white",
           "landcolor": "#E5ECF6",
           "showlakes": true,
           "showland": true,
           "subunitcolor": "white"
          },
          "hoverlabel": {
           "align": "left"
          },
          "hovermode": "closest",
          "mapbox": {
           "style": "light"
          },
          "paper_bgcolor": "white",
          "plot_bgcolor": "#E5ECF6",
          "polar": {
           "angularaxis": {
            "gridcolor": "white",
            "linecolor": "white",
            "ticks": ""
           },
           "bgcolor": "#E5ECF6",
           "radialaxis": {
            "gridcolor": "white",
            "linecolor": "white",
            "ticks": ""
           }
          },
          "scene": {
           "xaxis": {
            "backgroundcolor": "#E5ECF6",
            "gridcolor": "white",
            "gridwidth": 2,
            "linecolor": "white",
            "showbackground": true,
            "ticks": "",
            "zerolinecolor": "white"
           },
           "yaxis": {
            "backgroundcolor": "#E5ECF6",
            "gridcolor": "white",
            "gridwidth": 2,
            "linecolor": "white",
            "showbackground": true,
            "ticks": "",
            "zerolinecolor": "white"
           },
           "zaxis": {
            "backgroundcolor": "#E5ECF6",
            "gridcolor": "white",
            "gridwidth": 2,
            "linecolor": "white",
            "showbackground": true,
            "ticks": "",
            "zerolinecolor": "white"
           }
          },
          "shapedefaults": {
           "line": {
            "color": "#2a3f5f"
           }
          },
          "ternary": {
           "aaxis": {
            "gridcolor": "white",
            "linecolor": "white",
            "ticks": ""
           },
           "baxis": {
            "gridcolor": "white",
            "linecolor": "white",
            "ticks": ""
           },
           "bgcolor": "#E5ECF6",
           "caxis": {
            "gridcolor": "white",
            "linecolor": "white",
            "ticks": ""
           }
          },
          "title": {
           "x": 0.05
          },
          "xaxis": {
           "automargin": true,
           "gridcolor": "white",
           "linecolor": "white",
           "ticks": "",
           "title": {
            "standoff": 15
           },
           "zerolinecolor": "white",
           "zerolinewidth": 2
          },
          "yaxis": {
           "automargin": true,
           "gridcolor": "white",
           "linecolor": "white",
           "ticks": "",
           "title": {
            "standoff": 15
           },
           "zerolinecolor": "white",
           "zerolinewidth": 2
          }
         }
        },
        "title": {
         "text": "aylik_ucret Aykırı Değer Analizi (IQR Method)"
        },
        "xaxis": {
         "anchor": "y",
         "domain": [
          0,
          1
         ]
        },
        "yaxis": {
         "anchor": "x",
         "domain": [
          0,
          1
         ],
         "title": {
          "text": "aylik_ucret"
         }
        }
       }
      }
     },
     "metadata": {},
     "output_type": "display_data"
    },
    {
     "data": {
      "application/vnd.plotly.v1+json": {
       "config": {
        "plotlyServerURL": "https://plot.ly"
       },
       "data": [
        {
         "alignmentgroup": "True",
         "hovertemplate": "evden_uzaklik=%{y}<extra></extra>",
         "legendgroup": "",
         "marker": {
          "color": "#636efa"
         },
         "name": "",
         "notched": false,
         "offsetgroup": "",
         "orientation": "v",
         "showlegend": false,
         "type": "box",
         "x0": " ",
         "xaxis": "x",
         "y": [
          1,
          8,
          2,
          3,
          2,
          2,
          3,
          24,
          23,
          27,
          16,
          15,
          26,
          19,
          24,
          21,
          5,
          16,
          2,
          2,
          11,
          9,
          7,
          15,
          6,
          5,
          16,
          8,
          7,
          2,
          2,
          10,
          9,
          5,
          1,
          2,
          3,
          2,
          5,
          1,
          4,
          2,
          25,
          8,
          1,
          12,
          23,
          19,
          5,
          8,
          1,
          5,
          1,
          11,
          23,
          1,
          18,
          23,
          7,
          1,
          1,
          29,
          7,
          25,
          8,
          8,
          11,
          7,
          1,
          9,
          1,
          2,
          1,
          1,
          6,
          8,
          1,
          6,
          7,
          5,
          1,
          1,
          1,
          6,
          1,
          7,
          2,
          9,
          2,
          9,
          1,
          21,
          4,
          1,
          6,
          2,
          3,
          4,
          10,
          23,
          6,
          1,
          6,
          6,
          2,
          2,
          1,
          5,
          7,
          15,
          1,
          7,
          26,
          18,
          6,
          3,
          5,
          11,
          3,
          26,
          23,
          22,
          14,
          6,
          6,
          6,
          23,
          22,
          2,
          20,
          28,
          12,
          20,
          9,
          25,
          6,
          8,
          4,
          28,
          9,
          9,
          29,
          3,
          18,
          9,
          5,
          2,
          10,
          9,
          3,
          26,
          1,
          6,
          9,
          8,
          1,
          7,
          9,
          4,
          2,
          19,
          9,
          21,
          24,
          3,
          11,
          14,
          5,
          1,
          6,
          17,
          1,
          3,
          9,
          4,
          8,
          2,
          2,
          1,
          9,
          12,
          27,
          20,
          1,
          13,
          14,
          4,
          14,
          2,
          3,
          1,
          9,
          23,
          7,
          2,
          21,
          2,
          21,
          2,
          29,
          1,
          18,
          10,
          19,
          29,
          27,
          5,
          18,
          9,
          1,
          4,
          1,
          20,
          8,
          3,
          6,
          26,
          1,
          6,
          3,
          5,
          4,
          11,
          3,
          1,
          3,
          4,
          1,
          1,
          18,
          2,
          4,
          6,
          1,
          14,
          16,
          2,
          2,
          4,
          1,
          1,
          26,
          19,
          24,
          1,
          3,
          5,
          2,
          1,
          7,
          10,
          2,
          15,
          17,
          20,
          1,
          2,
          2,
          1,
          29,
          7,
          2,
          2,
          2,
          2,
          2,
          23,
          5,
          20,
          6,
          1,
          29,
          9,
          6,
          3,
          1,
          22,
          7,
          1,
          4,
          3,
          1,
          2,
          20,
          11,
          1,
          24,
          23,
          16,
          8,
          10,
          3,
          5,
          4,
          9,
          26,
          3,
          16,
          18,
          2,
          2,
          10,
          16,
          7,
          1,
          24,
          7,
          25,
          1,
          5,
          2,
          7,
          2,
          5,
          10,
          10,
          1,
          8,
          5,
          8,
          2,
          7,
          2,
          2,
          28,
          7,
          7,
          3,
          10,
          5,
          10,
          1,
          20,
          7,
          8,
          1,
          8,
          9,
          5,
          8,
          5,
          15,
          7,
          10,
          5,
          26,
          6,
          4,
          23,
          2,
          2,
          2,
          29,
          6,
          25,
          1,
          2,
          1,
          1,
          3,
          1,
          10,
          9,
          5,
          10,
          7,
          4,
          10,
          22,
          9,
          12,
          23,
          9,
          1,
          9,
          7,
          14,
          2,
          19,
          2,
          10,
          2,
          3,
          11,
          2,
          4,
          14,
          2,
          1,
          10,
          12,
          2,
          5,
          4,
          7,
          21,
          8,
          4,
          25,
          1,
          1,
          6,
          12,
          1,
          17,
          3,
          3,
          10,
          4,
          29,
          2,
          7,
          18,
          28,
          1,
          6,
          2,
          2,
          23,
          3,
          3,
          25,
          2,
          22,
          29,
          29,
          2,
          28,
          2,
          2,
          22,
          8,
          2,
          10,
          9,
          15,
          10,
          7,
          16,
          20,
          23,
          5,
          10,
          4,
          2,
          18,
          10,
          1,
          6,
          8,
          2,
          24,
          2,
          17,
          19,
          1,
          7,
          5,
          28,
          2,
          29,
          1,
          21,
          24,
          1,
          18,
          2,
          9,
          6,
          11,
          24,
          10,
          1,
          18,
          23,
          28,
          17,
          3,
          13,
          7,
          12,
          1,
          13,
          25,
          6,
          6,
          2,
          1,
          2,
          6,
          1,
          9,
          1,
          1,
          14,
          2,
          22,
          3,
          6,
          8,
          9,
          3,
          1,
          1,
          26,
          6,
          3,
          3,
          6,
          6,
          19,
          9,
          3,
          10,
          3,
          3,
          4,
          8,
          7,
          1,
          2,
          3,
          10,
          28,
          9,
          3,
          2,
          10,
          8,
          1,
          1,
          3,
          14,
          5,
          7,
          10,
          16,
          10,
          1,
          8,
          1,
          8,
          1,
          24,
          3,
          27,
          10,
          19,
          15,
          8,
          9,
          3,
          9,
          2,
          7,
          10,
          6,
          2,
          24,
          2,
          8,
          3,
          1,
          26,
          2,
          10,
          27,
          2,
          2,
          8,
          19,
          1,
          27,
          8,
          1,
          19,
          8,
          10,
          2,
          2,
          8,
          1,
          2,
          8,
          8,
          6,
          9,
          11,
          2,
          1,
          7,
          16,
          2,
          1,
          23,
          2,
          1,
          1,
          2,
          13,
          4,
          16,
          2,
          2,
          29,
          12,
          16,
          11,
          2,
          14,
          5,
          7,
          2,
          3,
          5,
          3,
          26,
          4,
          2,
          1,
          27,
          1,
          13,
          5,
          7,
          9,
          8,
          25,
          16,
          8,
          1,
          8,
          2,
          8,
          3,
          9,
          25,
          1,
          4,
          1,
          4,
          5,
          9,
          3,
          11,
          1,
          8,
          25,
          21,
          23,
          1,
          2,
          19,
          2,
          2,
          3,
          25,
          7,
          9,
          5,
          2,
          8,
          2,
          18,
          14,
          2,
          3,
          2,
          9,
          6,
          4,
          10,
          14,
          1,
          5,
          7,
          21,
          8,
          20,
          20,
          7,
          1,
          1,
          19,
          10,
          1,
          6,
          2,
          21,
          4,
          12,
          9,
          3,
          3,
          1,
          1,
          4,
          20,
          18,
          1,
          2,
          2,
          8,
          10,
          3,
          2,
          24,
          16,
          8,
          9,
          17,
          10,
          13,
          1,
          1,
          1,
          9,
          16,
          23,
          4,
          22,
          24,
          10,
          7,
          17,
          14,
          1,
          5,
          17,
          25,
          8,
          11,
          5,
          2,
          8,
          6,
          4,
          7,
          1,
          2,
          10,
          5,
          9,
          2,
          11,
          18,
          7,
          3,
          29,
          2,
          28,
          1,
          16,
          22,
          8,
          11,
          29,
          1,
          1,
          24,
          2,
          15,
          2,
          10,
          10,
          3,
          2,
          3,
          26,
          1,
          1,
          2,
          9,
          12,
          2,
          25,
          9,
          10,
          8,
          4,
          24,
          1,
          20,
          7,
          17,
          20,
          8,
          2,
          10,
          1,
          5,
          4,
          29,
          15,
          3,
          10,
          4,
          21,
          25,
          2,
          1,
          1,
          7,
          3,
          1,
          9,
          7,
          10,
          28,
          3,
          3,
          2,
          27,
          2,
          14,
          1,
          9,
          18,
          20,
          2,
          11,
          8,
          2,
          10,
          29,
          8,
          1,
          6,
          8,
          9,
          12,
          15,
          25,
          6,
          9,
          8,
          23,
          9,
          12,
          4,
          1,
          24,
          12,
          3,
          10,
          26,
          2,
          1,
          4,
          9,
          2,
          4,
          6,
          9,
          7,
          1,
          3,
          10,
          7,
          15,
          3,
          2,
          17,
          2,
          5,
          29,
          2,
          2,
          19,
          15,
          17,
          17,
          25,
          6,
          7,
          29,
          21,
          2,
          2,
          7,
          13,
          2,
          1,
          9,
          10,
          10,
          1,
          26,
          8,
          14,
          1,
          2,
          10,
          1,
          3,
          11,
          24,
          3,
          3,
          4,
          3,
          2,
          4,
          7,
          1,
          1,
          20,
          5,
          10,
          25,
          1,
          24,
          4,
          2,
          8,
          10,
          4,
          2,
          9,
          18,
          19,
          1,
          4,
          11,
          6,
          7,
          4,
          2,
          15,
          2,
          6,
          9,
          7,
          1,
          1,
          8,
          25,
          13,
          23,
          7,
          23,
          6,
          10,
          1,
          1,
          28,
          25,
          5,
          17,
          18,
          2,
          10,
          1,
          3,
          2,
          2,
          8,
          16,
          9,
          2,
          1,
          4,
          5,
          2,
          15,
          19,
          7,
          1,
          7,
          4,
          11,
          11,
          1,
          1,
          2,
          13,
          23,
          26,
          2,
          29,
          2,
          18,
          7,
          2,
          26,
          22,
          21,
          2,
          22,
          4,
          5,
          2,
          25,
          18,
          28,
          6,
          10,
          17,
          2,
          10,
          8,
          11,
          18,
          1,
          7,
          17,
          28,
          14,
          1,
          1,
          1,
          3,
          1,
          7,
          8,
          1,
          8,
          11,
          4,
          16,
          1,
          9,
          5,
          1,
          2,
          4,
          7,
          1,
          5,
          9,
          8,
          9,
          2,
          1,
          20,
          8,
          2,
          29,
          7,
          9,
          8,
          5,
          5,
          2,
          5,
          2,
          20,
          7,
          3,
          16,
          9,
          1,
          7,
          1,
          7,
          15,
          1,
          13,
          24,
          7,
          9,
          13,
          2,
          19,
          1,
          4,
          4,
          14,
          2,
          1,
          7,
          3,
          2,
          29,
          8,
          10,
          11,
          1,
          28,
          6,
          3,
          16,
          20,
          9,
          1,
          3,
          22,
          7,
          2,
          13,
          8,
          25,
          28,
          2,
          9,
          28,
          6,
          21,
          8,
          1,
          28,
          5,
          2,
          16,
          9,
          8,
          1,
          10,
          1,
          29,
          2,
          2,
          2,
          1,
          15,
          7,
          26,
          1,
          3,
          14,
          16,
          1,
          3,
          10,
          6,
          2,
          9,
          10,
          6,
          9,
          28,
          10,
          14,
          27,
          7,
          1,
          24,
          26,
          20,
          5,
          7,
          7,
          5,
          26,
          2,
          12,
          10,
          25,
          10,
          19,
          18,
          27,
          5,
          3,
          26,
          3,
          15,
          8,
          19,
          4,
          2,
          2,
          10,
          10,
          16,
          1,
          4,
          15,
          2,
          8,
          2,
          7,
          10,
          5,
          2,
          12,
          22,
          17,
          2,
          3,
          7,
          6,
          1,
          3,
          22,
          15,
          12,
          1,
          5,
          2,
          2,
          5,
          16,
          2,
          2,
          1,
          23,
          9,
          16,
          26,
          1,
          8,
          4,
          24,
          7,
          2,
          7,
          22,
          5,
          1,
          21,
          1,
          19,
          7,
          2,
          2,
          2,
          9,
          6,
          9,
          2,
          1,
          22,
          9,
          17,
          28,
          10,
          2,
          4,
          8,
          29,
          13,
          27,
          16,
          2,
          2,
          13,
          1,
          4,
          24,
          1,
          19,
          7,
          4,
          2,
          10,
          8,
          5,
          8,
          9,
          1,
          15,
          2,
          2,
          11,
          16,
          2,
          16,
          4,
          16,
          5,
          18,
          17,
          12,
          2,
          4,
          9,
          10,
          1,
          2,
          3,
          7,
          6,
          8,
          29,
          3,
          9,
          2,
          10,
          1,
          8,
          27,
          8,
          1,
          10,
          26,
          2,
          13,
          2,
          2,
          9,
          10,
          20,
          9,
          5,
          4,
          10,
          20,
          21,
          1,
          8,
          2,
          23,
          4,
          12,
          7,
          7,
          1,
          2,
          10,
          15,
          14,
          18,
          13,
          2,
          2,
          2,
          5,
          20,
          10,
          10,
          9,
          2,
          1,
          29,
          8,
          2,
          3,
          23,
          6,
          6,
          10,
          24,
          10,
          15,
          19,
          2,
          3,
          9,
          7,
          10,
          20,
          4,
          7,
          7,
          16,
          25,
          2,
          1,
          1,
          2,
          22,
          1,
          16,
          24,
          17,
          8,
          6,
          10,
          3,
          4,
          6,
          1,
          10,
          1,
          24,
          21,
          2,
          22,
          13,
          14,
          11,
          9,
          8,
          21,
          5,
          9,
          2,
          12,
          22,
          18,
          16,
          3,
          9,
          1,
          13,
          1,
          1,
          15,
          1,
          17,
          1,
          7,
          9,
          5,
          26,
          24,
          9,
          7,
          11,
          1,
          26,
          2,
          15,
          23,
          10,
          10,
          1,
          12,
          11,
          2,
          2,
          1,
          2,
          25,
          1,
          1,
          2,
          6,
          18,
          1,
          1,
          11,
          1,
          9,
          15,
          29,
          1,
          1,
          24,
          10,
          1,
          10,
          8,
          29,
          1,
          5,
          9,
          9,
          3,
          4,
          1,
          1,
          2,
          7,
          28,
          28,
          15,
          3,
          2,
          26,
          10,
          1,
          11,
          20,
          2,
          18,
          2,
          1,
          13,
          28,
          28,
          24,
          5,
          5,
          23,
          6,
          4,
          2,
          8
         ],
         "y0": " ",
         "yaxis": "y"
        }
       ],
       "layout": {
        "boxmode": "group",
        "legend": {
         "tracegroupgap": 0
        },
        "shapes": [
         {
          "line": {
           "color": "red",
           "width": 2
          },
          "type": "line",
          "x0": -16,
          "x1": -16,
          "y0": -16,
          "y1": 32
         },
         {
          "line": {
           "color": "red",
           "width": 2
          },
          "type": "line",
          "x0": 32,
          "x1": 32,
          "y0": -16,
          "y1": 32
         }
        ],
        "template": {
         "data": {
          "bar": [
           {
            "error_x": {
             "color": "#2a3f5f"
            },
            "error_y": {
             "color": "#2a3f5f"
            },
            "marker": {
             "line": {
              "color": "#E5ECF6",
              "width": 0.5
             },
             "pattern": {
              "fillmode": "overlay",
              "size": 10,
              "solidity": 0.2
             }
            },
            "type": "bar"
           }
          ],
          "barpolar": [
           {
            "marker": {
             "line": {
              "color": "#E5ECF6",
              "width": 0.5
             },
             "pattern": {
              "fillmode": "overlay",
              "size": 10,
              "solidity": 0.2
             }
            },
            "type": "barpolar"
           }
          ],
          "carpet": [
           {
            "aaxis": {
             "endlinecolor": "#2a3f5f",
             "gridcolor": "white",
             "linecolor": "white",
             "minorgridcolor": "white",
             "startlinecolor": "#2a3f5f"
            },
            "baxis": {
             "endlinecolor": "#2a3f5f",
             "gridcolor": "white",
             "linecolor": "white",
             "minorgridcolor": "white",
             "startlinecolor": "#2a3f5f"
            },
            "type": "carpet"
           }
          ],
          "choropleth": [
           {
            "colorbar": {
             "outlinewidth": 0,
             "ticks": ""
            },
            "type": "choropleth"
           }
          ],
          "contour": [
           {
            "colorbar": {
             "outlinewidth": 0,
             "ticks": ""
            },
            "colorscale": [
             [
              0,
              "#0d0887"
             ],
             [
              0.1111111111111111,
              "#46039f"
             ],
             [
              0.2222222222222222,
              "#7201a8"
             ],
             [
              0.3333333333333333,
              "#9c179e"
             ],
             [
              0.4444444444444444,
              "#bd3786"
             ],
             [
              0.5555555555555556,
              "#d8576b"
             ],
             [
              0.6666666666666666,
              "#ed7953"
             ],
             [
              0.7777777777777778,
              "#fb9f3a"
             ],
             [
              0.8888888888888888,
              "#fdca26"
             ],
             [
              1,
              "#f0f921"
             ]
            ],
            "type": "contour"
           }
          ],
          "contourcarpet": [
           {
            "colorbar": {
             "outlinewidth": 0,
             "ticks": ""
            },
            "type": "contourcarpet"
           }
          ],
          "heatmap": [
           {
            "colorbar": {
             "outlinewidth": 0,
             "ticks": ""
            },
            "colorscale": [
             [
              0,
              "#0d0887"
             ],
             [
              0.1111111111111111,
              "#46039f"
             ],
             [
              0.2222222222222222,
              "#7201a8"
             ],
             [
              0.3333333333333333,
              "#9c179e"
             ],
             [
              0.4444444444444444,
              "#bd3786"
             ],
             [
              0.5555555555555556,
              "#d8576b"
             ],
             [
              0.6666666666666666,
              "#ed7953"
             ],
             [
              0.7777777777777778,
              "#fb9f3a"
             ],
             [
              0.8888888888888888,
              "#fdca26"
             ],
             [
              1,
              "#f0f921"
             ]
            ],
            "type": "heatmap"
           }
          ],
          "heatmapgl": [
           {
            "colorbar": {
             "outlinewidth": 0,
             "ticks": ""
            },
            "colorscale": [
             [
              0,
              "#0d0887"
             ],
             [
              0.1111111111111111,
              "#46039f"
             ],
             [
              0.2222222222222222,
              "#7201a8"
             ],
             [
              0.3333333333333333,
              "#9c179e"
             ],
             [
              0.4444444444444444,
              "#bd3786"
             ],
             [
              0.5555555555555556,
              "#d8576b"
             ],
             [
              0.6666666666666666,
              "#ed7953"
             ],
             [
              0.7777777777777778,
              "#fb9f3a"
             ],
             [
              0.8888888888888888,
              "#fdca26"
             ],
             [
              1,
              "#f0f921"
             ]
            ],
            "type": "heatmapgl"
           }
          ],
          "histogram": [
           {
            "marker": {
             "pattern": {
              "fillmode": "overlay",
              "size": 10,
              "solidity": 0.2
             }
            },
            "type": "histogram"
           }
          ],
          "histogram2d": [
           {
            "colorbar": {
             "outlinewidth": 0,
             "ticks": ""
            },
            "colorscale": [
             [
              0,
              "#0d0887"
             ],
             [
              0.1111111111111111,
              "#46039f"
             ],
             [
              0.2222222222222222,
              "#7201a8"
             ],
             [
              0.3333333333333333,
              "#9c179e"
             ],
             [
              0.4444444444444444,
              "#bd3786"
             ],
             [
              0.5555555555555556,
              "#d8576b"
             ],
             [
              0.6666666666666666,
              "#ed7953"
             ],
             [
              0.7777777777777778,
              "#fb9f3a"
             ],
             [
              0.8888888888888888,
              "#fdca26"
             ],
             [
              1,
              "#f0f921"
             ]
            ],
            "type": "histogram2d"
           }
          ],
          "histogram2dcontour": [
           {
            "colorbar": {
             "outlinewidth": 0,
             "ticks": ""
            },
            "colorscale": [
             [
              0,
              "#0d0887"
             ],
             [
              0.1111111111111111,
              "#46039f"
             ],
             [
              0.2222222222222222,
              "#7201a8"
             ],
             [
              0.3333333333333333,
              "#9c179e"
             ],
             [
              0.4444444444444444,
              "#bd3786"
             ],
             [
              0.5555555555555556,
              "#d8576b"
             ],
             [
              0.6666666666666666,
              "#ed7953"
             ],
             [
              0.7777777777777778,
              "#fb9f3a"
             ],
             [
              0.8888888888888888,
              "#fdca26"
             ],
             [
              1,
              "#f0f921"
             ]
            ],
            "type": "histogram2dcontour"
           }
          ],
          "mesh3d": [
           {
            "colorbar": {
             "outlinewidth": 0,
             "ticks": ""
            },
            "type": "mesh3d"
           }
          ],
          "parcoords": [
           {
            "line": {
             "colorbar": {
              "outlinewidth": 0,
              "ticks": ""
             }
            },
            "type": "parcoords"
           }
          ],
          "pie": [
           {
            "automargin": true,
            "type": "pie"
           }
          ],
          "scatter": [
           {
            "fillpattern": {
             "fillmode": "overlay",
             "size": 10,
             "solidity": 0.2
            },
            "type": "scatter"
           }
          ],
          "scatter3d": [
           {
            "line": {
             "colorbar": {
              "outlinewidth": 0,
              "ticks": ""
             }
            },
            "marker": {
             "colorbar": {
              "outlinewidth": 0,
              "ticks": ""
             }
            },
            "type": "scatter3d"
           }
          ],
          "scattercarpet": [
           {
            "marker": {
             "colorbar": {
              "outlinewidth": 0,
              "ticks": ""
             }
            },
            "type": "scattercarpet"
           }
          ],
          "scattergeo": [
           {
            "marker": {
             "colorbar": {
              "outlinewidth": 0,
              "ticks": ""
             }
            },
            "type": "scattergeo"
           }
          ],
          "scattergl": [
           {
            "marker": {
             "colorbar": {
              "outlinewidth": 0,
              "ticks": ""
             }
            },
            "type": "scattergl"
           }
          ],
          "scattermapbox": [
           {
            "marker": {
             "colorbar": {
              "outlinewidth": 0,
              "ticks": ""
             }
            },
            "type": "scattermapbox"
           }
          ],
          "scatterpolar": [
           {
            "marker": {
             "colorbar": {
              "outlinewidth": 0,
              "ticks": ""
             }
            },
            "type": "scatterpolar"
           }
          ],
          "scatterpolargl": [
           {
            "marker": {
             "colorbar": {
              "outlinewidth": 0,
              "ticks": ""
             }
            },
            "type": "scatterpolargl"
           }
          ],
          "scatterternary": [
           {
            "marker": {
             "colorbar": {
              "outlinewidth": 0,
              "ticks": ""
             }
            },
            "type": "scatterternary"
           }
          ],
          "surface": [
           {
            "colorbar": {
             "outlinewidth": 0,
             "ticks": ""
            },
            "colorscale": [
             [
              0,
              "#0d0887"
             ],
             [
              0.1111111111111111,
              "#46039f"
             ],
             [
              0.2222222222222222,
              "#7201a8"
             ],
             [
              0.3333333333333333,
              "#9c179e"
             ],
             [
              0.4444444444444444,
              "#bd3786"
             ],
             [
              0.5555555555555556,
              "#d8576b"
             ],
             [
              0.6666666666666666,
              "#ed7953"
             ],
             [
              0.7777777777777778,
              "#fb9f3a"
             ],
             [
              0.8888888888888888,
              "#fdca26"
             ],
             [
              1,
              "#f0f921"
             ]
            ],
            "type": "surface"
           }
          ],
          "table": [
           {
            "cells": {
             "fill": {
              "color": "#EBF0F8"
             },
             "line": {
              "color": "white"
             }
            },
            "header": {
             "fill": {
              "color": "#C8D4E3"
             },
             "line": {
              "color": "white"
             }
            },
            "type": "table"
           }
          ]
         },
         "layout": {
          "annotationdefaults": {
           "arrowcolor": "#2a3f5f",
           "arrowhead": 0,
           "arrowwidth": 1
          },
          "autotypenumbers": "strict",
          "coloraxis": {
           "colorbar": {
            "outlinewidth": 0,
            "ticks": ""
           }
          },
          "colorscale": {
           "diverging": [
            [
             0,
             "#8e0152"
            ],
            [
             0.1,
             "#c51b7d"
            ],
            [
             0.2,
             "#de77ae"
            ],
            [
             0.3,
             "#f1b6da"
            ],
            [
             0.4,
             "#fde0ef"
            ],
            [
             0.5,
             "#f7f7f7"
            ],
            [
             0.6,
             "#e6f5d0"
            ],
            [
             0.7,
             "#b8e186"
            ],
            [
             0.8,
             "#7fbc41"
            ],
            [
             0.9,
             "#4d9221"
            ],
            [
             1,
             "#276419"
            ]
           ],
           "sequential": [
            [
             0,
             "#0d0887"
            ],
            [
             0.1111111111111111,
             "#46039f"
            ],
            [
             0.2222222222222222,
             "#7201a8"
            ],
            [
             0.3333333333333333,
             "#9c179e"
            ],
            [
             0.4444444444444444,
             "#bd3786"
            ],
            [
             0.5555555555555556,
             "#d8576b"
            ],
            [
             0.6666666666666666,
             "#ed7953"
            ],
            [
             0.7777777777777778,
             "#fb9f3a"
            ],
            [
             0.8888888888888888,
             "#fdca26"
            ],
            [
             1,
             "#f0f921"
            ]
           ],
           "sequentialminus": [
            [
             0,
             "#0d0887"
            ],
            [
             0.1111111111111111,
             "#46039f"
            ],
            [
             0.2222222222222222,
             "#7201a8"
            ],
            [
             0.3333333333333333,
             "#9c179e"
            ],
            [
             0.4444444444444444,
             "#bd3786"
            ],
            [
             0.5555555555555556,
             "#d8576b"
            ],
            [
             0.6666666666666666,
             "#ed7953"
            ],
            [
             0.7777777777777778,
             "#fb9f3a"
            ],
            [
             0.8888888888888888,
             "#fdca26"
            ],
            [
             1,
             "#f0f921"
            ]
           ]
          },
          "colorway": [
           "#636efa",
           "#EF553B",
           "#00cc96",
           "#ab63fa",
           "#FFA15A",
           "#19d3f3",
           "#FF6692",
           "#B6E880",
           "#FF97FF",
           "#FECB52"
          ],
          "font": {
           "color": "#2a3f5f"
          },
          "geo": {
           "bgcolor": "white",
           "lakecolor": "white",
           "landcolor": "#E5ECF6",
           "showlakes": true,
           "showland": true,
           "subunitcolor": "white"
          },
          "hoverlabel": {
           "align": "left"
          },
          "hovermode": "closest",
          "mapbox": {
           "style": "light"
          },
          "paper_bgcolor": "white",
          "plot_bgcolor": "#E5ECF6",
          "polar": {
           "angularaxis": {
            "gridcolor": "white",
            "linecolor": "white",
            "ticks": ""
           },
           "bgcolor": "#E5ECF6",
           "radialaxis": {
            "gridcolor": "white",
            "linecolor": "white",
            "ticks": ""
           }
          },
          "scene": {
           "xaxis": {
            "backgroundcolor": "#E5ECF6",
            "gridcolor": "white",
            "gridwidth": 2,
            "linecolor": "white",
            "showbackground": true,
            "ticks": "",
            "zerolinecolor": "white"
           },
           "yaxis": {
            "backgroundcolor": "#E5ECF6",
            "gridcolor": "white",
            "gridwidth": 2,
            "linecolor": "white",
            "showbackground": true,
            "ticks": "",
            "zerolinecolor": "white"
           },
           "zaxis": {
            "backgroundcolor": "#E5ECF6",
            "gridcolor": "white",
            "gridwidth": 2,
            "linecolor": "white",
            "showbackground": true,
            "ticks": "",
            "zerolinecolor": "white"
           }
          },
          "shapedefaults": {
           "line": {
            "color": "#2a3f5f"
           }
          },
          "ternary": {
           "aaxis": {
            "gridcolor": "white",
            "linecolor": "white",
            "ticks": ""
           },
           "baxis": {
            "gridcolor": "white",
            "linecolor": "white",
            "ticks": ""
           },
           "bgcolor": "#E5ECF6",
           "caxis": {
            "gridcolor": "white",
            "linecolor": "white",
            "ticks": ""
           }
          },
          "title": {
           "x": 0.05
          },
          "xaxis": {
           "automargin": true,
           "gridcolor": "white",
           "linecolor": "white",
           "ticks": "",
           "title": {
            "standoff": 15
           },
           "zerolinecolor": "white",
           "zerolinewidth": 2
          },
          "yaxis": {
           "automargin": true,
           "gridcolor": "white",
           "linecolor": "white",
           "ticks": "",
           "title": {
            "standoff": 15
           },
           "zerolinecolor": "white",
           "zerolinewidth": 2
          }
         }
        },
        "title": {
         "text": "evden_uzaklik Aykırı Değer Analizi (IQR Method)"
        },
        "xaxis": {
         "anchor": "y",
         "domain": [
          0,
          1
         ]
        },
        "yaxis": {
         "anchor": "x",
         "domain": [
          0,
          1
         ],
         "title": {
          "text": "evden_uzaklik"
         }
        }
       }
      }
     },
     "metadata": {},
     "output_type": "display_data"
    },
    {
     "data": {
      "application/vnd.plotly.v1+json": {
       "config": {
        "plotlyServerURL": "https://plot.ly"
       },
       "data": [
        {
         "alignmentgroup": "True",
         "hovertemplate": "son_terfiden_bu_yana_gecen_yil=%{y}<extra></extra>",
         "legendgroup": "",
         "marker": {
          "color": "#636efa"
         },
         "name": "",
         "notched": false,
         "offsetgroup": "",
         "orientation": "v",
         "showlegend": false,
         "type": "box",
         "x0": " ",
         "xaxis": "x",
         "y": [
          0,
          1,
          0,
          3,
          2,
          3,
          0,
          0,
          1,
          7,
          0,
          0,
          4,
          1,
          0,
          8,
          0,
          0,
          3,
          1,
          1,
          0,
          2,
          0,
          1,
          4,
          6,
          4,
          5,
          2,
          0,
          1,
          1,
          0,
          2,
          1,
          0,
          2,
          0,
          1,
          0,
          0,
          0,
          1,
          3,
          15,
          8,
          0,
          0,
          0,
          0,
          2,
          1,
          2,
          0,
          8,
          1,
          2,
          1,
          0,
          7,
          9,
          13,
          7,
          12,
          0,
          0,
          0,
          1,
          0,
          1,
          0,
          1,
          0,
          0,
          1,
          2,
          0,
          0,
          0,
          3,
          0,
          1,
          1,
          1,
          0,
          0,
          0,
          10,
          4,
          11,
          1,
          2,
          9,
          5,
          0,
          0,
          0,
          1,
          1,
          0,
          0,
          1,
          2,
          0,
          2,
          0,
          0,
          2,
          0,
          12,
          0,
          4,
          1,
          0,
          1,
          5,
          2,
          0,
          4,
          0,
          0,
          4,
          15,
          7,
          4,
          15,
          0,
          2,
          5,
          1,
          2,
          2,
          0,
          5,
          0,
          0,
          5,
          2,
          4,
          0,
          0,
          2,
          0,
          0,
          2,
          1,
          7,
          1,
          0,
          2,
          0,
          4,
          0,
          3,
          0,
          0,
          0,
          2,
          1,
          2,
          2,
          0,
          1,
          0,
          4,
          1,
          7,
          0,
          1,
          1,
          0,
          7,
          6,
          0,
          2,
          0,
          1,
          15,
          2,
          0,
          1,
          0,
          0,
          1,
          1,
          9,
          2,
          1,
          1,
          11,
          0,
          0,
          2,
          11,
          1,
          1,
          0,
          0,
          1,
          2,
          1,
          2,
          3,
          0,
          1,
          2,
          1,
          0,
          0,
          9,
          5,
          0,
          4,
          0,
          0,
          0,
          1,
          12,
          0,
          3,
          1,
          0,
          5,
          1,
          0,
          5,
          4,
          0,
          0,
          2,
          11,
          2,
          0,
          0,
          1,
          1,
          15,
          1,
          1,
          1,
          2,
          0,
          4,
          1,
          2,
          0,
          5,
          0,
          0,
          0,
          11,
          1,
          0,
          0,
          1,
          7,
          3,
          0,
          1,
          0,
          7,
          0,
          7,
          0,
          0,
          7,
          1,
          4,
          10,
          4,
          9,
          0,
          0,
          1,
          0,
          6,
          7,
          1,
          1,
          1,
          11,
          0,
          0,
          3,
          5,
          0,
          1,
          0,
          0,
          1,
          7,
          2,
          7,
          1,
          4,
          0,
          6,
          0,
          1,
          0,
          0,
          0,
          7,
          3,
          0,
          4,
          0,
          1,
          0,
          1,
          9,
          2,
          8,
          11,
          1,
          0,
          7,
          1,
          11,
          0,
          1,
          0,
          2,
          1,
          8,
          13,
          0,
          0,
          1,
          0,
          1,
          0,
          0,
          9,
          0,
          0,
          2,
          1,
          0,
          0,
          2,
          4,
          1,
          0,
          0,
          1,
          0,
          0,
          0,
          1,
          0,
          0,
          6,
          2,
          7,
          0,
          1,
          0,
          1,
          1,
          1,
          2,
          0,
          0,
          0,
          7,
          1,
          1,
          2,
          0,
          1,
          0,
          0,
          0,
          0,
          0,
          2,
          0,
          1,
          0,
          0,
          0,
          1,
          9,
          0,
          12,
          1,
          1,
          0,
          3,
          0,
          1,
          1,
          3,
          1,
          0,
          1,
          10,
          3,
          1,
          7,
          4,
          0,
          1,
          0,
          0,
          0,
          1,
          0,
          0,
          11,
          0,
          0,
          1,
          1,
          0,
          1,
          0,
          1,
          0,
          1,
          0,
          7,
          0,
          15,
          6,
          13,
          0,
          0,
          4,
          0,
          5,
          1,
          0,
          7,
          1,
          1,
          0,
          0,
          0,
          2,
          9,
          1,
          6,
          7,
          1,
          6,
          5,
          0,
          0,
          5,
          3,
          1,
          1,
          0,
          0,
          0,
          0,
          0,
          0,
          0,
          5,
          0,
          1,
          1,
          11,
          7,
          6,
          1,
          2,
          0,
          4,
          0,
          1,
          1,
          0,
          10,
          0,
          1,
          0,
          1,
          1,
          0,
          5,
          0,
          1,
          0,
          2,
          0,
          0,
          4,
          0,
          0,
          0,
          0,
          1,
          0,
          2,
          1,
          0,
          0,
          8,
          8,
          0,
          0,
          7,
          1,
          11,
          4,
          7,
          0,
          1,
          1,
          9,
          0,
          0,
          1,
          0,
          2,
          2,
          0,
          0,
          3,
          7,
          2,
          11,
          0,
          1,
          1,
          0,
          7,
          1,
          1,
          1,
          12,
          2,
          1,
          2,
          2,
          3,
          0,
          0,
          1,
          11,
          7,
          0,
          2,
          2,
          4,
          0,
          3,
          1,
          2,
          0,
          2,
          2,
          0,
          4,
          0,
          0,
          1,
          7,
          1,
          3,
          0,
          1,
          1,
          1,
          0,
          1,
          2,
          1,
          1,
          1,
          1,
          1,
          4,
          4,
          1,
          0,
          0,
          3,
          1,
          14,
          0,
          0,
          1,
          0,
          0,
          3,
          0,
          3,
          0,
          0,
          13,
          2,
          0,
          2,
          0,
          6,
          0,
          0,
          0,
          7,
          1,
          1,
          7,
          7,
          1,
          0,
          1,
          7,
          0,
          1,
          0,
          4,
          2,
          0,
          0,
          1,
          4,
          0,
          0,
          0,
          0,
          1,
          0,
          0,
          0,
          2,
          0,
          2,
          0,
          0,
          5,
          7,
          0,
          0,
          0,
          3,
          5,
          1,
          1,
          0,
          0,
          2,
          4,
          0,
          3,
          2,
          7,
          0,
          14,
          0,
          0,
          0,
          0,
          7,
          0,
          0,
          0,
          0,
          0,
          4,
          1,
          0,
          1,
          2,
          2,
          0,
          1,
          0,
          0,
          0,
          5,
          0,
          1,
          0,
          0,
          0,
          5,
          0,
          0,
          0,
          0,
          2,
          3,
          0,
          0,
          8,
          0,
          6,
          3,
          1,
          11,
          0,
          0,
          1,
          7,
          0,
          15,
          7,
          1,
          0,
          0,
          0,
          2,
          0,
          1,
          6,
          0,
          0,
          0,
          1,
          1,
          0,
          2,
          0,
          0,
          0,
          1,
          0,
          0,
          3,
          0,
          0,
          0,
          0,
          10,
          1,
          0,
          1,
          1,
          1,
          2,
          4,
          2,
          11,
          2,
          1,
          0,
          0,
          4,
          0,
          6,
          5,
          0,
          2,
          6,
          11,
          0,
          15,
          2,
          2,
          1,
          7,
          0,
          0,
          0,
          6,
          0,
          1,
          0,
          0,
          2,
          7,
          0,
          7,
          1,
          2,
          7,
          0,
          7,
          6,
          0,
          0,
          1,
          1,
          2,
          1,
          1,
          0,
          0,
          1,
          11,
          1,
          1,
          1,
          3,
          1,
          4,
          3,
          2,
          0,
          0,
          5,
          0,
          2,
          13,
          0,
          0,
          0,
          0,
          2,
          4,
          4,
          2,
          1,
          1,
          4,
          0,
          0,
          11,
          4,
          2,
          0,
          0,
          2,
          0,
          0,
          2,
          0,
          1,
          0,
          1,
          5,
          0,
          0,
          0,
          0,
          2,
          1,
          2,
          1,
          1,
          3,
          2,
          13,
          1,
          1,
          1,
          0,
          0,
          1,
          0,
          6,
          4,
          2,
          1,
          0,
          4,
          0,
          0,
          0,
          3,
          1,
          0,
          4,
          1,
          0,
          15,
          0,
          1,
          0,
          0,
          0,
          2,
          3,
          0,
          1,
          0,
          0,
          1,
          8,
          13,
          2,
          1,
          0,
          1,
          2,
          0,
          7,
          4,
          1,
          1,
          5,
          0,
          4,
          6,
          1,
          7,
          0,
          1,
          0,
          0,
          1,
          0,
          0,
          0,
          0,
          0,
          0,
          1,
          0,
          1,
          0,
          3,
          0,
          0,
          0,
          1,
          2,
          1,
          15,
          2,
          0,
          0,
          11,
          5,
          5,
          0,
          14,
          1,
          2,
          0,
          15,
          5,
          0,
          2,
          7,
          1,
          7,
          1,
          2,
          0,
          0,
          15,
          2,
          1,
          0,
          6,
          1,
          5,
          7,
          1,
          1,
          7,
          0,
          1,
          9,
          11,
          2,
          1,
          2,
          9,
          7,
          0,
          1,
          8,
          1,
          1,
          0,
          1,
          9,
          1,
          5,
          0,
          6,
          0,
          0,
          0,
          0,
          0,
          0,
          3,
          15,
          0,
          11,
          7,
          0,
          3,
          0,
          4,
          0,
          6,
          1,
          3,
          3,
          1,
          1,
          1,
          0,
          1,
          0,
          1,
          4,
          7,
          1,
          0,
          0,
          0,
          2,
          0,
          0,
          0,
          1,
          7,
          12,
          1,
          0,
          0,
          0,
          0,
          1,
          1,
          0,
          1,
          1,
          0,
          1,
          2,
          1,
          1,
          5,
          0,
          0,
          0,
          0,
          0,
          9,
          4,
          0,
          4,
          0,
          0,
          2,
          1,
          2,
          2,
          4,
          1,
          0,
          8,
          1,
          1,
          1,
          0,
          3,
          2,
          5,
          0,
          0,
          2,
          0,
          6,
          1,
          0,
          10,
          0,
          0,
          0,
          2,
          0,
          1,
          1,
          0,
          1,
          0,
          0,
          1,
          1,
          0,
          1,
          0,
          0,
          1,
          0,
          14,
          2,
          5,
          3,
          1,
          1,
          8,
          7,
          13,
          5,
          0,
          3,
          0,
          0,
          0,
          13,
          7,
          5,
          7,
          0,
          2,
          7,
          4,
          2,
          1,
          7,
          0,
          2,
          6,
          1,
          1,
          1,
          0,
          1,
          1,
          1,
          7,
          0,
          2,
          2,
          0,
          7,
          1,
          0,
          1,
          0,
          7,
          1,
          0,
          2,
          0,
          0,
          6,
          7,
          1,
          0,
          0,
          0,
          0,
          1,
          12,
          0,
          1,
          1,
          1,
          4,
          0,
          1,
          7,
          1,
          7,
          0,
          1,
          0,
          2,
          0,
          1,
          0,
          14,
          2,
          0,
          3,
          3,
          0,
          6,
          7,
          3,
          0,
          2,
          2,
          1,
          0,
          1,
          0,
          1,
          0,
          0,
          1,
          1,
          1,
          2,
          7,
          1,
          2,
          1,
          0,
          4,
          6,
          6,
          2,
          0,
          0,
          1,
          0,
          2,
          3,
          1,
          0,
          0,
          0,
          1,
          0,
          2,
          1,
          0,
          1,
          7,
          0,
          5,
          1,
          4,
          0,
          2,
          1,
          8,
          0,
          6,
          1,
          8,
          0,
          8,
          1,
          6,
          14,
          0,
          14,
          0,
          8,
          1,
          0,
          1,
          0,
          1,
          0,
          0,
          0,
          0,
          0,
          2,
          0,
          1,
          1,
          5,
          0,
          12,
          0,
          0,
          2,
          1,
          0,
          1,
          2,
          0,
          1,
          1,
          1,
          0,
          0,
          0,
          0,
          0,
          1,
          0,
          1,
          0,
          0,
          0,
          1,
          0,
          0,
          0,
          1,
          2,
          1,
          0,
          0,
          5,
          2,
          0,
          2,
          5,
          2,
          4,
          7,
          7,
          0,
          2,
          2,
          0,
          0,
          1,
          3,
          0,
          0,
          2,
          1,
          1,
          13,
          0,
          1,
          3,
          0,
          4,
          14,
          0,
          14,
          7,
          1,
          2,
          1,
          0,
          1,
          2,
          0,
          0,
          2,
          5,
          0,
          7,
          0,
          3,
          0,
          3,
          2,
          4,
          2,
          1,
          0,
          2,
          2,
          5,
          0,
          6,
          12,
          1,
          0,
          7,
          2,
          0,
          0,
          0,
          0,
          1,
          0,
          1,
          1,
          0,
          0,
          3,
          0,
          11,
          1,
          0,
          4,
          2,
          3,
          1,
          1,
          1,
          5,
          1,
          0,
          2,
          7,
          0,
          0,
          0,
          0,
          1,
          1,
          6,
          2,
          1,
          0,
          7,
          0,
          0,
          0,
          0,
          4,
          0,
          0,
          0,
          1,
          2,
          0,
          2,
          1,
          7,
          0,
          1,
          8,
          0,
          0,
          0,
          0,
          0,
          0,
          2,
          2,
          2,
          0,
          1,
          1,
          0,
          11,
          3,
          4,
          1,
          1,
          1,
          9,
          5,
          1,
          1,
          0,
          12,
          0,
          5,
          1,
          7,
          1,
          1,
          5,
          2,
          1,
          0,
          8,
          4,
          0,
          2,
          1,
          1,
          5,
          6,
          0,
          0,
          1,
          1,
          1,
          1,
          3,
          0,
          1,
          2,
          4,
          9,
          0,
          1,
          11,
          0,
          1,
          1,
          1,
          0,
          0,
          0,
          2,
          0,
          0,
          1,
          0,
          0,
          2,
          9,
          1,
          0,
          0,
          1,
          0,
          0,
          1
         ],
         "y0": " ",
         "yaxis": "y"
        }
       ],
       "layout": {
        "boxmode": "group",
        "legend": {
         "tracegroupgap": 0
        },
        "shapes": [
         {
          "line": {
           "color": "red",
           "width": 2
          },
          "type": "line",
          "x0": -4.5,
          "x1": -4.5,
          "y0": -4.5,
          "y1": 7.5
         },
         {
          "line": {
           "color": "red",
           "width": 2
          },
          "type": "line",
          "x0": 7.5,
          "x1": 7.5,
          "y0": -4.5,
          "y1": 7.5
         }
        ],
        "template": {
         "data": {
          "bar": [
           {
            "error_x": {
             "color": "#2a3f5f"
            },
            "error_y": {
             "color": "#2a3f5f"
            },
            "marker": {
             "line": {
              "color": "#E5ECF6",
              "width": 0.5
             },
             "pattern": {
              "fillmode": "overlay",
              "size": 10,
              "solidity": 0.2
             }
            },
            "type": "bar"
           }
          ],
          "barpolar": [
           {
            "marker": {
             "line": {
              "color": "#E5ECF6",
              "width": 0.5
             },
             "pattern": {
              "fillmode": "overlay",
              "size": 10,
              "solidity": 0.2
             }
            },
            "type": "barpolar"
           }
          ],
          "carpet": [
           {
            "aaxis": {
             "endlinecolor": "#2a3f5f",
             "gridcolor": "white",
             "linecolor": "white",
             "minorgridcolor": "white",
             "startlinecolor": "#2a3f5f"
            },
            "baxis": {
             "endlinecolor": "#2a3f5f",
             "gridcolor": "white",
             "linecolor": "white",
             "minorgridcolor": "white",
             "startlinecolor": "#2a3f5f"
            },
            "type": "carpet"
           }
          ],
          "choropleth": [
           {
            "colorbar": {
             "outlinewidth": 0,
             "ticks": ""
            },
            "type": "choropleth"
           }
          ],
          "contour": [
           {
            "colorbar": {
             "outlinewidth": 0,
             "ticks": ""
            },
            "colorscale": [
             [
              0,
              "#0d0887"
             ],
             [
              0.1111111111111111,
              "#46039f"
             ],
             [
              0.2222222222222222,
              "#7201a8"
             ],
             [
              0.3333333333333333,
              "#9c179e"
             ],
             [
              0.4444444444444444,
              "#bd3786"
             ],
             [
              0.5555555555555556,
              "#d8576b"
             ],
             [
              0.6666666666666666,
              "#ed7953"
             ],
             [
              0.7777777777777778,
              "#fb9f3a"
             ],
             [
              0.8888888888888888,
              "#fdca26"
             ],
             [
              1,
              "#f0f921"
             ]
            ],
            "type": "contour"
           }
          ],
          "contourcarpet": [
           {
            "colorbar": {
             "outlinewidth": 0,
             "ticks": ""
            },
            "type": "contourcarpet"
           }
          ],
          "heatmap": [
           {
            "colorbar": {
             "outlinewidth": 0,
             "ticks": ""
            },
            "colorscale": [
             [
              0,
              "#0d0887"
             ],
             [
              0.1111111111111111,
              "#46039f"
             ],
             [
              0.2222222222222222,
              "#7201a8"
             ],
             [
              0.3333333333333333,
              "#9c179e"
             ],
             [
              0.4444444444444444,
              "#bd3786"
             ],
             [
              0.5555555555555556,
              "#d8576b"
             ],
             [
              0.6666666666666666,
              "#ed7953"
             ],
             [
              0.7777777777777778,
              "#fb9f3a"
             ],
             [
              0.8888888888888888,
              "#fdca26"
             ],
             [
              1,
              "#f0f921"
             ]
            ],
            "type": "heatmap"
           }
          ],
          "heatmapgl": [
           {
            "colorbar": {
             "outlinewidth": 0,
             "ticks": ""
            },
            "colorscale": [
             [
              0,
              "#0d0887"
             ],
             [
              0.1111111111111111,
              "#46039f"
             ],
             [
              0.2222222222222222,
              "#7201a8"
             ],
             [
              0.3333333333333333,
              "#9c179e"
             ],
             [
              0.4444444444444444,
              "#bd3786"
             ],
             [
              0.5555555555555556,
              "#d8576b"
             ],
             [
              0.6666666666666666,
              "#ed7953"
             ],
             [
              0.7777777777777778,
              "#fb9f3a"
             ],
             [
              0.8888888888888888,
              "#fdca26"
             ],
             [
              1,
              "#f0f921"
             ]
            ],
            "type": "heatmapgl"
           }
          ],
          "histogram": [
           {
            "marker": {
             "pattern": {
              "fillmode": "overlay",
              "size": 10,
              "solidity": 0.2
             }
            },
            "type": "histogram"
           }
          ],
          "histogram2d": [
           {
            "colorbar": {
             "outlinewidth": 0,
             "ticks": ""
            },
            "colorscale": [
             [
              0,
              "#0d0887"
             ],
             [
              0.1111111111111111,
              "#46039f"
             ],
             [
              0.2222222222222222,
              "#7201a8"
             ],
             [
              0.3333333333333333,
              "#9c179e"
             ],
             [
              0.4444444444444444,
              "#bd3786"
             ],
             [
              0.5555555555555556,
              "#d8576b"
             ],
             [
              0.6666666666666666,
              "#ed7953"
             ],
             [
              0.7777777777777778,
              "#fb9f3a"
             ],
             [
              0.8888888888888888,
              "#fdca26"
             ],
             [
              1,
              "#f0f921"
             ]
            ],
            "type": "histogram2d"
           }
          ],
          "histogram2dcontour": [
           {
            "colorbar": {
             "outlinewidth": 0,
             "ticks": ""
            },
            "colorscale": [
             [
              0,
              "#0d0887"
             ],
             [
              0.1111111111111111,
              "#46039f"
             ],
             [
              0.2222222222222222,
              "#7201a8"
             ],
             [
              0.3333333333333333,
              "#9c179e"
             ],
             [
              0.4444444444444444,
              "#bd3786"
             ],
             [
              0.5555555555555556,
              "#d8576b"
             ],
             [
              0.6666666666666666,
              "#ed7953"
             ],
             [
              0.7777777777777778,
              "#fb9f3a"
             ],
             [
              0.8888888888888888,
              "#fdca26"
             ],
             [
              1,
              "#f0f921"
             ]
            ],
            "type": "histogram2dcontour"
           }
          ],
          "mesh3d": [
           {
            "colorbar": {
             "outlinewidth": 0,
             "ticks": ""
            },
            "type": "mesh3d"
           }
          ],
          "parcoords": [
           {
            "line": {
             "colorbar": {
              "outlinewidth": 0,
              "ticks": ""
             }
            },
            "type": "parcoords"
           }
          ],
          "pie": [
           {
            "automargin": true,
            "type": "pie"
           }
          ],
          "scatter": [
           {
            "fillpattern": {
             "fillmode": "overlay",
             "size": 10,
             "solidity": 0.2
            },
            "type": "scatter"
           }
          ],
          "scatter3d": [
           {
            "line": {
             "colorbar": {
              "outlinewidth": 0,
              "ticks": ""
             }
            },
            "marker": {
             "colorbar": {
              "outlinewidth": 0,
              "ticks": ""
             }
            },
            "type": "scatter3d"
           }
          ],
          "scattercarpet": [
           {
            "marker": {
             "colorbar": {
              "outlinewidth": 0,
              "ticks": ""
             }
            },
            "type": "scattercarpet"
           }
          ],
          "scattergeo": [
           {
            "marker": {
             "colorbar": {
              "outlinewidth": 0,
              "ticks": ""
             }
            },
            "type": "scattergeo"
           }
          ],
          "scattergl": [
           {
            "marker": {
             "colorbar": {
              "outlinewidth": 0,
              "ticks": ""
             }
            },
            "type": "scattergl"
           }
          ],
          "scattermapbox": [
           {
            "marker": {
             "colorbar": {
              "outlinewidth": 0,
              "ticks": ""
             }
            },
            "type": "scattermapbox"
           }
          ],
          "scatterpolar": [
           {
            "marker": {
             "colorbar": {
              "outlinewidth": 0,
              "ticks": ""
             }
            },
            "type": "scatterpolar"
           }
          ],
          "scatterpolargl": [
           {
            "marker": {
             "colorbar": {
              "outlinewidth": 0,
              "ticks": ""
             }
            },
            "type": "scatterpolargl"
           }
          ],
          "scatterternary": [
           {
            "marker": {
             "colorbar": {
              "outlinewidth": 0,
              "ticks": ""
             }
            },
            "type": "scatterternary"
           }
          ],
          "surface": [
           {
            "colorbar": {
             "outlinewidth": 0,
             "ticks": ""
            },
            "colorscale": [
             [
              0,
              "#0d0887"
             ],
             [
              0.1111111111111111,
              "#46039f"
             ],
             [
              0.2222222222222222,
              "#7201a8"
             ],
             [
              0.3333333333333333,
              "#9c179e"
             ],
             [
              0.4444444444444444,
              "#bd3786"
             ],
             [
              0.5555555555555556,
              "#d8576b"
             ],
             [
              0.6666666666666666,
              "#ed7953"
             ],
             [
              0.7777777777777778,
              "#fb9f3a"
             ],
             [
              0.8888888888888888,
              "#fdca26"
             ],
             [
              1,
              "#f0f921"
             ]
            ],
            "type": "surface"
           }
          ],
          "table": [
           {
            "cells": {
             "fill": {
              "color": "#EBF0F8"
             },
             "line": {
              "color": "white"
             }
            },
            "header": {
             "fill": {
              "color": "#C8D4E3"
             },
             "line": {
              "color": "white"
             }
            },
            "type": "table"
           }
          ]
         },
         "layout": {
          "annotationdefaults": {
           "arrowcolor": "#2a3f5f",
           "arrowhead": 0,
           "arrowwidth": 1
          },
          "autotypenumbers": "strict",
          "coloraxis": {
           "colorbar": {
            "outlinewidth": 0,
            "ticks": ""
           }
          },
          "colorscale": {
           "diverging": [
            [
             0,
             "#8e0152"
            ],
            [
             0.1,
             "#c51b7d"
            ],
            [
             0.2,
             "#de77ae"
            ],
            [
             0.3,
             "#f1b6da"
            ],
            [
             0.4,
             "#fde0ef"
            ],
            [
             0.5,
             "#f7f7f7"
            ],
            [
             0.6,
             "#e6f5d0"
            ],
            [
             0.7,
             "#b8e186"
            ],
            [
             0.8,
             "#7fbc41"
            ],
            [
             0.9,
             "#4d9221"
            ],
            [
             1,
             "#276419"
            ]
           ],
           "sequential": [
            [
             0,
             "#0d0887"
            ],
            [
             0.1111111111111111,
             "#46039f"
            ],
            [
             0.2222222222222222,
             "#7201a8"
            ],
            [
             0.3333333333333333,
             "#9c179e"
            ],
            [
             0.4444444444444444,
             "#bd3786"
            ],
            [
             0.5555555555555556,
             "#d8576b"
            ],
            [
             0.6666666666666666,
             "#ed7953"
            ],
            [
             0.7777777777777778,
             "#fb9f3a"
            ],
            [
             0.8888888888888888,
             "#fdca26"
            ],
            [
             1,
             "#f0f921"
            ]
           ],
           "sequentialminus": [
            [
             0,
             "#0d0887"
            ],
            [
             0.1111111111111111,
             "#46039f"
            ],
            [
             0.2222222222222222,
             "#7201a8"
            ],
            [
             0.3333333333333333,
             "#9c179e"
            ],
            [
             0.4444444444444444,
             "#bd3786"
            ],
            [
             0.5555555555555556,
             "#d8576b"
            ],
            [
             0.6666666666666666,
             "#ed7953"
            ],
            [
             0.7777777777777778,
             "#fb9f3a"
            ],
            [
             0.8888888888888888,
             "#fdca26"
            ],
            [
             1,
             "#f0f921"
            ]
           ]
          },
          "colorway": [
           "#636efa",
           "#EF553B",
           "#00cc96",
           "#ab63fa",
           "#FFA15A",
           "#19d3f3",
           "#FF6692",
           "#B6E880",
           "#FF97FF",
           "#FECB52"
          ],
          "font": {
           "color": "#2a3f5f"
          },
          "geo": {
           "bgcolor": "white",
           "lakecolor": "white",
           "landcolor": "#E5ECF6",
           "showlakes": true,
           "showland": true,
           "subunitcolor": "white"
          },
          "hoverlabel": {
           "align": "left"
          },
          "hovermode": "closest",
          "mapbox": {
           "style": "light"
          },
          "paper_bgcolor": "white",
          "plot_bgcolor": "#E5ECF6",
          "polar": {
           "angularaxis": {
            "gridcolor": "white",
            "linecolor": "white",
            "ticks": ""
           },
           "bgcolor": "#E5ECF6",
           "radialaxis": {
            "gridcolor": "white",
            "linecolor": "white",
            "ticks": ""
           }
          },
          "scene": {
           "xaxis": {
            "backgroundcolor": "#E5ECF6",
            "gridcolor": "white",
            "gridwidth": 2,
            "linecolor": "white",
            "showbackground": true,
            "ticks": "",
            "zerolinecolor": "white"
           },
           "yaxis": {
            "backgroundcolor": "#E5ECF6",
            "gridcolor": "white",
            "gridwidth": 2,
            "linecolor": "white",
            "showbackground": true,
            "ticks": "",
            "zerolinecolor": "white"
           },
           "zaxis": {
            "backgroundcolor": "#E5ECF6",
            "gridcolor": "white",
            "gridwidth": 2,
            "linecolor": "white",
            "showbackground": true,
            "ticks": "",
            "zerolinecolor": "white"
           }
          },
          "shapedefaults": {
           "line": {
            "color": "#2a3f5f"
           }
          },
          "ternary": {
           "aaxis": {
            "gridcolor": "white",
            "linecolor": "white",
            "ticks": ""
           },
           "baxis": {
            "gridcolor": "white",
            "linecolor": "white",
            "ticks": ""
           },
           "bgcolor": "#E5ECF6",
           "caxis": {
            "gridcolor": "white",
            "linecolor": "white",
            "ticks": ""
           }
          },
          "title": {
           "x": 0.05
          },
          "xaxis": {
           "automargin": true,
           "gridcolor": "white",
           "linecolor": "white",
           "ticks": "",
           "title": {
            "standoff": 15
           },
           "zerolinecolor": "white",
           "zerolinewidth": 2
          },
          "yaxis": {
           "automargin": true,
           "gridcolor": "white",
           "linecolor": "white",
           "ticks": "",
           "title": {
            "standoff": 15
           },
           "zerolinecolor": "white",
           "zerolinewidth": 2
          }
         }
        },
        "title": {
         "text": "son_terfiden_bu_yana_gecen_yil Aykırı Değer Analizi (IQR Method)"
        },
        "xaxis": {
         "anchor": "y",
         "domain": [
          0,
          1
         ]
        },
        "yaxis": {
         "anchor": "x",
         "domain": [
          0,
          1
         ],
         "title": {
          "text": "son_terfiden_bu_yana_gecen_yil"
         }
        }
       }
      }
     },
     "metadata": {},
     "output_type": "display_data"
    },
    {
     "data": {
      "application/vnd.plotly.v1+json": {
       "config": {
        "plotlyServerURL": "https://plot.ly"
       },
       "data": [
        {
         "alignmentgroup": "True",
         "hovertemplate": "mevcut_rolde_gecirilen_yil=%{y}<extra></extra>",
         "legendgroup": "",
         "marker": {
          "color": "#636efa"
         },
         "name": "",
         "notched": false,
         "offsetgroup": "",
         "orientation": "v",
         "showlegend": false,
         "type": "box",
         "x0": " ",
         "xaxis": "x",
         "y": [
          4,
          7,
          0,
          7,
          2,
          7,
          0,
          0,
          7,
          7,
          4,
          5,
          2,
          2,
          2,
          9,
          2,
          0,
          8,
          2,
          2,
          3,
          6,
          0,
          2,
          13,
          2,
          7,
          6,
          2,
          1,
          2,
          0,
          0,
          0,
          3,
          2,
          2,
          1,
          3,
          0,
          0,
          0,
          8,
          8,
          15,
          5,
          0,
          6,
          0,
          0,
          2,
          3,
          0,
          2,
          14,
          8,
          2,
          7,
          5,
          8,
          3,
          3,
          16,
          14,
          0,
          5,
          0,
          2,
          0,
          3,
          4,
          1,
          4,
          0,
          7,
          13,
          0,
          2,
          2,
          8,
          4,
          0,
          11,
          2,
          4,
          0,
          2,
          10,
          8,
          3,
          7,
          8,
          9,
          8,
          3,
          2,
          4,
          10,
          2,
          2,
          0,
          0,
          13,
          0,
          2,
          3,
          4,
          2,
          0,
          12,
          7,
          3,
          3,
          0,
          3,
          10,
          7,
          0,
          12,
          7,
          7,
          4,
          18,
          7,
          4,
          10,
          0,
          1,
          11,
          2,
          2,
          2,
          7,
          7,
          2,
          2,
          11,
          2,
          9,
          4,
          5,
          2,
          4,
          7,
          2,
          3,
          6,
          0,
          0,
          7,
          8,
          7,
          9,
          8,
          7,
          0,
          0,
          11,
          3,
          2,
          2,
          2,
          3,
          1,
          4,
          8,
          9,
          3,
          4,
          2,
          0,
          7,
          9,
          4,
          2,
          1,
          0,
          13,
          2,
          2,
          2,
          3,
          2,
          2,
          7,
          8,
          15,
          9,
          7,
          18,
          7,
          0,
          4,
          8,
          7,
          2,
          3,
          0,
          7,
          2,
          7,
          3,
          2,
          0,
          4,
          2,
          1,
          2,
          2,
          8,
          8,
          7,
          9,
          2,
          0,
          3,
          2,
          7,
          2,
          11,
          2,
          8,
          10,
          4,
          0,
          8,
          10,
          7,
          3,
          2,
          17,
          2,
          0,
          4,
          13,
          7,
          7,
          3,
          2,
          2,
          2,
          0,
          8,
          0,
          2,
          2,
          9,
          1,
          2,
          0,
          6,
          5,
          2,
          2,
          2,
          6,
          7,
          0,
          4,
          1,
          7,
          2,
          7,
          0,
          0,
          0,
          3,
          7,
          13,
          10,
          7,
          2,
          4,
          2,
          2,
          7,
          0,
          5,
          4,
          3,
          16,
          7,
          7,
          3,
          12,
          0,
          2,
          2,
          3,
          2,
          0,
          2,
          7,
          2,
          4,
          0,
          9,
          0,
          1,
          10,
          0,
          3,
          7,
          10,
          8,
          8,
          8,
          3,
          2,
          2,
          9,
          2,
          6,
          9,
          7,
          1,
          2,
          3,
          12,
          4,
          7,
          7,
          2,
          8,
          9,
          9,
          0,
          7,
          2,
          7,
          4,
          3,
          0,
          9,
          3,
          7,
          2,
          9,
          7,
          2,
          10,
          9,
          7,
          6,
          2,
          4,
          0,
          0,
          3,
          2,
          0,
          0,
          7,
          2,
          7,
          0,
          2,
          0,
          9,
          2,
          7,
          2,
          0,
          4,
          0,
          7,
          3,
          4,
          2,
          0,
          2,
          1,
          2,
          5,
          2,
          7,
          2,
          2,
          4,
          2,
          0,
          4,
          1,
          9,
          0,
          7,
          4,
          2,
          0,
          10,
          0,
          2,
          2,
          10,
          2,
          2,
          4,
          11,
          2,
          8,
          7,
          4,
          7,
          0,
          2,
          4,
          2,
          2,
          4,
          4,
          8,
          7,
          5,
          3,
          2,
          0,
          15,
          2,
          3,
          2,
          2,
          0,
          8,
          0,
          10,
          7,
          13,
          0,
          2,
          4,
          0,
          3,
          2,
          8,
          6,
          3,
          2,
          7,
          0,
          2,
          2,
          3,
          2,
          7,
          9,
          3,
          9,
          6,
          3,
          5,
          9,
          7,
          7,
          2,
          1,
          4,
          0,
          0,
          7,
          0,
          4,
          7,
          0,
          5,
          2,
          16,
          5,
          9,
          2,
          2,
          0,
          5,
          9,
          5,
          3,
          0,
          5,
          4,
          3,
          0,
          5,
          1,
          2,
          7,
          3,
          0,
          0,
          2,
          0,
          0,
          7,
          2,
          2,
          2,
          3,
          2,
          2,
          2,
          0,
          4,
          0,
          7,
          9,
          1,
          2,
          7,
          0,
          11,
          11,
          7,
          2,
          2,
          0,
          8,
          0,
          2,
          2,
          7,
          7,
          2,
          5,
          0,
          8,
          7,
          2,
          7,
          7,
          3,
          7,
          7,
          7,
          7,
          13,
          1,
          6,
          2,
          7,
          7,
          2,
          7,
          7,
          0,
          2,
          2,
          7,
          0,
          2,
          2,
          1,
          3,
          3,
          7,
          2,
          6,
          2,
          2,
          0,
          8,
          0,
          0,
          6,
          9,
          5,
          7,
          2,
          4,
          5,
          2,
          7,
          3,
          2,
          7,
          3,
          2,
          3,
          2,
          3,
          7,
          5,
          2,
          2,
          7,
          2,
          7,
          0,
          0,
          2,
          3,
          0,
          9,
          2,
          14,
          7,
          7,
          15,
          2,
          3,
          2,
          2,
          13,
          0,
          0,
          0,
          8,
          3,
          2,
          8,
          7,
          1,
          8,
          5,
          7,
          2,
          7,
          0,
          6,
          2,
          3,
          8,
          5,
          14,
          2,
          4,
          2,
          4,
          3,
          8,
          0,
          1,
          2,
          2,
          1,
          4,
          3,
          14,
          2,
          0,
          2,
          2,
          2,
          8,
          2,
          3,
          4,
          2,
          0,
          10,
          4,
          9,
          2,
          6,
          0,
          6,
          4,
          3,
          0,
          3,
          7,
          2,
          0,
          0,
          2,
          0,
          8,
          2,
          2,
          7,
          2,
          2,
          1,
          0,
          4,
          2,
          0,
          7,
          6,
          9,
          0,
          8,
          2,
          12,
          0,
          0,
          0,
          7,
          13,
          8,
          0,
          0,
          7,
          1,
          7,
          7,
          0,
          1,
          7,
          1,
          2,
          8,
          0,
          13,
          4,
          3,
          9,
          7,
          0,
          10,
          7,
          2,
          8,
          0,
          2,
          3,
          4,
          5,
          16,
          2,
          8,
          0,
          2,
          11,
          1,
          7,
          2,
          2,
          3,
          0,
          7,
          10,
          7,
          0,
          2,
          7,
          3,
          2,
          11,
          2,
          6,
          2,
          2,
          0,
          0,
          3,
          0,
          7,
          16,
          0,
          2,
          14,
          11,
          7,
          13,
          6,
          2,
          3,
          7,
          1,
          4,
          3,
          7,
          0,
          2,
          1,
          0,
          2,
          1,
          3,
          7,
          3,
          2,
          4,
          4,
          8,
          7,
          0,
          2,
          0,
          13,
          0,
          7,
          3,
          2,
          6,
          9,
          10,
          2,
          2,
          7,
          6,
          2,
          7,
          7,
          2,
          2,
          0,
          7,
          1,
          2,
          6,
          0,
          0,
          2,
          0,
          4,
          10,
          6,
          7,
          5,
          7,
          9,
          0,
          7,
          7,
          7,
          2,
          4,
          9,
          2,
          3,
          2,
          8,
          2,
          5,
          0,
          7,
          6,
          1,
          0,
          2,
          0,
          2,
          2,
          2,
          5,
          4,
          8,
          7,
          9,
          4,
          0,
          3,
          1,
          7,
          3,
          1,
          7,
          9,
          2,
          3,
          0,
          2,
          8,
          1,
          2,
          8,
          2,
          4,
          7,
          4,
          0,
          15,
          0,
          4,
          0,
          3,
          0,
          2,
          5,
          2,
          7,
          0,
          7,
          7,
          7,
          11,
          1,
          3,
          3,
          7,
          2,
          7,
          7,
          10,
          1,
          3,
          9,
          0,
          2,
          7,
          4,
          5,
          1,
          2,
          9,
          5,
          9,
          1,
          7,
          0,
          10,
          0,
          3,
          0,
          0,
          7,
          0,
          9,
          8,
          0,
          0,
          0,
          5,
          10,
          9,
          2,
          4,
          2,
          10,
          7,
          8,
          2,
          9,
          9,
          2,
          0,
          7,
          14,
          7,
          2,
          0,
          4,
          7,
          2,
          2,
          7,
          0,
          9,
          2,
          4,
          2,
          2,
          7,
          6,
          8,
          2,
          4,
          7,
          1,
          7,
          8,
          2,
          2,
          2,
          8,
          9,
          3,
          2,
          7,
          8,
          3,
          6,
          9,
          7,
          8,
          2,
          9,
          2,
          7,
          9,
          0,
          2,
          0,
          7,
          2,
          7,
          16,
          4,
          11,
          7,
          0,
          2,
          2,
          11,
          3,
          2,
          4,
          2,
          2,
          4,
          4,
          2,
          4,
          2,
          3,
          7,
          2,
          2,
          3,
          7,
          4,
          2,
          2,
          2,
          7,
          9,
          3,
          7,
          7,
          8,
          7,
          4,
          0,
          2,
          2,
          3,
          0,
          0,
          4,
          2,
          5,
          2,
          5,
          2,
          17,
          4,
          3,
          4,
          2,
          7,
          7,
          7,
          0,
          8,
          7,
          2,
          2,
          1,
          2,
          2,
          8,
          4,
          2,
          8,
          2,
          1,
          2,
          3,
          9,
          1,
          9,
          0,
          0,
          9,
          7,
          8,
          2,
          3,
          9,
          0,
          0,
          0,
          2,
          7,
          3,
          2,
          4,
          4,
          0,
          0,
          2,
          2,
          2,
          6,
          0,
          2,
          9,
          7,
          6,
          0,
          12,
          8,
          3,
          4,
          9,
          2,
          6,
          10,
          0,
          8,
          7,
          3,
          4,
          8,
          4,
          14,
          7,
          1,
          2,
          8,
          3,
          1,
          2,
          7,
          0,
          2,
          8,
          3,
          0,
          2,
          0,
          7,
          2,
          5,
          2,
          0,
          6,
          2,
          0,
          8,
          2,
          0,
          9,
          2,
          6,
          4,
          0,
          2,
          2,
          0,
          9,
          2,
          4,
          4,
          0,
          0,
          1,
          2,
          8,
          2,
          7,
          4,
          7,
          7,
          2,
          2,
          7,
          6,
          7,
          7,
          15,
          3,
          2,
          0,
          2,
          8,
          15,
          11,
          3,
          2,
          7,
          4,
          12,
          4,
          2,
          7,
          2,
          2,
          3,
          2,
          2,
          2,
          2,
          2,
          7,
          4,
          2,
          11,
          2,
          8,
          3,
          11,
          2,
          4,
          8,
          10,
          9,
          11,
          0,
          2,
          5,
          0,
          2,
          3,
          2,
          7,
          0,
          2,
          5,
          2,
          2,
          4,
          0,
          3,
          7,
          0,
          7,
          2,
          10,
          0,
          11,
          3,
          9,
          2,
          7,
          4,
          9,
          3,
          8,
          3,
          7,
          15,
          0,
          5,
          2,
          6,
          2,
          2,
          2,
          0,
          2,
          7,
          7,
          0,
          0,
          6,
          2,
          0,
          2,
          4,
          8,
          3,
          8,
          0,
          7,
          2,
          2,
          2,
          2,
          2,
          2,
          7,
          0,
          7,
          1,
          0,
          1,
          0,
          0,
          0,
          7,
          0,
          0,
          3,
          0,
          8,
          3,
          14,
          2,
          7,
          2,
          0,
          4,
          0,
          7,
          2,
          2,
          1,
          8,
          3,
          0,
          7,
          8,
          3,
          3,
          2,
          3,
          0,
          7,
          10,
          1,
          3,
          1,
          2,
          2,
          14,
          7,
          1,
          7,
          3,
          8,
          9,
          4,
          11,
          4,
          1,
          2,
          2,
          2,
          3,
          2,
          0,
          0,
          2,
          7,
          0,
          7,
          4,
          8,
          0,
          3,
          2,
          8,
          2,
          0,
          0,
          2,
          17,
          8,
          0,
          12,
          10,
          0,
          7,
          6,
          2,
          2,
          0,
          0,
          0,
          9,
          8,
          3,
          2,
          3,
          2,
          8,
          1,
          7,
          0,
          7,
          17,
          0,
          2,
          2,
          2,
          4,
          7,
          2,
          2,
          2,
          7,
          2,
          4,
          7,
          0,
          2,
          3,
          10,
          0,
          7,
          0,
          0,
          11,
          0,
          1,
          2,
          4,
          0,
          0,
          3,
          3,
          2,
          4,
          8,
          7,
          7,
          3,
          1,
          8,
          1,
          0,
          8,
          7,
          0,
          7,
          2,
          3,
          7,
          9,
          2,
          9,
          0,
          8,
          9,
          7,
          2,
          3,
          2,
          9,
          8,
          0,
          8,
          2,
          14,
          1,
          13,
          2,
          3,
          3,
          3,
          8,
          2,
          2,
          7,
          7,
          2,
          0,
          2,
          7,
          16,
          10,
          11,
          3,
          8,
          3,
          2,
          0,
          0,
          7,
          2,
          12,
          2,
          6,
          9,
          7,
          7,
          12,
          4,
          2,
          0,
          7,
          3,
          3,
          3,
          2,
          2,
          3,
          3,
          3,
          4,
          2,
          9,
          4,
          2,
          2,
          7,
          2,
          6,
          3
         ],
         "y0": " ",
         "yaxis": "y"
        }
       ],
       "layout": {
        "boxmode": "group",
        "legend": {
         "tracegroupgap": 0
        },
        "shapes": [
         {
          "line": {
           "color": "red",
           "width": 2
          },
          "type": "line",
          "x0": -5.5,
          "x1": -5.5,
          "y0": -5.5,
          "y1": 14.5
         },
         {
          "line": {
           "color": "red",
           "width": 2
          },
          "type": "line",
          "x0": 14.5,
          "x1": 14.5,
          "y0": -5.5,
          "y1": 14.5
         }
        ],
        "template": {
         "data": {
          "bar": [
           {
            "error_x": {
             "color": "#2a3f5f"
            },
            "error_y": {
             "color": "#2a3f5f"
            },
            "marker": {
             "line": {
              "color": "#E5ECF6",
              "width": 0.5
             },
             "pattern": {
              "fillmode": "overlay",
              "size": 10,
              "solidity": 0.2
             }
            },
            "type": "bar"
           }
          ],
          "barpolar": [
           {
            "marker": {
             "line": {
              "color": "#E5ECF6",
              "width": 0.5
             },
             "pattern": {
              "fillmode": "overlay",
              "size": 10,
              "solidity": 0.2
             }
            },
            "type": "barpolar"
           }
          ],
          "carpet": [
           {
            "aaxis": {
             "endlinecolor": "#2a3f5f",
             "gridcolor": "white",
             "linecolor": "white",
             "minorgridcolor": "white",
             "startlinecolor": "#2a3f5f"
            },
            "baxis": {
             "endlinecolor": "#2a3f5f",
             "gridcolor": "white",
             "linecolor": "white",
             "minorgridcolor": "white",
             "startlinecolor": "#2a3f5f"
            },
            "type": "carpet"
           }
          ],
          "choropleth": [
           {
            "colorbar": {
             "outlinewidth": 0,
             "ticks": ""
            },
            "type": "choropleth"
           }
          ],
          "contour": [
           {
            "colorbar": {
             "outlinewidth": 0,
             "ticks": ""
            },
            "colorscale": [
             [
              0,
              "#0d0887"
             ],
             [
              0.1111111111111111,
              "#46039f"
             ],
             [
              0.2222222222222222,
              "#7201a8"
             ],
             [
              0.3333333333333333,
              "#9c179e"
             ],
             [
              0.4444444444444444,
              "#bd3786"
             ],
             [
              0.5555555555555556,
              "#d8576b"
             ],
             [
              0.6666666666666666,
              "#ed7953"
             ],
             [
              0.7777777777777778,
              "#fb9f3a"
             ],
             [
              0.8888888888888888,
              "#fdca26"
             ],
             [
              1,
              "#f0f921"
             ]
            ],
            "type": "contour"
           }
          ],
          "contourcarpet": [
           {
            "colorbar": {
             "outlinewidth": 0,
             "ticks": ""
            },
            "type": "contourcarpet"
           }
          ],
          "heatmap": [
           {
            "colorbar": {
             "outlinewidth": 0,
             "ticks": ""
            },
            "colorscale": [
             [
              0,
              "#0d0887"
             ],
             [
              0.1111111111111111,
              "#46039f"
             ],
             [
              0.2222222222222222,
              "#7201a8"
             ],
             [
              0.3333333333333333,
              "#9c179e"
             ],
             [
              0.4444444444444444,
              "#bd3786"
             ],
             [
              0.5555555555555556,
              "#d8576b"
             ],
             [
              0.6666666666666666,
              "#ed7953"
             ],
             [
              0.7777777777777778,
              "#fb9f3a"
             ],
             [
              0.8888888888888888,
              "#fdca26"
             ],
             [
              1,
              "#f0f921"
             ]
            ],
            "type": "heatmap"
           }
          ],
          "heatmapgl": [
           {
            "colorbar": {
             "outlinewidth": 0,
             "ticks": ""
            },
            "colorscale": [
             [
              0,
              "#0d0887"
             ],
             [
              0.1111111111111111,
              "#46039f"
             ],
             [
              0.2222222222222222,
              "#7201a8"
             ],
             [
              0.3333333333333333,
              "#9c179e"
             ],
             [
              0.4444444444444444,
              "#bd3786"
             ],
             [
              0.5555555555555556,
              "#d8576b"
             ],
             [
              0.6666666666666666,
              "#ed7953"
             ],
             [
              0.7777777777777778,
              "#fb9f3a"
             ],
             [
              0.8888888888888888,
              "#fdca26"
             ],
             [
              1,
              "#f0f921"
             ]
            ],
            "type": "heatmapgl"
           }
          ],
          "histogram": [
           {
            "marker": {
             "pattern": {
              "fillmode": "overlay",
              "size": 10,
              "solidity": 0.2
             }
            },
            "type": "histogram"
           }
          ],
          "histogram2d": [
           {
            "colorbar": {
             "outlinewidth": 0,
             "ticks": ""
            },
            "colorscale": [
             [
              0,
              "#0d0887"
             ],
             [
              0.1111111111111111,
              "#46039f"
             ],
             [
              0.2222222222222222,
              "#7201a8"
             ],
             [
              0.3333333333333333,
              "#9c179e"
             ],
             [
              0.4444444444444444,
              "#bd3786"
             ],
             [
              0.5555555555555556,
              "#d8576b"
             ],
             [
              0.6666666666666666,
              "#ed7953"
             ],
             [
              0.7777777777777778,
              "#fb9f3a"
             ],
             [
              0.8888888888888888,
              "#fdca26"
             ],
             [
              1,
              "#f0f921"
             ]
            ],
            "type": "histogram2d"
           }
          ],
          "histogram2dcontour": [
           {
            "colorbar": {
             "outlinewidth": 0,
             "ticks": ""
            },
            "colorscale": [
             [
              0,
              "#0d0887"
             ],
             [
              0.1111111111111111,
              "#46039f"
             ],
             [
              0.2222222222222222,
              "#7201a8"
             ],
             [
              0.3333333333333333,
              "#9c179e"
             ],
             [
              0.4444444444444444,
              "#bd3786"
             ],
             [
              0.5555555555555556,
              "#d8576b"
             ],
             [
              0.6666666666666666,
              "#ed7953"
             ],
             [
              0.7777777777777778,
              "#fb9f3a"
             ],
             [
              0.8888888888888888,
              "#fdca26"
             ],
             [
              1,
              "#f0f921"
             ]
            ],
            "type": "histogram2dcontour"
           }
          ],
          "mesh3d": [
           {
            "colorbar": {
             "outlinewidth": 0,
             "ticks": ""
            },
            "type": "mesh3d"
           }
          ],
          "parcoords": [
           {
            "line": {
             "colorbar": {
              "outlinewidth": 0,
              "ticks": ""
             }
            },
            "type": "parcoords"
           }
          ],
          "pie": [
           {
            "automargin": true,
            "type": "pie"
           }
          ],
          "scatter": [
           {
            "fillpattern": {
             "fillmode": "overlay",
             "size": 10,
             "solidity": 0.2
            },
            "type": "scatter"
           }
          ],
          "scatter3d": [
           {
            "line": {
             "colorbar": {
              "outlinewidth": 0,
              "ticks": ""
             }
            },
            "marker": {
             "colorbar": {
              "outlinewidth": 0,
              "ticks": ""
             }
            },
            "type": "scatter3d"
           }
          ],
          "scattercarpet": [
           {
            "marker": {
             "colorbar": {
              "outlinewidth": 0,
              "ticks": ""
             }
            },
            "type": "scattercarpet"
           }
          ],
          "scattergeo": [
           {
            "marker": {
             "colorbar": {
              "outlinewidth": 0,
              "ticks": ""
             }
            },
            "type": "scattergeo"
           }
          ],
          "scattergl": [
           {
            "marker": {
             "colorbar": {
              "outlinewidth": 0,
              "ticks": ""
             }
            },
            "type": "scattergl"
           }
          ],
          "scattermapbox": [
           {
            "marker": {
             "colorbar": {
              "outlinewidth": 0,
              "ticks": ""
             }
            },
            "type": "scattermapbox"
           }
          ],
          "scatterpolar": [
           {
            "marker": {
             "colorbar": {
              "outlinewidth": 0,
              "ticks": ""
             }
            },
            "type": "scatterpolar"
           }
          ],
          "scatterpolargl": [
           {
            "marker": {
             "colorbar": {
              "outlinewidth": 0,
              "ticks": ""
             }
            },
            "type": "scatterpolargl"
           }
          ],
          "scatterternary": [
           {
            "marker": {
             "colorbar": {
              "outlinewidth": 0,
              "ticks": ""
             }
            },
            "type": "scatterternary"
           }
          ],
          "surface": [
           {
            "colorbar": {
             "outlinewidth": 0,
             "ticks": ""
            },
            "colorscale": [
             [
              0,
              "#0d0887"
             ],
             [
              0.1111111111111111,
              "#46039f"
             ],
             [
              0.2222222222222222,
              "#7201a8"
             ],
             [
              0.3333333333333333,
              "#9c179e"
             ],
             [
              0.4444444444444444,
              "#bd3786"
             ],
             [
              0.5555555555555556,
              "#d8576b"
             ],
             [
              0.6666666666666666,
              "#ed7953"
             ],
             [
              0.7777777777777778,
              "#fb9f3a"
             ],
             [
              0.8888888888888888,
              "#fdca26"
             ],
             [
              1,
              "#f0f921"
             ]
            ],
            "type": "surface"
           }
          ],
          "table": [
           {
            "cells": {
             "fill": {
              "color": "#EBF0F8"
             },
             "line": {
              "color": "white"
             }
            },
            "header": {
             "fill": {
              "color": "#C8D4E3"
             },
             "line": {
              "color": "white"
             }
            },
            "type": "table"
           }
          ]
         },
         "layout": {
          "annotationdefaults": {
           "arrowcolor": "#2a3f5f",
           "arrowhead": 0,
           "arrowwidth": 1
          },
          "autotypenumbers": "strict",
          "coloraxis": {
           "colorbar": {
            "outlinewidth": 0,
            "ticks": ""
           }
          },
          "colorscale": {
           "diverging": [
            [
             0,
             "#8e0152"
            ],
            [
             0.1,
             "#c51b7d"
            ],
            [
             0.2,
             "#de77ae"
            ],
            [
             0.3,
             "#f1b6da"
            ],
            [
             0.4,
             "#fde0ef"
            ],
            [
             0.5,
             "#f7f7f7"
            ],
            [
             0.6,
             "#e6f5d0"
            ],
            [
             0.7,
             "#b8e186"
            ],
            [
             0.8,
             "#7fbc41"
            ],
            [
             0.9,
             "#4d9221"
            ],
            [
             1,
             "#276419"
            ]
           ],
           "sequential": [
            [
             0,
             "#0d0887"
            ],
            [
             0.1111111111111111,
             "#46039f"
            ],
            [
             0.2222222222222222,
             "#7201a8"
            ],
            [
             0.3333333333333333,
             "#9c179e"
            ],
            [
             0.4444444444444444,
             "#bd3786"
            ],
            [
             0.5555555555555556,
             "#d8576b"
            ],
            [
             0.6666666666666666,
             "#ed7953"
            ],
            [
             0.7777777777777778,
             "#fb9f3a"
            ],
            [
             0.8888888888888888,
             "#fdca26"
            ],
            [
             1,
             "#f0f921"
            ]
           ],
           "sequentialminus": [
            [
             0,
             "#0d0887"
            ],
            [
             0.1111111111111111,
             "#46039f"
            ],
            [
             0.2222222222222222,
             "#7201a8"
            ],
            [
             0.3333333333333333,
             "#9c179e"
            ],
            [
             0.4444444444444444,
             "#bd3786"
            ],
            [
             0.5555555555555556,
             "#d8576b"
            ],
            [
             0.6666666666666666,
             "#ed7953"
            ],
            [
             0.7777777777777778,
             "#fb9f3a"
            ],
            [
             0.8888888888888888,
             "#fdca26"
            ],
            [
             1,
             "#f0f921"
            ]
           ]
          },
          "colorway": [
           "#636efa",
           "#EF553B",
           "#00cc96",
           "#ab63fa",
           "#FFA15A",
           "#19d3f3",
           "#FF6692",
           "#B6E880",
           "#FF97FF",
           "#FECB52"
          ],
          "font": {
           "color": "#2a3f5f"
          },
          "geo": {
           "bgcolor": "white",
           "lakecolor": "white",
           "landcolor": "#E5ECF6",
           "showlakes": true,
           "showland": true,
           "subunitcolor": "white"
          },
          "hoverlabel": {
           "align": "left"
          },
          "hovermode": "closest",
          "mapbox": {
           "style": "light"
          },
          "paper_bgcolor": "white",
          "plot_bgcolor": "#E5ECF6",
          "polar": {
           "angularaxis": {
            "gridcolor": "white",
            "linecolor": "white",
            "ticks": ""
           },
           "bgcolor": "#E5ECF6",
           "radialaxis": {
            "gridcolor": "white",
            "linecolor": "white",
            "ticks": ""
           }
          },
          "scene": {
           "xaxis": {
            "backgroundcolor": "#E5ECF6",
            "gridcolor": "white",
            "gridwidth": 2,
            "linecolor": "white",
            "showbackground": true,
            "ticks": "",
            "zerolinecolor": "white"
           },
           "yaxis": {
            "backgroundcolor": "#E5ECF6",
            "gridcolor": "white",
            "gridwidth": 2,
            "linecolor": "white",
            "showbackground": true,
            "ticks": "",
            "zerolinecolor": "white"
           },
           "zaxis": {
            "backgroundcolor": "#E5ECF6",
            "gridcolor": "white",
            "gridwidth": 2,
            "linecolor": "white",
            "showbackground": true,
            "ticks": "",
            "zerolinecolor": "white"
           }
          },
          "shapedefaults": {
           "line": {
            "color": "#2a3f5f"
           }
          },
          "ternary": {
           "aaxis": {
            "gridcolor": "white",
            "linecolor": "white",
            "ticks": ""
           },
           "baxis": {
            "gridcolor": "white",
            "linecolor": "white",
            "ticks": ""
           },
           "bgcolor": "#E5ECF6",
           "caxis": {
            "gridcolor": "white",
            "linecolor": "white",
            "ticks": ""
           }
          },
          "title": {
           "x": 0.05
          },
          "xaxis": {
           "automargin": true,
           "gridcolor": "white",
           "linecolor": "white",
           "ticks": "",
           "title": {
            "standoff": 15
           },
           "zerolinecolor": "white",
           "zerolinewidth": 2
          },
          "yaxis": {
           "automargin": true,
           "gridcolor": "white",
           "linecolor": "white",
           "ticks": "",
           "title": {
            "standoff": 15
           },
           "zerolinecolor": "white",
           "zerolinewidth": 2
          }
         }
        },
        "title": {
         "text": "mevcut_rolde_gecirilen_yil Aykırı Değer Analizi (IQR Method)"
        },
        "xaxis": {
         "anchor": "y",
         "domain": [
          0,
          1
         ]
        },
        "yaxis": {
         "anchor": "x",
         "domain": [
          0,
          1
         ],
         "title": {
          "text": "mevcut_rolde_gecirilen_yil"
         }
        }
       }
      }
     },
     "metadata": {},
     "output_type": "display_data"
    }
   ],
   "source": [
    "# Aykırı değerleri bul, ayır ve grafiği göster\n",
    "outliers_dict = outlier_analysis_iqr_plotly(df, num_cols)"
   ]
  },
  {
   "cell_type": "code",
   "execution_count": 16,
   "id": "eaa2f653",
   "metadata": {},
   "outputs": [
    {
     "name": "stdout",
     "output_type": "stream",
     "text": [
      "yas Aykırı Değerler: 0\n",
      "Empty DataFrame\n",
      "Columns: [isten_ayrilma, is_seyahati, departman, cinsiyet, is_rolu, medeni_durum, fazla_mesai, yas, aylik_ucret, evden_uzaklik, son_terfiden_bu_yana_gecen_yil, mevcut_rolde_gecirilen_yil]\n",
      "Index: []\n",
      "\n",
      "\n",
      "aylik_ucret Aykırı Değerler: 0\n",
      "Empty DataFrame\n",
      "Columns: [isten_ayrilma, is_seyahati, departman, cinsiyet, is_rolu, medeni_durum, fazla_mesai, yas, aylik_ucret, evden_uzaklik, son_terfiden_bu_yana_gecen_yil, mevcut_rolde_gecirilen_yil]\n",
      "Index: []\n",
      "\n",
      "\n",
      "evden_uzaklik Aykırı Değerler: 0\n",
      "Empty DataFrame\n",
      "Columns: [isten_ayrilma, is_seyahati, departman, cinsiyet, is_rolu, medeni_durum, fazla_mesai, yas, aylik_ucret, evden_uzaklik, son_terfiden_bu_yana_gecen_yil, mevcut_rolde_gecirilen_yil]\n",
      "Index: []\n",
      "\n",
      "\n",
      "son_terfiden_bu_yana_gecen_yil Aykırı Değerler: 107\n",
      "    isten_ayrilma       is_seyahati             departman cinsiyet                 is_rolu medeni_durum fazla_mesai  yas  aylik_ucret  evden_uzaklik  son_terfiden_bu_yana_gecen_yil  mevcut_rolde_gecirilen_yil\n",
      "15              0   Seyahat_Nadiren  Arastirma_Gelistirme    Kadin           Uretim Muduru     Bosanmis       Hayir   29        10195             21                               8                           9\n",
      "45              1   Seyahat_Nadiren  Arastirma_Gelistirme    Kadin        Arastirma Muduru         Evli       Hayir   41        16280             12                              15                          15\n",
      "46              0       Seyahat_Yok                 Satis    Erkek        Satis Yoneticisi        Bekar       Hayir   34        10034             23                               8                           5\n",
      "55              0  Seyahat_Siklikla  Arastirma_Gelistirme    Kadin        Arastirma Muduru        Bekar        Evet   33        15146              1                               8                          14\n",
      "61              0  Seyahat_Siklikla  Arastirma_Gelistirme    Kadin  Laboratuvar Teknisyeni        Bekar       Hayir   38         5456             29                               9                           3\n",
      "\n",
      "\n",
      "mevcut_rolde_gecirilen_yil Aykırı Değerler: 21\n",
      "     isten_ayrilma      is_seyahati             departman cinsiyet           is_rolu medeni_durum fazla_mesai  yas  aylik_ucret  evden_uzaklik  son_terfiden_bu_yana_gecen_yil  mevcut_rolde_gecirilen_yil\n",
      "45               1  Seyahat_Nadiren  Arastirma_Gelistirme    Kadin  Arastirma Muduru         Evli       Hayir   41        16280             12                              15                          15\n",
      "63               0  Seyahat_Nadiren                 Satis    Kadin  Satis Yoneticisi        Bekar       Hayir   59         2354             25                               7                          16\n",
      "123              0  Seyahat_Nadiren  Arastirma_Gelistirme    Erkek  Arastirma Muduru        Bekar       Hayir   51         6462              6                              15                          18\n",
      "187              0  Seyahat_Nadiren  Arastirma_Gelistirme    Erkek  Arastirma Muduru        Bekar       Hayir   55        13339             14                               2                          15\n",
      "190              0  Seyahat_Nadiren  Arastirma_Gelistirme    Erkek          Yonetici         Evli       Hayir   52         5678              1                              11                          18\n",
      "\n",
      "\n"
     ]
    }
   ],
   "source": [
    "# Her bir sayısal değişken için aykırı değerleri içeren DataFrame'i görüntüle\n",
    "for col, outliers_df in outliers_dict.items():\n",
    "    print(f\"{col} Aykırı Değerler: {len(outliers_df)}\")\n",
    "    print(outliers_df.head())\n",
    "    print(\"\\n\")"
   ]
  },
  {
   "cell_type": "code",
   "execution_count": null,
   "id": "2b2cd2f6",
   "metadata": {},
   "outputs": [],
   "source": []
  }
 ],
 "metadata": {
  "kernelspec": {
   "display_name": "Python 3",
   "language": "python",
   "name": "python3"
  },
  "language_info": {
   "codemirror_mode": {
    "name": "ipython",
    "version": 3
   },
   "file_extension": ".py",
   "mimetype": "text/x-python",
   "name": "python",
   "nbconvert_exporter": "python",
   "pygments_lexer": "ipython3",
   "version": "3.12.3"
  }
 },
 "nbformat": 4,
 "nbformat_minor": 5
}
